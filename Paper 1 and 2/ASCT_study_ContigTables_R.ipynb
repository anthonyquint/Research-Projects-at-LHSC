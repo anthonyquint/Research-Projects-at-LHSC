{
 "cells": [
  {
   "cell_type": "markdown",
   "id": "d9f8bccf",
   "metadata": {},
   "source": [
    "In this notebook, I'll be evaluating the contigency tables generated with the response data by applying fisher exact tests"
   ]
  },
  {
   "cell_type": "code",
   "execution_count": 2,
   "id": "27a3e6c5",
   "metadata": {},
   "outputs": [
    {
     "name": "stdout",
     "output_type": "stream",
     "text": [
      "     [,1] [,2] [,3]\n",
      "[1,]    2    1    0\n",
      "[2,]    9    5    0\n",
      "[3,]    6    0    1\n"
     ]
    },
    {
     "data": {
      "text/plain": [
       "\n",
       "\tFisher's Exact Test for Count Data\n",
       "\n",
       "data:  x\n",
       "p-value = 0.2173\n",
       "alternative hypothesis: two.sided\n"
      ]
     },
     "metadata": {},
     "output_type": "display_data"
    }
   ],
   "source": [
    "x <- matrix(c(2, 1, 0, 9, 5, 0, 6, 0, 1), byrow = TRUE, nrow = 3, ncol = 3);\n",
    "print(x)\n",
    "fisher.test(x);"
   ]
  },
  {
   "cell_type": "code",
   "execution_count": 3,
   "id": "ab6c8c5d",
   "metadata": {},
   "outputs": [
    {
     "name": "stdout",
     "output_type": "stream",
     "text": [
      "     [,1] [,2]\n",
      "[1,]    2    1\n",
      "[2,]    9    5\n",
      "[3,]    6    0\n"
     ]
    },
    {
     "data": {
      "text/plain": [
       "\n",
       "\tFisher's Exact Test for Count Data\n",
       "\n",
       "data:  x1\n",
       "p-value = 0.2545\n",
       "alternative hypothesis: two.sided\n"
      ]
     },
     "metadata": {},
     "output_type": "display_data"
    }
   ],
   "source": [
    "x1 <- matrix(c(2, 1, 9, 5, 6, 0), byrow = TRUE, nrow = 3, ncol = 2);\n",
    "print(x1)\n",
    "fisher.test(x1);"
   ]
  },
  {
   "cell_type": "code",
   "execution_count": 4,
   "id": "ec353c73",
   "metadata": {},
   "outputs": [
    {
     "name": "stdout",
     "output_type": "stream",
     "text": [
      "     [,1] [,2] [,3]\n",
      "[1,]    2    1    0\n",
      "[2,]   15    5    1\n"
     ]
    },
    {
     "data": {
      "text/plain": [
       "\n",
       "\tFisher's Exact Test for Count Data\n",
       "\n",
       "data:  x2\n",
       "p-value = 1\n",
       "alternative hypothesis: two.sided\n"
      ]
     },
     "metadata": {},
     "output_type": "display_data"
    }
   ],
   "source": [
    "x2 <- matrix(c(2, 1, 0, 15, 5, 1), byrow = TRUE, nrow = 2, ncol = 3);\n",
    "print(x2)\n",
    "fisher.test(x2);"
   ]
  },
  {
   "cell_type": "code",
   "execution_count": 5,
   "id": "8034762a",
   "metadata": {},
   "outputs": [
    {
     "name": "stdout",
     "output_type": "stream",
     "text": [
      "     [,1] [,2]\n",
      "[1,]    2    1\n",
      "[2,]   15    5\n"
     ]
    },
    {
     "data": {
      "text/plain": [
       "\n",
       "\tFisher's Exact Test for Count Data\n",
       "\n",
       "data:  x3\n",
       "p-value = 1\n",
       "alternative hypothesis: true odds ratio is not equal to 1\n",
       "95 percent confidence interval:\n",
       "  0.028988 47.111229\n",
       "sample estimates:\n",
       "odds ratio \n",
       " 0.6793983 \n"
      ]
     },
     "metadata": {},
     "output_type": "display_data"
    }
   ],
   "source": [
    "x3 <- matrix(c(2, 1, 15, 5), byrow = TRUE, nrow = 2, ncol = 2);\n",
    "print(x3)\n",
    "fisher.test(x3);"
   ]
  },
  {
   "cell_type": "code",
   "execution_count": 6,
   "id": "38a9d6cc",
   "metadata": {},
   "outputs": [
    {
     "name": "stdout",
     "output_type": "stream",
     "text": [
      "     [,1] [,2] [,3]\n",
      "[1,]   28   24    3\n",
      "[2,]   14   14    2\n",
      "[3,]    7    0    1\n"
     ]
    },
    {
     "data": {
      "text/plain": [
       "\n",
       "\tFisher's Exact Test for Count Data\n",
       "\n",
       "data:  x4\n",
       "p-value = 0.08969\n",
       "alternative hypothesis: two.sided\n"
      ]
     },
     "metadata": {},
     "output_type": "display_data"
    }
   ],
   "source": [
    "x4 <- matrix(c(28,24,3,14,14,2,7,0,1), byrow = TRUE, nrow = 3, ncol = 3);\n",
    "print(x4)\n",
    "fisher.test(x4);"
   ]
  },
  {
   "cell_type": "code",
   "execution_count": 7,
   "id": "c4c6da76",
   "metadata": {},
   "outputs": [
    {
     "name": "stdout",
     "output_type": "stream",
     "text": [
      "     [,1] [,2]\n",
      "[1,]   28   24\n",
      "[2,]   14   14\n",
      "[3,]    7    0\n"
     ]
    },
    {
     "data": {
      "text/plain": [
       "\n",
       "\tFisher's Exact Test for Count Data\n",
       "\n",
       "data:  x5\n",
       "p-value = 0.04224\n",
       "alternative hypothesis: two.sided\n"
      ]
     },
     "metadata": {},
     "output_type": "display_data"
    }
   ],
   "source": [
    "x5 <- matrix(c(28,24,14,14,7,0), byrow = TRUE, nrow = 3, ncol = 2);\n",
    "print(x5)\n",
    "fisher.test(x5);"
   ]
  },
  {
   "cell_type": "code",
   "execution_count": 8,
   "id": "1775d0ff",
   "metadata": {},
   "outputs": [
    {
     "name": "stdout",
     "output_type": "stream",
     "text": [
      "     [,1] [,2] [,3]\n",
      "[1,]   28   24    3\n",
      "[2,]   21   14    3\n"
     ]
    },
    {
     "data": {
      "text/plain": [
       "\n",
       "\tFisher's Exact Test for Count Data\n",
       "\n",
       "data:  x6\n",
       "p-value = 0.7487\n",
       "alternative hypothesis: two.sided\n"
      ]
     },
     "metadata": {},
     "output_type": "display_data"
    }
   ],
   "source": [
    "x6 <- matrix(c(28,24,3,21,14,3), byrow = TRUE, nrow = 2, ncol = 3);\n",
    "print(x6)\n",
    "fisher.test(x6);"
   ]
  },
  {
   "cell_type": "code",
   "execution_count": 9,
   "id": "982662e4",
   "metadata": {},
   "outputs": [
    {
     "name": "stdout",
     "output_type": "stream",
     "text": [
      "     [,1] [,2]\n",
      "[1,]   28   24\n",
      "[2,]   21   14\n"
     ]
    },
    {
     "data": {
      "text/plain": [
       "\n",
       "\tFisher's Exact Test for Count Data\n",
       "\n",
       "data:  x7\n",
       "p-value = 0.6612\n",
       "alternative hypothesis: true odds ratio is not equal to 1\n",
       "95 percent confidence interval:\n",
       " 0.2966743 2.0166748\n",
       "sample estimates:\n",
       "odds ratio \n",
       " 0.7800311 \n"
      ]
     },
     "metadata": {},
     "output_type": "display_data"
    }
   ],
   "source": [
    "x7 <- matrix(c(28,24,21,14), byrow = TRUE, nrow = 2, ncol = 2);\n",
    "print(x7)\n",
    "fisher.test(x7);"
   ]
  },
  {
   "cell_type": "code",
   "execution_count": 10,
   "id": "85f28e07",
   "metadata": {},
   "outputs": [
    {
     "name": "stdout",
     "output_type": "stream",
     "text": [
      "     [,1] [,2] [,3]\n",
      "[1,]   13    4    3\n",
      "[2,]   12    2    1\n"
     ]
    },
    {
     "data": {
      "text/plain": [
       "\n",
       "\tFisher's Exact Test for Count Data\n",
       "\n",
       "data:  x8\n",
       "p-value = 0.6459\n",
       "alternative hypothesis: two.sided\n"
      ]
     },
     "metadata": {},
     "output_type": "display_data"
    }
   ],
   "source": [
    "x8 <- matrix(c(13,4,3,12,2,1), byrow = TRUE, nrow = 2, ncol = 3);\n",
    "print(x8)\n",
    "fisher.test(x8);"
   ]
  },
  {
   "cell_type": "code",
   "execution_count": 12,
   "id": "9cfe726a",
   "metadata": {},
   "outputs": [
    {
     "name": "stdout",
     "output_type": "stream",
     "text": [
      "     [,1] [,2]\n",
      "[1,]   13    4\n",
      "[2,]   12    2\n"
     ]
    },
    {
     "data": {
      "text/plain": [
       "\n",
       "\tFisher's Exact Test for Count Data\n",
       "\n",
       "data:  x9\n",
       "p-value = 0.6638\n",
       "alternative hypothesis: true odds ratio is not equal to 1\n",
       "95 percent confidence interval:\n",
       " 0.04254544 4.70345445\n",
       "sample estimates:\n",
       "odds ratio \n",
       " 0.5522437 \n"
      ]
     },
     "metadata": {},
     "output_type": "display_data"
    }
   ],
   "source": [
    "x9 <- matrix(c(13,4,12,2), byrow = TRUE, nrow = 2, ncol = 2);\n",
    "print(x9)\n",
    "fisher.test(x9);"
   ]
  },
  {
   "cell_type": "code",
   "execution_count": 13,
   "id": "cc772518",
   "metadata": {},
   "outputs": [
    {
     "name": "stdout",
     "output_type": "stream",
     "text": [
      "     [,1] [,2] [,3]\n",
      "[1,]   13    4    3\n",
      "[2,]   10   10    1\n"
     ]
    },
    {
     "data": {
      "text/plain": [
       "\n",
       "\tFisher's Exact Test for Count Data\n",
       "\n",
       "data:  x10\n",
       "p-value = 0.1895\n",
       "alternative hypothesis: two.sided\n"
      ]
     },
     "metadata": {},
     "output_type": "display_data"
    }
   ],
   "source": [
    "x10 <- matrix(c(13,4,3,10,10,1), byrow = TRUE, nrow = 2, ncol = 3);\n",
    "print(x10)\n",
    "fisher.test(x10);"
   ]
  },
  {
   "cell_type": "code",
   "execution_count": 14,
   "id": "f9f39c53",
   "metadata": {},
   "outputs": [
    {
     "name": "stdout",
     "output_type": "stream",
     "text": [
      "     [,1] [,2]\n",
      "[1,]   13    4\n",
      "[2,]   10   10\n"
     ]
    },
    {
     "data": {
      "text/plain": [
       "\n",
       "\tFisher's Exact Test for Count Data\n",
       "\n",
       "data:  x11\n",
       "p-value = 0.1734\n",
       "alternative hypothesis: true odds ratio is not equal to 1\n",
       "95 percent confidence interval:\n",
       "  0.6546843 18.0757350\n",
       "sample estimates:\n",
       "odds ratio \n",
       "  3.144907 \n"
      ]
     },
     "metadata": {},
     "output_type": "display_data"
    }
   ],
   "source": [
    "x11 <- matrix(c(13,4,10,10), byrow = TRUE, nrow = 2, ncol = 2);\n",
    "print(x11)\n",
    "fisher.test(x11);"
   ]
  },
  {
   "cell_type": "code",
   "execution_count": null,
   "id": "4e818ab1",
   "metadata": {},
   "outputs": [],
   "source": []
  }
 ],
 "metadata": {
  "kernelspec": {
   "display_name": "R",
   "language": "R",
   "name": "ir"
  },
  "language_info": {
   "codemirror_mode": "r",
   "file_extension": ".r",
   "mimetype": "text/x-r-source",
   "name": "R",
   "pygments_lexer": "r",
   "version": "3.6.1"
  }
 },
 "nbformat": 4,
 "nbformat_minor": 5
}
