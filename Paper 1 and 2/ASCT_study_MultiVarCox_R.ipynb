{
 "cells": [
  {
   "cell_type": "markdown",
   "id": "10e5a438",
   "metadata": {},
   "source": [
    "In this notebook, I apply a univariate and multivariate cox regresssion analysis to the dataset. "
   ]
  },
  {
   "cell_type": "markdown",
   "id": "39abb7fc",
   "metadata": {},
   "source": [
    "Load necessary libraries "
   ]
  },
  {
   "cell_type": "code",
   "execution_count": 1,
   "id": "3f8de66b",
   "metadata": {},
   "outputs": [
    {
     "name": "stderr",
     "output_type": "stream",
     "text": [
      "Loading required package: ggplot2\n",
      "Loading required package: ggpubr\n"
     ]
    },
    {
     "name": "stdout",
     "output_type": "stream",
     "text": [
      "[1] \"complete\"\n"
     ]
    }
   ],
   "source": [
    "library(\"survival\")\n",
    "library(\"survminer\")\n",
    "\n",
    "print(\"complete\")"
   ]
  },
  {
   "cell_type": "markdown",
   "id": "44ecb808",
   "metadata": {},
   "source": [
    "Load datasets. \n",
    "\n",
    "Assign the dataset I wish to explore to ASCT_data"
   ]
  },
  {
   "cell_type": "code",
   "execution_count": 2,
   "id": "d4df0d3a",
   "metadata": {},
   "outputs": [],
   "source": [
    "ASCT_data <- read.csv(file = '/Users/anthonyquint/Desktop/LHSC_Work_Folder/Mina/MM_ACST_Study/Prepared_data_for_R_analysis/ASCT_Multivar.csv')\n",
    "ASCT_PFS_HighRisk_MaintenVsNone_Dataset <- read.csv(file = '/Users/anthonyquint/Desktop/LHSC_Work_Folder/Mina/MM_ACST_Study/Prepared_data_for_R_analysis/ASCT_PFS_HighRisk_MaintenVsNone_Dataset.csv')\n",
    "ASCT_PFS_HighRisk_SingleTrans_MaintenVsNone_Dataset <- read.csv(file = '/Users/anthonyquint/Desktop/LHSC_Work_Folder/Mina/MM_ACST_Study/Prepared_data_for_R_analysis/ASCT_PFS_HighRisk_SingleTrans_MaintenVsNone_Dataset.csv')\n",
    "ASCT_PFS_HighRisk_TandemTrans_MaintenVsNone_Dataset <- read.csv(file = '/Users/anthonyquint/Desktop/LHSC_Work_Folder/Mina/MM_ACST_Study/Prepared_data_for_R_analysis/ASCT_PFS_HighRisk_TandemTrans_MaintenVsNone_Dataset.csv')\n",
    "ASCT_PFS_MaintenVSNone_Dataset <- read.csv(file = '/Users/anthonyquint/Desktop/LHSC_Work_Folder/Mina/MM_ACST_Study/Prepared_data_for_R_analysis/ASCT_PFS_MaintenVSNone_Dataset.csv')\n",
    "\n",
    "ASCT_data <- transform(ASCT_data, Creatinine = as.numeric(Creatinine))\n",
    "#head(ASCT_PFS_MaintenVSNone_Dataset)"
   ]
  },
  {
   "cell_type": "markdown",
   "id": "fe954f19",
   "metadata": {},
   "source": [
    "Gonna create a new column \"pooled\"that is the sum of TANDEM and Num..Maint..Drugs...Dummy.var.for.2. Doing this to test some things out. Can read more about my rationale in the results word docs. "
   ]
  },
  {
   "cell_type": "code",
   "execution_count": 3,
   "id": "a5763669",
   "metadata": {},
   "outputs": [],
   "source": [
    "ASCT_data$pooled <- ASCT_data$TANDEM + ASCT_data$Num..Maint..Drugs...Dummy.var.for.2.\n",
    "#head(ASCT_data)"
   ]
  },
  {
   "cell_type": "markdown",
   "id": "401bafc4",
   "metadata": {},
   "source": [
    "Univariate Cox regression analysis. \n",
    "\n",
    "Can change variables depending on what I want to analyze."
   ]
  },
  {
   "cell_type": "code",
   "execution_count": 4,
   "id": "3816a6d6",
   "metadata": {},
   "outputs": [
    {
     "data": {
      "text/plain": [
       "Call:\n",
       "coxph(formula = Surv(Progression.Free.Surivival..PFS...days., \n",
       "    PFS_Status..1.censored.2.event.) ~ Number_of_Maintenance_Drugs, \n",
       "    data = ASCT_PFS_MaintenVSNone_Dataset)\n",
       "\n",
       "  n= 153, number of events= 76 \n",
       "   (5 observations deleted due to missingness)\n",
       "\n",
       "                               coef exp(coef) se(coef)      z Pr(>|z|)  \n",
       "Number_of_Maintenance_Drugs -0.7690    0.4635   0.3118 -2.466   0.0136 *\n",
       "---\n",
       "Signif. codes:  0 ‘***’ 0.001 ‘**’ 0.01 ‘*’ 0.05 ‘.’ 0.1 ‘ ’ 1\n",
       "\n",
       "                            exp(coef) exp(-coef) lower .95 upper .95\n",
       "Number_of_Maintenance_Drugs    0.4635      2.158    0.2515    0.8539\n",
       "\n",
       "Concordance= 0.584  (se = 0.028 )\n",
       "Likelihood ratio test= 6.98  on 1 df,   p=0.008\n",
       "Wald test            = 6.08  on 1 df,   p=0.01\n",
       "Score (logrank) test = 6.38  on 1 df,   p=0.01\n"
      ]
     },
     "metadata": {},
     "output_type": "display_data"
    }
   ],
   "source": [
    "res.cox <- coxph(Surv(Progression.Free.Surivival..PFS...days.,PFS_Status..1.censored.2.event.) ~ Number_of_Maintenance_Drugs, data =  ASCT_PFS_MaintenVSNone_Dataset)\n",
    "summary(res.cox)"
   ]
  },
  {
   "cell_type": "markdown",
   "id": "34ffbce2",
   "metadata": {},
   "source": [
    "Multivariate Cox Regression analysis \n",
    "\n",
    "Can change variables depending on what I want to analyze."
   ]
  },
  {
   "cell_type": "code",
   "execution_count": 5,
   "id": "2161ebbe",
   "metadata": {},
   "outputs": [
    {
     "data": {
      "text/plain": [
       "Call:\n",
       "coxph(formula = Surv(Progression.Free.Survival.2..PFS2...days., \n",
       "    PFS2_Status..1...censored..2...event.) ~ At_Risk..Y.N..for.Anthony + \n",
       "    Hemoglobin + Num..Maint..Drugs...Dummy.var.for.1., data = ASCT_data)\n",
       "\n",
       "  n= 136, number of events= 38 \n",
       "   (19 observations deleted due to missingness)\n",
       "\n",
       "                                          coef exp(coef)  se(coef)      z\n",
       "At_Risk..Y.N..for.Anthony             0.707807  2.029535  0.420627  1.683\n",
       "Hemoglobin                           -0.017956  0.982204  0.005494 -3.268\n",
       "Num..Maint..Drugs...Dummy.var.for.1. -0.585927  0.556590  0.471240 -1.243\n",
       "                                     Pr(>|z|)   \n",
       "At_Risk..Y.N..for.Anthony             0.09242 . \n",
       "Hemoglobin                            0.00108 **\n",
       "Num..Maint..Drugs...Dummy.var.for.1.  0.21373   \n",
       "---\n",
       "Signif. codes:  0 ‘***’ 0.001 ‘**’ 0.01 ‘*’ 0.05 ‘.’ 0.1 ‘ ’ 1\n",
       "\n",
       "                                     exp(coef) exp(-coef) lower .95 upper .95\n",
       "At_Risk..Y.N..for.Anthony               2.0295     0.4927    0.8899    4.6284\n",
       "Hemoglobin                              0.9822     1.0181    0.9717    0.9928\n",
       "Num..Maint..Drugs...Dummy.var.for.1.    0.5566     1.7967    0.2210    1.4017\n",
       "\n",
       "Concordance= 0.678  (se = 0.048 )\n",
       "Likelihood ratio test= 11.38  on 3 df,   p=0.01\n",
       "Wald test            = 12.2  on 3 df,   p=0.007\n",
       "Score (logrank) test = 12.3  on 3 df,   p=0.006\n"
      ]
     },
     "metadata": {},
     "output_type": "display_data"
    }
   ],
   "source": [
    "res.cox <- coxph(Surv(Progression.Free.Survival.2..PFS2...days.,PFS2_Status..1...censored..2...event.) ~  At_Risk..Y.N..for.Anthony + Hemoglobin + Num..Maint..Drugs...Dummy.var.for.1., data =  ASCT_data)\n",
    "summary(res.cox)"
   ]
  },
  {
   "cell_type": "code",
   "execution_count": null,
   "id": "f29080c3",
   "metadata": {},
   "outputs": [],
   "source": []
  }
 ],
 "metadata": {
  "kernelspec": {
   "display_name": "R",
   "language": "R",
   "name": "ir"
  },
  "language_info": {
   "codemirror_mode": "r",
   "file_extension": ".r",
   "mimetype": "text/x-r-source",
   "name": "R",
   "pygments_lexer": "r",
   "version": "3.6.1"
  }
 },
 "nbformat": 4,
 "nbformat_minor": 5
}
