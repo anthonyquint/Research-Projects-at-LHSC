{
 "cells": [
  {
   "cell_type": "markdown",
   "id": "775511e4",
   "metadata": {},
   "source": [
    "To analyze the effect of the independent variables on the outcome/dependent variable (bleeding) wholistically, must perform a multivariate analysis. A logistic regression model is a suitable choice for a dataset with a binary outcome. I'll explore partioning the outcome data in 5 different ways: \n",
    "\n",
    "1. The binary outcome is:\n",
    "- Major vs. Minor + None bleeding, \n",
    "- Major + Minor vs. None bleeding,\n",
    "- Major vs. None, \n",
    "- Minor vs. None,\n",
    "- Major vs. Minor\n",
    "\n",
    "\n",
    "The independent variables that will be implemented into this model are: \n",
    "- anti-coagulation, Anemia (hb < 100), and platelet count Nadir. \n",
    "\n",
    "I can create another logistic regression model where: \n",
    "\n",
    "2. The binary outcomes is: \n",
    "- Major vs. minor \n",
    "\n",
    "And the independent variables that will be implemented are: \n",
    "- anti-coagulation, platelets at time of bleed, Hb at time of bleed\n",
    "\n",
    "The rest of the independent variables will be neglected since they didn't have significant contigency tables or T tests. "
   ]
  },
  {
   "cell_type": "markdown",
   "id": "26ec5ce2",
   "metadata": {},
   "source": [
    "Import necessary libraries "
   ]
  },
  {
   "cell_type": "code",
   "execution_count": 1,
   "id": "721eb5ee",
   "metadata": {},
   "outputs": [
    {
     "name": "stdout",
     "output_type": "stream",
     "text": [
      "complete\n"
     ]
    }
   ],
   "source": [
    "import pandas as pd\n",
    "from sklearn.preprocessing import LabelEncoder\n",
    "from sklearn.model_selection import train_test_split\n",
    "import statsmodels.api as sm\n",
    "from sklearn.linear_model import LogisticRegression\n",
    "from sklearn import metrics\n",
    "import numpy as np\n",
    "import matplotlib.pyplot as plt\n",
    "import seaborn as sns\n",
    "from sklearn.utils import resample\n",
    "import imblearn\n",
    "from imblearn.over_sampling import SMOTE\n",
    "from statsmodels.stats.outliers_influence import variance_inflation_factor\n",
    "\n",
    "print(\"complete\")"
   ]
  },
  {
   "cell_type": "markdown",
   "id": "6d23db4d",
   "metadata": {},
   "source": [
    "Read dataset "
   ]
  },
  {
   "cell_type": "code",
   "execution_count": 2,
   "id": "e552753d",
   "metadata": {},
   "outputs": [
    {
     "data": {
      "text/html": [
       "<div>\n",
       "<style scoped>\n",
       "    .dataframe tbody tr th:only-of-type {\n",
       "        vertical-align: middle;\n",
       "    }\n",
       "\n",
       "    .dataframe tbody tr th {\n",
       "        vertical-align: top;\n",
       "    }\n",
       "\n",
       "    .dataframe thead th {\n",
       "        text-align: right;\n",
       "    }\n",
       "</style>\n",
       "<table border=\"1\" class=\"dataframe\">\n",
       "  <thead>\n",
       "    <tr style=\"text-align: right;\">\n",
       "      <th></th>\n",
       "      <th>Age at diagnosis</th>\n",
       "      <th>gender</th>\n",
       "      <th>Diagnosis year</th>\n",
       "      <th>Plt at diagnosis</th>\n",
       "      <th>plt at start of ibrutinib</th>\n",
       "      <th>plt at the time of bleed</th>\n",
       "      <th>Plt Nadir while on Ibrutinib</th>\n",
       "      <th>Platelets &lt; 50 (Y/N)</th>\n",
       "      <th>hb at diognosis</th>\n",
       "      <th>hb at start of Ibrutinib</th>\n",
       "      <th>...</th>\n",
       "      <th>action?</th>\n",
       "      <th>post op bleed? /action</th>\n",
       "      <th>INR</th>\n",
       "      <th>past medical history</th>\n",
       "      <th>PMHx bleeding risk (Y/N)</th>\n",
       "      <th>Ibrutinib Dose</th>\n",
       "      <th>Comments</th>\n",
       "      <th>other ibrutinib SE</th>\n",
       "      <th>Unnamed: 44</th>\n",
       "      <th>Unnamed: 45</th>\n",
       "    </tr>\n",
       "  </thead>\n",
       "  <tbody>\n",
       "    <tr>\n",
       "      <th>0</th>\n",
       "      <td>48</td>\n",
       "      <td>f</td>\n",
       "      <td>2006</td>\n",
       "      <td>260</td>\n",
       "      <td>15</td>\n",
       "      <td>NaN</td>\n",
       "      <td>15</td>\n",
       "      <td>Y</td>\n",
       "      <td>130</td>\n",
       "      <td>71</td>\n",
       "      <td>...</td>\n",
       "      <td>NaN</td>\n",
       "      <td>NaN</td>\n",
       "      <td>NaN</td>\n",
       "      <td>deppression, schwanoma of leg</td>\n",
       "      <td>Y</td>\n",
       "      <td>420mg,</td>\n",
       "      <td>ITP at the time of starting ibrutinib</td>\n",
       "      <td>NaN</td>\n",
       "      <td>NaN</td>\n",
       "      <td>NaN</td>\n",
       "    </tr>\n",
       "    <tr>\n",
       "      <th>1</th>\n",
       "      <td>66</td>\n",
       "      <td>m</td>\n",
       "      <td>2017</td>\n",
       "      <td>175</td>\n",
       "      <td>83</td>\n",
       "      <td>155</td>\n",
       "      <td>93</td>\n",
       "      <td>N</td>\n",
       "      <td>145</td>\n",
       "      <td>93</td>\n",
       "      <td>...</td>\n",
       "      <td>NaN</td>\n",
       "      <td>NaN</td>\n",
       "      <td>NaN</td>\n",
       "      <td>cryoglobinemia,MGUS,CAD,HTN,COPD</td>\n",
       "      <td>N</td>\n",
       "      <td>420mg</td>\n",
       "      <td>NaN</td>\n",
       "      <td>NaN</td>\n",
       "      <td>NaN</td>\n",
       "      <td>NaN</td>\n",
       "    </tr>\n",
       "    <tr>\n",
       "      <th>2</th>\n",
       "      <td>74</td>\n",
       "      <td>F</td>\n",
       "      <td>2016</td>\n",
       "      <td>189</td>\n",
       "      <td>200</td>\n",
       "      <td>NaN</td>\n",
       "      <td>189</td>\n",
       "      <td>N</td>\n",
       "      <td>116</td>\n",
       "      <td>87</td>\n",
       "      <td>...</td>\n",
       "      <td>NaN</td>\n",
       "      <td>NaN</td>\n",
       "      <td>NaN</td>\n",
       "      <td>dm2,htn,</td>\n",
       "      <td>N</td>\n",
       "      <td>420mg,</td>\n",
       "      <td>reaction to first obino so switched to ibrutin...</td>\n",
       "      <td>NaN</td>\n",
       "      <td>NaN</td>\n",
       "      <td>NaN</td>\n",
       "    </tr>\n",
       "    <tr>\n",
       "      <th>3</th>\n",
       "      <td>53</td>\n",
       "      <td>F</td>\n",
       "      <td>2002</td>\n",
       "      <td>237</td>\n",
       "      <td>67</td>\n",
       "      <td>NaN</td>\n",
       "      <td>40</td>\n",
       "      <td>Y</td>\n",
       "      <td>135</td>\n",
       "      <td>118</td>\n",
       "      <td>...</td>\n",
       "      <td>NaN</td>\n",
       "      <td>NaN</td>\n",
       "      <td>NaN</td>\n",
       "      <td>HTN,B12 def,IDA</td>\n",
       "      <td>N</td>\n",
       "      <td>420mg</td>\n",
       "      <td>WAIHA</td>\n",
       "      <td>easy bruising</td>\n",
       "      <td>NaN</td>\n",
       "      <td>NaN</td>\n",
       "    </tr>\n",
       "    <tr>\n",
       "      <th>4</th>\n",
       "      <td>60</td>\n",
       "      <td>m</td>\n",
       "      <td>1999</td>\n",
       "      <td>198</td>\n",
       "      <td>85</td>\n",
       "      <td>70</td>\n",
       "      <td>49</td>\n",
       "      <td>Y</td>\n",
       "      <td>154</td>\n",
       "      <td>104</td>\n",
       "      <td>...</td>\n",
       "      <td>died</td>\n",
       "      <td>NaN</td>\n",
       "      <td>1.1</td>\n",
       "      <td>prostitis,mycosis,chronc sinusitis</td>\n",
       "      <td>N</td>\n",
       "      <td>ibrutinib dose reduced to 140 in oct 2015 for ...</td>\n",
       "      <td>cutaneous  oral mucosal involvement w CLL, als...</td>\n",
       "      <td>NaN</td>\n",
       "      <td>NaN</td>\n",
       "      <td>NaN</td>\n",
       "    </tr>\n",
       "  </tbody>\n",
       "</table>\n",
       "<p>5 rows × 46 columns</p>\n",
       "</div>"
      ],
      "text/plain": [
       "  Age at diagnosis gender Diagnosis year Plt at diagnosis  \\\n",
       "0               48      f           2006              260   \n",
       "1               66      m           2017              175   \n",
       "2               74      F           2016              189   \n",
       "3               53      F           2002              237   \n",
       "4               60      m           1999              198   \n",
       "\n",
       "  plt at start of ibrutinib plt at the time of bleed  \\\n",
       "0                        15                      NaN   \n",
       "1                        83                      155   \n",
       "2                       200                      NaN   \n",
       "3                        67                      NaN   \n",
       "4                        85                       70   \n",
       "\n",
       "   Plt Nadir while on Ibrutinib Platelets < 50 (Y/N) hb at diognosis  \\\n",
       "0                            15                    Y             130   \n",
       "1                            93                    N             145   \n",
       "2                           189                    N             116   \n",
       "3                            40                    Y             135   \n",
       "4                            49                    Y             154   \n",
       "\n",
       "  hb at start of Ibrutinib  ... action? post op bleed? /action  INR  \\\n",
       "0                       71  ...     NaN                    NaN  NaN   \n",
       "1                       93  ...     NaN                    NaN  NaN   \n",
       "2                       87  ...     NaN                    NaN  NaN   \n",
       "3                      118  ...     NaN                    NaN  NaN   \n",
       "4                      104  ...    died                    NaN  1.1   \n",
       "\n",
       "                 past medical history PMHx bleeding risk (Y/N)  \\\n",
       "0       deppression, schwanoma of leg                        Y   \n",
       "1    cryoglobinemia,MGUS,CAD,HTN,COPD                        N   \n",
       "2                            dm2,htn,                        N   \n",
       "3                     HTN,B12 def,IDA                        N   \n",
       "4  prostitis,mycosis,chronc sinusitis                        N   \n",
       "\n",
       "                                      Ibrutinib Dose  \\\n",
       "0                                             420mg,   \n",
       "1                                              420mg   \n",
       "2                                             420mg,   \n",
       "3                                              420mg   \n",
       "4  ibrutinib dose reduced to 140 in oct 2015 for ...   \n",
       "\n",
       "                                            Comments other ibrutinib SE  \\\n",
       "0              ITP at the time of starting ibrutinib                NaN   \n",
       "1                                                NaN                NaN   \n",
       "2  reaction to first obino so switched to ibrutin...                NaN   \n",
       "3                                              WAIHA      easy bruising   \n",
       "4  cutaneous  oral mucosal involvement w CLL, als...                NaN   \n",
       "\n",
       "   Unnamed: 44 Unnamed: 45  \n",
       "0          NaN         NaN  \n",
       "1          NaN         NaN  \n",
       "2          NaN         NaN  \n",
       "3          NaN         NaN  \n",
       "4          NaN         NaN  \n",
       "\n",
       "[5 rows x 46 columns]"
      ]
     },
     "execution_count": 2,
     "metadata": {},
     "output_type": "execute_result"
    }
   ],
   "source": [
    "df = pd.read_csv(\"/Users/anthonyquint/Desktop/LHSC_Work_Folder/Mina/Bleeding_study/Ibrutinib Data Set, July 4,2021, de-identified data.csv\")\n",
    "\n",
    "df.head()"
   ]
  },
  {
   "cell_type": "markdown",
   "id": "e9305f55",
   "metadata": {},
   "source": [
    "Cleaning the dataset, and select which two groups to compare: \n",
    "- Major vs. Minor + None bleeding, \n",
    "- Major + Minor vs. None bleeding,\n",
    "- Major vs. None, \n",
    "- Minor vs. None,\n",
    "- Major vs. Minor"
   ]
  },
  {
   "cell_type": "code",
   "execution_count": 3,
   "id": "160c21c6",
   "metadata": {},
   "outputs": [
    {
     "data": {
      "text/html": [
       "<div>\n",
       "<style scoped>\n",
       "    .dataframe tbody tr th:only-of-type {\n",
       "        vertical-align: middle;\n",
       "    }\n",
       "\n",
       "    .dataframe tbody tr th {\n",
       "        vertical-align: top;\n",
       "    }\n",
       "\n",
       "    .dataframe thead th {\n",
       "        text-align: right;\n",
       "    }\n",
       "</style>\n",
       "<table border=\"1\" class=\"dataframe\">\n",
       "  <thead>\n",
       "    <tr style=\"text-align: right;\">\n",
       "      <th></th>\n",
       "      <th>plt at the time of bleed</th>\n",
       "      <th>hb at the time of bleed</th>\n",
       "      <th>anticoagulation (Y/N)</th>\n",
       "      <th>Major Bleed (Y/N)</th>\n",
       "    </tr>\n",
       "  </thead>\n",
       "  <tbody>\n",
       "    <tr>\n",
       "      <th>4</th>\n",
       "      <td>70</td>\n",
       "      <td>120</td>\n",
       "      <td>N</td>\n",
       "      <td>Y</td>\n",
       "    </tr>\n",
       "    <tr>\n",
       "      <th>8</th>\n",
       "      <td>151</td>\n",
       "      <td>121</td>\n",
       "      <td>Y</td>\n",
       "      <td>N</td>\n",
       "    </tr>\n",
       "    <tr>\n",
       "      <th>10</th>\n",
       "      <td>130</td>\n",
       "      <td>81</td>\n",
       "      <td>Y</td>\n",
       "      <td>Y</td>\n",
       "    </tr>\n",
       "    <tr>\n",
       "      <th>13</th>\n",
       "      <td>153</td>\n",
       "      <td>92</td>\n",
       "      <td>N</td>\n",
       "      <td>Y</td>\n",
       "    </tr>\n",
       "    <tr>\n",
       "      <th>23</th>\n",
       "      <td>135</td>\n",
       "      <td>131</td>\n",
       "      <td>Y</td>\n",
       "      <td>N</td>\n",
       "    </tr>\n",
       "  </tbody>\n",
       "</table>\n",
       "</div>"
      ],
      "text/plain": [
       "   plt at the time of bleed hb at the time of bleed anticoagulation (Y/N)  \\\n",
       "4                        70                     120                     N   \n",
       "8                       151                     121                     Y   \n",
       "10                      130                      81                     Y   \n",
       "13                      153                      92                     N   \n",
       "23                      135                     131                     Y   \n",
       "\n",
       "   Major Bleed (Y/N)  \n",
       "4                  Y  \n",
       "8                  N  \n",
       "10                 Y  \n",
       "13                 Y  \n",
       "23                 N  "
      ]
     },
     "execution_count": 3,
     "metadata": {},
     "output_type": "execute_result"
    }
   ],
   "source": [
    "##Removing all columns except the columns corresponding to our relevant \n",
    "##independent variables (indicated at top of notebook) and dependent variable (Major Bleed (Y/N))\n",
    "\n",
    "#df = df[[\"Plt Nadir while on Ibrutinib\",\"Anemia (hb < 100) (Y/N)\",\"anticoagulation (Y/N)\",\"Major Bleed (Y/N)\"]]\n",
    "df = df[[\"plt at the time of bleed\",\"hb at the time of bleed\",\"anticoagulation (Y/N)\",\"Major Bleed (Y/N)\"]]\n",
    "#df = df[[\"Age at diagnosis\",'gender','PMHx bleeding risk (Y/N)',\"HR Molecular/Cytogenetics (Y/N)\",\"Prior lines of therapy\",'anti platelet (Y/N)',\"Plt Nadir while on Ibrutinib\",\"Anemia (hb < 100) (Y/N)\",\"anticoagulation (Y/N)\",\"Major Bleed (Y/N)\"]]\n",
    "\n",
    "## Selecting which two groups to compare\n",
    "\n",
    "## Major vs. Minor \n",
    "df = df.dropna().copy() \n",
    "\n",
    "#Major vs. Minor + None bleeding\n",
    "#changing NaN values in \"Major Bleed (Y/N)\" to N \n",
    "#df['Major Bleed (Y/N)'].fillna('N', inplace=True)\n",
    "\n",
    "#Major + Minor vs. None \n",
    "#changing \"N\" values to Y, and NaN values to N. \n",
    "#df['Major Bleed (Y/N)'] = df['Major Bleed (Y/N)'].replace(['N'],'Y')\n",
    "#df['Major Bleed (Y/N)'].fillna('N', inplace=True)\n",
    "\n",
    "#Major vs. None\n",
    "#df = df[~df['Major Bleed (Y/N)'].isin(['N'])] \n",
    "#df['Major Bleed (Y/N)'].fillna('N', inplace=True)\n",
    "\n",
    "#Minor vs. None\n",
    "#df = df[~df['Major Bleed (Y/N)'].isin(['Y'])] \n",
    "#df['Major Bleed (Y/N)'] = df['Major Bleed (Y/N)'].replace(['N'],'Y')\n",
    "#df['Major Bleed (Y/N)'].fillna('N', inplace=True)\n",
    "\n",
    "# Delete index 112 since it has a question mark for age \n",
    "#df = df.drop(labels=112, axis=0)\n",
    "\n",
    "#Gender has inputs of F or M, but sometimes they are lowercase. Using \"upper()\" to ensure they are all uppercase\n",
    "#df['gender'] = df['gender'].str.upper()\n",
    "\n",
    "#df.count()\n",
    "df.head()"
   ]
  },
  {
   "cell_type": "markdown",
   "id": "d082d973",
   "metadata": {},
   "source": [
    "Count number of people who had the types of bleeding"
   ]
  },
  {
   "cell_type": "code",
   "execution_count": 4,
   "id": "99b9431e",
   "metadata": {},
   "outputs": [
    {
     "data": {
      "text/plain": [
       "N    21\n",
       "Y    17\n",
       "Name: Major Bleed (Y/N), dtype: int64"
      ]
     },
     "execution_count": 4,
     "metadata": {},
     "output_type": "execute_result"
    }
   ],
   "source": [
    "df['Major Bleed (Y/N)'].value_counts(dropna=False)"
   ]
  },
  {
   "cell_type": "markdown",
   "id": "cdc92880",
   "metadata": {},
   "source": [
    "Converting categorical data into numerical representation"
   ]
  },
  {
   "cell_type": "code",
   "execution_count": 5,
   "id": "a4b8bc3e",
   "metadata": {},
   "outputs": [
    {
     "data": {
      "text/html": [
       "<div>\n",
       "<style scoped>\n",
       "    .dataframe tbody tr th:only-of-type {\n",
       "        vertical-align: middle;\n",
       "    }\n",
       "\n",
       "    .dataframe tbody tr th {\n",
       "        vertical-align: top;\n",
       "    }\n",
       "\n",
       "    .dataframe thead th {\n",
       "        text-align: right;\n",
       "    }\n",
       "</style>\n",
       "<table border=\"1\" class=\"dataframe\">\n",
       "  <thead>\n",
       "    <tr style=\"text-align: right;\">\n",
       "      <th></th>\n",
       "      <th>plt at the time of bleed</th>\n",
       "      <th>hb at the time of bleed</th>\n",
       "      <th>anticoagulation (Y/N)</th>\n",
       "      <th>Major Bleed (Y/N)</th>\n",
       "    </tr>\n",
       "  </thead>\n",
       "  <tbody>\n",
       "    <tr>\n",
       "      <th>4</th>\n",
       "      <td>70</td>\n",
       "      <td>120</td>\n",
       "      <td>0</td>\n",
       "      <td>1</td>\n",
       "    </tr>\n",
       "    <tr>\n",
       "      <th>8</th>\n",
       "      <td>151</td>\n",
       "      <td>121</td>\n",
       "      <td>1</td>\n",
       "      <td>0</td>\n",
       "    </tr>\n",
       "    <tr>\n",
       "      <th>10</th>\n",
       "      <td>130</td>\n",
       "      <td>81</td>\n",
       "      <td>1</td>\n",
       "      <td>1</td>\n",
       "    </tr>\n",
       "    <tr>\n",
       "      <th>13</th>\n",
       "      <td>153</td>\n",
       "      <td>92</td>\n",
       "      <td>0</td>\n",
       "      <td>1</td>\n",
       "    </tr>\n",
       "    <tr>\n",
       "      <th>23</th>\n",
       "      <td>135</td>\n",
       "      <td>131</td>\n",
       "      <td>1</td>\n",
       "      <td>0</td>\n",
       "    </tr>\n",
       "  </tbody>\n",
       "</table>\n",
       "</div>"
      ],
      "text/plain": [
       "   plt at the time of bleed hb at the time of bleed  anticoagulation (Y/N)  \\\n",
       "4                        70                     120                      0   \n",
       "8                       151                     121                      1   \n",
       "10                      130                      81                      1   \n",
       "13                      153                      92                      0   \n",
       "23                      135                     131                      1   \n",
       "\n",
       "    Major Bleed (Y/N)  \n",
       "4                   1  \n",
       "8                   0  \n",
       "10                  1  \n",
       "13                  1  \n",
       "23                  0  "
      ]
     },
     "execution_count": 5,
     "metadata": {},
     "output_type": "execute_result"
    }
   ],
   "source": [
    "number = LabelEncoder()\n",
    "\n",
    "## For first dataset\n",
    "#df['Anemia (hb < 100) (Y/N)'] = number.fit_transform(df['Anemia (hb < 100) (Y/N)'].astype('str'))\n",
    "#df['anticoagulation (Y/N)'] = number.fit_transform(df['anticoagulation (Y/N)'].astype('str'))\n",
    "#df['Major Bleed (Y/N)'] = number.fit_transform(df['Major Bleed (Y/N)'].astype('str'))\n",
    "\n",
    "## For second dataset\n",
    "df['Major Bleed (Y/N)'] = number.fit_transform(df['Major Bleed (Y/N)'].astype('str'))\n",
    "df['anticoagulation (Y/N)'] = number.fit_transform(df['anticoagulation (Y/N)'].astype('str'))\n",
    "\n",
    "## For third dataset \n",
    "#df['gender'] = number.fit_transform(df['gender'].astype('str'))\n",
    "#df['Anemia (hb < 100) (Y/N)'] = number.fit_transform(df['Anemia (hb < 100) (Y/N)'].astype('str'))\n",
    "#df['HR Molecular/Cytogenetics (Y/N)'] = number.fit_transform(df['HR Molecular/Cytogenetics (Y/N)'].astype('str'))\n",
    "#df['anticoagulation (Y/N)'] = number.fit_transform(df['anticoagulation (Y/N)'].astype('str'))\n",
    "#df['anti platelet (Y/N)'] = number.fit_transform(df['anti platelet (Y/N)'].astype('str'))\n",
    "#df['PMHx bleeding risk (Y/N)'] = number.fit_transform(df['PMHx bleeding risk (Y/N)'].astype('str'))\n",
    "#df['Major Bleed (Y/N)'] = number.fit_transform(df['Major Bleed (Y/N)'].astype('str'))\n",
    "\n",
    "df.head()"
   ]
  },
  {
   "cell_type": "markdown",
   "id": "17628302",
   "metadata": {},
   "source": [
    "Splitting data into independent and dependent variables, then into training and testing set, and then upsample the training sets"
   ]
  },
  {
   "cell_type": "code",
   "execution_count": 6,
   "id": "25473081",
   "metadata": {},
   "outputs": [
    {
     "data": {
      "text/plain": [
       "plt at the time of bleed    30\n",
       "hb at the time of bleed     30\n",
       "anticoagulation (Y/N)       30\n",
       "dtype: int64"
      ]
     },
     "execution_count": 6,
     "metadata": {},
     "output_type": "execute_result"
    }
   ],
   "source": [
    "#clinical_features = [\"Plt Nadir while on Ibrutinib\",\"Anemia (hb < 100) (Y/N)\",\"anticoagulation (Y/N)\"]\n",
    "clinical_features = [\"plt at the time of bleed\",\"hb at the time of bleed\",\"anticoagulation (Y/N)\"]\n",
    "#clinical_features = [\"Age at diagnosis\",'gender','PMHx bleeding risk (Y/N)',\"HR Molecular/Cytogenetics (Y/N)\",\"Prior lines of therapy\",'anti platelet (Y/N)',\"Plt Nadir while on Ibrutinib\",\"Anemia (hb < 100) (Y/N)\",\"anticoagulation (Y/N)\"]\n",
    "\n",
    "\n",
    "X = df[clinical_features]   #Independent variables \n",
    "y = df['Major Bleed (Y/N)']  #Dependent variables \n",
    "\n",
    "X_train,X_test,y_train,y_test=train_test_split(X,y,test_size=0.25,random_state=0,stratify=y) #Splitting variables into training/testing set\n",
    "\n",
    "X_Y_train = pd.concat([X_train,y_train],axis=1)\n",
    "\n",
    "def upsample_minority(df):\n",
    "    \n",
    "    df_majority = df.loc[df['Major Bleed (Y/N)'] == 0]\n",
    "    df_minority = df.loc[df['Major Bleed (Y/N)'] == 1]\n",
    "    \n",
    "    df_minority_upsampled = resample(df_minority, replace = True, n_samples=len(df_majority), random_state=123)\n",
    "    df_upsampled = pd.concat([df_majority,df_minority_upsampled])\n",
    "    \n",
    "    df = df_upsampled\n",
    "    \n",
    "    return df \n",
    "\n",
    "def smote(train_1,train_2):\n",
    "    \n",
    "    sm = SMOTE(random_state=27)\n",
    "    train_1, train_2 = sm.fit_resample(train_1, train_2)\n",
    "    \n",
    "    return train_1,train_2 \n",
    "\n",
    "#upsampling the minority directly\n",
    "X_Y_train_upsample = upsample_minority(X_Y_train)\n",
    "y_train_upsample = X_Y_train_upsample['Major Bleed (Y/N)']\n",
    "X_train_upsample = X_Y_train_upsample.drop('Major Bleed (Y/N)', axis=1)\n",
    "\n",
    "df_upsample = upsample_minority(df)\n",
    "y_upsample = df_upsample['Major Bleed (Y/N)']\n",
    "X_upsample = df_upsample.drop('Major Bleed (Y/N)', axis=1)\n",
    "\n",
    "#upsampling by generating synthetic samples (smote)\n",
    "X_train_smote, y_train_smote = smote(X_train, y_train)\n",
    "\n",
    "X_smote, y_smote = smote(X, y)\n",
    "\n",
    "# Choosing which of the 2 sets of upsampled data I'll make the model with (upsampling vs. smote). \n",
    "# Upsampling produces better results\n",
    "XX = X_train_upsample\n",
    "yy = y_train_upsample\n",
    "\n",
    "XX.count()\n",
    "\n",
    "## https://towardsdatascience.com/methods-for-dealing-with-imbalanced-data-5b761be45a18"
   ]
  },
  {
   "cell_type": "markdown",
   "id": "0116a5e3",
   "metadata": {},
   "source": [
    "Training the model with statsmodel"
   ]
  },
  {
   "cell_type": "code",
   "execution_count": 7,
   "id": "046e375e",
   "metadata": {},
   "outputs": [
    {
     "name": "stdout",
     "output_type": "stream",
     "text": [
      "Optimization terminated successfully.\n",
      "         Current function value: 0.653105\n",
      "         Iterations 5\n",
      "                           Logit Regression Results                           \n",
      "==============================================================================\n",
      "Dep. Variable:      Major Bleed (Y/N)   No. Observations:                   30\n",
      "Model:                          Logit   Df Residuals:                       26\n",
      "Method:                           MLE   Df Model:                            3\n",
      "Date:                Wed, 28 Jul 2021   Pseudo R-squ.:                 0.05777\n",
      "Time:                        23:01:46   Log-Likelihood:                -19.593\n",
      "converged:                       True   LL-Null:                       -20.794\n",
      "Covariance Type:            nonrobust   LLR p-value:                    0.4932\n",
      "============================================================================================\n",
      "                               coef    std err          z      P>|z|      [0.025      0.975]\n",
      "--------------------------------------------------------------------------------------------\n",
      "const                        1.4631      1.740      0.841      0.400      -1.947       4.874\n",
      "plt at the time of bleed    -0.0047      0.005     -0.995      0.320      -0.014       0.005\n",
      "hb at the time of bleed     -0.0043      0.015     -0.289      0.773      -0.034       0.025\n",
      "anticoagulation (Y/N)       -0.6227      0.834     -0.747      0.455      -2.257       1.012\n",
      "============================================================================================\n"
     ]
    }
   ],
   "source": [
    "logit_model_1=sm.Logit(yy,sm.add_constant(XX.astype(float)))\n",
    "\n",
    "result_1=logit_model_1.fit()\n",
    "print(result_1.summary())"
   ]
  },
  {
   "cell_type": "markdown",
   "id": "96c0f8c1",
   "metadata": {},
   "source": [
    "Converting the coefficients (log odds) into the odds"
   ]
  },
  {
   "cell_type": "code",
   "execution_count": 8,
   "id": "d032b20a",
   "metadata": {},
   "outputs": [
    {
     "data": {
      "text/plain": [
       "const                       4.319227\n",
       "plt at the time of bleed    0.995309\n",
       "hb at the time of bleed     0.995677\n",
       "anticoagulation (Y/N)       0.536505\n",
       "dtype: float64"
      ]
     },
     "execution_count": 8,
     "metadata": {},
     "output_type": "execute_result"
    }
   ],
   "source": [
    "np.exp(result_1.params) "
   ]
  },
  {
   "cell_type": "markdown",
   "id": "7b73db6f",
   "metadata": {},
   "source": [
    "Determing which independent variables are highly correlated and checking their VIF. "
   ]
  },
  {
   "cell_type": "code",
   "execution_count": 9,
   "id": "c0140473",
   "metadata": {},
   "outputs": [],
   "source": [
    "#pd.DataFrame({'variables':XX.columns[0:], 'VIF':[variance_inflation_factor(X.values, i) for i in range(len(XX.columns[0:]))]})\n",
    "\n",
    "\n"
   ]
  },
  {
   "cell_type": "markdown",
   "id": "62c3f8db",
   "metadata": {},
   "source": [
    "Dropping insignificant data"
   ]
  },
  {
   "cell_type": "code",
   "execution_count": 10,
   "id": "81c5b5ff",
   "metadata": {},
   "outputs": [],
   "source": [
    "#XX = XX.drop(['Anemia (hb < 100) (Y/N)'],axis=1)\n",
    "\n",
    "#X_test = X_test.drop(['Anemia (hb < 100) (Y/N)'],axis=1)"
   ]
  },
  {
   "cell_type": "markdown",
   "id": "5afb349e",
   "metadata": {},
   "source": [
    "Using statsmodel again to refit the model without the uncorrelated variables, then evaluating the model"
   ]
  },
  {
   "cell_type": "code",
   "execution_count": 11,
   "id": "67908244",
   "metadata": {},
   "outputs": [
    {
     "name": "stdout",
     "output_type": "stream",
     "text": [
      "Optimization terminated successfully.\n",
      "         Current function value: 0.653105\n",
      "         Iterations 5\n",
      "                           Logit Regression Results                           \n",
      "==============================================================================\n",
      "Dep. Variable:      Major Bleed (Y/N)   No. Observations:                   30\n",
      "Model:                          Logit   Df Residuals:                       26\n",
      "Method:                           MLE   Df Model:                            3\n",
      "Date:                Wed, 28 Jul 2021   Pseudo R-squ.:                 0.05777\n",
      "Time:                        23:01:46   Log-Likelihood:                -19.593\n",
      "converged:                       True   LL-Null:                       -20.794\n",
      "Covariance Type:            nonrobust   LLR p-value:                    0.4932\n",
      "============================================================================================\n",
      "                               coef    std err          z      P>|z|      [0.025      0.975]\n",
      "--------------------------------------------------------------------------------------------\n",
      "const                        1.4631      1.740      0.841      0.400      -1.947       4.874\n",
      "plt at the time of bleed    -0.0047      0.005     -0.995      0.320      -0.014       0.005\n",
      "hb at the time of bleed     -0.0043      0.015     -0.289      0.773      -0.034       0.025\n",
      "anticoagulation (Y/N)       -0.6227      0.834     -0.747      0.455      -2.257       1.012\n",
      "============================================================================================\n"
     ]
    },
    {
     "data": {
      "text/plain": [
       "array([[4, 2],\n",
       "       [2, 2]])"
      ]
     },
     "execution_count": 11,
     "metadata": {},
     "output_type": "execute_result"
    }
   ],
   "source": [
    "logit_model_2=sm.Logit(yy,sm.add_constant(XX.astype(float)))\n",
    "\n",
    "\n",
    "result_2=logit_model_2.fit()\n",
    "print(result_2.summary())\n",
    "\n",
    "ypredict = result_2.predict(sm.add_constant(X_test.astype(float)))\n",
    "prediction = list(map(round,ypredict))\n",
    "\n",
    "cnf_matrix_1 = metrics.confusion_matrix(y_test,prediction)\n",
    "cnf_matrix_1"
   ]
  },
  {
   "cell_type": "code",
   "execution_count": 12,
   "id": "f2bae6f5",
   "metadata": {},
   "outputs": [
    {
     "data": {
      "text/plain": [
       "Text(0.5, 257.44, 'Predicted label')"
      ]
     },
     "execution_count": 12,
     "metadata": {},
     "output_type": "execute_result"
    },
    {
     "data": {
      "image/png": "[encoded data removed]",
      "text/plain": [
       "<Figure size 432x288 with 2 Axes>"
      ]
     },
     "metadata": {
      "needs_background": "light"
     },
     "output_type": "display_data"
    }
   ],
   "source": [
    "#Visualizing accuracy with heatmap \n",
    "%matplotlib inline\n",
    "\n",
    "class_names=[0,1] # name  of classes\n",
    "fig, ax = plt.subplots()\n",
    "tick_marks = np.arange(len(class_names))\n",
    "plt.xticks(tick_marks, class_names)\n",
    "plt.yticks(tick_marks, class_names)\n",
    "# create heatmap\n",
    "sns.heatmap(pd.DataFrame(cnf_matrix_1), annot=True, cmap=\"YlGnBu\" ,fmt='g')\n",
    "ax.xaxis.set_label_position(\"top\")\n",
    "plt.tight_layout()\n",
    "plt.title('Confusion matrix', y=1.1)\n",
    "plt.ylabel('Actual label')\n",
    "plt.xlabel('Predicted label')"
   ]
  },
  {
   "cell_type": "code",
   "execution_count": 13,
   "id": "a0ab5a4b",
   "metadata": {},
   "outputs": [
    {
     "name": "stdout",
     "output_type": "stream",
     "text": [
      "Accuracy: 0.6\n",
      "Precision: 0.5\n",
      "Recall: 0.5\n"
     ]
    }
   ],
   "source": [
    "print(\"Accuracy:\",metrics.accuracy_score(y_test, prediction))\n",
    "print(\"Precision:\",metrics.precision_score(y_test, prediction))\n",
    "print(\"Recall:\",metrics.recall_score(y_test, prediction))"
   ]
  },
  {
   "cell_type": "code",
   "execution_count": 14,
   "id": "5d63499f",
   "metadata": {},
   "outputs": [
    {
     "data": {
      "image/png": "[encoded data removed]",
      "text/plain": [
       "<Figure size 432x288 with 1 Axes>"
      ]
     },
     "metadata": {
      "needs_background": "light"
     },
     "output_type": "display_data"
    }
   ],
   "source": [
    "#ROC Curve\n",
    "fpr, tpr, _ = metrics.roc_curve(y_test,  ypredict)\n",
    "auc = metrics.roc_auc_score(y_test, ypredict)\n",
    "plt.plot(fpr,tpr,label=\"data 1, auc=\"+str(auc))\n",
    "plt.legend(loc=4)\n",
    "plt.show()"
   ]
  },
  {
   "cell_type": "markdown",
   "id": "5dc2de0a",
   "metadata": {},
   "source": [
    "Training the model with LogisticRegression"
   ]
  },
  {
   "cell_type": "code",
   "execution_count": 15,
   "id": "651b8ed1",
   "metadata": {},
   "outputs": [],
   "source": [
    "# instantiate the model (using the default parameters) (using LogisticRegression)\n",
    "logreg = LogisticRegression(max_iter=200)\n",
    "\n",
    "# fit the model with data\n",
    "logreg.fit(XX,yy)\n",
    "\n",
    "#\n",
    "y_pred=logreg.predict(X_test)\n",
    "#y_pred"
   ]
  },
  {
   "cell_type": "markdown",
   "id": "6926f45e",
   "metadata": {},
   "source": [
    "Model evaluation"
   ]
  },
  {
   "cell_type": "code",
   "execution_count": 16,
   "id": "2a45b9d5",
   "metadata": {},
   "outputs": [
    {
     "data": {
      "text/plain": [
       "array([[4, 2],\n",
       "       [1, 3]])"
      ]
     },
     "execution_count": 16,
     "metadata": {},
     "output_type": "execute_result"
    }
   ],
   "source": [
    "cnf_matrix_2 = metrics.confusion_matrix(y_test, y_pred)\n",
    "cnf_matrix_2   # Viewing accuracy of model "
   ]
  },
  {
   "cell_type": "code",
   "execution_count": 17,
   "id": "9beb0dae",
   "metadata": {},
   "outputs": [
    {
     "data": {
      "text/plain": [
       "Text(0.5, 257.44, 'Predicted label')"
      ]
     },
     "execution_count": 17,
     "metadata": {},
     "output_type": "execute_result"
    },
    {
     "data": {
      "image/png": "[encoded data removed]",
      "text/plain": [
       "<Figure size 432x288 with 2 Axes>"
      ]
     },
     "metadata": {
      "needs_background": "light"
     },
     "output_type": "display_data"
    }
   ],
   "source": [
    "#Visualizing accuracy with heatmap \n",
    "%matplotlib inline\n",
    "\n",
    "class_names=[0,1] # name  of classes\n",
    "fig, ax = plt.subplots()\n",
    "tick_marks = np.arange(len(class_names))\n",
    "plt.xticks(tick_marks, class_names)\n",
    "plt.yticks(tick_marks, class_names)\n",
    "# create heatmap\n",
    "sns.heatmap(pd.DataFrame(cnf_matrix_2), annot=True, cmap=\"YlGnBu\" ,fmt='g')\n",
    "ax.xaxis.set_label_position(\"top\")\n",
    "plt.tight_layout()\n",
    "plt.title('Confusion matrix', y=1.1)\n",
    "plt.ylabel('Actual label')\n",
    "plt.xlabel('Predicted label')"
   ]
  },
  {
   "cell_type": "code",
   "execution_count": 18,
   "id": "7654c111",
   "metadata": {},
   "outputs": [
    {
     "name": "stdout",
     "output_type": "stream",
     "text": [
      "Accuracy: 0.7\n",
      "Precision: 0.6\n",
      "Recall: 0.75\n"
     ]
    }
   ],
   "source": [
    "print(\"Accuracy:\",metrics.accuracy_score(y_test, y_pred))\n",
    "print(\"Precision:\",metrics.precision_score(y_test, y_pred))\n",
    "print(\"Recall:\",metrics.recall_score(y_test, y_pred))"
   ]
  },
  {
   "cell_type": "code",
   "execution_count": 19,
   "id": "f3ef5639",
   "metadata": {},
   "outputs": [
    {
     "data": {
      "image/png": "[encoded data removed]",
      "text/plain": [
       "<Figure size 432x288 with 1 Axes>"
      ]
     },
     "metadata": {
      "needs_background": "light"
     },
     "output_type": "display_data"
    }
   ],
   "source": [
    "#ROC Curve\n",
    "y_pred_proba = logreg.predict_proba(X_test)[::,1]\n",
    "fpr, tpr, _ = metrics.roc_curve(y_test,  y_pred_proba)\n",
    "auc = metrics.roc_auc_score(y_test, y_pred_proba)\n",
    "plt.plot(fpr,tpr,label=\"data 1, auc=\"+str(auc))\n",
    "plt.legend(loc=4)\n",
    "plt.show()"
   ]
  },
  {
   "cell_type": "code",
   "execution_count": null,
   "id": "8ef2a526",
   "metadata": {},
   "outputs": [],
   "source": []
  }
 ],
 "metadata": {
  "kernelspec": {
   "display_name": "Python 3",
   "language": "python",
   "name": "python3"
  },
  "language_info": {
   "codemirror_mode": {
    "name": "ipython",
    "version": 3
   },
   "file_extension": ".py",
   "mimetype": "text/x-python",
   "name": "python",
   "nbconvert_exporter": "python",
   "pygments_lexer": "ipython3",
   "version": "3.8.8"
  }
 },
 "nbformat": 4,
 "nbformat_minor": 5
}
