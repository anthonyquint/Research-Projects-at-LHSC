{
 "cells": [
  {
   "cell_type": "markdown",
   "id": "c41cfc2f",
   "metadata": {},
   "source": [
    "Applying a multinomial logistic regression model to the ternary outcome of major, minor, none bleeding"
   ]
  },
  {
   "cell_type": "markdown",
   "id": "f45d4838",
   "metadata": {},
   "source": [
    "Import necessary libraries "
   ]
  },
  {
   "cell_type": "code",
   "execution_count": 1,
   "id": "73f00924",
   "metadata": {},
   "outputs": [
    {
     "name": "stdout",
     "output_type": "stream",
     "text": [
      "complete\n"
     ]
    }
   ],
   "source": [
    "import pandas as pd\n",
    "from sklearn.preprocessing import LabelEncoder\n",
    "from sklearn.model_selection import train_test_split\n",
    "import statsmodels.api as sm\n",
    "from sklearn.linear_model import LogisticRegression\n",
    "from sklearn import metrics\n",
    "import numpy as np\n",
    "import matplotlib.pyplot as plt\n",
    "import seaborn as sns\n",
    "from sklearn.utils import resample\n",
    "import imblearn\n",
    "from imblearn.over_sampling import SMOTE\n",
    "from sklearn.metrics import confusion_matrix\n",
    "from sklearn.metrics import classification_report\n",
    "\n",
    "print(\"complete\")"
   ]
  },
  {
   "cell_type": "markdown",
   "id": "980ce6cf",
   "metadata": {},
   "source": [
    "Read dataset"
   ]
  },
  {
   "cell_type": "code",
   "execution_count": 2,
   "id": "3e13d824",
   "metadata": {},
   "outputs": [
    {
     "data": {
      "text/html": [
       "<div>\n",
       "<style scoped>\n",
       "    .dataframe tbody tr th:only-of-type {\n",
       "        vertical-align: middle;\n",
       "    }\n",
       "\n",
       "    .dataframe tbody tr th {\n",
       "        vertical-align: top;\n",
       "    }\n",
       "\n",
       "    .dataframe thead th {\n",
       "        text-align: right;\n",
       "    }\n",
       "</style>\n",
       "<table border=\"1\" class=\"dataframe\">\n",
       "  <thead>\n",
       "    <tr style=\"text-align: right;\">\n",
       "      <th></th>\n",
       "      <th>Age at diagnosis</th>\n",
       "      <th>gender</th>\n",
       "      <th>Diagnosis year</th>\n",
       "      <th>Plt at diagnosis</th>\n",
       "      <th>plt at start of ibrutinib</th>\n",
       "      <th>plt at the time of bleed</th>\n",
       "      <th>Plt Nadir while on Ibrutinib</th>\n",
       "      <th>Platelets &lt; 50 (Y/N)</th>\n",
       "      <th>hb at diognosis</th>\n",
       "      <th>hb at start of Ibrutinib</th>\n",
       "      <th>...</th>\n",
       "      <th>action?</th>\n",
       "      <th>post op bleed? /action</th>\n",
       "      <th>INR</th>\n",
       "      <th>past medical history</th>\n",
       "      <th>PMHx bleeding risk (Y/N)</th>\n",
       "      <th>Ibrutinib Dose</th>\n",
       "      <th>Comments</th>\n",
       "      <th>other ibrutinib SE</th>\n",
       "      <th>Unnamed: 58</th>\n",
       "      <th>Unnamed: 59</th>\n",
       "    </tr>\n",
       "  </thead>\n",
       "  <tbody>\n",
       "    <tr>\n",
       "      <th>0</th>\n",
       "      <td>48</td>\n",
       "      <td>f</td>\n",
       "      <td>2006</td>\n",
       "      <td>260</td>\n",
       "      <td>15</td>\n",
       "      <td>NaN</td>\n",
       "      <td>15</td>\n",
       "      <td>Y</td>\n",
       "      <td>130</td>\n",
       "      <td>71</td>\n",
       "      <td>...</td>\n",
       "      <td>NaN</td>\n",
       "      <td>NaN</td>\n",
       "      <td>NaN</td>\n",
       "      <td>deppression, schwanoma of leg</td>\n",
       "      <td>Y</td>\n",
       "      <td>420mg,</td>\n",
       "      <td>ITP at the time of starting ibrutinib</td>\n",
       "      <td>NaN</td>\n",
       "      <td>NaN</td>\n",
       "      <td>NaN</td>\n",
       "    </tr>\n",
       "    <tr>\n",
       "      <th>1</th>\n",
       "      <td>66</td>\n",
       "      <td>m</td>\n",
       "      <td>2017</td>\n",
       "      <td>175</td>\n",
       "      <td>83</td>\n",
       "      <td>155</td>\n",
       "      <td>93</td>\n",
       "      <td>N</td>\n",
       "      <td>145</td>\n",
       "      <td>93</td>\n",
       "      <td>...</td>\n",
       "      <td>NaN</td>\n",
       "      <td>NaN</td>\n",
       "      <td>NaN</td>\n",
       "      <td>cryoglobinemia,MGUS,CAD,HTN,COPD</td>\n",
       "      <td>N</td>\n",
       "      <td>420mg</td>\n",
       "      <td>NaN</td>\n",
       "      <td>NaN</td>\n",
       "      <td>NaN</td>\n",
       "      <td>NaN</td>\n",
       "    </tr>\n",
       "    <tr>\n",
       "      <th>2</th>\n",
       "      <td>74</td>\n",
       "      <td>F</td>\n",
       "      <td>2016</td>\n",
       "      <td>189</td>\n",
       "      <td>200</td>\n",
       "      <td>NaN</td>\n",
       "      <td>189</td>\n",
       "      <td>N</td>\n",
       "      <td>116</td>\n",
       "      <td>87</td>\n",
       "      <td>...</td>\n",
       "      <td>NaN</td>\n",
       "      <td>NaN</td>\n",
       "      <td>NaN</td>\n",
       "      <td>dm2,htn,</td>\n",
       "      <td>N</td>\n",
       "      <td>420mg,</td>\n",
       "      <td>reaction to first obino so switched to ibrutin...</td>\n",
       "      <td>NaN</td>\n",
       "      <td>NaN</td>\n",
       "      <td>NaN</td>\n",
       "    </tr>\n",
       "    <tr>\n",
       "      <th>3</th>\n",
       "      <td>53</td>\n",
       "      <td>F</td>\n",
       "      <td>2002</td>\n",
       "      <td>237</td>\n",
       "      <td>67</td>\n",
       "      <td>NaN</td>\n",
       "      <td>40</td>\n",
       "      <td>Y</td>\n",
       "      <td>135</td>\n",
       "      <td>118</td>\n",
       "      <td>...</td>\n",
       "      <td>NaN</td>\n",
       "      <td>NaN</td>\n",
       "      <td>NaN</td>\n",
       "      <td>HTN,B12 def,IDA</td>\n",
       "      <td>N</td>\n",
       "      <td>420mg</td>\n",
       "      <td>WAIHA</td>\n",
       "      <td>easy bruising</td>\n",
       "      <td>NaN</td>\n",
       "      <td>NaN</td>\n",
       "    </tr>\n",
       "    <tr>\n",
       "      <th>4</th>\n",
       "      <td>60</td>\n",
       "      <td>m</td>\n",
       "      <td>1999</td>\n",
       "      <td>198</td>\n",
       "      <td>85</td>\n",
       "      <td>70</td>\n",
       "      <td>49</td>\n",
       "      <td>Y</td>\n",
       "      <td>154</td>\n",
       "      <td>104</td>\n",
       "      <td>...</td>\n",
       "      <td>died</td>\n",
       "      <td>NaN</td>\n",
       "      <td>1.1</td>\n",
       "      <td>prostitis,mycosis,chronc sinusitis</td>\n",
       "      <td>N</td>\n",
       "      <td>ibrutinib dose reduced to 140 in oct 2015 for ...</td>\n",
       "      <td>cutaneous  oral mucosal involvement w CLL, als...</td>\n",
       "      <td>NaN</td>\n",
       "      <td>NaN</td>\n",
       "      <td>NaN</td>\n",
       "    </tr>\n",
       "  </tbody>\n",
       "</table>\n",
       "<p>5 rows × 60 columns</p>\n",
       "</div>"
      ],
      "text/plain": [
       "  Age at diagnosis gender Diagnosis year Plt at diagnosis  \\\n",
       "0               48      f           2006              260   \n",
       "1               66      m           2017              175   \n",
       "2               74      F           2016              189   \n",
       "3               53      F           2002              237   \n",
       "4               60      m           1999              198   \n",
       "\n",
       "  plt at start of ibrutinib plt at the time of bleed  \\\n",
       "0                        15                      NaN   \n",
       "1                        83                      155   \n",
       "2                       200                      NaN   \n",
       "3                        67                      NaN   \n",
       "4                        85                       70   \n",
       "\n",
       "   Plt Nadir while on Ibrutinib Platelets < 50 (Y/N) hb at diognosis  \\\n",
       "0                            15                    Y             130   \n",
       "1                            93                    N             145   \n",
       "2                           189                    N             116   \n",
       "3                            40                    Y             135   \n",
       "4                            49                    Y             154   \n",
       "\n",
       "  hb at start of Ibrutinib  ... action? post op bleed? /action  INR  \\\n",
       "0                       71  ...     NaN                    NaN  NaN   \n",
       "1                       93  ...     NaN                    NaN  NaN   \n",
       "2                       87  ...     NaN                    NaN  NaN   \n",
       "3                      118  ...     NaN                    NaN  NaN   \n",
       "4                      104  ...    died                    NaN  1.1   \n",
       "\n",
       "                 past medical history PMHx bleeding risk (Y/N)  \\\n",
       "0       deppression, schwanoma of leg                        Y   \n",
       "1    cryoglobinemia,MGUS,CAD,HTN,COPD                        N   \n",
       "2                            dm2,htn,                        N   \n",
       "3                     HTN,B12 def,IDA                        N   \n",
       "4  prostitis,mycosis,chronc sinusitis                        N   \n",
       "\n",
       "                                      Ibrutinib Dose  \\\n",
       "0                                             420mg,   \n",
       "1                                              420mg   \n",
       "2                                             420mg,   \n",
       "3                                              420mg   \n",
       "4  ibrutinib dose reduced to 140 in oct 2015 for ...   \n",
       "\n",
       "                                            Comments other ibrutinib SE  \\\n",
       "0              ITP at the time of starting ibrutinib                NaN   \n",
       "1                                                NaN                NaN   \n",
       "2  reaction to first obino so switched to ibrutin...                NaN   \n",
       "3                                              WAIHA      easy bruising   \n",
       "4  cutaneous  oral mucosal involvement w CLL, als...                NaN   \n",
       "\n",
       "   Unnamed: 58  Unnamed: 59  \n",
       "0          NaN          NaN  \n",
       "1          NaN          NaN  \n",
       "2          NaN          NaN  \n",
       "3          NaN          NaN  \n",
       "4          NaN          NaN  \n",
       "\n",
       "[5 rows x 60 columns]"
      ]
     },
     "execution_count": 2,
     "metadata": {},
     "output_type": "execute_result"
    }
   ],
   "source": [
    "df = pd.read_csv(\"/Users/anthonyquint/Desktop/LHSC_Work_Folder/Mina/Bleeding_study/Ibrutinib Data Set, July 13,2021, de-identified data.csv\")\n",
    "df.head()"
   ]
  },
  {
   "cell_type": "markdown",
   "id": "044ee3b3",
   "metadata": {},
   "source": [
    "Cleaning the dataset"
   ]
  },
  {
   "cell_type": "code",
   "execution_count": 3,
   "id": "2af5495e",
   "metadata": {},
   "outputs": [
    {
     "data": {
      "text/html": [
       "<div>\n",
       "<style scoped>\n",
       "    .dataframe tbody tr th:only-of-type {\n",
       "        vertical-align: middle;\n",
       "    }\n",
       "\n",
       "    .dataframe tbody tr th {\n",
       "        vertical-align: top;\n",
       "    }\n",
       "\n",
       "    .dataframe thead th {\n",
       "        text-align: right;\n",
       "    }\n",
       "</style>\n",
       "<table border=\"1\" class=\"dataframe\">\n",
       "  <thead>\n",
       "    <tr style=\"text-align: right;\">\n",
       "      <th></th>\n",
       "      <th>Plt Nadir while on Ibrutinib</th>\n",
       "      <th>Anemia (hb &lt; 100) (Y/N)</th>\n",
       "      <th>anticoagulation (Y/N)</th>\n",
       "      <th>Major Bleed (Y/N)</th>\n",
       "    </tr>\n",
       "  </thead>\n",
       "  <tbody>\n",
       "    <tr>\n",
       "      <th>0</th>\n",
       "      <td>15</td>\n",
       "      <td>Y</td>\n",
       "      <td>N</td>\n",
       "      <td>M</td>\n",
       "    </tr>\n",
       "    <tr>\n",
       "      <th>1</th>\n",
       "      <td>93</td>\n",
       "      <td>Y</td>\n",
       "      <td>N</td>\n",
       "      <td>N</td>\n",
       "    </tr>\n",
       "    <tr>\n",
       "      <th>2</th>\n",
       "      <td>189</td>\n",
       "      <td>Y</td>\n",
       "      <td>N</td>\n",
       "      <td>M</td>\n",
       "    </tr>\n",
       "    <tr>\n",
       "      <th>3</th>\n",
       "      <td>40</td>\n",
       "      <td>N</td>\n",
       "      <td>N</td>\n",
       "      <td>M</td>\n",
       "    </tr>\n",
       "    <tr>\n",
       "      <th>4</th>\n",
       "      <td>49</td>\n",
       "      <td>N</td>\n",
       "      <td>N</td>\n",
       "      <td>Y</td>\n",
       "    </tr>\n",
       "  </tbody>\n",
       "</table>\n",
       "</div>"
      ],
      "text/plain": [
       "   Plt Nadir while on Ibrutinib Anemia (hb < 100) (Y/N) anticoagulation (Y/N)  \\\n",
       "0                            15                       Y                     N   \n",
       "1                            93                       Y                     N   \n",
       "2                           189                       Y                     N   \n",
       "3                            40                       N                     N   \n",
       "4                            49                       N                     N   \n",
       "\n",
       "  Major Bleed (Y/N)  \n",
       "0                 M  \n",
       "1                 N  \n",
       "2                 M  \n",
       "3                 M  \n",
       "4                 Y  "
      ]
     },
     "execution_count": 3,
     "metadata": {},
     "output_type": "execute_result"
    }
   ],
   "source": [
    "##Removing all columns except the columns corresponding to our relevant \n",
    "##independent variables (indicated at top of notebook) and dependent variable (Major Bleed (Y/N))\n",
    "\n",
    "df = df[[\"Plt Nadir while on Ibrutinib\",\"Anemia (hb < 100) (Y/N)\",\"anticoagulation (Y/N)\",\"Major Bleed (Y/N)\"]]\n",
    "\n",
    "#changing NaN values in \"Major Bleed (Y/N)\" to M. I.e. Y = major bleed, N = minor bleed, M = no bleed \n",
    "df['Major Bleed (Y/N)'].fillna('M', inplace=True)\n",
    "\n",
    "# Delete index 112 since it has a question mark for age \n",
    "#df = df.drop(labels=112, axis=0)\n",
    "\n",
    "df.head()"
   ]
  },
  {
   "cell_type": "markdown",
   "id": "4e681691",
   "metadata": {},
   "source": [
    "Counting number of people who had major vs. minor vs. no bleed"
   ]
  },
  {
   "cell_type": "code",
   "execution_count": 4,
   "id": "61a01929",
   "metadata": {},
   "outputs": [
    {
     "data": {
      "text/plain": [
       "M    128\n",
       "N     25\n",
       "Y     17\n",
       "Name: Major Bleed (Y/N), dtype: int64"
      ]
     },
     "execution_count": 4,
     "metadata": {},
     "output_type": "execute_result"
    }
   ],
   "source": [
    "df['Major Bleed (Y/N)'].value_counts(dropna=False) "
   ]
  },
  {
   "cell_type": "markdown",
   "id": "6cc6f4e9",
   "metadata": {},
   "source": [
    "Converting categorical data into numerical representation"
   ]
  },
  {
   "cell_type": "code",
   "execution_count": 5,
   "id": "c4d1238c",
   "metadata": {},
   "outputs": [
    {
     "data": {
      "text/html": [
       "<div>\n",
       "<style scoped>\n",
       "    .dataframe tbody tr th:only-of-type {\n",
       "        vertical-align: middle;\n",
       "    }\n",
       "\n",
       "    .dataframe tbody tr th {\n",
       "        vertical-align: top;\n",
       "    }\n",
       "\n",
       "    .dataframe thead th {\n",
       "        text-align: right;\n",
       "    }\n",
       "</style>\n",
       "<table border=\"1\" class=\"dataframe\">\n",
       "  <thead>\n",
       "    <tr style=\"text-align: right;\">\n",
       "      <th></th>\n",
       "      <th>Plt Nadir while on Ibrutinib</th>\n",
       "      <th>Anemia (hb &lt; 100) (Y/N)</th>\n",
       "      <th>anticoagulation (Y/N)</th>\n",
       "      <th>Major Bleed (Y/N)</th>\n",
       "    </tr>\n",
       "  </thead>\n",
       "  <tbody>\n",
       "    <tr>\n",
       "      <th>0</th>\n",
       "      <td>15</td>\n",
       "      <td>1</td>\n",
       "      <td>0</td>\n",
       "      <td>0</td>\n",
       "    </tr>\n",
       "    <tr>\n",
       "      <th>1</th>\n",
       "      <td>93</td>\n",
       "      <td>1</td>\n",
       "      <td>0</td>\n",
       "      <td>1</td>\n",
       "    </tr>\n",
       "    <tr>\n",
       "      <th>2</th>\n",
       "      <td>189</td>\n",
       "      <td>1</td>\n",
       "      <td>0</td>\n",
       "      <td>0</td>\n",
       "    </tr>\n",
       "    <tr>\n",
       "      <th>3</th>\n",
       "      <td>40</td>\n",
       "      <td>0</td>\n",
       "      <td>0</td>\n",
       "      <td>0</td>\n",
       "    </tr>\n",
       "    <tr>\n",
       "      <th>4</th>\n",
       "      <td>49</td>\n",
       "      <td>0</td>\n",
       "      <td>0</td>\n",
       "      <td>2</td>\n",
       "    </tr>\n",
       "  </tbody>\n",
       "</table>\n",
       "</div>"
      ],
      "text/plain": [
       "   Plt Nadir while on Ibrutinib  Anemia (hb < 100) (Y/N)  \\\n",
       "0                            15                        1   \n",
       "1                            93                        1   \n",
       "2                           189                        1   \n",
       "3                            40                        0   \n",
       "4                            49                        0   \n",
       "\n",
       "   anticoagulation (Y/N)  Major Bleed (Y/N)  \n",
       "0                      0                  0  \n",
       "1                      0                  1  \n",
       "2                      0                  0  \n",
       "3                      0                  0  \n",
       "4                      0                  2  "
      ]
     },
     "execution_count": 5,
     "metadata": {},
     "output_type": "execute_result"
    }
   ],
   "source": [
    "number = LabelEncoder()\n",
    "\n",
    "df['Anemia (hb < 100) (Y/N)'] = number.fit_transform(df['Anemia (hb < 100) (Y/N)'].astype('str'))\n",
    "df['anticoagulation (Y/N)'] = number.fit_transform(df['anticoagulation (Y/N)'].astype('str'))\n",
    "df['Major Bleed (Y/N)'] = number.fit_transform(df['Major Bleed (Y/N)'].astype('str'))\n",
    "\n",
    "df.head()"
   ]
  },
  {
   "cell_type": "markdown",
   "id": "08910da0",
   "metadata": {},
   "source": [
    "Splitting data into independent and dependent variables, then into training and testing set, (and then upsample the training sets?)"
   ]
  },
  {
   "cell_type": "code",
   "execution_count": 6,
   "id": "c69f1e15",
   "metadata": {},
   "outputs": [],
   "source": [
    "clinical_features = [\"Plt Nadir while on Ibrutinib\",\"Anemia (hb < 100) (Y/N)\",\"anticoagulation (Y/N)\"]\n",
    "\n",
    "X = df[clinical_features]   #Independent variables \n",
    "y = df['Major Bleed (Y/N)']  #Dependent variables \n",
    "\n",
    "X_train,X_test,y_train,y_test=train_test_split(X,y,test_size=0.25,random_state=0,stratify=y) #Splitting variables into training/testing set\n",
    "\n",
    "#########\n",
    "\n",
    "X_Y_train = pd.concat([X_train,y_train],axis=1)\n",
    "\n",
    "def upsample_minority(df):\n",
    "    \n",
    "    df_majority = df.loc[df['Major Bleed (Y/N)'] == 0]\n",
    "    df_minority_1 = df.loc[df['Major Bleed (Y/N)'] == 1]\n",
    "    df_minority_2 = df.loc[df['Major Bleed (Y/N)'] == 2]\n",
    "    \n",
    "    df_minority_1_upsampled = resample(df_minority_1, replace = True, n_samples=len(df_majority), random_state=123)\n",
    "    df_minority_2_upsampled = resample(df_minority_2, replace = True, n_samples=len(df_majority), random_state=123)\n",
    "    \n",
    "    df_upsampled = pd.concat([df_majority,df_minority_1_upsampled,df_minority_2_upsampled])\n",
    "    \n",
    "    df = df_upsampled\n",
    "    \n",
    "    return df \n",
    "\n",
    "def smote(train_1,train_2):\n",
    "    \n",
    "    sm = SMOTE(random_state=27)\n",
    "    train_1, train_2 = sm.fit_resample(train_1, train_2)\n",
    "    \n",
    "    return train_1,train_2 \n",
    "\n",
    "#upsampling the minority directly\n",
    "X_Y_train_upsample = upsample_minority(X_Y_train)\n",
    "y_train_upsample = X_Y_train_upsample['Major Bleed (Y/N)']\n",
    "X_train_upsample = X_Y_train_upsample.drop('Major Bleed (Y/N)', axis=1)\n",
    "\n",
    "df_upsample = upsample_minority(df)\n",
    "y_upsample = df_upsample['Major Bleed (Y/N)']\n",
    "X_upsample = df_upsample.drop('Major Bleed (Y/N)', axis=1)\n",
    "\n",
    "#upsampling by generating synthetic samples (smote)\n",
    "X_train_smote, y_train_smote = smote(X_train, y_train)\n",
    "\n",
    "X_smote, y_smote = smote(X, y)\n",
    "\n",
    "# Choosing which of the 2 sets of upsampled data I'll make the model with (upsampling vs. smote). \n",
    "# Upsampling produces better results\n",
    "XX = X_train_upsample\n",
    "yy = y_train_upsample\n",
    "\n",
    "#X_Y_train_upsample['Major Bleed (Y/N)'].value_counts(dropna=False)\n",
    "\n",
    "\n",
    "## https://towardsdatascience.com/methods-for-dealing-with-imbalanced-data-5b761be45a18"
   ]
  },
  {
   "cell_type": "markdown",
   "id": "efef0f96",
   "metadata": {},
   "source": [
    "Removing uncorrelated independent variables (variables that are uncorrelated for both Major bleed: 1 and 2)"
   ]
  },
  {
   "cell_type": "code",
   "execution_count": null,
   "id": "fd60a9ec",
   "metadata": {},
   "outputs": [],
   "source": []
  },
  {
   "cell_type": "markdown",
   "id": "e428f436",
   "metadata": {},
   "source": [
    "Using statsmodel to assess coefficients "
   ]
  },
  {
   "cell_type": "code",
   "execution_count": 7,
   "id": "53e2c21c",
   "metadata": {},
   "outputs": [
    {
     "name": "stdout",
     "output_type": "stream",
     "text": [
      "Optimization terminated successfully.\n",
      "         Current function value: 0.920290\n",
      "         Iterations 6\n",
      "                          MNLogit Regression Results                          \n",
      "==============================================================================\n",
      "Dep. Variable:      Major Bleed (Y/N)   No. Observations:                  285\n",
      "Model:                        MNLogit   Df Residuals:                      277\n",
      "Method:                           MLE   Df Model:                            6\n",
      "Date:                Wed, 28 Jul 2021   Pseudo R-squ.:                  0.1623\n",
      "Time:                        22:55:02   Log-Likelihood:                -262.28\n",
      "converged:                       True   LL-Null:                       -313.10\n",
      "Covariance Type:            nonrobust   LLR p-value:                 1.139e-19\n",
      "================================================================================================\n",
      "         Major Bleed (Y/N)=1       coef    std err          z      P>|z|      [0.025      0.975]\n",
      "------------------------------------------------------------------------------------------------\n",
      "const                           -1.9312      0.440     -4.394      0.000      -2.793      -1.070\n",
      "Plt Nadir while on Ibrutinib     0.0095      0.003      2.947      0.003       0.003       0.016\n",
      "Anemia (hb < 100) (Y/N)          1.1847      0.329      3.605      0.000       0.541       1.829\n",
      "anticoagulation (Y/N)            1.4500      0.425      3.414      0.001       0.618       2.282\n",
      "------------------------------------------------------------------------------------------------\n",
      "         Major Bleed (Y/N)=2       coef    std err          z      P>|z|      [0.025      0.975]\n",
      "------------------------------------------------------------------------------------------------\n",
      "const                            0.7878      0.428      1.843      0.065      -0.050       1.626\n",
      "Plt Nadir while on Ibrutinib    -0.0212      0.004     -4.793      0.000      -0.030      -0.013\n",
      "Anemia (hb < 100) (Y/N)          0.8152      0.337      2.417      0.016       0.154       1.476\n",
      "anticoagulation (Y/N)            1.9527      0.464      4.208      0.000       1.043       2.862\n",
      "================================================================================================\n"
     ]
    }
   ],
   "source": [
    "logit_model=sm.MNLogit(yy,sm.add_constant(XX.astype(float)))\n",
    "result=logit_model.fit()\n",
    "stats1=result.summary()\n",
    "print(stats1)"
   ]
  },
  {
   "cell_type": "markdown",
   "id": "e65f1abe",
   "metadata": {},
   "source": [
    "Implementing the model with LogisticRegression"
   ]
  },
  {
   "cell_type": "code",
   "execution_count": 8,
   "id": "0a993914",
   "metadata": {},
   "outputs": [],
   "source": [
    "logreg = LogisticRegression(random_state=0, multi_class='multinomial', penalty='none', solver='newton-cg')\n",
    "model1 = logreg.fit(XX, yy)\n",
    "preds = model1.predict(X_test)"
   ]
  },
  {
   "cell_type": "markdown",
   "id": "7ca66a47",
   "metadata": {},
   "source": [
    "Assessing the model"
   ]
  },
  {
   "cell_type": "code",
   "execution_count": 9,
   "id": "9e98713f",
   "metadata": {},
   "outputs": [
    {
     "data": {
      "text/html": [
       "<div>\n",
       "<style scoped>\n",
       "    .dataframe tbody tr th:only-of-type {\n",
       "        vertical-align: middle;\n",
       "    }\n",
       "\n",
       "    .dataframe tbody tr th {\n",
       "        vertical-align: top;\n",
       "    }\n",
       "\n",
       "    .dataframe thead th {\n",
       "        text-align: right;\n",
       "    }\n",
       "</style>\n",
       "<table border=\"1\" class=\"dataframe\">\n",
       "  <thead>\n",
       "    <tr style=\"text-align: right;\">\n",
       "      <th></th>\n",
       "      <th>predicted_None</th>\n",
       "      <th>predicted_Minor</th>\n",
       "      <th>predicted_Major</th>\n",
       "    </tr>\n",
       "  </thead>\n",
       "  <tbody>\n",
       "    <tr>\n",
       "      <th>None</th>\n",
       "      <td>17</td>\n",
       "      <td>5</td>\n",
       "      <td>11</td>\n",
       "    </tr>\n",
       "    <tr>\n",
       "      <th>Minor</th>\n",
       "      <td>0</td>\n",
       "      <td>2</td>\n",
       "      <td>4</td>\n",
       "    </tr>\n",
       "    <tr>\n",
       "      <th>Major</th>\n",
       "      <td>1</td>\n",
       "      <td>2</td>\n",
       "      <td>1</td>\n",
       "    </tr>\n",
       "  </tbody>\n",
       "</table>\n",
       "</div>"
      ],
      "text/plain": [
       "       predicted_None  predicted_Minor  predicted_Major\n",
       "None               17                5               11\n",
       "Minor               0                2                4\n",
       "Major               1                2                1"
      ]
     },
     "execution_count": 9,
     "metadata": {},
     "output_type": "execute_result"
    }
   ],
   "source": [
    "confmtrx = np.array(confusion_matrix(y_test, preds))\n",
    "pd.DataFrame(confmtrx, index=['None','Minor', 'Major'],\n",
    "columns=['predicted_None', 'predicted_Minor', 'predicted_Major'])"
   ]
  },
  {
   "cell_type": "markdown",
   "id": "b825092f",
   "metadata": {},
   "source": [
    "Accuracy score"
   ]
  },
  {
   "cell_type": "code",
   "execution_count": 10,
   "id": "8bbc2cf5",
   "metadata": {},
   "outputs": [
    {
     "name": "stdout",
     "output_type": "stream",
     "text": [
      "Accuracy Score: 0.46511627906976744\n"
     ]
    }
   ],
   "source": [
    "print('Accuracy Score:', metrics.accuracy_score(y_test, preds))"
   ]
  },
  {
   "cell_type": "markdown",
   "id": "b5e2d120",
   "metadata": {},
   "source": [
    "Classification report"
   ]
  },
  {
   "cell_type": "code",
   "execution_count": 11,
   "id": "232691d0",
   "metadata": {},
   "outputs": [
    {
     "name": "stdout",
     "output_type": "stream",
     "text": [
      "              precision    recall  f1-score   support\n",
      "\n",
      "           0       0.94      0.52      0.67        33\n",
      "           1       0.22      0.33      0.27         6\n",
      "           2       0.06      0.25      0.10         4\n",
      "\n",
      "    accuracy                           0.47        43\n",
      "   macro avg       0.41      0.37      0.34        43\n",
      "weighted avg       0.76      0.47      0.56        43\n",
      "\n"
     ]
    }
   ],
   "source": [
    "class_report=classification_report(y_test, preds)\n",
    "print(class_report)"
   ]
  }
 ],
 "metadata": {
  "kernelspec": {
   "display_name": "Python 3",
   "language": "python",
   "name": "python3"
  },
  "language_info": {
   "codemirror_mode": {
    "name": "ipython",
    "version": 3
   },
   "file_extension": ".py",
   "mimetype": "text/x-python",
   "name": "python",
   "nbconvert_exporter": "python",
   "pygments_lexer": "ipython3",
   "version": "3.8.8"
  }
 },
 "nbformat": 4,
 "nbformat_minor": 5
}
