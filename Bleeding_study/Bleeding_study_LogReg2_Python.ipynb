{
 "cells": [
  {
   "cell_type": "markdown",
   "id": "10917ec9",
   "metadata": {},
   "source": [
    "To analyze the effect of the independent variables on the outcome/dependent variable (bleeding) wholistically, must perform a multivariate analysis. A logistic regression model is a suitable choice for a dataset with a binary outcome. I'll explore partioning the outcome data in three different ways: \n",
    "\n",
    "1. The binary outcome is Major vs. Minor bleeding\n",
    "2. The binary outcome is:\n",
    "Major vs. Minor + None bleeding, \n",
    "Major + Minor vs. None bleeding,\n",
    "Major vs. None, \n",
    "Minor vs. None,\n",
    "Major vs. Minor\n",
    "\n",
    "3. The ternary outcome is Major vs. Minor vs. None (will have to use a multinomial classification model for this: Multinomial logistic regression or Linear discriminant analysis) \n",
    "\n",
    "The independent variables that will be implemented into this model are: \n",
    "- age of diagnosis, gender, platelet count, anti-coagulation, antiplatelet, invasive procedure (which I believe is PMHx bleeding risk), (maybe INR later), Molecular/cytogenetics, anemia, prior lines of therapy, "
   ]
  },
  {
   "cell_type": "markdown",
   "id": "fbc90cfe",
   "metadata": {},
   "source": [
    "Continuing with 2"
   ]
  },
  {
   "cell_type": "markdown",
   "id": "55814096",
   "metadata": {},
   "source": [
    "Import necessary libraries "
   ]
  },
  {
   "cell_type": "code",
   "execution_count": 1,
   "id": "cd36dbf5",
   "metadata": {
    "collapsed": true
   },
   "outputs": [
    {
     "name": "stdout",
     "output_type": "stream",
     "text": [
      "complete\n"
     ]
    }
   ],
   "source": [
    "import pandas as pd\n",
    "from sklearn.preprocessing import LabelEncoder\n",
    "from sklearn.model_selection import train_test_split\n",
    "import statsmodels.api as sm\n",
    "from sklearn.linear_model import LogisticRegression\n",
    "from sklearn import metrics\n",
    "import numpy as np\n",
    "import matplotlib.pyplot as plt\n",
    "import seaborn as sns\n",
    "from sklearn.utils import resample\n",
    "import imblearn\n",
    "from imblearn.over_sampling import SMOTE\n",
    "\n",
    "print(\"complete\")"
   ]
  },
  {
   "cell_type": "markdown",
   "id": "c2bd3558",
   "metadata": {},
   "source": [
    "Read dataset"
   ]
  },
  {
   "cell_type": "code",
   "execution_count": 2,
   "id": "adef24bd",
   "metadata": {},
   "outputs": [
    {
     "data": {
      "text/html": [
       "<div>\n",
       "<style scoped>\n",
       "    .dataframe tbody tr th:only-of-type {\n",
       "        vertical-align: middle;\n",
       "    }\n",
       "\n",
       "    .dataframe tbody tr th {\n",
       "        vertical-align: top;\n",
       "    }\n",
       "\n",
       "    .dataframe thead th {\n",
       "        text-align: right;\n",
       "    }\n",
       "</style>\n",
       "<table border=\"1\" class=\"dataframe\">\n",
       "  <thead>\n",
       "    <tr style=\"text-align: right;\">\n",
       "      <th></th>\n",
       "      <th>Age at diagnosis</th>\n",
       "      <th>gender</th>\n",
       "      <th>Diagnosis year</th>\n",
       "      <th>Plt at diagnosis</th>\n",
       "      <th>plt at start of ibrutinib</th>\n",
       "      <th>plt at the time of bleed</th>\n",
       "      <th>Plt Nadir while on Ibrutinib</th>\n",
       "      <th>Platelets &lt; 50 (Y/N)</th>\n",
       "      <th>hb at diognosis</th>\n",
       "      <th>hb at start of Ibrutinib</th>\n",
       "      <th>...</th>\n",
       "      <th>action?</th>\n",
       "      <th>post op bleed? /action</th>\n",
       "      <th>INR</th>\n",
       "      <th>past medical history</th>\n",
       "      <th>PMHx bleeding risk (Y/N)</th>\n",
       "      <th>Ibrutinib Dose</th>\n",
       "      <th>Comments</th>\n",
       "      <th>other ibrutinib SE</th>\n",
       "      <th>Unnamed: 43</th>\n",
       "      <th>Unnamed: 44</th>\n",
       "    </tr>\n",
       "  </thead>\n",
       "  <tbody>\n",
       "    <tr>\n",
       "      <th>0</th>\n",
       "      <td>48</td>\n",
       "      <td>f</td>\n",
       "      <td>2006</td>\n",
       "      <td>260</td>\n",
       "      <td>15</td>\n",
       "      <td>NaN</td>\n",
       "      <td>15</td>\n",
       "      <td>Y</td>\n",
       "      <td>130</td>\n",
       "      <td>71</td>\n",
       "      <td>...</td>\n",
       "      <td>NaN</td>\n",
       "      <td>NaN</td>\n",
       "      <td>NaN</td>\n",
       "      <td>deppression, schwanoma of leg</td>\n",
       "      <td>Y</td>\n",
       "      <td>420mg,</td>\n",
       "      <td>ITP at the time of starting ibrutinib</td>\n",
       "      <td>NaN</td>\n",
       "      <td>NaN</td>\n",
       "      <td>NaN</td>\n",
       "    </tr>\n",
       "    <tr>\n",
       "      <th>1</th>\n",
       "      <td>66</td>\n",
       "      <td>m</td>\n",
       "      <td>2017</td>\n",
       "      <td>175</td>\n",
       "      <td>83</td>\n",
       "      <td>155</td>\n",
       "      <td>93</td>\n",
       "      <td>N</td>\n",
       "      <td>145</td>\n",
       "      <td>93</td>\n",
       "      <td>...</td>\n",
       "      <td>NaN</td>\n",
       "      <td>NaN</td>\n",
       "      <td>NaN</td>\n",
       "      <td>cryoglobinemia,MGUS,CAD,HTN,COPD</td>\n",
       "      <td>N</td>\n",
       "      <td>420mg</td>\n",
       "      <td>NaN</td>\n",
       "      <td>NaN</td>\n",
       "      <td>NaN</td>\n",
       "      <td>NaN</td>\n",
       "    </tr>\n",
       "    <tr>\n",
       "      <th>2</th>\n",
       "      <td>74</td>\n",
       "      <td>F</td>\n",
       "      <td>2016</td>\n",
       "      <td>189</td>\n",
       "      <td>200</td>\n",
       "      <td>NaN</td>\n",
       "      <td>nl plts</td>\n",
       "      <td>N</td>\n",
       "      <td>116</td>\n",
       "      <td>87</td>\n",
       "      <td>...</td>\n",
       "      <td>NaN</td>\n",
       "      <td>NaN</td>\n",
       "      <td>NaN</td>\n",
       "      <td>dm2,htn,</td>\n",
       "      <td>N</td>\n",
       "      <td>420mg,</td>\n",
       "      <td>reaction to first obino so switched to ibrutin...</td>\n",
       "      <td>NaN</td>\n",
       "      <td>NaN</td>\n",
       "      <td>NaN</td>\n",
       "    </tr>\n",
       "    <tr>\n",
       "      <th>3</th>\n",
       "      <td>53</td>\n",
       "      <td>F</td>\n",
       "      <td>2002</td>\n",
       "      <td>237</td>\n",
       "      <td>67</td>\n",
       "      <td>NaN</td>\n",
       "      <td>40</td>\n",
       "      <td>Y</td>\n",
       "      <td>135</td>\n",
       "      <td>118</td>\n",
       "      <td>...</td>\n",
       "      <td>NaN</td>\n",
       "      <td>NaN</td>\n",
       "      <td>NaN</td>\n",
       "      <td>HTN,B12 def,IDA</td>\n",
       "      <td>N</td>\n",
       "      <td>420mg</td>\n",
       "      <td>WAIHA</td>\n",
       "      <td>easy bruising</td>\n",
       "      <td>NaN</td>\n",
       "      <td>NaN</td>\n",
       "    </tr>\n",
       "    <tr>\n",
       "      <th>4</th>\n",
       "      <td>60</td>\n",
       "      <td>m</td>\n",
       "      <td>1999</td>\n",
       "      <td>198</td>\n",
       "      <td>85</td>\n",
       "      <td>70</td>\n",
       "      <td>49</td>\n",
       "      <td>Y</td>\n",
       "      <td>154</td>\n",
       "      <td>104</td>\n",
       "      <td>...</td>\n",
       "      <td>died</td>\n",
       "      <td>NaN</td>\n",
       "      <td>1.1</td>\n",
       "      <td>prostitis,mycosis,chronc sinusitis</td>\n",
       "      <td>N</td>\n",
       "      <td>ibrutinib dose reduced to 140 in oct 2015 for ...</td>\n",
       "      <td>cutaneous  oral mucosal involvement w CLL, als...</td>\n",
       "      <td>NaN</td>\n",
       "      <td>NaN</td>\n",
       "      <td>NaN</td>\n",
       "    </tr>\n",
       "  </tbody>\n",
       "</table>\n",
       "<p>5 rows × 45 columns</p>\n",
       "</div>"
      ],
      "text/plain": [
       "  Age at diagnosis gender Diagnosis year Plt at diagnosis  \\\n",
       "0               48      f           2006              260   \n",
       "1               66      m           2017              175   \n",
       "2               74      F           2016              189   \n",
       "3               53      F           2002              237   \n",
       "4               60      m           1999              198   \n",
       "\n",
       "  plt at start of ibrutinib plt at the time of bleed  \\\n",
       "0                        15                      NaN   \n",
       "1                        83                      155   \n",
       "2                       200                      NaN   \n",
       "3                        67                      NaN   \n",
       "4                        85                       70   \n",
       "\n",
       "  Plt Nadir while on Ibrutinib Platelets < 50 (Y/N) hb at diognosis  \\\n",
       "0                           15                    Y             130   \n",
       "1                           93                    N             145   \n",
       "2                      nl plts                    N             116   \n",
       "3                           40                    Y             135   \n",
       "4                           49                    Y             154   \n",
       "\n",
       "  hb at start of Ibrutinib  ... action? post op bleed? /action  INR  \\\n",
       "0                       71  ...     NaN                    NaN  NaN   \n",
       "1                       93  ...     NaN                    NaN  NaN   \n",
       "2                       87  ...     NaN                    NaN  NaN   \n",
       "3                      118  ...     NaN                    NaN  NaN   \n",
       "4                      104  ...    died                    NaN  1.1   \n",
       "\n",
       "                 past medical history PMHx bleeding risk (Y/N)  \\\n",
       "0       deppression, schwanoma of leg                        Y   \n",
       "1    cryoglobinemia,MGUS,CAD,HTN,COPD                        N   \n",
       "2                            dm2,htn,                        N   \n",
       "3                     HTN,B12 def,IDA                        N   \n",
       "4  prostitis,mycosis,chronc sinusitis                        N   \n",
       "\n",
       "                                      Ibrutinib Dose  \\\n",
       "0                                             420mg,   \n",
       "1                                              420mg   \n",
       "2                                             420mg,   \n",
       "3                                              420mg   \n",
       "4  ibrutinib dose reduced to 140 in oct 2015 for ...   \n",
       "\n",
       "                                            Comments  other ibrutinib SE  \\\n",
       "0              ITP at the time of starting ibrutinib                 NaN   \n",
       "1                                                NaN                 NaN   \n",
       "2  reaction to first obino so switched to ibrutin...                 NaN   \n",
       "3                                              WAIHA       easy bruising   \n",
       "4  cutaneous  oral mucosal involvement w CLL, als...                 NaN   \n",
       "\n",
       "  Unnamed: 43 Unnamed: 44  \n",
       "0         NaN         NaN  \n",
       "1         NaN         NaN  \n",
       "2         NaN         NaN  \n",
       "3         NaN         NaN  \n",
       "4         NaN         NaN  \n",
       "\n",
       "[5 rows x 45 columns]"
      ]
     },
     "execution_count": 2,
     "metadata": {},
     "output_type": "execute_result"
    }
   ],
   "source": [
    "df = pd.read_csv(\"/Users/anthonyquint/Desktop/LHSC_Work_Folder/Mina/Bleeding_study/Ibrutinib Data Set, June 10,2021, de- identified data.csv\")\n",
    "df.head()"
   ]
  },
  {
   "cell_type": "markdown",
   "id": "95c0daae",
   "metadata": {},
   "source": [
    "Cleaning the dataset, and select which two groups to compare: \n",
    "\n",
    "Major vs. Minor + None bleeding, \n",
    "Major + Minor vs. None bleeding,\n",
    "Major vs. None, \n",
    "Minor vs. None,\n",
    "Major vs. Minor"
   ]
  },
  {
   "cell_type": "code",
   "execution_count": 3,
   "id": "c23c08ac",
   "metadata": {},
   "outputs": [
    {
     "data": {
      "text/html": [
       "<div>\n",
       "<style scoped>\n",
       "    .dataframe tbody tr th:only-of-type {\n",
       "        vertical-align: middle;\n",
       "    }\n",
       "\n",
       "    .dataframe tbody tr th {\n",
       "        vertical-align: top;\n",
       "    }\n",
       "\n",
       "    .dataframe thead th {\n",
       "        text-align: right;\n",
       "    }\n",
       "</style>\n",
       "<table border=\"1\" class=\"dataframe\">\n",
       "  <thead>\n",
       "    <tr style=\"text-align: right;\">\n",
       "      <th></th>\n",
       "      <th>Age at diagnosis</th>\n",
       "      <th>gender</th>\n",
       "      <th>Platelets &lt; 50 (Y/N)</th>\n",
       "      <th>Anemia (hb &lt; 110) (Y/N)</th>\n",
       "      <th>HR Molecular/Cytogenetics (Y/N)</th>\n",
       "      <th>Prior lines of therapy</th>\n",
       "      <th>anticoagulation (Y/N)</th>\n",
       "      <th>anti platelet (Y/N)</th>\n",
       "      <th>PMHx bleeding risk (Y/N)</th>\n",
       "      <th>Major Bleed (Y/N)</th>\n",
       "    </tr>\n",
       "  </thead>\n",
       "  <tbody>\n",
       "    <tr>\n",
       "      <th>0</th>\n",
       "      <td>48</td>\n",
       "      <td>F</td>\n",
       "      <td>Y</td>\n",
       "      <td>Y</td>\n",
       "      <td>Y</td>\n",
       "      <td>1</td>\n",
       "      <td>N</td>\n",
       "      <td>N</td>\n",
       "      <td>Y</td>\n",
       "      <td>N</td>\n",
       "    </tr>\n",
       "    <tr>\n",
       "      <th>1</th>\n",
       "      <td>66</td>\n",
       "      <td>M</td>\n",
       "      <td>N</td>\n",
       "      <td>Y</td>\n",
       "      <td>Y</td>\n",
       "      <td>0</td>\n",
       "      <td>N</td>\n",
       "      <td>Y</td>\n",
       "      <td>N</td>\n",
       "      <td>Y</td>\n",
       "    </tr>\n",
       "    <tr>\n",
       "      <th>2</th>\n",
       "      <td>74</td>\n",
       "      <td>F</td>\n",
       "      <td>N</td>\n",
       "      <td>Y</td>\n",
       "      <td>Y</td>\n",
       "      <td>1</td>\n",
       "      <td>N</td>\n",
       "      <td>N</td>\n",
       "      <td>N</td>\n",
       "      <td>N</td>\n",
       "    </tr>\n",
       "    <tr>\n",
       "      <th>3</th>\n",
       "      <td>53</td>\n",
       "      <td>F</td>\n",
       "      <td>Y</td>\n",
       "      <td>N</td>\n",
       "      <td>N</td>\n",
       "      <td>2</td>\n",
       "      <td>N</td>\n",
       "      <td>N</td>\n",
       "      <td>N</td>\n",
       "      <td>N</td>\n",
       "    </tr>\n",
       "    <tr>\n",
       "      <th>4</th>\n",
       "      <td>60</td>\n",
       "      <td>M</td>\n",
       "      <td>Y</td>\n",
       "      <td>Y</td>\n",
       "      <td>N</td>\n",
       "      <td>3</td>\n",
       "      <td>N</td>\n",
       "      <td>N</td>\n",
       "      <td>N</td>\n",
       "      <td>Y</td>\n",
       "    </tr>\n",
       "  </tbody>\n",
       "</table>\n",
       "</div>"
      ],
      "text/plain": [
       "  Age at diagnosis gender Platelets < 50 (Y/N) Anemia (hb < 110) (Y/N)  \\\n",
       "0               48      F                    Y                       Y   \n",
       "1               66      M                    N                       Y   \n",
       "2               74      F                    N                       Y   \n",
       "3               53      F                    Y                       N   \n",
       "4               60      M                    Y                       Y   \n",
       "\n",
       "  HR Molecular/Cytogenetics (Y/N)  Prior lines of therapy  \\\n",
       "0                               Y                       1   \n",
       "1                               Y                       0   \n",
       "2                               Y                       1   \n",
       "3                               N                       2   \n",
       "4                               N                       3   \n",
       "\n",
       "  anticoagulation (Y/N) anti platelet (Y/N) PMHx bleeding risk (Y/N)  \\\n",
       "0                     N                   N                        Y   \n",
       "1                     N                   Y                        N   \n",
       "2                     N                   N                        N   \n",
       "3                     N                   N                        N   \n",
       "4                     N                   N                        N   \n",
       "\n",
       "  Major Bleed (Y/N)  \n",
       "0                 N  \n",
       "1                 Y  \n",
       "2                 N  \n",
       "3                 N  \n",
       "4                 Y  "
      ]
     },
     "execution_count": 3,
     "metadata": {},
     "output_type": "execute_result"
    }
   ],
   "source": [
    "#Removing all columns except the columns corresponding to our relevant \n",
    "#independent variables (indicated at top of notebook) and dependent variable (Major Bleed (Y/N))\n",
    "\n",
    "df = df[[\"Age at diagnosis\",\"gender\",\"Platelets < 50 (Y/N)\",\"Anemia (hb < 110) (Y/N)\", \"HR Molecular/Cytogenetics (Y/N)\",\"Prior lines of therapy\",\"anticoagulation (Y/N)\",\"anti platelet (Y/N)\",\"PMHx bleeding risk (Y/N)\",\"Major Bleed (Y/N)\"]]\n",
    "\n",
    "#Gender has inputs of F or M, but sometimes they are lowercase. Using \"upper()\" to ensure they are all uppercase\n",
    "\n",
    "df['gender'] = df['gender'].str.upper()\n",
    "\n",
    "# removing rows that have \"Unknown\" cytogenetics.  #Doing this didn't improve results. \n",
    "# df = df[~df['HR Molecular/Cytogenetics (Y/N)'].isin(['unknown'])] \n",
    "\n",
    "## Major vs. Minor \n",
    "#df = df.dropna().copy() \n",
    "\n",
    "#Major vs. Minor + None bleeding\n",
    "#changing NaN values in \"Major Bleed (Y/N)\" to N \n",
    "#df['Major Bleed (Y/N)'].fillna('N', inplace=True)\n",
    "\n",
    "#Major + Minor vs. None \n",
    "#changing \"N\" values to Y, and NaN values to N. \n",
    "df['Major Bleed (Y/N)'] = df['Major Bleed (Y/N)'].replace(['N'],'Y')\n",
    "df['Major Bleed (Y/N)'].fillna('N', inplace=True)\n",
    "\n",
    "#Major vs. None\n",
    "#df = df[~df['Major Bleed (Y/N)'].isin(['N'])] \n",
    "#df['Major Bleed (Y/N)'].fillna('N', inplace=True)\n",
    "\n",
    "#Minor vs. None\n",
    "#df = df[~df['Major Bleed (Y/N)'].isin(['Y'])] \n",
    "#df['Major Bleed (Y/N)'] = df['Major Bleed (Y/N)'].replace(['N'],'Y')\n",
    "#df['Major Bleed (Y/N)'].fillna('N', inplace=True)\n",
    "\n",
    "# Delete index 112 since it has a question mark for age \n",
    "df = df.drop(labels=112, axis=0)\n",
    "\n",
    "df.head()"
   ]
  },
  {
   "cell_type": "markdown",
   "id": "0a9d5dcd",
   "metadata": {},
   "source": [
    "Counting number of people who had major vs. minor bleed"
   ]
  },
  {
   "cell_type": "code",
   "execution_count": 4,
   "id": "2d567e07",
   "metadata": {},
   "outputs": [
    {
     "data": {
      "text/plain": [
       "N    127\n",
       "Y     42\n",
       "Name: Major Bleed (Y/N), dtype: int64"
      ]
     },
     "execution_count": 4,
     "metadata": {},
     "output_type": "execute_result"
    }
   ],
   "source": [
    "df['Major Bleed (Y/N)'].value_counts(dropna=False)   #Counting number of people who had major vs. minor bleed\n",
    "\n",
    "## should 0 and 1 appear roughly at equal frequencies? ##"
   ]
  },
  {
   "cell_type": "markdown",
   "id": "0ebc9a97",
   "metadata": {},
   "source": [
    "Converting categorical data into numerical representation"
   ]
  },
  {
   "cell_type": "code",
   "execution_count": 5,
   "id": "f7adedf7",
   "metadata": {},
   "outputs": [
    {
     "data": {
      "text/html": [
       "<div>\n",
       "<style scoped>\n",
       "    .dataframe tbody tr th:only-of-type {\n",
       "        vertical-align: middle;\n",
       "    }\n",
       "\n",
       "    .dataframe tbody tr th {\n",
       "        vertical-align: top;\n",
       "    }\n",
       "\n",
       "    .dataframe thead th {\n",
       "        text-align: right;\n",
       "    }\n",
       "</style>\n",
       "<table border=\"1\" class=\"dataframe\">\n",
       "  <thead>\n",
       "    <tr style=\"text-align: right;\">\n",
       "      <th></th>\n",
       "      <th>Age at diagnosis</th>\n",
       "      <th>gender</th>\n",
       "      <th>Platelets &lt; 50 (Y/N)</th>\n",
       "      <th>Anemia (hb &lt; 110) (Y/N)</th>\n",
       "      <th>HR Molecular/Cytogenetics (Y/N)</th>\n",
       "      <th>Prior lines of therapy</th>\n",
       "      <th>anticoagulation (Y/N)</th>\n",
       "      <th>anti platelet (Y/N)</th>\n",
       "      <th>PMHx bleeding risk (Y/N)</th>\n",
       "      <th>Major Bleed (Y/N)</th>\n",
       "    </tr>\n",
       "  </thead>\n",
       "  <tbody>\n",
       "    <tr>\n",
       "      <th>0</th>\n",
       "      <td>48</td>\n",
       "      <td>0</td>\n",
       "      <td>1</td>\n",
       "      <td>1</td>\n",
       "      <td>1</td>\n",
       "      <td>1</td>\n",
       "      <td>0</td>\n",
       "      <td>0</td>\n",
       "      <td>1</td>\n",
       "      <td>0</td>\n",
       "    </tr>\n",
       "    <tr>\n",
       "      <th>1</th>\n",
       "      <td>66</td>\n",
       "      <td>1</td>\n",
       "      <td>0</td>\n",
       "      <td>1</td>\n",
       "      <td>1</td>\n",
       "      <td>0</td>\n",
       "      <td>0</td>\n",
       "      <td>1</td>\n",
       "      <td>0</td>\n",
       "      <td>1</td>\n",
       "    </tr>\n",
       "    <tr>\n",
       "      <th>2</th>\n",
       "      <td>74</td>\n",
       "      <td>0</td>\n",
       "      <td>0</td>\n",
       "      <td>1</td>\n",
       "      <td>1</td>\n",
       "      <td>1</td>\n",
       "      <td>0</td>\n",
       "      <td>0</td>\n",
       "      <td>0</td>\n",
       "      <td>0</td>\n",
       "    </tr>\n",
       "    <tr>\n",
       "      <th>3</th>\n",
       "      <td>53</td>\n",
       "      <td>0</td>\n",
       "      <td>1</td>\n",
       "      <td>0</td>\n",
       "      <td>0</td>\n",
       "      <td>2</td>\n",
       "      <td>0</td>\n",
       "      <td>0</td>\n",
       "      <td>0</td>\n",
       "      <td>0</td>\n",
       "    </tr>\n",
       "    <tr>\n",
       "      <th>4</th>\n",
       "      <td>60</td>\n",
       "      <td>1</td>\n",
       "      <td>1</td>\n",
       "      <td>1</td>\n",
       "      <td>0</td>\n",
       "      <td>3</td>\n",
       "      <td>0</td>\n",
       "      <td>0</td>\n",
       "      <td>0</td>\n",
       "      <td>1</td>\n",
       "    </tr>\n",
       "  </tbody>\n",
       "</table>\n",
       "</div>"
      ],
      "text/plain": [
       "  Age at diagnosis  gender  Platelets < 50 (Y/N)  Anemia (hb < 110) (Y/N)  \\\n",
       "0               48       0                     1                        1   \n",
       "1               66       1                     0                        1   \n",
       "2               74       0                     0                        1   \n",
       "3               53       0                     1                        0   \n",
       "4               60       1                     1                        1   \n",
       "\n",
       "   HR Molecular/Cytogenetics (Y/N)  Prior lines of therapy  \\\n",
       "0                                1                       1   \n",
       "1                                1                       0   \n",
       "2                                1                       1   \n",
       "3                                0                       2   \n",
       "4                                0                       3   \n",
       "\n",
       "   anticoagulation (Y/N)  anti platelet (Y/N)  PMHx bleeding risk (Y/N)  \\\n",
       "0                      0                    0                         1   \n",
       "1                      0                    1                         0   \n",
       "2                      0                    0                         0   \n",
       "3                      0                    0                         0   \n",
       "4                      0                    0                         0   \n",
       "\n",
       "   Major Bleed (Y/N)  \n",
       "0                  0  \n",
       "1                  1  \n",
       "2                  0  \n",
       "3                  0  \n",
       "4                  1  "
      ]
     },
     "execution_count": 5,
     "metadata": {},
     "output_type": "execute_result"
    }
   ],
   "source": [
    "number = LabelEncoder()\n",
    "df['gender'] = number.fit_transform(df['gender'].astype('str'))\n",
    "df['Platelets < 50 (Y/N)'] = number.fit_transform(df['Platelets < 50 (Y/N)'].astype('str'))\n",
    "df['Anemia (hb < 110) (Y/N)'] = number.fit_transform(df['Anemia (hb < 110) (Y/N)'].astype('str'))\n",
    "df['HR Molecular/Cytogenetics (Y/N)'] = number.fit_transform(df['HR Molecular/Cytogenetics (Y/N)'].astype('str'))\n",
    "df['anticoagulation (Y/N)'] = number.fit_transform(df['anticoagulation (Y/N)'].astype('str'))\n",
    "df['anti platelet (Y/N)'] = number.fit_transform(df['anti platelet (Y/N)'].astype('str'))\n",
    "df['PMHx bleeding risk (Y/N)'] = number.fit_transform(df['PMHx bleeding risk (Y/N)'].astype('str'))\n",
    "df['Major Bleed (Y/N)'] = number.fit_transform(df['Major Bleed (Y/N)'].astype('str'))\n",
    "\n",
    "\n",
    "df.head()"
   ]
  },
  {
   "cell_type": "markdown",
   "id": "1951a2ec",
   "metadata": {},
   "source": [
    "Splitting data into independent and dependent variables, then into training and testing set, and then upsample the training sets"
   ]
  },
  {
   "cell_type": "code",
   "execution_count": 6,
   "id": "1ed1c47a",
   "metadata": {},
   "outputs": [],
   "source": [
    "clinical_features = ['Age at diagnosis','gender','Platelets < 50 (Y/N)','Anemia (hb < 110) (Y/N)','HR Molecular/Cytogenetics (Y/N)','Prior lines of therapy','anticoagulation (Y/N)','anti platelet (Y/N)','PMHx bleeding risk (Y/N)']\n",
    "#clinical_features = ['Age at diagnosis','gender','Platelets < 50 (Y/N)','Anemia (hb < 110) (Y/N)','Prior lines of therapy','anticoagulation (Y/N)','anti platelet (Y/N)','PMHx bleeding risk (Y/N)']\n",
    "\n",
    "X = df[clinical_features]   #Independent variables \n",
    "y = df['Major Bleed (Y/N)']  #Dependent variables \n",
    "\n",
    "X_train,X_test,y_train,y_test=train_test_split(X,y,test_size=0.25,random_state=0,stratify=y) #Splitting variables into training/testing set\n",
    "\n",
    "X_Y_train = pd.concat([X_train,y_train],axis=1)\n",
    "\n",
    "def upsample_minority(df):\n",
    "    \n",
    "    df_majority = df.loc[df['Major Bleed (Y/N)'] == 0]\n",
    "    df_minority = df.loc[df['Major Bleed (Y/N)'] == 1]\n",
    "    \n",
    "    df_minority_upsampled = resample(df_minority, replace = True, n_samples=len(df_majority), random_state=123)\n",
    "    df_upsampled = pd.concat([df_majority,df_minority_upsampled])\n",
    "    \n",
    "    df = df_upsampled\n",
    "    \n",
    "    return df \n",
    "\n",
    "def smote(train_1,train_2):\n",
    "    \n",
    "    sm = SMOTE(random_state=27)\n",
    "    train_1, train_2 = sm.fit_resample(train_1, train_2)\n",
    "    \n",
    "    return train_1,train_2 \n",
    "\n",
    "#upsampling the minority directly\n",
    "X_Y_train_upsample = upsample_minority(X_Y_train)\n",
    "y_train_upsample = X_Y_train_upsample['Major Bleed (Y/N)']\n",
    "X_train_upsample = X_Y_train_upsample.drop('Major Bleed (Y/N)', axis=1)\n",
    "\n",
    "df_upsample = upsample_minority(df)\n",
    "y_upsample = df_upsample['Major Bleed (Y/N)']\n",
    "X_upsample = df_upsample.drop('Major Bleed (Y/N)', axis=1)\n",
    "\n",
    "#upsampling by generating synthetic samples (smote)\n",
    "X_train_smote, y_train_smote = smote(X_train, y_train)\n",
    "\n",
    "X_smote, y_smote = smote(X, y)\n",
    "\n",
    "# Choosing which of the 2 sets of upsampled data I'll make the model with (upsampling vs. smote). \n",
    "# Upsampling produces better results\n",
    "XX = X_train_upsample\n",
    "yy = y_train_upsample\n",
    "\n",
    "## https://towardsdatascience.com/methods-for-dealing-with-imbalanced-data-5b761be45a18"
   ]
  },
  {
   "cell_type": "markdown",
   "id": "82de2628",
   "metadata": {},
   "source": [
    "Training the model with statsmodel"
   ]
  },
  {
   "cell_type": "code",
   "execution_count": 7,
   "id": "3d5df952",
   "metadata": {},
   "outputs": [
    {
     "name": "stdout",
     "output_type": "stream",
     "text": [
      "Optimization terminated successfully.\n",
      "         Current function value: 0.593690\n",
      "         Iterations 6\n",
      "                           Logit Regression Results                           \n",
      "==============================================================================\n",
      "Dep. Variable:      Major Bleed (Y/N)   No. Observations:                  190\n",
      "Model:                          Logit   Df Residuals:                      180\n",
      "Method:                           MLE   Df Model:                            9\n",
      "Date:                Fri, 02 Jul 2021   Pseudo R-squ.:                  0.1435\n",
      "Time:                        14:53:20   Log-Likelihood:                -112.80\n",
      "converged:                       True   LL-Null:                       -131.70\n",
      "Covariance Type:            nonrobust   LLR p-value:                 1.898e-05\n",
      "===================================================================================================\n",
      "                                      coef    std err          z      P>|z|      [0.025      0.975]\n",
      "---------------------------------------------------------------------------------------------------\n",
      "const                              -2.6724      1.234     -2.166      0.030      -5.090      -0.254\n",
      "Age at diagnosis                    0.0155      0.017      0.906      0.365      -0.018       0.049\n",
      "gender                              0.3097      0.354      0.876      0.381      -0.384       1.003\n",
      "Platelets < 50 (Y/N)                0.1039      0.451      0.230      0.818      -0.781       0.988\n",
      "Anemia (hb < 110) (Y/N)             0.5865      0.390      1.505      0.132      -0.177       1.350\n",
      "HR Molecular/Cytogenetics (Y/N)     0.4086      0.250      1.632      0.103      -0.082       0.899\n",
      "Prior lines of therapy              0.2301      0.195      1.180      0.238      -0.152       0.612\n",
      "anticoagulation (Y/N)               2.1564      0.443      4.867      0.000       1.288       3.025\n",
      "anti platelet (Y/N)                 0.6139      0.432      1.420      0.156      -0.233       1.461\n",
      "PMHx bleeding risk (Y/N)           -0.5287      0.500     -1.057      0.291      -1.509       0.452\n",
      "===================================================================================================\n"
     ]
    }
   ],
   "source": [
    "logit_model_1=sm.Logit(yy,sm.add_constant(XX.astype(float)))\n",
    "#logit_model_1=sm.Logit(y,sm.add_constant(X.astype(float)))\n",
    "\n",
    "result_1=logit_model_1.fit()\n",
    "print(result_1.summary())"
   ]
  },
  {
   "cell_type": "code",
   "execution_count": 8,
   "id": "10c06cf6",
   "metadata": {},
   "outputs": [
    {
     "data": {
      "text/plain": [
       "const                              0.069084\n",
       "Age at diagnosis                   1.015623\n",
       "gender                             1.363036\n",
       "Platelets < 50 (Y/N)               1.109509\n",
       "Anemia (hb < 110) (Y/N)            1.797747\n",
       "HR Molecular/Cytogenetics (Y/N)    1.504639\n",
       "Prior lines of therapy             1.258677\n",
       "anticoagulation (Y/N)              8.639858\n",
       "anti platelet (Y/N)                1.847683\n",
       "PMHx bleeding risk (Y/N)           0.589390\n",
       "dtype: float64"
      ]
     },
     "execution_count": 8,
     "metadata": {},
     "output_type": "execute_result"
    }
   ],
   "source": [
    "np.exp(result_1.params) #Converting the coefficients (log odds) into the odds"
   ]
  },
  {
   "cell_type": "markdown",
   "id": "7989ed3e",
   "metadata": {},
   "source": [
    "Dropping insignficant data"
   ]
  },
  {
   "cell_type": "code",
   "execution_count": 9,
   "id": "15288e06",
   "metadata": {},
   "outputs": [],
   "source": [
    "# For x y train upsample: \n",
    "\n",
    "####FIGURE OUT WHAT TO DROP LATER\n",
    "# Dropping: gender, prior lines of ..., anti plat, PMH risk, gives ROC score of 0.56 ish. \n",
    "\n",
    "#constant is not significant, but ill still keep it in \n",
    "XX = XX.drop(['Age at diagnosis'],axis=1)\n",
    "XX = XX.drop(['gender'],axis=1)\n",
    "XX = XX.drop(['Platelets < 50 (Y/N)'],axis=1)\n",
    "XX = XX.drop(['Anemia (hb < 110) (Y/N)'],axis=1)\n",
    "XX = XX.drop(['HR Molecular/Cytogenetics (Y/N)'],axis=1)\n",
    "XX = XX.drop(['Prior lines of therapy'],axis=1)\n",
    "#XX = XX.drop(['anticoagulation (Y/N)'],axis=1)\n",
    "XX = XX.drop(['anti platelet (Y/N)'],axis=1)\n",
    "XX = XX.drop(['PMHx bleeding risk (Y/N)'],axis=1)\n",
    "\n",
    "X_test = X_test.drop(['Age at diagnosis'],axis=1)\n",
    "X_test = X_test.drop(['gender'],axis=1)\n",
    "X_test = X_test.drop(['Platelets < 50 (Y/N)'],axis=1)\n",
    "X_test = X_test.drop(['Anemia (hb < 110) (Y/N)'],axis=1)\n",
    "X_test = X_test.drop(['HR Molecular/Cytogenetics (Y/N)'],axis=1)\n",
    "X_test = X_test.drop(['Prior lines of therapy'],axis=1)\n",
    "#X_test = X_test.drop(['anticoagulation (Y/N)'],axis=1)\n",
    "X_test = X_test.drop(['anti platelet (Y/N)'],axis=1)\n",
    "X_test = X_test.drop(['PMHx bleeding risk (Y/N)'],axis=1)\n",
    "\n",
    "\n",
    "\n",
    "# For x y train smote \n",
    "#XX = XX.drop(['Age at diagnosis'],axis=1)\n",
    "#XX = XX.drop(['Anemia (hb < 110) (Y/N)'],axis=1)\n",
    "#XX = XX.drop(['anti platelet (Y/N)'],axis=1)\n",
    "#XX = XX.drop(['HR Molecular/Cytogenetics (Y/N)'],axis=1)\n",
    "#XX = XX.drop(['anticoagulation (Y/N)'],axis=1)\n",
    "#XX = XX.drop(['PMHx bleeding risk (Y/N)'],axis=1)\n",
    "\n",
    "#X_test = X_test.drop(['Age at diagnosis'],axis=1)\n",
    "#X_test = X_test.drop(['Anemia (hb < 110) (Y/N)'],axis=1)\n",
    "#X_test = X_test.drop(['anti platelet (Y/N)'],axis=1)\n",
    "#X_test = X_test.drop(['HR Molecular/Cytogenetics (Y/N)'],axis=1)\n",
    "#X_test = X_test.drop(['anticoagulation (Y/N)'],axis=1)\n",
    "#X_test = X_test.drop(['PMHx bleeding risk (Y/N)'],axis=1)\n",
    "\n"
   ]
  },
  {
   "cell_type": "markdown",
   "id": "88d54a5a",
   "metadata": {},
   "source": [
    "Using statsmodel again to refit the model without the uncorrelated variables, then evaluating the model"
   ]
  },
  {
   "cell_type": "code",
   "execution_count": 10,
   "id": "7f3281bb",
   "metadata": {},
   "outputs": [
    {
     "name": "stdout",
     "output_type": "stream",
     "text": [
      "Optimization terminated successfully.\n",
      "         Current function value: 0.621590\n",
      "         Iterations 5\n",
      "                           Logit Regression Results                           \n",
      "==============================================================================\n",
      "Dep. Variable:      Major Bleed (Y/N)   No. Observations:                  190\n",
      "Model:                          Logit   Df Residuals:                      188\n",
      "Method:                           MLE   Df Model:                            1\n",
      "Date:                Fri, 02 Jul 2021   Pseudo R-squ.:                  0.1032\n",
      "Time:                        14:53:20   Log-Likelihood:                -118.10\n",
      "converged:                       True   LL-Null:                       -131.70\n",
      "Covariance Type:            nonrobust   LLR p-value:                 1.843e-07\n",
      "=========================================================================================\n",
      "                            coef    std err          z      P>|z|      [0.025      0.975]\n",
      "-----------------------------------------------------------------------------------------\n",
      "const                    -0.4537      0.174     -2.607      0.009      -0.795      -0.113\n",
      "anticoagulation (Y/N)     1.8647      0.393      4.741      0.000       1.094       2.635\n",
      "=========================================================================================\n"
     ]
    },
    {
     "data": {
      "text/plain": [
       "array([[27,  5],\n",
       "       [ 7,  4]])"
      ]
     },
     "execution_count": 10,
     "metadata": {},
     "output_type": "execute_result"
    }
   ],
   "source": [
    "## gonna decide what best to drop later,\n",
    "\n",
    "logit_model_2=sm.Logit(yy,sm.add_constant(XX.astype(float)))\n",
    "\n",
    "\n",
    "result_2=logit_model_2.fit()\n",
    "print(result_2.summary())\n",
    "\n",
    "ypredict = result_2.predict(sm.add_constant(X_test.astype(float)))\n",
    "prediction = list(map(round,ypredict))\n",
    "\n",
    "cnf_matrix_1 = metrics.confusion_matrix(y_test,prediction)\n",
    "cnf_matrix_1"
   ]
  },
  {
   "cell_type": "code",
   "execution_count": 11,
   "id": "7d631e95",
   "metadata": {},
   "outputs": [
    {
     "data": {
      "text/plain": [
       "Text(0.5, 257.44, 'Predicted label')"
      ]
     },
     "execution_count": 11,
     "metadata": {},
     "output_type": "execute_result"
    },
    {
     "data": {
      "image/png": "[encoded data removed]",
      "text/plain": [
       "<Figure size 432x288 with 2 Axes>"
      ]
     },
     "metadata": {
      "needs_background": "light"
     },
     "output_type": "display_data"
    }
   ],
   "source": [
    "#Visualizing accuracy with heatmap \n",
    "%matplotlib inline\n",
    "\n",
    "class_names=[0,1] # name  of classes\n",
    "fig, ax = plt.subplots()\n",
    "tick_marks = np.arange(len(class_names))\n",
    "plt.xticks(tick_marks, class_names)\n",
    "plt.yticks(tick_marks, class_names)\n",
    "# create heatmap\n",
    "sns.heatmap(pd.DataFrame(cnf_matrix_1), annot=True, cmap=\"YlGnBu\" ,fmt='g')\n",
    "ax.xaxis.set_label_position(\"top\")\n",
    "plt.tight_layout()\n",
    "plt.title('Confusion matrix', y=1.1)\n",
    "plt.ylabel('Actual label')\n",
    "plt.xlabel('Predicted label')"
   ]
  },
  {
   "cell_type": "code",
   "execution_count": 12,
   "id": "2aecabe2",
   "metadata": {},
   "outputs": [
    {
     "name": "stdout",
     "output_type": "stream",
     "text": [
      "Accuracy: 0.7209302325581395\n",
      "Precision: 0.4444444444444444\n",
      "Recall: 0.36363636363636365\n"
     ]
    }
   ],
   "source": [
    "print(\"Accuracy:\",metrics.accuracy_score(y_test, prediction))\n",
    "print(\"Precision:\",metrics.precision_score(y_test, prediction))\n",
    "print(\"Recall:\",metrics.recall_score(y_test, prediction))"
   ]
  },
  {
   "cell_type": "code",
   "execution_count": 13,
   "id": "4586f0bf",
   "metadata": {},
   "outputs": [
    {
     "data": {
      "image/png": "[encoded data removed]",
      "text/plain": [
       "<Figure size 432x288 with 1 Axes>"
      ]
     },
     "metadata": {
      "needs_background": "light"
     },
     "output_type": "display_data"
    }
   ],
   "source": [
    "#ROC Curve\n",
    "fpr, tpr, _ = metrics.roc_curve(y_test,  ypredict)\n",
    "auc = metrics.roc_auc_score(y_test, ypredict)\n",
    "plt.plot(fpr,tpr,label=\"data 1, auc=\"+str(auc))\n",
    "plt.legend(loc=4)\n",
    "plt.show()"
   ]
  },
  {
   "cell_type": "markdown",
   "id": "07305f0d",
   "metadata": {},
   "source": [
    "Training the model with LogisticRegression"
   ]
  },
  {
   "cell_type": "code",
   "execution_count": 14,
   "id": "46cb64c9",
   "metadata": {},
   "outputs": [],
   "source": [
    "# instantiate the model (using the default parameters) (using LogisticRegression)\n",
    "logreg = LogisticRegression(max_iter=200)\n",
    "\n",
    "# fit the model with data\n",
    "logreg.fit(XX,yy)\n",
    "\n",
    "#\n",
    "y_pred=logreg.predict(X_test)\n",
    "#y_pred"
   ]
  },
  {
   "cell_type": "markdown",
   "id": "726a223b",
   "metadata": {},
   "source": [
    "Model Evaluation"
   ]
  },
  {
   "cell_type": "code",
   "execution_count": 15,
   "id": "8747dd63",
   "metadata": {},
   "outputs": [
    {
     "data": {
      "text/plain": [
       "array([[27,  5],\n",
       "       [ 7,  4]])"
      ]
     },
     "execution_count": 15,
     "metadata": {},
     "output_type": "execute_result"
    }
   ],
   "source": [
    "cnf_matrix_2 = metrics.confusion_matrix(y_test, y_pred)\n",
    "cnf_matrix_2   # Viewing accuracy of model "
   ]
  },
  {
   "cell_type": "code",
   "execution_count": 16,
   "id": "91a86d47",
   "metadata": {},
   "outputs": [
    {
     "data": {
      "text/plain": [
       "Text(0.5, 257.44, 'Predicted label')"
      ]
     },
     "execution_count": 16,
     "metadata": {},
     "output_type": "execute_result"
    },
    {
     "data": {
      "image/png": "[encoded data removed]",
      "text/plain": [
       "<Figure size 432x288 with 2 Axes>"
      ]
     },
     "metadata": {
      "needs_background": "light"
     },
     "output_type": "display_data"
    }
   ],
   "source": [
    "#Visualizing accuracy with heatmap \n",
    "%matplotlib inline\n",
    "\n",
    "class_names=[0,1] # name  of classes\n",
    "fig, ax = plt.subplots()\n",
    "tick_marks = np.arange(len(class_names))\n",
    "plt.xticks(tick_marks, class_names)\n",
    "plt.yticks(tick_marks, class_names)\n",
    "# create heatmap\n",
    "sns.heatmap(pd.DataFrame(cnf_matrix_2), annot=True, cmap=\"YlGnBu\" ,fmt='g')\n",
    "ax.xaxis.set_label_position(\"top\")\n",
    "plt.tight_layout()\n",
    "plt.title('Confusion matrix', y=1.1)\n",
    "plt.ylabel('Actual label')\n",
    "plt.xlabel('Predicted label')"
   ]
  },
  {
   "cell_type": "code",
   "execution_count": 17,
   "id": "3562d44f",
   "metadata": {},
   "outputs": [
    {
     "name": "stdout",
     "output_type": "stream",
     "text": [
      "Accuracy: 0.7209302325581395\n",
      "Precision: 0.4444444444444444\n",
      "Recall: 0.36363636363636365\n"
     ]
    }
   ],
   "source": [
    "print(\"Accuracy:\",metrics.accuracy_score(y_test, y_pred))\n",
    "print(\"Precision:\",metrics.precision_score(y_test, y_pred))\n",
    "print(\"Recall:\",metrics.recall_score(y_test, y_pred))"
   ]
  },
  {
   "cell_type": "code",
   "execution_count": 18,
   "id": "42132e1a",
   "metadata": {},
   "outputs": [
    {
     "data": {
      "image/png": "[encoded data removed]",
      "text/plain": [
       "<Figure size 432x288 with 1 Axes>"
      ]
     },
     "metadata": {
      "needs_background": "light"
     },
     "output_type": "display_data"
    }
   ],
   "source": [
    "#ROC Curve\n",
    "y_pred_proba = logreg.predict_proba(X_test)[::,1]\n",
    "fpr, tpr, _ = metrics.roc_curve(y_test,  y_pred_proba)\n",
    "auc = metrics.roc_auc_score(y_test, y_pred_proba)\n",
    "plt.plot(fpr,tpr,label=\"data 1, auc=\"+str(auc))\n",
    "plt.legend(loc=4)\n",
    "plt.show()"
   ]
  },
  {
   "cell_type": "code",
   "execution_count": null,
   "id": "15b6b072",
   "metadata": {},
   "outputs": [],
   "source": []
  }
 ],
 "metadata": {
  "kernelspec": {
   "display_name": "Python 3",
   "language": "python",
   "name": "python3"
  },
  "language_info": {
   "codemirror_mode": {
    "name": "ipython",
    "version": 3
   },
   "file_extension": ".py",
   "mimetype": "text/x-python",
   "name": "python",
   "nbconvert_exporter": "python",
   "pygments_lexer": "ipython3",
   "version": "3.8.8"
  }
 },
 "nbformat": 4,
 "nbformat_minor": 5
}
