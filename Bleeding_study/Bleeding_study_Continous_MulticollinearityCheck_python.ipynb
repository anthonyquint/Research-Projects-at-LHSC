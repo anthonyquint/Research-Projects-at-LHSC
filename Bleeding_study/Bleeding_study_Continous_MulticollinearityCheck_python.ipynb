{
 "cells": [
  {
   "cell_type": "markdown",
   "id": "633d3214",
   "metadata": {},
   "source": [
    "In this notebook, I'll be completing an analysis to check whether the independent variables of bleeding study data are independent or correlated. "
   ]
  },
  {
   "cell_type": "markdown",
   "id": "a8028e61",
   "metadata": {},
   "source": [
    "The continous variables are: \n",
    "1. Age\n",
    "2. Platelet Nadir while on Ibruntinib\n",
    "3. Prior lines of therapy (using the continous column of data) \n",
    "\n",
    "The continous variables below need to be analyzed on their own, since they both only have data at the time of bleed, and since this data is only used for one sub-analysis regression model. \n",
    "1. Platelet at the time of bleed \n",
    "2. Hb at the time of bleed \n",
    "\n",
    "The categorical variables are: \n",
    "1. Gender (M/F) \n",
    "2. Platelets <50 (Y/N) \n",
    "3. Anemia (hb < 100) (Y/N) \n",
    "4. Anemia (hb < 110) (Y/N) \n",
    "5. HR Molecular/Cytogenetics (Y/N)\n",
    "6. Anticoagulation (Y/N)\n",
    "7. Anti-platelet (Y/N)\n",
    "8. PMHx bleeding risk (Y/N)\n",
    "9. Prior lines of therapy 1,2,3,4,6 (using categorical columns of data. \n",
    "10. Major bleed and Minor bleed (the 2 categorical dummy variables)"
   ]
  },
  {
   "cell_type": "markdown",
   "id": "a5e98ab1",
   "metadata": {},
   "source": [
    "Load necessary libraries "
   ]
  },
  {
   "cell_type": "code",
   "execution_count": 1,
   "id": "1e29db04",
   "metadata": {},
   "outputs": [
    {
     "name": "stdout",
     "output_type": "stream",
     "text": [
      "complete\n"
     ]
    }
   ],
   "source": [
    "import pandas as pd\n",
    "import numpy as np\n",
    "import seaborn as sns\n",
    "import matplotlib.pyplot as plt\n",
    "\n",
    "print('complete')"
   ]
  },
  {
   "cell_type": "markdown",
   "id": "6ce67893",
   "metadata": {},
   "source": [
    "Read dataset"
   ]
  },
  {
   "cell_type": "code",
   "execution_count": 2,
   "id": "bc34d730",
   "metadata": {},
   "outputs": [
    {
     "data": {
      "text/html": [
       "<div>\n",
       "<style scoped>\n",
       "    .dataframe tbody tr th:only-of-type {\n",
       "        vertical-align: middle;\n",
       "    }\n",
       "\n",
       "    .dataframe tbody tr th {\n",
       "        vertical-align: top;\n",
       "    }\n",
       "\n",
       "    .dataframe thead th {\n",
       "        text-align: right;\n",
       "    }\n",
       "</style>\n",
       "<table border=\"1\" class=\"dataframe\">\n",
       "  <thead>\n",
       "    <tr style=\"text-align: right;\">\n",
       "      <th></th>\n",
       "      <th>Age at diagnosis</th>\n",
       "      <th>gender</th>\n",
       "      <th>Diagnosis year</th>\n",
       "      <th>Plt at diagnosis</th>\n",
       "      <th>plt at start of ibrutinib</th>\n",
       "      <th>plt at the time of bleed</th>\n",
       "      <th>Plt Nadir while on Ibrutinib</th>\n",
       "      <th>Platelets &lt; 50 (Y/N)</th>\n",
       "      <th>hb at diognosis</th>\n",
       "      <th>hb at start of Ibrutinib</th>\n",
       "      <th>...</th>\n",
       "      <th>action?</th>\n",
       "      <th>post op bleed? /action</th>\n",
       "      <th>INR</th>\n",
       "      <th>past medical history</th>\n",
       "      <th>PMHx bleeding risk (Y/N)</th>\n",
       "      <th>Ibrutinib Dose</th>\n",
       "      <th>Comments</th>\n",
       "      <th>other ibrutinib SE</th>\n",
       "      <th>Unnamed: 56</th>\n",
       "      <th>Unnamed: 57</th>\n",
       "    </tr>\n",
       "  </thead>\n",
       "  <tbody>\n",
       "    <tr>\n",
       "      <th>0</th>\n",
       "      <td>48</td>\n",
       "      <td>f</td>\n",
       "      <td>2006</td>\n",
       "      <td>260</td>\n",
       "      <td>15</td>\n",
       "      <td>NaN</td>\n",
       "      <td>15</td>\n",
       "      <td>Y</td>\n",
       "      <td>130</td>\n",
       "      <td>71</td>\n",
       "      <td>...</td>\n",
       "      <td>NaN</td>\n",
       "      <td>NaN</td>\n",
       "      <td>NaN</td>\n",
       "      <td>deppression, schwanoma of leg</td>\n",
       "      <td>Y</td>\n",
       "      <td>420mg,</td>\n",
       "      <td>ITP at the time of starting ibrutinib</td>\n",
       "      <td>NaN</td>\n",
       "      <td>NaN</td>\n",
       "      <td>NaN</td>\n",
       "    </tr>\n",
       "    <tr>\n",
       "      <th>1</th>\n",
       "      <td>66</td>\n",
       "      <td>m</td>\n",
       "      <td>2017</td>\n",
       "      <td>175</td>\n",
       "      <td>83</td>\n",
       "      <td>155</td>\n",
       "      <td>93</td>\n",
       "      <td>N</td>\n",
       "      <td>145</td>\n",
       "      <td>93</td>\n",
       "      <td>...</td>\n",
       "      <td>NaN</td>\n",
       "      <td>NaN</td>\n",
       "      <td>NaN</td>\n",
       "      <td>cryoglobinemia,MGUS,CAD,HTN,COPD</td>\n",
       "      <td>N</td>\n",
       "      <td>420mg</td>\n",
       "      <td>NaN</td>\n",
       "      <td>NaN</td>\n",
       "      <td>NaN</td>\n",
       "      <td>NaN</td>\n",
       "    </tr>\n",
       "    <tr>\n",
       "      <th>2</th>\n",
       "      <td>74</td>\n",
       "      <td>F</td>\n",
       "      <td>2016</td>\n",
       "      <td>189</td>\n",
       "      <td>200</td>\n",
       "      <td>NaN</td>\n",
       "      <td>189</td>\n",
       "      <td>N</td>\n",
       "      <td>116</td>\n",
       "      <td>87</td>\n",
       "      <td>...</td>\n",
       "      <td>NaN</td>\n",
       "      <td>NaN</td>\n",
       "      <td>NaN</td>\n",
       "      <td>dm2,htn,</td>\n",
       "      <td>N</td>\n",
       "      <td>420mg,</td>\n",
       "      <td>reaction to first obino so switched to ibrutin...</td>\n",
       "      <td>NaN</td>\n",
       "      <td>NaN</td>\n",
       "      <td>NaN</td>\n",
       "    </tr>\n",
       "    <tr>\n",
       "      <th>3</th>\n",
       "      <td>53</td>\n",
       "      <td>F</td>\n",
       "      <td>2002</td>\n",
       "      <td>237</td>\n",
       "      <td>67</td>\n",
       "      <td>NaN</td>\n",
       "      <td>40</td>\n",
       "      <td>Y</td>\n",
       "      <td>135</td>\n",
       "      <td>118</td>\n",
       "      <td>...</td>\n",
       "      <td>NaN</td>\n",
       "      <td>NaN</td>\n",
       "      <td>NaN</td>\n",
       "      <td>HTN,B12 def,IDA</td>\n",
       "      <td>N</td>\n",
       "      <td>420mg</td>\n",
       "      <td>WAIHA</td>\n",
       "      <td>easy bruising</td>\n",
       "      <td>NaN</td>\n",
       "      <td>NaN</td>\n",
       "    </tr>\n",
       "    <tr>\n",
       "      <th>4</th>\n",
       "      <td>60</td>\n",
       "      <td>m</td>\n",
       "      <td>1999</td>\n",
       "      <td>198</td>\n",
       "      <td>85</td>\n",
       "      <td>70</td>\n",
       "      <td>49</td>\n",
       "      <td>Y</td>\n",
       "      <td>154</td>\n",
       "      <td>104</td>\n",
       "      <td>...</td>\n",
       "      <td>died</td>\n",
       "      <td>NaN</td>\n",
       "      <td>1.1</td>\n",
       "      <td>prostitis,mycosis,chronc sinusitis</td>\n",
       "      <td>N</td>\n",
       "      <td>ibrutinib dose reduced to 140 in oct 2015 for ...</td>\n",
       "      <td>cutaneous  oral mucosal involvement w CLL, als...</td>\n",
       "      <td>NaN</td>\n",
       "      <td>NaN</td>\n",
       "      <td>NaN</td>\n",
       "    </tr>\n",
       "  </tbody>\n",
       "</table>\n",
       "<p>5 rows × 58 columns</p>\n",
       "</div>"
      ],
      "text/plain": [
       "  Age at diagnosis gender Diagnosis year Plt at diagnosis  \\\n",
       "0               48      f           2006              260   \n",
       "1               66      m           2017              175   \n",
       "2               74      F           2016              189   \n",
       "3               53      F           2002              237   \n",
       "4               60      m           1999              198   \n",
       "\n",
       "  plt at start of ibrutinib plt at the time of bleed  \\\n",
       "0                        15                      NaN   \n",
       "1                        83                      155   \n",
       "2                       200                      NaN   \n",
       "3                        67                      NaN   \n",
       "4                        85                       70   \n",
       "\n",
       "   Plt Nadir while on Ibrutinib Platelets < 50 (Y/N) hb at diognosis  \\\n",
       "0                            15                    Y             130   \n",
       "1                            93                    N             145   \n",
       "2                           189                    N             116   \n",
       "3                            40                    Y             135   \n",
       "4                            49                    Y             154   \n",
       "\n",
       "  hb at start of Ibrutinib  ... action? post op bleed? /action  INR  \\\n",
       "0                       71  ...     NaN                    NaN  NaN   \n",
       "1                       93  ...     NaN                    NaN  NaN   \n",
       "2                       87  ...     NaN                    NaN  NaN   \n",
       "3                      118  ...     NaN                    NaN  NaN   \n",
       "4                      104  ...    died                    NaN  1.1   \n",
       "\n",
       "                 past medical history PMHx bleeding risk (Y/N)  \\\n",
       "0       deppression, schwanoma of leg                        Y   \n",
       "1    cryoglobinemia,MGUS,CAD,HTN,COPD                        N   \n",
       "2                            dm2,htn,                        N   \n",
       "3                     HTN,B12 def,IDA                        N   \n",
       "4  prostitis,mycosis,chronc sinusitis                        N   \n",
       "\n",
       "                                      Ibrutinib Dose  \\\n",
       "0                                             420mg,   \n",
       "1                                              420mg   \n",
       "2                                             420mg,   \n",
       "3                                              420mg   \n",
       "4  ibrutinib dose reduced to 140 in oct 2015 for ...   \n",
       "\n",
       "                                            Comments other ibrutinib SE  \\\n",
       "0              ITP at the time of starting ibrutinib                NaN   \n",
       "1                                                NaN                NaN   \n",
       "2  reaction to first obino so switched to ibrutin...                NaN   \n",
       "3                                              WAIHA      easy bruising   \n",
       "4  cutaneous  oral mucosal involvement w CLL, als...                NaN   \n",
       "\n",
       "   Unnamed: 56  Unnamed: 57  \n",
       "0          NaN          NaN  \n",
       "1          NaN          NaN  \n",
       "2          NaN          NaN  \n",
       "3          NaN          NaN  \n",
       "4          NaN          NaN  \n",
       "\n",
       "[5 rows x 58 columns]"
      ]
     },
     "execution_count": 2,
     "metadata": {},
     "output_type": "execute_result"
    }
   ],
   "source": [
    "df = pd.read_csv(\"/Users/anthonyquint/Desktop/LHSC_Work_Folder/Mina/Bleeding_study/Ibrutinib Data Set, July 13,2021, de-identified data.csv\")\n",
    "df.head()"
   ]
  },
  {
   "cell_type": "markdown",
   "id": "cfdd39c4",
   "metadata": {},
   "source": [
    "Split into the 2 continous dataframes, and clean data. "
   ]
  },
  {
   "cell_type": "code",
   "execution_count": 3,
   "id": "44ee5df4",
   "metadata": {},
   "outputs": [
    {
     "data": {
      "text/html": [
       "<div>\n",
       "<style scoped>\n",
       "    .dataframe tbody tr th:only-of-type {\n",
       "        vertical-align: middle;\n",
       "    }\n",
       "\n",
       "    .dataframe tbody tr th {\n",
       "        vertical-align: top;\n",
       "    }\n",
       "\n",
       "    .dataframe thead th {\n",
       "        text-align: right;\n",
       "    }\n",
       "</style>\n",
       "<table border=\"1\" class=\"dataframe\">\n",
       "  <thead>\n",
       "    <tr style=\"text-align: right;\">\n",
       "      <th></th>\n",
       "      <th>plt at the time of bleed</th>\n",
       "      <th>hb at the time of bleed</th>\n",
       "    </tr>\n",
       "  </thead>\n",
       "  <tbody>\n",
       "    <tr>\n",
       "      <th>4</th>\n",
       "      <td>70</td>\n",
       "      <td>120</td>\n",
       "    </tr>\n",
       "    <tr>\n",
       "      <th>8</th>\n",
       "      <td>151</td>\n",
       "      <td>121</td>\n",
       "    </tr>\n",
       "    <tr>\n",
       "      <th>10</th>\n",
       "      <td>130</td>\n",
       "      <td>81</td>\n",
       "    </tr>\n",
       "    <tr>\n",
       "      <th>13</th>\n",
       "      <td>153</td>\n",
       "      <td>92</td>\n",
       "    </tr>\n",
       "    <tr>\n",
       "      <th>23</th>\n",
       "      <td>135</td>\n",
       "      <td>131</td>\n",
       "    </tr>\n",
       "  </tbody>\n",
       "</table>\n",
       "</div>"
      ],
      "text/plain": [
       "   plt at the time of bleed hb at the time of bleed\n",
       "4                        70                     120\n",
       "8                       151                     121\n",
       "10                      130                      81\n",
       "13                      153                      92\n",
       "23                      135                     131"
      ]
     },
     "execution_count": 3,
     "metadata": {},
     "output_type": "execute_result"
    }
   ],
   "source": [
    "df_cont = df[['Age at diagnosis','Plt Nadir while on Ibrutinib','Prior lines of therapy' ]]\n",
    "df_cont2 = df[['plt at the time of bleed','hb at the time of bleed']]\n",
    "df_cont2 = df_cont2.dropna().copy() \n",
    "\n",
    "# Delete index 112 since it has a question mark for age \n",
    "df_cont = df_cont.drop(labels=112, axis=0)\n",
    "\n",
    "df_cont2.head()"
   ]
  },
  {
   "cell_type": "markdown",
   "id": "040928dd",
   "metadata": {},
   "source": [
    "Check the first set of continous variables for correlations."
   ]
  },
  {
   "cell_type": "code",
   "execution_count": 4,
   "id": "66956af5",
   "metadata": {},
   "outputs": [
    {
     "name": "stdout",
     "output_type": "stream",
     "text": [
      "                              Age at diagnosis  Plt Nadir while on Ibrutinib  \\\n",
      "Age at diagnosis                      1.000000                      0.205199   \n",
      "Plt Nadir while on Ibrutinib          0.205199                      1.000000   \n",
      "Prior lines of therapy               -0.303865                     -0.291469   \n",
      "\n",
      "                              Prior lines of therapy  \n",
      "Age at diagnosis                           -0.303865  \n",
      "Plt Nadir while on Ibrutinib               -0.291469  \n",
      "Prior lines of therapy                      1.000000  \n"
     ]
    },
    {
     "data": {
      "text/plain": [
       "Text(0.5, 1.0, 'Correlation Heatmap')"
      ]
     },
     "execution_count": 4,
     "metadata": {},
     "output_type": "execute_result"
    },
    {
     "data": {
      "image/png": "[encoded data removed]",
      "text/plain": [
       "<Figure size 1080x720 with 2 Axes>"
      ]
     },
     "metadata": {
      "needs_background": "light"
     },
     "output_type": "display_data"
    }
   ],
   "source": [
    "df_cont[\"Age at diagnosis\"] = pd.to_numeric(df_cont[\"Age at diagnosis\"], downcast=\"float\")\n",
    "\n",
    "print(df_cont.corr(method='pearson'))\n",
    "fig = plt.figure(figsize=(15,10))\n",
    "sns.heatmap(df_cont.corr(method='pearson'), annot = True, cmap=\"Blues\")\n",
    "plt.title(\"Correlation Heatmap\")"
   ]
  },
  {
   "cell_type": "markdown",
   "id": "ece4b16d",
   "metadata": {},
   "source": [
    "Check the second set of continous variables for correlations."
   ]
  },
  {
   "cell_type": "code",
   "execution_count": 5,
   "id": "9431471f",
   "metadata": {},
   "outputs": [
    {
     "name": "stdout",
     "output_type": "stream",
     "text": [
      "                          plt at the time of bleed  hb at the time of bleed\n",
      "plt at the time of bleed                  1.000000                 0.317851\n",
      "hb at the time of bleed                   0.317851                 1.000000\n"
     ]
    },
    {
     "data": {
      "text/plain": [
       "Text(0.5, 1.0, 'Correlation Heatmap')"
      ]
     },
     "execution_count": 5,
     "metadata": {},
     "output_type": "execute_result"
    },
    {
     "data": {
      "image/png": "[encoded data removed]",
      "text/plain": [
       "<Figure size 1080x720 with 2 Axes>"
      ]
     },
     "metadata": {
      "needs_background": "light"
     },
     "output_type": "display_data"
    }
   ],
   "source": [
    "df_cont2[\"plt at the time of bleed\"] = pd.to_numeric(df_cont2[\"plt at the time of bleed\"], downcast=\"float\")\n",
    "df_cont2[\"hb at the time of bleed\"] = pd.to_numeric(df_cont2[\"hb at the time of bleed\"], downcast=\"float\")\n",
    "\n",
    "print(df_cont2.corr(method='pearson'))\n",
    "fig = plt.figure(figsize=(15,10))\n",
    "sns.heatmap(df_cont2.corr(method='pearson'), annot = True, cmap=\"Blues\")\n",
    "plt.title(\"Correlation Heatmap\")"
   ]
  },
  {
   "cell_type": "code",
   "execution_count": null,
   "id": "a9c26b19",
   "metadata": {},
   "outputs": [],
   "source": []
  }
 ],
 "metadata": {
  "kernelspec": {
   "display_name": "Python 3",
   "language": "python",
   "name": "python3"
  },
  "language_info": {
   "codemirror_mode": {
    "name": "ipython",
    "version": 3
   },
   "file_extension": ".py",
   "mimetype": "text/x-python",
   "name": "python",
   "nbconvert_exporter": "python",
   "pygments_lexer": "ipython3",
   "version": "3.8.8"
  }
 },
 "nbformat": 4,
 "nbformat_minor": 5
}
