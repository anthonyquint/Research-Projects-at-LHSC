{
 "cells": [
  {
   "cell_type": "markdown",
   "id": "c750fe23",
   "metadata": {},
   "source": [
    "I will be performing a survival analysis of the amount of days on Ibruntinib, where the event of interest is death (everything else is censored). \n",
    "\n",
    "I'll be applying the cox proportional hazards model. \n",
    "\n",
    "The relevant independent variables are: \n",
    "age of diagnosis, gender, platelet count, anti-coagulation, antiplatelet, invasive procedure (which I believe is PMHx bleeding risk), (maybe INR later), Molecular/cytogenetics, anemia, prior lines of therapy, major bleed (major vs. minor vs. none)\n",
    "\n",
    "The relevant output variables are: duration on ibrunitinb and Death (by last FU) "
   ]
  },
  {
   "cell_type": "markdown",
   "id": "f5a9fc07",
   "metadata": {},
   "source": [
    "Load necessary libraries "
   ]
  },
  {
   "cell_type": "code",
   "execution_count": 1,
   "id": "6d0702ae",
   "metadata": {
    "collapsed": true
   },
   "outputs": [
    {
     "name": "stderr",
     "output_type": "stream",
     "text": [
      "Loading required package: ggplot2\n",
      "Loading required package: ggpubr\n"
     ]
    },
    {
     "name": "stdout",
     "output_type": "stream",
     "text": [
      "[1] \"complete\"\n"
     ]
    }
   ],
   "source": [
    "library(\"survival\")\n",
    "library(\"survminer\")\n",
    "\n",
    "print(\"complete\")"
   ]
  },
  {
   "cell_type": "markdown",
   "id": "44e2e499",
   "metadata": {},
   "source": [
    "Load dataset"
   ]
  },
  {
   "cell_type": "code",
   "execution_count": 3,
   "id": "b0442b5d",
   "metadata": {},
   "outputs": [
    {
     "data": {
      "text/html": [
       "<table>\n",
       "<thead><tr><th scope=col>X</th><th scope=col>Age.at.diagnosis</th><th scope=col>gender</th><th scope=col>Platelets...50..Y.N.</th><th scope=col>Plt.Nadir.while.on.Ibrutinib</th><th scope=col>Anemia..hb...100...Y.N.</th><th scope=col>Anemia..hb...110...Y.N.</th><th scope=col>HR.Molecular.Cytogenetics..Y.N.</th><th scope=col>Prior.lines.of.therapy</th><th scope=col>Prior.lines.of.therapy.1</th><th scope=col>...</th><th scope=col>PMHx.bleeding.risk..Y.N.</th><th scope=col>Major.Bleed..Y.N.</th><th scope=col>Major.Bleed</th><th scope=col>Minor.Bleed</th><th scope=col>duration.of.ibrutinib..in.days.</th><th scope=col>Death..only.by.last.FU.</th><th scope=col>Bleed.1_MajOrMin.1...censored..2...event.</th><th scope=col>Bleed.1_Time_on_Ibruntinib</th><th scope=col>Bleed.2_MajOnly.1...censored..2...event.</th><th scope=col>Bleed.2_Time_on_Ibruntinib</th></tr></thead>\n",
       "<tbody>\n",
       "\t<tr><td>0   </td><td>48  </td><td>0   </td><td>1   </td><td> 15 </td><td>1   </td><td>1   </td><td>1   </td><td>1   </td><td>1   </td><td>... </td><td>1   </td><td>0   </td><td>0   </td><td>0   </td><td> 670</td><td>1   </td><td>1   </td><td> 670</td><td>1   </td><td> 670</td></tr>\n",
       "\t<tr><td>1   </td><td>66  </td><td>1   </td><td>0   </td><td> 93 </td><td>1   </td><td>1   </td><td>1   </td><td>0   </td><td>0   </td><td>... </td><td>0   </td><td>1   </td><td>0   </td><td>1   </td><td> 502</td><td>1   </td><td>2   </td><td> 466</td><td>1   </td><td> 502</td></tr>\n",
       "\t<tr><td>2   </td><td>74  </td><td>0   </td><td>0   </td><td>189 </td><td>1   </td><td>1   </td><td>1   </td><td>1   </td><td>1   </td><td>... </td><td>0   </td><td>0   </td><td>0   </td><td>0   </td><td> 103</td><td>1   </td><td>1   </td><td> 103</td><td>1   </td><td> 103</td></tr>\n",
       "\t<tr><td>3   </td><td>53  </td><td>0   </td><td>1   </td><td> 40 </td><td>0   </td><td>0   </td><td>0   </td><td>2   </td><td>0   </td><td>... </td><td>0   </td><td>0   </td><td>0   </td><td>0   </td><td>1316</td><td>2   </td><td>1   </td><td>1316</td><td>1   </td><td>1316</td></tr>\n",
       "\t<tr><td>4   </td><td>60  </td><td>1   </td><td>1   </td><td> 49 </td><td>0   </td><td>1   </td><td>0   </td><td>3   </td><td>0   </td><td>... </td><td>0   </td><td>2   </td><td>1   </td><td>0   </td><td>2086</td><td>2   </td><td>2   </td><td>  NA</td><td>2   </td><td>  NA</td></tr>\n",
       "\t<tr><td>5   </td><td>51  </td><td>1   </td><td>1   </td><td> 16 </td><td>1   </td><td>1   </td><td>0   </td><td>2   </td><td>0   </td><td>... </td><td>0   </td><td>0   </td><td>0   </td><td>0   </td><td>1870</td><td>1   </td><td>1   </td><td>1870</td><td>1   </td><td>1870</td></tr>\n",
       "</tbody>\n",
       "</table>\n"
      ],
      "text/latex": [
       "\\begin{tabular}{r|llllllllllllllllllllllllll}\n",
       " X & Age.at.diagnosis & gender & Platelets...50..Y.N. & Plt.Nadir.while.on.Ibrutinib & Anemia..hb...100...Y.N. & Anemia..hb...110...Y.N. & HR.Molecular.Cytogenetics..Y.N. & Prior.lines.of.therapy & Prior.lines.of.therapy.1 & ... & PMHx.bleeding.risk..Y.N. & Major.Bleed..Y.N. & Major.Bleed & Minor.Bleed & duration.of.ibrutinib..in.days. & Death..only.by.last.FU. & Bleed.1\\_MajOrMin.1...censored..2...event. & Bleed.1\\_Time\\_on\\_Ibruntinib & Bleed.2\\_MajOnly.1...censored..2...event. & Bleed.2\\_Time\\_on\\_Ibruntinib\\\\\n",
       "\\hline\n",
       "\t 0    & 48   & 0    & 1    &  15  & 1    & 1    & 1    & 1    & 1    & ...  & 1    & 0    & 0    & 0    &  670 & 1    & 1    &  670 & 1    &  670\\\\\n",
       "\t 1    & 66   & 1    & 0    &  93  & 1    & 1    & 1    & 0    & 0    & ...  & 0    & 1    & 0    & 1    &  502 & 1    & 2    &  466 & 1    &  502\\\\\n",
       "\t 2    & 74   & 0    & 0    & 189  & 1    & 1    & 1    & 1    & 1    & ...  & 0    & 0    & 0    & 0    &  103 & 1    & 1    &  103 & 1    &  103\\\\\n",
       "\t 3    & 53   & 0    & 1    &  40  & 0    & 0    & 0    & 2    & 0    & ...  & 0    & 0    & 0    & 0    & 1316 & 2    & 1    & 1316 & 1    & 1316\\\\\n",
       "\t 4    & 60   & 1    & 1    &  49  & 0    & 1    & 0    & 3    & 0    & ...  & 0    & 2    & 1    & 0    & 2086 & 2    & 2    &   NA & 2    &   NA\\\\\n",
       "\t 5    & 51   & 1    & 1    &  16  & 1    & 1    & 0    & 2    & 0    & ...  & 0    & 0    & 0    & 0    & 1870 & 1    & 1    & 1870 & 1    & 1870\\\\\n",
       "\\end{tabular}\n"
      ],
      "text/markdown": [
       "\n",
       "| X | Age.at.diagnosis | gender | Platelets...50..Y.N. | Plt.Nadir.while.on.Ibrutinib | Anemia..hb...100...Y.N. | Anemia..hb...110...Y.N. | HR.Molecular.Cytogenetics..Y.N. | Prior.lines.of.therapy | Prior.lines.of.therapy.1 | ... | PMHx.bleeding.risk..Y.N. | Major.Bleed..Y.N. | Major.Bleed | Minor.Bleed | duration.of.ibrutinib..in.days. | Death..only.by.last.FU. | Bleed.1_MajOrMin.1...censored..2...event. | Bleed.1_Time_on_Ibruntinib | Bleed.2_MajOnly.1...censored..2...event. | Bleed.2_Time_on_Ibruntinib |\n",
       "|---|---|---|---|---|---|---|---|---|---|---|---|---|---|---|---|---|---|---|---|---|\n",
       "| 0    | 48   | 0    | 1    |  15  | 1    | 1    | 1    | 1    | 1    | ...  | 1    | 0    | 0    | 0    |  670 | 1    | 1    |  670 | 1    |  670 |\n",
       "| 1    | 66   | 1    | 0    |  93  | 1    | 1    | 1    | 0    | 0    | ...  | 0    | 1    | 0    | 1    |  502 | 1    | 2    |  466 | 1    |  502 |\n",
       "| 2    | 74   | 0    | 0    | 189  | 1    | 1    | 1    | 1    | 1    | ...  | 0    | 0    | 0    | 0    |  103 | 1    | 1    |  103 | 1    |  103 |\n",
       "| 3    | 53   | 0    | 1    |  40  | 0    | 0    | 0    | 2    | 0    | ...  | 0    | 0    | 0    | 0    | 1316 | 2    | 1    | 1316 | 1    | 1316 |\n",
       "| 4    | 60   | 1    | 1    |  49  | 0    | 1    | 0    | 3    | 0    | ...  | 0    | 2    | 1    | 0    | 2086 | 2    | 2    |   NA | 2    |   NA |\n",
       "| 5    | 51   | 1    | 1    |  16  | 1    | 1    | 0    | 2    | 0    | ...  | 0    | 0    | 0    | 0    | 1870 | 1    | 1    | 1870 | 1    | 1870 |\n",
       "\n"
      ],
      "text/plain": [
       "  X Age.at.diagnosis gender Platelets...50..Y.N. Plt.Nadir.while.on.Ibrutinib\n",
       "1 0 48               0      1                     15                         \n",
       "2 1 66               1      0                     93                         \n",
       "3 2 74               0      0                    189                         \n",
       "4 3 53               0      1                     40                         \n",
       "5 4 60               1      1                     49                         \n",
       "6 5 51               1      1                     16                         \n",
       "  Anemia..hb...100...Y.N. Anemia..hb...110...Y.N.\n",
       "1 1                       1                      \n",
       "2 1                       1                      \n",
       "3 1                       1                      \n",
       "4 0                       0                      \n",
       "5 0                       1                      \n",
       "6 1                       1                      \n",
       "  HR.Molecular.Cytogenetics..Y.N. Prior.lines.of.therapy\n",
       "1 1                               1                     \n",
       "2 1                               0                     \n",
       "3 1                               1                     \n",
       "4 0                               2                     \n",
       "5 0                               3                     \n",
       "6 0                               2                     \n",
       "  Prior.lines.of.therapy.1 ... PMHx.bleeding.risk..Y.N. Major.Bleed..Y.N.\n",
       "1 1                        ... 1                        0                \n",
       "2 0                        ... 0                        1                \n",
       "3 1                        ... 0                        0                \n",
       "4 0                        ... 0                        0                \n",
       "5 0                        ... 0                        2                \n",
       "6 0                        ... 0                        0                \n",
       "  Major.Bleed Minor.Bleed duration.of.ibrutinib..in.days.\n",
       "1 0           0            670                           \n",
       "2 0           1            502                           \n",
       "3 0           0            103                           \n",
       "4 0           0           1316                           \n",
       "5 1           0           2086                           \n",
       "6 0           0           1870                           \n",
       "  Death..only.by.last.FU. Bleed.1_MajOrMin.1...censored..2...event.\n",
       "1 1                       1                                        \n",
       "2 1                       2                                        \n",
       "3 1                       1                                        \n",
       "4 2                       1                                        \n",
       "5 2                       2                                        \n",
       "6 1                       1                                        \n",
       "  Bleed.1_Time_on_Ibruntinib Bleed.2_MajOnly.1...censored..2...event.\n",
       "1  670                       1                                       \n",
       "2  466                       1                                       \n",
       "3  103                       1                                       \n",
       "4 1316                       1                                       \n",
       "5   NA                       2                                       \n",
       "6 1870                       1                                       \n",
       "  Bleed.2_Time_on_Ibruntinib\n",
       "1  670                      \n",
       "2  502                      \n",
       "3  103                      \n",
       "4 1316                      \n",
       "5   NA                      \n",
       "6 1870                      "
      ]
     },
     "metadata": {},
     "output_type": "display_data"
    }
   ],
   "source": [
    "# Import the data and look at the first six rows\n",
    "bleed_data <- read.csv(file = '/Users/anthonyquint/Desktop/LHSC_Work_Folder/Mina/Bleeding_study/Ibrutinib Data Set, July 13,2021, de- identified data_cleaned_forSurvAnal.csv')\n",
    "## bleed_data_cyto is the dataset with the rows that have 'unknown' cytogenetics removed. Only use this data set \n",
    "## when plotting survival curves where cytogenetics are the stratification factor \n",
    "bleed_data_cyto <- read.csv(file = '/Users/anthonyquint/Desktop/LHSC_Work_Folder/Mina/Bleeding_study/Ibrutinib Data Set, July 13,2021, de- identified data_cleaned_forSurvAnal_CtyoCleaned.csv')\n",
    "head(bleed_data_cyto)"
   ]
  },
  {
   "cell_type": "markdown",
   "id": "3f8da482",
   "metadata": {},
   "source": [
    "Univariate Cox regression analysis"
   ]
  },
  {
   "cell_type": "code",
   "execution_count": 26,
   "id": "b16ef37c",
   "metadata": {},
   "outputs": [
    {
     "data": {
      "text/plain": [
       "Call:\n",
       "coxph(formula = Surv(Bleed.2_Time_on_Ibruntinib, Bleed.2_MajOnly.1...censored..2...event.) ~ \n",
       "    anti.platelet..Y.N., data = bleed_data)\n",
       "\n",
       "  n= 168, number of events= 16 \n",
       "   (1 observation deleted due to missingness)\n",
       "\n",
       "                      coef exp(coef) se(coef)     z Pr(>|z|)\n",
       "anti.platelet..Y.N. 0.4190    1.5204   0.5779 0.725    0.468\n",
       "\n",
       "                    exp(coef) exp(-coef) lower .95 upper .95\n",
       "anti.platelet..Y.N.      1.52     0.6577    0.4898     4.719\n",
       "\n",
       "Concordance= 0.549  (se = 0.058 )\n",
       "Likelihood ratio test= 0.49  on 1 df,   p=0.5\n",
       "Wald test            = 0.53  on 1 df,   p=0.5\n",
       "Score (logrank) test = 0.53  on 1 df,   p=0.5\n"
      ]
     },
     "metadata": {},
     "output_type": "display_data"
    }
   ],
   "source": [
    "res.cox <- coxph(Surv(Bleed.2_Time_on_Ibruntinib,Bleed.2_MajOnly.1...censored..2...event.) ~ anti.platelet..Y.N., data =  bleed_data)\n",
    "summary(res.cox)"
   ]
  },
  {
   "cell_type": "markdown",
   "id": "41856fe5",
   "metadata": {},
   "source": [
    "Univariate "
   ]
  },
  {
   "cell_type": "markdown",
   "id": "349c7b60",
   "metadata": {},
   "source": [
    "Multivariate Cox regression analysis"
   ]
  },
  {
   "cell_type": "code",
   "execution_count": 27,
   "id": "cf2102ea",
   "metadata": {},
   "outputs": [
    {
     "data": {
      "text/plain": [
       "Call:\n",
       "coxph(formula = Surv(Bleed.2_Time_on_Ibruntinib, Bleed.2_MajOnly.1...censored..2...event.) ~ \n",
       "    Plt.Nadir.while.on.Ibrutinib + anticoagulation..Y.N. + Anemia..hb...100...Y.N., \n",
       "    data = bleed_data)\n",
       "\n",
       "  n= 168, number of events= 16 \n",
       "   (1 observation deleted due to missingness)\n",
       "\n",
       "                                  coef exp(coef)  se(coef)      z Pr(>|z|)  \n",
       "Plt.Nadir.while.on.Ibrutinib -0.005031  0.994982  0.005606 -0.897   0.3696  \n",
       "anticoagulation..Y.N.         1.257831  3.517783  0.524479  2.398   0.0165 *\n",
       "Anemia..hb...100...Y.N.       1.378314  3.968204  0.608248  2.266   0.0234 *\n",
       "---\n",
       "Signif. codes:  0 ‘***’ 0.001 ‘**’ 0.01 ‘*’ 0.05 ‘.’ 0.1 ‘ ’ 1\n",
       "\n",
       "                             exp(coef) exp(-coef) lower .95 upper .95\n",
       "Plt.Nadir.while.on.Ibrutinib     0.995     1.0050    0.9841     1.006\n",
       "anticoagulation..Y.N.            3.518     0.2843    1.2584     9.833\n",
       "Anemia..hb...100...Y.N.          3.968     0.2520    1.2046    13.072\n",
       "\n",
       "Concordance= 0.773  (se = 0.061 )\n",
       "Likelihood ratio test= 11.95  on 3 df,   p=0.008\n",
       "Wald test            = 11.43  on 3 df,   p=0.01\n",
       "Score (logrank) test = 12.35  on 3 df,   p=0.006\n"
      ]
     },
     "metadata": {},
     "output_type": "display_data"
    }
   ],
   "source": [
    "# excluding HR molecular cytogenetics because then I would have to \n",
    "# eliminate all the rows with \"unknown\" cytogenetics \n",
    "\n",
    "res.cox <- coxph(Surv(Bleed.2_Time_on_Ibruntinib,Bleed.2_MajOnly.1...censored..2...event.) ~  Plt.Nadir.while.on.Ibrutinib + anticoagulation..Y.N. + Anemia..hb...100...Y.N., data = bleed_data)\n",
    "summary(res.cox)"
   ]
  },
  {
   "cell_type": "markdown",
   "id": "949775e1",
   "metadata": {},
   "source": [
    "Plot survival curves if I want? http://www.sthda.com/english/wiki/cox-proportional-hazards-model It explains how to do so here"
   ]
  },
  {
   "cell_type": "code",
   "execution_count": null,
   "id": "f3c5f761",
   "metadata": {},
   "outputs": [],
   "source": []
  }
 ],
 "metadata": {
  "kernelspec": {
   "display_name": "R",
   "language": "R",
   "name": "ir"
  },
  "language_info": {
   "codemirror_mode": "r",
   "file_extension": ".r",
   "mimetype": "text/x-r-source",
   "name": "R",
   "pygments_lexer": "r",
   "version": "3.6.1"
  }
 },
 "nbformat": 4,
 "nbformat_minor": 5
}
