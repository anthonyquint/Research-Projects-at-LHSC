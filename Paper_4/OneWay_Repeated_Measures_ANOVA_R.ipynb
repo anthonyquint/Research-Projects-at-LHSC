{
 "cells": [
  {
   "cell_type": "markdown",
   "id": "fd9eb9ec",
   "metadata": {},
   "source": [
    "Load libraries "
   ]
  },
  {
   "cell_type": "code",
   "execution_count": null,
   "id": "555219e2",
   "metadata": {},
   "outputs": [],
   "source": [
    "#library(xlsx)\n",
    "library(rstatix)\n",
    "#library(reshape)\n",
    "library(tidyverse)\n",
    "library(dplyr)\n",
    "library(ggpubr)\n",
    "library(plyr)\n",
    "#library(datarium)\n",
    "\n",
    "print(\"complete\")"
   ]
  },
  {
   "cell_type": "markdown",
   "id": "6f14d4c8",
   "metadata": {},
   "source": [
    "Load dataset"
   ]
  },
  {
   "cell_type": "code",
   "execution_count": null,
   "id": "c75e82e4",
   "metadata": {},
   "outputs": [],
   "source": [
    "w_original <- read.csv(file = '/Users/anthonyquint/Desktop/LHSC_Work_Folder/Rhythm/Time_varying_data/Weight_TimeVarying_Data.csv') \n",
    "w_cleaned <- read.csv(file = '/Users/anthonyquint/Desktop/LHSC_Work_Folder/Rhythm/Time_varying_data/Weight_TimeVarying_Data_cleaned.csv')\n",
    "\n",
    "ldh_original <- read.csv(file = '/Users/anthonyquint/Desktop/LHSC_Work_Folder/Rhythm/Time_varying_data/LDH_time_varying_data.csv')\n",
    "ldh_cleaned <- read.csv(file = '/Users/anthonyquint/Desktop/LHSC_Work_Folder/Rhythm/Time_varying_data/LDH_time_varying_data_cleaned.csv')\n",
    "\n",
    "dd_original <- read.csv(file = '/Users/anthonyquint/Desktop/LHSC_Work_Folder/Rhythm/Time_varying_data/ddimer_time_varying_data.csv')\n",
    "dd_cleaned <- read.csv(file = '/Users/anthonyquint/Desktop/LHSC_Work_Folder/Rhythm/Time_varying_data/ddimer_time_varying_data_cleaned.csv')\n",
    "\n",
    "crp_original <- read.csv(file = '/Users/anthonyquint/Desktop/LHSC_Work_Folder/Rhythm/Time_varying_data/crp_time_varying_data.csv') \n",
    "crp_cleaned <- read.csv(file = '/Users/anthonyquint/Desktop/LHSC_Work_Folder/Rhythm/Time_varying_data/crp_time_varying_data_cleaned.csv')\n",
    "\n",
    "b2m_original <- read.csv(file = '/Users/anthonyquint/Desktop/LHSC_Work_Folder/Rhythm/Time_varying_data/b2m_time_varying_data.csv')\n",
    "b2m_cleaned <- read.csv(file = '/Users/anthonyquint/Desktop/LHSC_Work_Folder/Rhythm/Time_varying_data/b2m_time_varying_data_cleaned.csv')\n",
    "\n",
    "weight_data <- b2m_cleaned\n",
    "head(weight_data)"
   ]
  },
  {
   "cell_type": "markdown",
   "id": "85961787",
   "metadata": {},
   "source": [
    "Convert \"study_id' and 'visit' into categorical variables (i.e. factors)"
   ]
  },
  {
   "cell_type": "code",
   "execution_count": null,
   "id": "23c492e0",
   "metadata": {},
   "outputs": [],
   "source": [
    "convert_as_factor(weight_data$study_id)\n",
    "convert_as_factor(weight_data$visit)"
   ]
  },
  {
   "cell_type": "markdown",
   "id": "adc50b74",
   "metadata": {},
   "source": [
    "Display summary of data"
   ]
  },
  {
   "cell_type": "code",
   "execution_count": null,
   "id": "eb8aa50b",
   "metadata": {},
   "outputs": [],
   "source": [
    "summary<-weight_data %>%\n",
    "group_by(visit) %>%\n",
    "get_summary_stats(score, type = \"mean_sd\")\n",
    "data.frame(summary)"
   ]
  },
  {
   "cell_type": "markdown",
   "id": "8b963ecf",
   "metadata": {},
   "source": [
    "Outlier detection"
   ]
  },
  {
   "cell_type": "code",
   "execution_count": null,
   "id": "93b6cb83",
   "metadata": {},
   "outputs": [],
   "source": [
    "outlier<-weight_data %>%\n",
    "group_by(visit) %>%\n",
    "identify_outliers(score)\n",
    "data.frame(outlier)\n",
    "print(\"Consider removing outliers\")"
   ]
  },
  {
   "cell_type": "markdown",
   "id": "ea58b191",
   "metadata": {},
   "source": [
    "Normality Checking"
   ]
  },
  {
   "cell_type": "code",
   "execution_count": null,
   "id": "e14796dd",
   "metadata": {},
   "outputs": [],
   "source": [
    "normality<-weight_data %>%\n",
    "group_by(visit) %>%\n",
    "shapiro_test(score)\n",
    "data.frame(normality)\n",
    "print(\"p must be >0.05 for normality condition to be satisified\")"
   ]
  },
  {
   "cell_type": "markdown",
   "id": "9ab7dd94",
   "metadata": {},
   "source": [
    "Applying anova test and spherecity assumption"
   ]
  },
  {
   "cell_type": "code",
   "execution_count": null,
   "id": "a3ed6ead",
   "metadata": {},
   "outputs": [],
   "source": [
    "res<-anova_test(data=weight_data,dv=score,wid=study_id,within=visit) \n",
    "get_anova_table(res)"
   ]
  },
  {
   "cell_type": "markdown",
   "id": "4e41a0ba",
   "metadata": {},
   "source": [
    "Pair Wise comparison "
   ]
  },
  {
   "cell_type": "code",
   "execution_count": null,
   "id": "713e7bd5",
   "metadata": {},
   "outputs": [],
   "source": [
    "pair<-weight_data %>% \n",
    "pairwise_t_test( score~visit,paired=TRUE, p.adjust.method = \"bonferroni\" ) \n",
    "data.frame(pair)"
   ]
  },
  {
   "cell_type": "code",
   "execution_count": null,
   "id": "ed7bfa0c",
   "metadata": {},
   "outputs": [],
   "source": []
  }
 ],
 "metadata": {
  "kernelspec": {
   "display_name": "R",
   "language": "R",
   "name": "ir"
  },
  "language_info": {
   "codemirror_mode": "r",
   "file_extension": ".r",
   "mimetype": "text/x-r-source",
   "name": "R",
   "pygments_lexer": "r",
   "version": "3.6.1"
  }
 },
 "nbformat": 4,
 "nbformat_minor": 5
}
