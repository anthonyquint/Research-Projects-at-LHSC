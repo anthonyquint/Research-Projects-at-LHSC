{
 "cells": [
  {
   "cell_type": "markdown",
   "id": "a26070af",
   "metadata": {},
   "source": [
    "Going to perform a two-way repeated measures ANOVA (mixed). The between measures variables will be the drug they are taking (aspiring vs.  Rivaroxaban). The within measures variable will be the 3 times the patient is checked during follow-up appointments. \n",
    "\n",
    "I'll be assessing how the treatment (drug) type and time influence certain scores, such as LDH concentration, etc. "
   ]
  },
  {
   "cell_type": "markdown",
   "id": "0c2c9ab1",
   "metadata": {},
   "source": [
    "Load libraries"
   ]
  },
  {
   "cell_type": "code",
   "execution_count": 1,
   "id": "be88eee3",
   "metadata": {},
   "outputs": [
    {
     "name": "stderr",
     "output_type": "stream",
     "text": [
      "\n",
      "Attaching package: ‘rstatix’\n",
      "\n",
      "The following object is masked from ‘package:stats’:\n",
      "\n",
      "    filter\n",
      "\n",
      "Registered S3 methods overwritten by 'lme4':\n",
      "  method                          from\n",
      "  cooks.distance.influence.merMod car \n",
      "  influence.merMod                car \n",
      "  dfbeta.influence.merMod         car \n",
      "  dfbetas.influence.merMod        car \n"
     ]
    },
    {
     "name": "stdout",
     "output_type": "stream",
     "text": [
      "[1] \"complete\"\n"
     ]
    }
   ],
   "source": [
    "library(rstatix)\n",
    "library(ez)\n",
    "\n",
    "print(\"complete\")"
   ]
  },
  {
   "cell_type": "markdown",
   "id": "fbd9c6a4",
   "metadata": {},
   "source": [
    "Load dataset"
   ]
  },
  {
   "cell_type": "code",
   "execution_count": 2,
   "id": "58e3f524",
   "metadata": {},
   "outputs": [
    {
     "data": {
      "text/html": [
       "<table>\n",
       "<thead><tr><th scope=col>treatment</th><th scope=col>visit_lab</th><th scope=col>score</th></tr></thead>\n",
       "<tbody>\n",
       "\t<tr><td>2  </td><td>1  </td><td>204</td></tr>\n",
       "\t<tr><td>2  </td><td>2  </td><td>185</td></tr>\n",
       "\t<tr><td>2  </td><td>3  </td><td>206</td></tr>\n",
       "\t<tr><td>1  </td><td>1  </td><td>144</td></tr>\n",
       "\t<tr><td>1  </td><td>2  </td><td>145</td></tr>\n",
       "\t<tr><td>1  </td><td>3  </td><td>151</td></tr>\n",
       "\t<tr><td>1  </td><td>1  </td><td>373</td></tr>\n",
       "\t<tr><td>1  </td><td>2  </td><td>264</td></tr>\n",
       "\t<tr><td>1  </td><td>3  </td><td>302</td></tr>\n",
       "\t<tr><td>2  </td><td>1  </td><td>171</td></tr>\n",
       "\t<tr><td>2  </td><td>2  </td><td>167</td></tr>\n",
       "\t<tr><td>2  </td><td>3  </td><td>163</td></tr>\n",
       "\t<tr><td>2  </td><td>1  </td><td>220</td></tr>\n",
       "\t<tr><td>2  </td><td>2  </td><td>239</td></tr>\n",
       "\t<tr><td>2  </td><td>3  </td><td>224</td></tr>\n",
       "\t<tr><td>1  </td><td>1  </td><td>197</td></tr>\n",
       "\t<tr><td>1  </td><td>2  </td><td>217</td></tr>\n",
       "\t<tr><td>1  </td><td>3  </td><td>192</td></tr>\n",
       "\t<tr><td>1  </td><td>1  </td><td>186</td></tr>\n",
       "\t<tr><td>1  </td><td>2  </td><td>206</td></tr>\n",
       "\t<tr><td>1  </td><td>3  </td><td>199</td></tr>\n",
       "\t<tr><td>2  </td><td>1  </td><td>153</td></tr>\n",
       "\t<tr><td>2  </td><td>2  </td><td>225</td></tr>\n",
       "\t<tr><td>2  </td><td>3  </td><td>218</td></tr>\n",
       "\t<tr><td>1  </td><td>1  </td><td> 99</td></tr>\n",
       "\t<tr><td>1  </td><td>2  </td><td>111</td></tr>\n",
       "\t<tr><td>1  </td><td>3  </td><td>101</td></tr>\n",
       "\t<tr><td>2  </td><td>1  </td><td>202</td></tr>\n",
       "\t<tr><td>2  </td><td>2  </td><td>204</td></tr>\n",
       "\t<tr><td>2  </td><td>3  </td><td>199</td></tr>\n",
       "</tbody>\n",
       "</table>\n"
      ],
      "text/latex": [
       "\\begin{tabular}{r|lll}\n",
       " treatment & visit\\_lab & score\\\\\n",
       "\\hline\n",
       "\t 2   & 1   & 204\\\\\n",
       "\t 2   & 2   & 185\\\\\n",
       "\t 2   & 3   & 206\\\\\n",
       "\t 1   & 1   & 144\\\\\n",
       "\t 1   & 2   & 145\\\\\n",
       "\t 1   & 3   & 151\\\\\n",
       "\t 1   & 1   & 373\\\\\n",
       "\t 1   & 2   & 264\\\\\n",
       "\t 1   & 3   & 302\\\\\n",
       "\t 2   & 1   & 171\\\\\n",
       "\t 2   & 2   & 167\\\\\n",
       "\t 2   & 3   & 163\\\\\n",
       "\t 2   & 1   & 220\\\\\n",
       "\t 2   & 2   & 239\\\\\n",
       "\t 2   & 3   & 224\\\\\n",
       "\t 1   & 1   & 197\\\\\n",
       "\t 1   & 2   & 217\\\\\n",
       "\t 1   & 3   & 192\\\\\n",
       "\t 1   & 1   & 186\\\\\n",
       "\t 1   & 2   & 206\\\\\n",
       "\t 1   & 3   & 199\\\\\n",
       "\t 2   & 1   & 153\\\\\n",
       "\t 2   & 2   & 225\\\\\n",
       "\t 2   & 3   & 218\\\\\n",
       "\t 1   & 1   &  99\\\\\n",
       "\t 1   & 2   & 111\\\\\n",
       "\t 1   & 3   & 101\\\\\n",
       "\t 2   & 1   & 202\\\\\n",
       "\t 2   & 2   & 204\\\\\n",
       "\t 2   & 3   & 199\\\\\n",
       "\\end{tabular}\n"
      ],
      "text/markdown": [
       "\n",
       "| treatment | visit_lab | score |\n",
       "|---|---|---|\n",
       "| 2   | 1   | 204 |\n",
       "| 2   | 2   | 185 |\n",
       "| 2   | 3   | 206 |\n",
       "| 1   | 1   | 144 |\n",
       "| 1   | 2   | 145 |\n",
       "| 1   | 3   | 151 |\n",
       "| 1   | 1   | 373 |\n",
       "| 1   | 2   | 264 |\n",
       "| 1   | 3   | 302 |\n",
       "| 2   | 1   | 171 |\n",
       "| 2   | 2   | 167 |\n",
       "| 2   | 3   | 163 |\n",
       "| 2   | 1   | 220 |\n",
       "| 2   | 2   | 239 |\n",
       "| 2   | 3   | 224 |\n",
       "| 1   | 1   | 197 |\n",
       "| 1   | 2   | 217 |\n",
       "| 1   | 3   | 192 |\n",
       "| 1   | 1   | 186 |\n",
       "| 1   | 2   | 206 |\n",
       "| 1   | 3   | 199 |\n",
       "| 2   | 1   | 153 |\n",
       "| 2   | 2   | 225 |\n",
       "| 2   | 3   | 218 |\n",
       "| 1   | 1   |  99 |\n",
       "| 1   | 2   | 111 |\n",
       "| 1   | 3   | 101 |\n",
       "| 2   | 1   | 202 |\n",
       "| 2   | 2   | 204 |\n",
       "| 2   | 3   | 199 |\n",
       "\n"
      ],
      "text/plain": [
       "   treatment visit_lab score\n",
       "1  2         1         204  \n",
       "2  2         2         185  \n",
       "3  2         3         206  \n",
       "4  1         1         144  \n",
       "5  1         2         145  \n",
       "6  1         3         151  \n",
       "7  1         1         373  \n",
       "8  1         2         264  \n",
       "9  1         3         302  \n",
       "10 2         1         171  \n",
       "11 2         2         167  \n",
       "12 2         3         163  \n",
       "13 2         1         220  \n",
       "14 2         2         239  \n",
       "15 2         3         224  \n",
       "16 1         1         197  \n",
       "17 1         2         217  \n",
       "18 1         3         192  \n",
       "19 1         1         186  \n",
       "20 1         2         206  \n",
       "21 1         3         199  \n",
       "22 2         1         153  \n",
       "23 2         2         225  \n",
       "24 2         3         218  \n",
       "25 1         1          99  \n",
       "26 1         2         111  \n",
       "27 1         3         101  \n",
       "28 2         1         202  \n",
       "29 2         2         204  \n",
       "30 2         3         199  "
      ]
     },
     "metadata": {},
     "output_type": "display_data"
    }
   ],
   "source": [
    "ldh_original <- read.csv(file = '/Users/anthonyquint/Desktop/LHSC_Work_Folder/Rhythm/TIme_varying_data_part2/LDH_2wayANOVA.csv')\n",
    "ldh_cleaned <- read.csv(file = '/Users/anthonyquint/Desktop/LHSC_Work_Folder/Rhythm/TIme_varying_data_part2/LDH_2wayANOVA_cleaned.csv')\n",
    "ldh_cleaned_cleaned <- read.csv(file = '/Users/anthonyquint/Desktop/LHSC_Work_Folder/Rhythm/TIme_varying_data_part2/LDH_2wayANOVA_cleaned_cleaned.csv')\n",
    "\n",
    "dd_original <- read.csv(file = \"/Users/anthonyquint/Desktop/LHSC_Work_Folder/Rhythm/TIme_varying_data_part2/DDimer_2wayANOVA.csv\")\n",
    "crp_original <- read.csv(file = '/Users/anthonyquint/Desktop/LHSC_Work_Folder/Rhythm/TIme_varying_data_part2/Crp_2wayANOVA.csv')\n",
    "b2m_original <- read.csv(file = '/Users/anthonyquint/Desktop/LHSC_Work_Folder/Rhythm/TIme_varying_data_part2/b2m_2way_ANOVA.csv')\n",
    "\n",
    "\n",
    "dataa <- ldh_cleaned_cleaned\n",
    "select(dataa, treatment, visit_lab, score)"
   ]
  },
  {
   "cell_type": "markdown",
   "id": "5c37f2d4",
   "metadata": {},
   "source": [
    "Convert everything other than score into factors"
   ]
  },
  {
   "cell_type": "code",
   "execution_count": 3,
   "id": "95673c3d",
   "metadata": {},
   "outputs": [
    {
     "data": {
      "text/html": [
       "<ol class=list-inline>\n",
       "\t<li>3</li>\n",
       "\t<li>3</li>\n",
       "\t<li>3</li>\n",
       "\t<li>5</li>\n",
       "\t<li>5</li>\n",
       "\t<li>5</li>\n",
       "\t<li>8</li>\n",
       "\t<li>8</li>\n",
       "\t<li>8</li>\n",
       "\t<li>10</li>\n",
       "\t<li>10</li>\n",
       "\t<li>10</li>\n",
       "\t<li>522-7</li>\n",
       "\t<li>522-7</li>\n",
       "\t<li>522-7</li>\n",
       "\t<li>524-2</li>\n",
       "\t<li>524-2</li>\n",
       "\t<li>524-2</li>\n",
       "\t<li>524-3</li>\n",
       "\t<li>524-3</li>\n",
       "\t<li>524-3</li>\n",
       "\t<li>524-4</li>\n",
       "\t<li>524-4</li>\n",
       "\t<li>524-4</li>\n",
       "\t<li>524-5</li>\n",
       "\t<li>524-5</li>\n",
       "\t<li>524-5</li>\n",
       "\t<li>524-6</li>\n",
       "\t<li>524-6</li>\n",
       "\t<li>524-6</li>\n",
       "</ol>\n",
       "\n",
       "<details>\n",
       "\t<summary style=display:list-item;cursor:pointer>\n",
       "\t\t<strong>Levels</strong>:\n",
       "\t</summary>\n",
       "\t<ol class=list-inline>\n",
       "\t\t<li>'10'</li>\n",
       "\t\t<li>'3'</li>\n",
       "\t\t<li>'5'</li>\n",
       "\t\t<li>'522-7'</li>\n",
       "\t\t<li>'524-2'</li>\n",
       "\t\t<li>'524-3'</li>\n",
       "\t\t<li>'524-4'</li>\n",
       "\t\t<li>'524-5'</li>\n",
       "\t\t<li>'524-6'</li>\n",
       "\t\t<li>'8'</li>\n",
       "\t</ol>\n",
       "</details>"
      ],
      "text/latex": [
       "\\begin{enumerate*}\n",
       "\\item 3\n",
       "\\item 3\n",
       "\\item 3\n",
       "\\item 5\n",
       "\\item 5\n",
       "\\item 5\n",
       "\\item 8\n",
       "\\item 8\n",
       "\\item 8\n",
       "\\item 10\n",
       "\\item 10\n",
       "\\item 10\n",
       "\\item 522-7\n",
       "\\item 522-7\n",
       "\\item 522-7\n",
       "\\item 524-2\n",
       "\\item 524-2\n",
       "\\item 524-2\n",
       "\\item 524-3\n",
       "\\item 524-3\n",
       "\\item 524-3\n",
       "\\item 524-4\n",
       "\\item 524-4\n",
       "\\item 524-4\n",
       "\\item 524-5\n",
       "\\item 524-5\n",
       "\\item 524-5\n",
       "\\item 524-6\n",
       "\\item 524-6\n",
       "\\item 524-6\n",
       "\\end{enumerate*}\n",
       "\n",
       "\\emph{Levels}: \\begin{enumerate*}\n",
       "\\item '10'\n",
       "\\item '3'\n",
       "\\item '5'\n",
       "\\item '522-7'\n",
       "\\item '524-2'\n",
       "\\item '524-3'\n",
       "\\item '524-4'\n",
       "\\item '524-5'\n",
       "\\item '524-6'\n",
       "\\item '8'\n",
       "\\end{enumerate*}\n"
      ],
      "text/markdown": [
       "1. 3\n",
       "2. 3\n",
       "3. 3\n",
       "4. 5\n",
       "5. 5\n",
       "6. 5\n",
       "7. 8\n",
       "8. 8\n",
       "9. 8\n",
       "10. 10\n",
       "11. 10\n",
       "12. 10\n",
       "13. 522-7\n",
       "14. 522-7\n",
       "15. 522-7\n",
       "16. 524-2\n",
       "17. 524-2\n",
       "18. 524-2\n",
       "19. 524-3\n",
       "20. 524-3\n",
       "21. 524-3\n",
       "22. 524-4\n",
       "23. 524-4\n",
       "24. 524-4\n",
       "25. 524-5\n",
       "26. 524-5\n",
       "27. 524-5\n",
       "28. 524-6\n",
       "29. 524-6\n",
       "30. 524-6\n",
       "\n",
       "\n",
       "\n",
       "**Levels**: 1. '10'\n",
       "2. '3'\n",
       "3. '5'\n",
       "4. '522-7'\n",
       "5. '524-2'\n",
       "6. '524-3'\n",
       "7. '524-4'\n",
       "8. '524-5'\n",
       "9. '524-6'\n",
       "10. '8'\n",
       "\n",
       "\n"
      ],
      "text/plain": [
       " [1] 3     3     3     5     5     5     8     8     8     10    10    10   \n",
       "[13] 522-7 522-7 522-7 524-2 524-2 524-2 524-3 524-3 524-3 524-4 524-4 524-4\n",
       "[25] 524-5 524-5 524-5 524-6 524-6 524-6\n",
       "Levels: 10 3 5 522-7 524-2 524-3 524-4 524-5 524-6 8"
      ]
     },
     "metadata": {},
     "output_type": "display_data"
    },
    {
     "data": {
      "text/html": [
       "<ol class=list-inline>\n",
       "\t<li>2</li>\n",
       "\t<li>2</li>\n",
       "\t<li>2</li>\n",
       "\t<li>1</li>\n",
       "\t<li>1</li>\n",
       "\t<li>1</li>\n",
       "\t<li>1</li>\n",
       "\t<li>1</li>\n",
       "\t<li>1</li>\n",
       "\t<li>2</li>\n",
       "\t<li>2</li>\n",
       "\t<li>2</li>\n",
       "\t<li>2</li>\n",
       "\t<li>2</li>\n",
       "\t<li>2</li>\n",
       "\t<li>1</li>\n",
       "\t<li>1</li>\n",
       "\t<li>1</li>\n",
       "\t<li>1</li>\n",
       "\t<li>1</li>\n",
       "\t<li>1</li>\n",
       "\t<li>2</li>\n",
       "\t<li>2</li>\n",
       "\t<li>2</li>\n",
       "\t<li>1</li>\n",
       "\t<li>1</li>\n",
       "\t<li>1</li>\n",
       "\t<li>2</li>\n",
       "\t<li>2</li>\n",
       "\t<li>2</li>\n",
       "</ol>\n"
      ],
      "text/latex": [
       "\\begin{enumerate*}\n",
       "\\item 2\n",
       "\\item 2\n",
       "\\item 2\n",
       "\\item 1\n",
       "\\item 1\n",
       "\\item 1\n",
       "\\item 1\n",
       "\\item 1\n",
       "\\item 1\n",
       "\\item 2\n",
       "\\item 2\n",
       "\\item 2\n",
       "\\item 2\n",
       "\\item 2\n",
       "\\item 2\n",
       "\\item 1\n",
       "\\item 1\n",
       "\\item 1\n",
       "\\item 1\n",
       "\\item 1\n",
       "\\item 1\n",
       "\\item 2\n",
       "\\item 2\n",
       "\\item 2\n",
       "\\item 1\n",
       "\\item 1\n",
       "\\item 1\n",
       "\\item 2\n",
       "\\item 2\n",
       "\\item 2\n",
       "\\end{enumerate*}\n"
      ],
      "text/markdown": [
       "1. 2\n",
       "2. 2\n",
       "3. 2\n",
       "4. 1\n",
       "5. 1\n",
       "6. 1\n",
       "7. 1\n",
       "8. 1\n",
       "9. 1\n",
       "10. 2\n",
       "11. 2\n",
       "12. 2\n",
       "13. 2\n",
       "14. 2\n",
       "15. 2\n",
       "16. 1\n",
       "17. 1\n",
       "18. 1\n",
       "19. 1\n",
       "20. 1\n",
       "21. 1\n",
       "22. 2\n",
       "23. 2\n",
       "24. 2\n",
       "25. 1\n",
       "26. 1\n",
       "27. 1\n",
       "28. 2\n",
       "29. 2\n",
       "30. 2\n",
       "\n",
       "\n"
      ],
      "text/plain": [
       " [1] 2 2 2 1 1 1 1 1 1 2 2 2 2 2 2 1 1 1 1 1 1 2 2 2 1 1 1 2 2 2"
      ]
     },
     "metadata": {},
     "output_type": "display_data"
    },
    {
     "data": {
      "text/html": [
       "<ol class=list-inline>\n",
       "\t<li>1</li>\n",
       "\t<li>2</li>\n",
       "\t<li>3</li>\n",
       "\t<li>1</li>\n",
       "\t<li>2</li>\n",
       "\t<li>3</li>\n",
       "\t<li>1</li>\n",
       "\t<li>2</li>\n",
       "\t<li>3</li>\n",
       "\t<li>1</li>\n",
       "\t<li>2</li>\n",
       "\t<li>3</li>\n",
       "\t<li>1</li>\n",
       "\t<li>2</li>\n",
       "\t<li>3</li>\n",
       "\t<li>1</li>\n",
       "\t<li>2</li>\n",
       "\t<li>3</li>\n",
       "\t<li>1</li>\n",
       "\t<li>2</li>\n",
       "\t<li>3</li>\n",
       "\t<li>1</li>\n",
       "\t<li>2</li>\n",
       "\t<li>3</li>\n",
       "\t<li>1</li>\n",
       "\t<li>2</li>\n",
       "\t<li>3</li>\n",
       "\t<li>1</li>\n",
       "\t<li>2</li>\n",
       "\t<li>3</li>\n",
       "</ol>\n"
      ],
      "text/latex": [
       "\\begin{enumerate*}\n",
       "\\item 1\n",
       "\\item 2\n",
       "\\item 3\n",
       "\\item 1\n",
       "\\item 2\n",
       "\\item 3\n",
       "\\item 1\n",
       "\\item 2\n",
       "\\item 3\n",
       "\\item 1\n",
       "\\item 2\n",
       "\\item 3\n",
       "\\item 1\n",
       "\\item 2\n",
       "\\item 3\n",
       "\\item 1\n",
       "\\item 2\n",
       "\\item 3\n",
       "\\item 1\n",
       "\\item 2\n",
       "\\item 3\n",
       "\\item 1\n",
       "\\item 2\n",
       "\\item 3\n",
       "\\item 1\n",
       "\\item 2\n",
       "\\item 3\n",
       "\\item 1\n",
       "\\item 2\n",
       "\\item 3\n",
       "\\end{enumerate*}\n"
      ],
      "text/markdown": [
       "1. 1\n",
       "2. 2\n",
       "3. 3\n",
       "4. 1\n",
       "5. 2\n",
       "6. 3\n",
       "7. 1\n",
       "8. 2\n",
       "9. 3\n",
       "10. 1\n",
       "11. 2\n",
       "12. 3\n",
       "13. 1\n",
       "14. 2\n",
       "15. 3\n",
       "16. 1\n",
       "17. 2\n",
       "18. 3\n",
       "19. 1\n",
       "20. 2\n",
       "21. 3\n",
       "22. 1\n",
       "23. 2\n",
       "24. 3\n",
       "25. 1\n",
       "26. 2\n",
       "27. 3\n",
       "28. 1\n",
       "29. 2\n",
       "30. 3\n",
       "\n",
       "\n"
      ],
      "text/plain": [
       " [1] 1 2 3 1 2 3 1 2 3 1 2 3 1 2 3 1 2 3 1 2 3 1 2 3 1 2 3 1 2 3"
      ]
     },
     "metadata": {},
     "output_type": "display_data"
    }
   ],
   "source": [
    "convert_as_factor(dataa$study_id)\n",
    "convert_as_factor(dataa$treatment)\n",
    "convert_as_factor(dataa$visit_lab)"
   ]
  },
  {
   "cell_type": "markdown",
   "id": "4ff60fca",
   "metadata": {},
   "source": [
    "Summary Statistics"
   ]
  },
  {
   "cell_type": "code",
   "execution_count": 4,
   "id": "22e08769",
   "metadata": {},
   "outputs": [
    {
     "data": {
      "text/html": [
       "<table>\n",
       "<thead><tr><th scope=col>treatment</th><th scope=col>visit_lab</th><th scope=col>variable</th><th scope=col>n</th><th scope=col>mean</th><th scope=col>sd</th></tr></thead>\n",
       "<tbody>\n",
       "\t<tr><td>1      </td><td>1      </td><td>score  </td><td>5      </td><td>199.8  </td><td>104.248</td></tr>\n",
       "\t<tr><td>1      </td><td>2      </td><td>score  </td><td>5      </td><td>188.6  </td><td> 60.657</td></tr>\n",
       "\t<tr><td>1      </td><td>3      </td><td>score  </td><td>5      </td><td>189.0  </td><td> 74.273</td></tr>\n",
       "\t<tr><td>2      </td><td>1      </td><td>score  </td><td>5      </td><td>190.0  </td><td> 27.249</td></tr>\n",
       "\t<tr><td>2      </td><td>2      </td><td>score  </td><td>5      </td><td>204.0  </td><td> 29.138</td></tr>\n",
       "\t<tr><td>2      </td><td>3      </td><td>score  </td><td>5      </td><td>202.0  </td><td> 23.906</td></tr>\n",
       "</tbody>\n",
       "</table>\n"
      ],
      "text/latex": [
       "\\begin{tabular}{r|llllll}\n",
       " treatment & visit\\_lab & variable & n & mean & sd\\\\\n",
       "\\hline\n",
       "\t 1       & 1       & score   & 5       & 199.8   & 104.248\\\\\n",
       "\t 1       & 2       & score   & 5       & 188.6   &  60.657\\\\\n",
       "\t 1       & 3       & score   & 5       & 189.0   &  74.273\\\\\n",
       "\t 2       & 1       & score   & 5       & 190.0   &  27.249\\\\\n",
       "\t 2       & 2       & score   & 5       & 204.0   &  29.138\\\\\n",
       "\t 2       & 3       & score   & 5       & 202.0   &  23.906\\\\\n",
       "\\end{tabular}\n"
      ],
      "text/markdown": [
       "\n",
       "| treatment | visit_lab | variable | n | mean | sd |\n",
       "|---|---|---|---|---|---|\n",
       "| 1       | 1       | score   | 5       | 199.8   | 104.248 |\n",
       "| 1       | 2       | score   | 5       | 188.6   |  60.657 |\n",
       "| 1       | 3       | score   | 5       | 189.0   |  74.273 |\n",
       "| 2       | 1       | score   | 5       | 190.0   |  27.249 |\n",
       "| 2       | 2       | score   | 5       | 204.0   |  29.138 |\n",
       "| 2       | 3       | score   | 5       | 202.0   |  23.906 |\n",
       "\n"
      ],
      "text/plain": [
       "  treatment visit_lab variable n mean  sd     \n",
       "1 1         1         score    5 199.8 104.248\n",
       "2 1         2         score    5 188.6  60.657\n",
       "3 1         3         score    5 189.0  74.273\n",
       "4 2         1         score    5 190.0  27.249\n",
       "5 2         2         score    5 204.0  29.138\n",
       "6 2         3         score    5 202.0  23.906"
      ]
     },
     "metadata": {},
     "output_type": "display_data"
    }
   ],
   "source": [
    "summary<-dataa %>%\n",
    "group_by(treatment,visit_lab) %>%\n",
    "get_summary_stats(score, type = \"mean_sd\")\n",
    "data.frame(summary)"
   ]
  },
  {
   "cell_type": "markdown",
   "id": "85c355a4",
   "metadata": {},
   "source": [
    "Outlier detection"
   ]
  },
  {
   "cell_type": "code",
   "execution_count": 5,
   "id": "9ee17003",
   "metadata": {},
   "outputs": [
    {
     "data": {
      "text/html": [
       "<table>\n",
       "<thead><tr><th scope=col>treatment</th><th scope=col>visit_lab</th><th scope=col>study_id</th><th scope=col>score</th><th scope=col>is.outlier</th><th scope=col>is.extreme</th></tr></thead>\n",
       "<tbody>\n",
       "\t<tr><td>1    </td><td>1    </td><td>8    </td><td>373  </td><td>TRUE </td><td> TRUE</td></tr>\n",
       "\t<tr><td>1    </td><td>3    </td><td>8    </td><td>302  </td><td>TRUE </td><td>FALSE</td></tr>\n",
       "\t<tr><td>2    </td><td>3    </td><td>10   </td><td>163  </td><td>TRUE </td><td>FALSE</td></tr>\n",
       "</tbody>\n",
       "</table>\n"
      ],
      "text/latex": [
       "\\begin{tabular}{r|llllll}\n",
       " treatment & visit\\_lab & study\\_id & score & is.outlier & is.extreme\\\\\n",
       "\\hline\n",
       "\t 1     & 1     & 8     & 373   & TRUE  &  TRUE\\\\\n",
       "\t 1     & 3     & 8     & 302   & TRUE  & FALSE\\\\\n",
       "\t 2     & 3     & 10    & 163   & TRUE  & FALSE\\\\\n",
       "\\end{tabular}\n"
      ],
      "text/markdown": [
       "\n",
       "| treatment | visit_lab | study_id | score | is.outlier | is.extreme |\n",
       "|---|---|---|---|---|---|\n",
       "| 1     | 1     | 8     | 373   | TRUE  |  TRUE |\n",
       "| 1     | 3     | 8     | 302   | TRUE  | FALSE |\n",
       "| 2     | 3     | 10    | 163   | TRUE  | FALSE |\n",
       "\n"
      ],
      "text/plain": [
       "  treatment visit_lab study_id score is.outlier is.extreme\n",
       "1 1         1         8        373   TRUE        TRUE     \n",
       "2 1         3         8        302   TRUE       FALSE     \n",
       "3 2         3         10       163   TRUE       FALSE     "
      ]
     },
     "metadata": {},
     "output_type": "display_data"
    },
    {
     "name": "stdout",
     "output_type": "stream",
     "text": [
      "[1] \"Here are the outliers. Decide what to do with them later. Most likely will need to take them out in the future\"\n"
     ]
    }
   ],
   "source": [
    "outlier<-dataa %>%\n",
    "group_by(treatment,visit_lab) %>%\n",
    "identify_outliers(score)\n",
    "data.frame(outlier)\n",
    "print(\"Here are the outliers. Decide what to do with them later. Most likely will need to take them out in the future\")\n"
   ]
  },
  {
   "cell_type": "markdown",
   "id": "5236a5df",
   "metadata": {},
   "source": [
    "Normality Checking"
   ]
  },
  {
   "cell_type": "code",
   "execution_count": 6,
   "id": "6fd667d4",
   "metadata": {},
   "outputs": [
    {
     "data": {
      "text/html": [
       "<table>\n",
       "<thead><tr><th scope=col>treatment</th><th scope=col>visit_lab</th><th scope=col>variable</th><th scope=col>statistic</th><th scope=col>p</th></tr></thead>\n",
       "<tbody>\n",
       "\t<tr><td>1        </td><td>1        </td><td>score    </td><td>0.8738572</td><td>0.2823956</td></tr>\n",
       "\t<tr><td>1        </td><td>2        </td><td>score    </td><td>0.9633031</td><td>0.8307762</td></tr>\n",
       "\t<tr><td>1        </td><td>3        </td><td>score    </td><td>0.9551611</td><td>0.7739517</td></tr>\n",
       "\t<tr><td>2        </td><td>1        </td><td>score    </td><td>0.9278787</td><td>0.5819776</td></tr>\n",
       "\t<tr><td>2        </td><td>2        </td><td>score    </td><td>0.9738572</td><td>0.8993833</td></tr>\n",
       "\t<tr><td>2        </td><td>3        </td><td>score    </td><td>0.8909063</td><td>0.3616809</td></tr>\n",
       "</tbody>\n",
       "</table>\n"
      ],
      "text/latex": [
       "\\begin{tabular}{r|lllll}\n",
       " treatment & visit\\_lab & variable & statistic & p\\\\\n",
       "\\hline\n",
       "\t 1         & 1         & score     & 0.8738572 & 0.2823956\\\\\n",
       "\t 1         & 2         & score     & 0.9633031 & 0.8307762\\\\\n",
       "\t 1         & 3         & score     & 0.9551611 & 0.7739517\\\\\n",
       "\t 2         & 1         & score     & 0.9278787 & 0.5819776\\\\\n",
       "\t 2         & 2         & score     & 0.9738572 & 0.8993833\\\\\n",
       "\t 2         & 3         & score     & 0.8909063 & 0.3616809\\\\\n",
       "\\end{tabular}\n"
      ],
      "text/markdown": [
       "\n",
       "| treatment | visit_lab | variable | statistic | p |\n",
       "|---|---|---|---|---|\n",
       "| 1         | 1         | score     | 0.8738572 | 0.2823956 |\n",
       "| 1         | 2         | score     | 0.9633031 | 0.8307762 |\n",
       "| 1         | 3         | score     | 0.9551611 | 0.7739517 |\n",
       "| 2         | 1         | score     | 0.9278787 | 0.5819776 |\n",
       "| 2         | 2         | score     | 0.9738572 | 0.8993833 |\n",
       "| 2         | 3         | score     | 0.8909063 | 0.3616809 |\n",
       "\n"
      ],
      "text/plain": [
       "  treatment visit_lab variable statistic p        \n",
       "1 1         1         score    0.8738572 0.2823956\n",
       "2 1         2         score    0.9633031 0.8307762\n",
       "3 1         3         score    0.9551611 0.7739517\n",
       "4 2         1         score    0.9278787 0.5819776\n",
       "5 2         2         score    0.9738572 0.8993833\n",
       "6 2         3         score    0.8909063 0.3616809"
      ]
     },
     "metadata": {},
     "output_type": "display_data"
    },
    {
     "name": "stdout",
     "output_type": "stream",
     "text": [
      "[1] \"need p > 0.05 to satisfy normality assumption\"\n"
     ]
    }
   ],
   "source": [
    "normality<-dataa %>%\n",
    "group_by(treatment,visit_lab) %>%\n",
    "shapiro_test(score)\n",
    "data.frame(normality)\n",
    "print(\"need p > 0.05 to satisfy normality assumption\")"
   ]
  },
  {
   "cell_type": "markdown",
   "id": "7fda8af8",
   "metadata": {},
   "source": [
    "Applying anova test with sphericity corrections "
   ]
  },
  {
   "cell_type": "code",
   "execution_count": 7,
   "id": "5ca861b9",
   "metadata": {},
   "outputs": [],
   "source": [
    "#res.aov <- anova_test(\n",
    "#data = dataa, dv = score, wid = study_id,\n",
    "#within = c(treatment, visit_lab)\n",
    "#)\n",
    "#get_anova_table(res.aov)"
   ]
  },
  {
   "cell_type": "markdown",
   "id": "854b0518",
   "metadata": {},
   "source": [
    "Applying ANOVA with another package"
   ]
  },
  {
   "cell_type": "code",
   "execution_count": 8,
   "id": "6989251b",
   "metadata": {},
   "outputs": [
    {
     "name": "stderr",
     "output_type": "stream",
     "text": [
      "Warning message:\n",
      "“\"visit_lab\" will be treated as numeric.”Warning message:\n",
      "“\"treatment\" will be treated as numeric.”Warning message:\n",
      "“There is at least one numeric within variable, therefore aov() will be used for computation and no assumption checks will be obtained.”"
     ]
    },
    {
     "data": {
      "text/html": [
       "<strong>$ANOVA</strong> = <table>\n",
       "<thead><tr><th scope=col>Effect</th><th scope=col>DFn</th><th scope=col>DFd</th><th scope=col>F</th><th scope=col>p</th><th scope=col>p&lt;.05</th><th scope=col>ges</th></tr></thead>\n",
       "<tbody>\n",
       "\t<tr><td>treatment          </td><td>1                  </td><td>8                  </td><td>0.029037960        </td><td>0.8689222          </td><td>                   </td><td>3.437595e-03       </td></tr>\n",
       "\t<tr><td>visit_lab          </td><td>1                  </td><td>8                  </td><td>0.003468709        </td><td>0.9544797          </td><td>                   </td><td>2.153618e-05       </td></tr>\n",
       "\t<tr><td>treatment:visit_lab</td><td>1                  </td><td>8                  </td><td>1.252204076        </td><td>0.2956030          </td><td>                   </td><td>7.714750e-03       </td></tr>\n",
       "</tbody>\n",
       "</table>\n"
      ],
      "text/latex": [
       "\\textbf{\\$ANOVA} = \\begin{tabular}{r|lllllll}\n",
       " Effect & DFn & DFd & F & p & p<.05 & ges\\\\\n",
       "\\hline\n",
       "\t treatment           & 1                   & 8                   & 0.029037960         & 0.8689222           &                     & 3.437595e-03       \\\\\n",
       "\t visit\\_lab           & 1                     & 8                     & 0.003468709           & 0.9544797             &                       & 2.153618e-05         \\\\\n",
       "\t treatment:visit\\_lab & 1                     & 8                     & 1.252204076           & 0.2956030             &                       & 7.714750e-03         \\\\\n",
       "\\end{tabular}\n"
      ],
      "text/markdown": [
       "**$ANOVA** = \n",
       "| Effect | DFn | DFd | F | p | p<.05 | ges |\n",
       "|---|---|---|---|---|---|---|\n",
       "| treatment           | 1                   | 8                   | 0.029037960         | 0.8689222           |                     | 3.437595e-03        |\n",
       "| visit_lab           | 1                   | 8                   | 0.003468709         | 0.9544797           |                     | 2.153618e-05        |\n",
       "| treatment:visit_lab | 1                   | 8                   | 1.252204076         | 0.2956030           |                     | 7.714750e-03        |\n",
       "\n"
      ],
      "text/plain": [
       "$ANOVA\n",
       "               Effect DFn DFd           F         p p<.05          ges\n",
       "1           treatment   1   8 0.029037960 0.8689222       3.437595e-03\n",
       "2           visit_lab   1   8 0.003468709 0.9544797       2.153618e-05\n",
       "3 treatment:visit_lab   1   8 1.252204076 0.2956030       7.714750e-03\n"
      ]
     },
     "metadata": {},
     "output_type": "display_data"
    }
   ],
   "source": [
    "newModel<-ezANOVA(\n",
    "    data = dataa, dv = .(score), wid = .(study_id), \n",
    "    within = .(visit_lab), between = .(treatment), detailed = FALSE, type = 2)\n",
    "newModel"
   ]
  },
  {
   "cell_type": "markdown",
   "id": "2c1a7892",
   "metadata": {},
   "source": [
    "Pairwise comparisons between treatment groups at each time point"
   ]
  },
  {
   "cell_type": "code",
   "execution_count": 9,
   "id": "29e3d2b2",
   "metadata": {},
   "outputs": [
    {
     "data": {
      "text/html": [
       "<table>\n",
       "<thead><tr><th scope=col>.y.</th><th scope=col>group1</th><th scope=col>group2</th><th scope=col>n1</th><th scope=col>n2</th><th scope=col>statistic</th><th scope=col>df</th><th scope=col>p</th><th scope=col>p.adj</th><th scope=col>p.adj.signif</th></tr></thead>\n",
       "<tbody>\n",
       "\t<tr><td>score     </td><td>1         </td><td>2         </td><td>15        </td><td>15        </td><td>-0.2710301</td><td>14        </td><td>0.79      </td><td>0.79      </td><td>ns        </td></tr>\n",
       "</tbody>\n",
       "</table>\n"
      ],
      "text/latex": [
       "\\begin{tabular}{r|llllllllll}\n",
       " .y. & group1 & group2 & n1 & n2 & statistic & df & p & p.adj & p.adj.signif\\\\\n",
       "\\hline\n",
       "\t score      & 1          & 2          & 15         & 15         & -0.2710301 & 14         & 0.79       & 0.79       & ns        \\\\\n",
       "\\end{tabular}\n"
      ],
      "text/markdown": [
       "\n",
       "| .y. | group1 | group2 | n1 | n2 | statistic | df | p | p.adj | p.adj.signif |\n",
       "|---|---|---|---|---|---|---|---|---|---|\n",
       "| score      | 1          | 2          | 15         | 15         | -0.2710301 | 14         | 0.79       | 0.79       | ns         |\n",
       "\n"
      ],
      "text/plain": [
       "  .y.   group1 group2 n1 n2 statistic  df p    p.adj p.adj.signif\n",
       "1 score 1      2      15 15 -0.2710301 14 0.79 0.79  ns          "
      ]
     },
     "metadata": {},
     "output_type": "display_data"
    }
   ],
   "source": [
    "dataa %>%\n",
    "pairwise_t_test(\n",
    "score ~ treatment, paired = TRUE,\n",
    "p.adjust.method = \"bonferroni\"\n",
    ")"
   ]
  },
  {
   "cell_type": "markdown",
   "id": "69196aa6",
   "metadata": {},
   "source": [
    "Comparisons for the time variable"
   ]
  },
  {
   "cell_type": "code",
   "execution_count": 10,
   "id": "e79e54a2",
   "metadata": {},
   "outputs": [
    {
     "data": {
      "text/html": [
       "<table>\n",
       "<thead><tr><th scope=col>.y.</th><th scope=col>group1</th><th scope=col>group2</th><th scope=col>n1</th><th scope=col>n2</th><th scope=col>statistic</th><th scope=col>df</th><th scope=col>p</th><th scope=col>p.adj</th><th scope=col>p.adj.signif</th></tr></thead>\n",
       "<tbody>\n",
       "\t<tr><td>score      </td><td>1          </td><td>2          </td><td>10         </td><td>10         </td><td>-0.09704040</td><td>9          </td><td>0.925      </td><td>1          </td><td>ns         </td></tr>\n",
       "\t<tr><td>score      </td><td>1          </td><td>3          </td><td>10         </td><td>10         </td><td>-0.05808749</td><td>9          </td><td>0.955      </td><td>1          </td><td>ns         </td></tr>\n",
       "\t<tr><td>score      </td><td>2          </td><td>3          </td><td>10         </td><td>10         </td><td> 0.13848100</td><td>9          </td><td>0.893      </td><td>1          </td><td>ns         </td></tr>\n",
       "</tbody>\n",
       "</table>\n"
      ],
      "text/latex": [
       "\\begin{tabular}{r|llllllllll}\n",
       " .y. & group1 & group2 & n1 & n2 & statistic & df & p & p.adj & p.adj.signif\\\\\n",
       "\\hline\n",
       "\t score       & 1           & 2           & 10          & 10          & -0.09704040 & 9           & 0.925       & 1           & ns         \\\\\n",
       "\t score       & 1           & 3           & 10          & 10          & -0.05808749 & 9           & 0.955       & 1           & ns         \\\\\n",
       "\t score       & 2           & 3           & 10          & 10          &  0.13848100 & 9           & 0.893       & 1           & ns         \\\\\n",
       "\\end{tabular}\n"
      ],
      "text/markdown": [
       "\n",
       "| .y. | group1 | group2 | n1 | n2 | statistic | df | p | p.adj | p.adj.signif |\n",
       "|---|---|---|---|---|---|---|---|---|---|\n",
       "| score       | 1           | 2           | 10          | 10          | -0.09704040 | 9           | 0.925       | 1           | ns          |\n",
       "| score       | 1           | 3           | 10          | 10          | -0.05808749 | 9           | 0.955       | 1           | ns          |\n",
       "| score       | 2           | 3           | 10          | 10          |  0.13848100 | 9           | 0.893       | 1           | ns          |\n",
       "\n"
      ],
      "text/plain": [
       "  .y.   group1 group2 n1 n2 statistic   df p     p.adj p.adj.signif\n",
       "1 score 1      2      10 10 -0.09704040 9  0.925 1     ns          \n",
       "2 score 1      3      10 10 -0.05808749 9  0.955 1     ns          \n",
       "3 score 2      3      10 10  0.13848100 9  0.893 1     ns          "
      ]
     },
     "metadata": {},
     "output_type": "display_data"
    }
   ],
   "source": [
    "dataa %>%\n",
    "pairwise_t_test(\n",
    "score ~ visit_lab, paired = TRUE,\n",
    "p.adjust.method = \"bonferroni\"\n",
    ")"
   ]
  },
  {
   "cell_type": "code",
   "execution_count": null,
   "id": "43344468",
   "metadata": {},
   "outputs": [],
   "source": []
  }
 ],
 "metadata": {
  "kernelspec": {
   "display_name": "R",
   "language": "R",
   "name": "ir"
  },
  "language_info": {
   "codemirror_mode": "r",
   "file_extension": ".r",
   "mimetype": "text/x-r-source",
   "name": "R",
   "pygments_lexer": "r",
   "version": "3.6.1"
  }
 },
 "nbformat": 4,
 "nbformat_minor": 5
}
