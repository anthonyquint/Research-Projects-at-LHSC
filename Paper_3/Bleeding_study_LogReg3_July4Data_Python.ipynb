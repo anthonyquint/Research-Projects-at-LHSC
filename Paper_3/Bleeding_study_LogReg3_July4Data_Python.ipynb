{
 "cells": [
  {
   "cell_type": "markdown",
   "id": "c41cfc2f",
   "metadata": {},
   "source": [
    "Applying a multinomial logistic regression model to the ternary outcome of major, minor, none bleeding"
   ]
  },
  {
   "cell_type": "markdown",
   "id": "f45d4838",
   "metadata": {},
   "source": [
    "Import necessary libraries "
   ]
  },
  {
   "cell_type": "code",
   "execution_count": 1,
   "id": "73f00924",
   "metadata": {},
   "outputs": [
    {
     "name": "stdout",
     "output_type": "stream",
     "text": [
      "complete\n"
     ]
    }
   ],
   "source": [
    "import pandas as pd\n",
    "from sklearn.preprocessing import LabelEncoder\n",
    "from sklearn.model_selection import train_test_split\n",
    "import statsmodels.api as sm\n",
    "from sklearn.linear_model import LogisticRegression\n",
    "from sklearn import metrics\n",
    "import numpy as np\n",
    "import matplotlib.pyplot as plt\n",
    "import seaborn as sns\n",
    "from sklearn.utils import resample\n",
    "import imblearn\n",
    "from imblearn.over_sampling import SMOTE\n",
    "from sklearn.metrics import confusion_matrix\n",
    "from sklearn.metrics import classification_report\n",
    "\n",
    "print(\"complete\")"
   ]
  },
  {
   "cell_type": "markdown",
   "id": "980ce6cf",
   "metadata": {},
   "source": [
    "Read dataset"
   ]
  },
  {
   "cell_type": "code",
   "execution_count": 2,
   "id": "3e13d824",
   "metadata": {},
   "outputs": [],
   "source": [
    "df = pd.read_csv(\"/Users/anthonyquint/Desktop/LHSC_Work_Folder/Mina/Bleeding_study/Ibrutinib Data Set, July 13,2021, de-identified data.csv\")\n",
    "#df.head()"
   ]
  },
  {
   "cell_type": "markdown",
   "id": "044ee3b3",
   "metadata": {},
   "source": [
    "Cleaning the dataset"
   ]
  },
  {
   "cell_type": "code",
   "execution_count": 3,
   "id": "2af5495e",
   "metadata": {},
   "outputs": [
    {
     "data": {
      "text/html": [
       "<div>\n",
       "<style scoped>\n",
       "    .dataframe tbody tr th:only-of-type {\n",
       "        vertical-align: middle;\n",
       "    }\n",
       "\n",
       "    .dataframe tbody tr th {\n",
       "        vertical-align: top;\n",
       "    }\n",
       "\n",
       "    .dataframe thead th {\n",
       "        text-align: right;\n",
       "    }\n",
       "</style>\n",
       "<table border=\"1\" class=\"dataframe\">\n",
       "  <thead>\n",
       "    <tr style=\"text-align: right;\">\n",
       "      <th></th>\n",
       "      <th>Plt Nadir while on Ibrutinib</th>\n",
       "      <th>Anemia (hb &lt; 100) (Y/N)</th>\n",
       "      <th>anticoagulation (Y/N)</th>\n",
       "      <th>Major Bleed (Y/N)</th>\n",
       "    </tr>\n",
       "  </thead>\n",
       "  <tbody>\n",
       "    <tr>\n",
       "      <th>0</th>\n",
       "      <td>15</td>\n",
       "      <td>Y</td>\n",
       "      <td>N</td>\n",
       "      <td>M</td>\n",
       "    </tr>\n",
       "    <tr>\n",
       "      <th>1</th>\n",
       "      <td>93</td>\n",
       "      <td>Y</td>\n",
       "      <td>N</td>\n",
       "      <td>N</td>\n",
       "    </tr>\n",
       "    <tr>\n",
       "      <th>2</th>\n",
       "      <td>189</td>\n",
       "      <td>Y</td>\n",
       "      <td>N</td>\n",
       "      <td>M</td>\n",
       "    </tr>\n",
       "    <tr>\n",
       "      <th>3</th>\n",
       "      <td>40</td>\n",
       "      <td>N</td>\n",
       "      <td>N</td>\n",
       "      <td>M</td>\n",
       "    </tr>\n",
       "    <tr>\n",
       "      <th>4</th>\n",
       "      <td>49</td>\n",
       "      <td>N</td>\n",
       "      <td>N</td>\n",
       "      <td>Y</td>\n",
       "    </tr>\n",
       "  </tbody>\n",
       "</table>\n",
       "</div>"
      ],
      "text/plain": [
       "   Plt Nadir while on Ibrutinib Anemia (hb < 100) (Y/N) anticoagulation (Y/N)  \\\n",
       "0                            15                       Y                     N   \n",
       "1                            93                       Y                     N   \n",
       "2                           189                       Y                     N   \n",
       "3                            40                       N                     N   \n",
       "4                            49                       N                     N   \n",
       "\n",
       "  Major Bleed (Y/N)  \n",
       "0                 M  \n",
       "1                 N  \n",
       "2                 M  \n",
       "3                 M  \n",
       "4                 Y  "
      ]
     },
     "execution_count": 3,
     "metadata": {},
     "output_type": "execute_result"
    }
   ],
   "source": [
    "##Removing all columns except the columns corresponding to our relevant \n",
    "##independent variables (indicated at top of notebook) and dependent variable (Major Bleed (Y/N))\n",
    "\n",
    "df = df[[\"Plt Nadir while on Ibrutinib\",\"Anemia (hb < 100) (Y/N)\",\"anticoagulation (Y/N)\",\"Major Bleed (Y/N)\"]]\n",
    "\n",
    "#changing NaN values in \"Major Bleed (Y/N)\" to M. I.e. Y = major bleed, N = minor bleed, M = no bleed \n",
    "df['Major Bleed (Y/N)'].fillna('M', inplace=True)\n",
    "\n",
    "# Delete index 112 since it has a question mark for age \n",
    "#df = df.drop(labels=112, axis=0)\n",
    "\n",
    "df.head()"
   ]
  },
  {
   "cell_type": "markdown",
   "id": "4e681691",
   "metadata": {},
   "source": [
    "Counting number of people who had major vs. minor vs. no bleed"
   ]
  },
  {
   "cell_type": "code",
   "execution_count": 4,
   "id": "61a01929",
   "metadata": {},
   "outputs": [
    {
     "data": {
      "text/plain": [
       "M    128\n",
       "N     25\n",
       "Y     17\n",
       "Name: Major Bleed (Y/N), dtype: int64"
      ]
     },
     "execution_count": 4,
     "metadata": {},
     "output_type": "execute_result"
    }
   ],
   "source": [
    "df['Major Bleed (Y/N)'].value_counts(dropna=False) "
   ]
  },
  {
   "cell_type": "markdown",
   "id": "6cc6f4e9",
   "metadata": {},
   "source": [
    "Converting categorical data into numerical representation"
   ]
  },
  {
   "cell_type": "code",
   "execution_count": 5,
   "id": "c4d1238c",
   "metadata": {},
   "outputs": [
    {
     "data": {
      "text/html": [
       "<div>\n",
       "<style scoped>\n",
       "    .dataframe tbody tr th:only-of-type {\n",
       "        vertical-align: middle;\n",
       "    }\n",
       "\n",
       "    .dataframe tbody tr th {\n",
       "        vertical-align: top;\n",
       "    }\n",
       "\n",
       "    .dataframe thead th {\n",
       "        text-align: right;\n",
       "    }\n",
       "</style>\n",
       "<table border=\"1\" class=\"dataframe\">\n",
       "  <thead>\n",
       "    <tr style=\"text-align: right;\">\n",
       "      <th></th>\n",
       "      <th>Plt Nadir while on Ibrutinib</th>\n",
       "      <th>Anemia (hb &lt; 100) (Y/N)</th>\n",
       "      <th>anticoagulation (Y/N)</th>\n",
       "      <th>Major Bleed (Y/N)</th>\n",
       "    </tr>\n",
       "  </thead>\n",
       "  <tbody>\n",
       "    <tr>\n",
       "      <th>0</th>\n",
       "      <td>15</td>\n",
       "      <td>1</td>\n",
       "      <td>0</td>\n",
       "      <td>0</td>\n",
       "    </tr>\n",
       "    <tr>\n",
       "      <th>1</th>\n",
       "      <td>93</td>\n",
       "      <td>1</td>\n",
       "      <td>0</td>\n",
       "      <td>1</td>\n",
       "    </tr>\n",
       "    <tr>\n",
       "      <th>2</th>\n",
       "      <td>189</td>\n",
       "      <td>1</td>\n",
       "      <td>0</td>\n",
       "      <td>0</td>\n",
       "    </tr>\n",
       "    <tr>\n",
       "      <th>3</th>\n",
       "      <td>40</td>\n",
       "      <td>0</td>\n",
       "      <td>0</td>\n",
       "      <td>0</td>\n",
       "    </tr>\n",
       "    <tr>\n",
       "      <th>4</th>\n",
       "      <td>49</td>\n",
       "      <td>0</td>\n",
       "      <td>0</td>\n",
       "      <td>2</td>\n",
       "    </tr>\n",
       "  </tbody>\n",
       "</table>\n",
       "</div>"
      ],
      "text/plain": [
       "   Plt Nadir while on Ibrutinib  Anemia (hb < 100) (Y/N)  \\\n",
       "0                            15                        1   \n",
       "1                            93                        1   \n",
       "2                           189                        1   \n",
       "3                            40                        0   \n",
       "4                            49                        0   \n",
       "\n",
       "   anticoagulation (Y/N)  Major Bleed (Y/N)  \n",
       "0                      0                  0  \n",
       "1                      0                  1  \n",
       "2                      0                  0  \n",
       "3                      0                  0  \n",
       "4                      0                  2  "
      ]
     },
     "execution_count": 5,
     "metadata": {},
     "output_type": "execute_result"
    }
   ],
   "source": [
    "number = LabelEncoder()\n",
    "\n",
    "df['Anemia (hb < 100) (Y/N)'] = number.fit_transform(df['Anemia (hb < 100) (Y/N)'].astype('str'))\n",
    "df['anticoagulation (Y/N)'] = number.fit_transform(df['anticoagulation (Y/N)'].astype('str'))\n",
    "df['Major Bleed (Y/N)'] = number.fit_transform(df['Major Bleed (Y/N)'].astype('str'))\n",
    "\n",
    "df.head()"
   ]
  },
  {
   "cell_type": "markdown",
   "id": "08910da0",
   "metadata": {},
   "source": [
    "Splitting data into independent and dependent variables, then into training and testing set, and then upsample the training sets"
   ]
  },
  {
   "cell_type": "code",
   "execution_count": 6,
   "id": "c69f1e15",
   "metadata": {},
   "outputs": [],
   "source": [
    "clinical_features = [\"Plt Nadir while on Ibrutinib\",\"Anemia (hb < 100) (Y/N)\",\"anticoagulation (Y/N)\"]\n",
    "\n",
    "X = df[clinical_features]   #Independent variables \n",
    "y = df['Major Bleed (Y/N)']  #Dependent variables \n",
    "\n",
    "X_train,X_test,y_train,y_test=train_test_split(X,y,test_size=0.25,random_state=0,stratify=y) #Splitting variables into training/testing set\n",
    "\n",
    "#########\n",
    "\n",
    "X_Y_train = pd.concat([X_train,y_train],axis=1)\n",
    "\n",
    "def upsample_minority(df):\n",
    "    \n",
    "    df_majority = df.loc[df['Major Bleed (Y/N)'] == 0]\n",
    "    df_minority_1 = df.loc[df['Major Bleed (Y/N)'] == 1]\n",
    "    df_minority_2 = df.loc[df['Major Bleed (Y/N)'] == 2]\n",
    "    \n",
    "    df_minority_1_upsampled = resample(df_minority_1, replace = True, n_samples=len(df_majority), random_state=123)\n",
    "    df_minority_2_upsampled = resample(df_minority_2, replace = True, n_samples=len(df_majority), random_state=123)\n",
    "    \n",
    "    df_upsampled = pd.concat([df_majority,df_minority_1_upsampled,df_minority_2_upsampled])\n",
    "    \n",
    "    df = df_upsampled\n",
    "    \n",
    "    return df \n",
    "\n",
    "def smote(train_1,train_2):\n",
    "    \n",
    "    sm = SMOTE(random_state=27)\n",
    "    train_1, train_2 = sm.fit_resample(train_1, train_2)\n",
    "    \n",
    "    return train_1,train_2 \n",
    "\n",
    "#upsampling the minority directly\n",
    "X_Y_train_upsample = upsample_minority(X_Y_train)\n",
    "y_train_upsample = X_Y_train_upsample['Major Bleed (Y/N)']\n",
    "X_train_upsample = X_Y_train_upsample.drop('Major Bleed (Y/N)', axis=1)\n",
    "\n",
    "df_upsample = upsample_minority(df)\n",
    "y_upsample = df_upsample['Major Bleed (Y/N)']\n",
    "X_upsample = df_upsample.drop('Major Bleed (Y/N)', axis=1)\n",
    "\n",
    "#upsampling by generating synthetic samples (smote)\n",
    "X_train_smote, y_train_smote = smote(X_train, y_train)\n",
    "\n",
    "X_smote, y_smote = smote(X, y)\n",
    "\n",
    "# Choosing which of the 2 sets of upsampled data I'll make the model with (upsampling vs. smote). \n",
    "# Upsampling produces better results\n",
    "XX = X_train_upsample\n",
    "yy = y_train_upsample\n",
    "\n",
    "#X_Y_train_upsample['Major Bleed (Y/N)'].value_counts(dropna=False)\n",
    "\n",
    "\n",
    "## https://towardsdatascience.com/methods-for-dealing-with-imbalanced-data-5b761be45a18"
   ]
  },
  {
   "cell_type": "markdown",
   "id": "efef0f96",
   "metadata": {},
   "source": [
    "Removing uncorrelated independent variables (variables that are uncorrelated for both Major bleed: 1 and 2)"
   ]
  },
  {
   "cell_type": "code",
   "execution_count": 7,
   "id": "fd60a9ec",
   "metadata": {},
   "outputs": [],
   "source": [
    "##"
   ]
  },
  {
   "cell_type": "markdown",
   "id": "e428f436",
   "metadata": {},
   "source": [
    "Using statsmodel to assess coefficients "
   ]
  },
  {
   "cell_type": "code",
   "execution_count": 8,
   "id": "53e2c21c",
   "metadata": {},
   "outputs": [
    {
     "name": "stdout",
     "output_type": "stream",
     "text": [
      "Optimization terminated successfully.\n",
      "         Current function value: 0.920290\n",
      "         Iterations 6\n",
      "                          MNLogit Regression Results                          \n",
      "==============================================================================\n",
      "Dep. Variable:      Major Bleed (Y/N)   No. Observations:                  285\n",
      "Model:                        MNLogit   Df Residuals:                      277\n",
      "Method:                           MLE   Df Model:                            6\n",
      "Date:                Thu, 26 Aug 2021   Pseudo R-squ.:                  0.1623\n",
      "Time:                        20:16:17   Log-Likelihood:                -262.28\n",
      "converged:                       True   LL-Null:                       -313.10\n",
      "Covariance Type:            nonrobust   LLR p-value:                 1.139e-19\n",
      "================================================================================================\n",
      "         Major Bleed (Y/N)=1       coef    std err          z      P>|z|      [0.025      0.975]\n",
      "------------------------------------------------------------------------------------------------\n",
      "const                           -1.9312      0.440     -4.394      0.000      -2.793      -1.070\n",
      "Plt Nadir while on Ibrutinib     0.0095      0.003      2.947      0.003       0.003       0.016\n",
      "Anemia (hb < 100) (Y/N)          1.1847      0.329      3.605      0.000       0.541       1.829\n",
      "anticoagulation (Y/N)            1.4500      0.425      3.414      0.001       0.618       2.282\n",
      "------------------------------------------------------------------------------------------------\n",
      "         Major Bleed (Y/N)=2       coef    std err          z      P>|z|      [0.025      0.975]\n",
      "------------------------------------------------------------------------------------------------\n",
      "const                            0.7878      0.428      1.843      0.065      -0.050       1.626\n",
      "Plt Nadir while on Ibrutinib    -0.0212      0.004     -4.793      0.000      -0.030      -0.013\n",
      "Anemia (hb < 100) (Y/N)          0.8152      0.337      2.417      0.016       0.154       1.476\n",
      "anticoagulation (Y/N)            1.9527      0.464      4.208      0.000       1.043       2.862\n",
      "================================================================================================\n"
     ]
    },
    {
     "name": "stderr",
     "output_type": "stream",
     "text": [
      "/opt/anaconda3/lib/python3.8/site-packages/statsmodels/tsa/tsatools.py:142: FutureWarning: In a future version of pandas all arguments of concat except for the argument 'objs' will be keyword-only\n",
      "  x = pd.concat(x[::order], 1)\n"
     ]
    }
   ],
   "source": [
    "logit_model=sm.MNLogit(yy,sm.add_constant(XX.astype(float)))\n",
    "result=logit_model.fit()\n",
    "stats1=result.summary()\n",
    "print(stats1)"
   ]
  },
  {
   "cell_type": "markdown",
   "id": "e65f1abe",
   "metadata": {},
   "source": [
    "Implementing the model with LogisticRegression"
   ]
  },
  {
   "cell_type": "code",
   "execution_count": 9,
   "id": "0a993914",
   "metadata": {},
   "outputs": [],
   "source": [
    "logreg = LogisticRegression(random_state=0, multi_class='multinomial', penalty='none', solver='newton-cg')\n",
    "model1 = logreg.fit(XX, yy)\n",
    "preds = model1.predict(X_test)"
   ]
  },
  {
   "cell_type": "markdown",
   "id": "7ca66a47",
   "metadata": {},
   "source": [
    "Assessing the model"
   ]
  },
  {
   "cell_type": "code",
   "execution_count": 10,
   "id": "9e98713f",
   "metadata": {},
   "outputs": [
    {
     "data": {
      "text/html": [
       "<div>\n",
       "<style scoped>\n",
       "    .dataframe tbody tr th:only-of-type {\n",
       "        vertical-align: middle;\n",
       "    }\n",
       "\n",
       "    .dataframe tbody tr th {\n",
       "        vertical-align: top;\n",
       "    }\n",
       "\n",
       "    .dataframe thead th {\n",
       "        text-align: right;\n",
       "    }\n",
       "</style>\n",
       "<table border=\"1\" class=\"dataframe\">\n",
       "  <thead>\n",
       "    <tr style=\"text-align: right;\">\n",
       "      <th></th>\n",
       "      <th>predicted_None</th>\n",
       "      <th>predicted_Minor</th>\n",
       "      <th>predicted_Major</th>\n",
       "    </tr>\n",
       "  </thead>\n",
       "  <tbody>\n",
       "    <tr>\n",
       "      <th>None</th>\n",
       "      <td>17</td>\n",
       "      <td>5</td>\n",
       "      <td>11</td>\n",
       "    </tr>\n",
       "    <tr>\n",
       "      <th>Minor</th>\n",
       "      <td>0</td>\n",
       "      <td>2</td>\n",
       "      <td>4</td>\n",
       "    </tr>\n",
       "    <tr>\n",
       "      <th>Major</th>\n",
       "      <td>1</td>\n",
       "      <td>2</td>\n",
       "      <td>1</td>\n",
       "    </tr>\n",
       "  </tbody>\n",
       "</table>\n",
       "</div>"
      ],
      "text/plain": [
       "       predicted_None  predicted_Minor  predicted_Major\n",
       "None               17                5               11\n",
       "Minor               0                2                4\n",
       "Major               1                2                1"
      ]
     },
     "execution_count": 10,
     "metadata": {},
     "output_type": "execute_result"
    }
   ],
   "source": [
    "confmtrx = np.array(confusion_matrix(y_test, preds))\n",
    "pd.DataFrame(confmtrx, index=['None','Minor', 'Major'],\n",
    "columns=['predicted_None', 'predicted_Minor', 'predicted_Major'])"
   ]
  },
  {
   "cell_type": "markdown",
   "id": "b825092f",
   "metadata": {},
   "source": [
    "Accuracy score"
   ]
  },
  {
   "cell_type": "code",
   "execution_count": 11,
   "id": "8bbc2cf5",
   "metadata": {},
   "outputs": [
    {
     "name": "stdout",
     "output_type": "stream",
     "text": [
      "Accuracy Score: 0.46511627906976744\n"
     ]
    }
   ],
   "source": [
    "print('Accuracy Score:', metrics.accuracy_score(y_test, preds))"
   ]
  },
  {
   "cell_type": "markdown",
   "id": "b5e2d120",
   "metadata": {},
   "source": [
    "Classification report"
   ]
  },
  {
   "cell_type": "code",
   "execution_count": 12,
   "id": "232691d0",
   "metadata": {},
   "outputs": [
    {
     "name": "stdout",
     "output_type": "stream",
     "text": [
      "              precision    recall  f1-score   support\n",
      "\n",
      "           0       0.94      0.52      0.67        33\n",
      "           1       0.22      0.33      0.27         6\n",
      "           2       0.06      0.25      0.10         4\n",
      "\n",
      "    accuracy                           0.47        43\n",
      "   macro avg       0.41      0.37      0.34        43\n",
      "weighted avg       0.76      0.47      0.56        43\n",
      "\n"
     ]
    }
   ],
   "source": [
    "class_report=classification_report(y_test, preds)\n",
    "print(class_report)"
   ]
  }
 ],
 "metadata": {
  "kernelspec": {
   "display_name": "Python 3",
   "language": "python",
   "name": "python3"
  },
  "language_info": {
   "codemirror_mode": {
    "name": "ipython",
    "version": 3
   },
   "file_extension": ".py",
   "mimetype": "text/x-python",
   "name": "python",
   "nbconvert_exporter": "python",
   "pygments_lexer": "ipython3",
   "version": "3.8.8"
  }
 },
 "nbformat": 4,
 "nbformat_minor": 5
}
