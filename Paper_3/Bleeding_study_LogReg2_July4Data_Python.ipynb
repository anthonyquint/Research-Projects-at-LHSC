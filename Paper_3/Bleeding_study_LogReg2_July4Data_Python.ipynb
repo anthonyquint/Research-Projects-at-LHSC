{
 "cells": [
  {
   "cell_type": "markdown",
   "id": "775511e4",
   "metadata": {},
   "source": [
    "To analyze the effect of the independent variables on the outcome/dependent variable (bleeding) wholistically, must perform a multivariate analysis. A logistic regression model is a suitable choice for a dataset with a binary outcome. I'll explore partioning the outcome data in 5 different ways: \n",
    "\n",
    "1. The binary outcome is:\n",
    "- Major vs. Minor + None bleeding, \n",
    "- Major + Minor vs. None bleeding,\n",
    "- Major vs. None, \n",
    "- Minor vs. None,\n",
    "- Major vs. Minor\n",
    "\n",
    "\n",
    "The independent variables that will be implemented into this model are: \n",
    "- anti-coagulation, Anemia (hb < 100), and platelet count Nadir. \n",
    "\n",
    "I can create another logistic regression model where: \n",
    "\n",
    "2. The binary outcomes is: \n",
    "- Major vs. minor \n",
    "\n",
    "And the independent variables that will be implemented are: \n",
    "- anti-coagulation, platelets at time of bleed, Hb at time of bleed\n",
    "\n",
    "The rest of the independent variables will be neglected since they didn't have significant contigency tables or T tests. "
   ]
  },
  {
   "cell_type": "markdown",
   "id": "26ec5ce2",
   "metadata": {},
   "source": [
    "Import necessary libraries "
   ]
  },
  {
   "cell_type": "code",
   "execution_count": 1,
   "id": "721eb5ee",
   "metadata": {},
   "outputs": [
    {
     "name": "stdout",
     "output_type": "stream",
     "text": [
      "complete\n"
     ]
    }
   ],
   "source": [
    "import pandas as pd\n",
    "from sklearn.preprocessing import LabelEncoder\n",
    "from sklearn.model_selection import train_test_split\n",
    "import statsmodels.api as sm\n",
    "from sklearn.linear_model import LogisticRegression\n",
    "from sklearn import metrics\n",
    "import numpy as np\n",
    "import matplotlib.pyplot as plt\n",
    "import seaborn as sns\n",
    "from sklearn.utils import resample\n",
    "import imblearn\n",
    "from imblearn.over_sampling import SMOTE\n",
    "from statsmodels.stats.outliers_influence import variance_inflation_factor\n",
    "\n",
    "print(\"complete\")"
   ]
  },
  {
   "cell_type": "markdown",
   "id": "6d23db4d",
   "metadata": {},
   "source": [
    "Read dataset "
   ]
  },
  {
   "cell_type": "code",
   "execution_count": 2,
   "id": "e552753d",
   "metadata": {},
   "outputs": [],
   "source": [
    "df = pd.read_csv(\"/Users/anthonyquint/Desktop/LHSC_Work_Folder/Mina/Bleeding_study/Ibrutinib Data Set, July 4,2021, de-identified data.csv\")\n",
    "\n",
    "#df.head()"
   ]
  },
  {
   "cell_type": "markdown",
   "id": "e9305f55",
   "metadata": {},
   "source": [
    "Cleaning the dataset\n",
    "\n",
    "Firstly, eliminating the unimportant independent variables from the dataframe. \n",
    "\n",
    "Secondly,select which two groups to compare: \n",
    "- Major vs. Minor + None bleeding, \n",
    "- Major + Minor vs. None bleeding,\n",
    "- Major vs. None, \n",
    "- Minor vs. None,\n",
    "- Major vs. Minor"
   ]
  },
  {
   "cell_type": "code",
   "execution_count": 3,
   "id": "160c21c6",
   "metadata": {},
   "outputs": [
    {
     "data": {
      "text/html": [
       "<div>\n",
       "<style scoped>\n",
       "    .dataframe tbody tr th:only-of-type {\n",
       "        vertical-align: middle;\n",
       "    }\n",
       "\n",
       "    .dataframe tbody tr th {\n",
       "        vertical-align: top;\n",
       "    }\n",
       "\n",
       "    .dataframe thead th {\n",
       "        text-align: right;\n",
       "    }\n",
       "</style>\n",
       "<table border=\"1\" class=\"dataframe\">\n",
       "  <thead>\n",
       "    <tr style=\"text-align: right;\">\n",
       "      <th></th>\n",
       "      <th>Plt Nadir while on Ibrutinib</th>\n",
       "      <th>Anemia (hb &lt; 100) (Y/N)</th>\n",
       "      <th>anticoagulation (Y/N)</th>\n",
       "      <th>Major Bleed (Y/N)</th>\n",
       "    </tr>\n",
       "  </thead>\n",
       "  <tbody>\n",
       "    <tr>\n",
       "      <th>0</th>\n",
       "      <td>15</td>\n",
       "      <td>Y</td>\n",
       "      <td>N</td>\n",
       "      <td>N</td>\n",
       "    </tr>\n",
       "    <tr>\n",
       "      <th>1</th>\n",
       "      <td>93</td>\n",
       "      <td>Y</td>\n",
       "      <td>N</td>\n",
       "      <td>N</td>\n",
       "    </tr>\n",
       "    <tr>\n",
       "      <th>2</th>\n",
       "      <td>189</td>\n",
       "      <td>Y</td>\n",
       "      <td>N</td>\n",
       "      <td>N</td>\n",
       "    </tr>\n",
       "    <tr>\n",
       "      <th>3</th>\n",
       "      <td>40</td>\n",
       "      <td>N</td>\n",
       "      <td>N</td>\n",
       "      <td>N</td>\n",
       "    </tr>\n",
       "    <tr>\n",
       "      <th>4</th>\n",
       "      <td>49</td>\n",
       "      <td>N</td>\n",
       "      <td>N</td>\n",
       "      <td>Y</td>\n",
       "    </tr>\n",
       "  </tbody>\n",
       "</table>\n",
       "</div>"
      ],
      "text/plain": [
       "   Plt Nadir while on Ibrutinib Anemia (hb < 100) (Y/N) anticoagulation (Y/N)  \\\n",
       "0                            15                       Y                     N   \n",
       "1                            93                       Y                     N   \n",
       "2                           189                       Y                     N   \n",
       "3                            40                       N                     N   \n",
       "4                            49                       N                     N   \n",
       "\n",
       "  Major Bleed (Y/N)  \n",
       "0                 N  \n",
       "1                 N  \n",
       "2                 N  \n",
       "3                 N  \n",
       "4                 Y  "
      ]
     },
     "execution_count": 3,
     "metadata": {},
     "output_type": "execute_result"
    }
   ],
   "source": [
    "####Firstly,\n",
    "####Removing all columns except the columns corresponding to our relevant \n",
    "####independent variables (indicated at top of notebook) and dependent variable (Major Bleed (Y/N)). I can \n",
    "####uncomment out which dataframe I want to investigate.\n",
    "\n",
    "df = df[[\"Plt Nadir while on Ibrutinib\",\"Anemia (hb < 100) (Y/N)\",\"anticoagulation (Y/N)\",\"Major Bleed (Y/N)\"]]\n",
    "#df = df[[\"plt at the time of bleed\",\"hb at the time of bleed\",\"anticoagulation (Y/N)\",\"Major Bleed (Y/N)\"]]\n",
    "#df = df[[\"Age at diagnosis\",'gender','PMHx bleeding risk (Y/N)',\"HR Molecular/Cytogenetics (Y/N)\",\"Prior lines of therapy\",'anti platelet (Y/N)',\"Plt Nadir while on Ibrutinib\",\"Anemia (hb < 100) (Y/N)\",\"anticoagulation (Y/N)\",\"Major Bleed (Y/N)\"]]\n",
    "\n",
    "\n",
    "\n",
    "#### Secondly, \n",
    "#### Selecting which two groups to compare. I can uncomment out which I want to compare. \n",
    "\n",
    "## Major vs. Minor \n",
    "#df = df.dropna().copy() \n",
    "\n",
    "#Major vs. Minor + None bleeding\n",
    "#changing NaN values in \"Major Bleed (Y/N)\" to N \n",
    "df['Major Bleed (Y/N)'].fillna('N', inplace=True)\n",
    "\n",
    "#Major + Minor vs. None \n",
    "#changing \"N\" values to Y, and NaN values to N. \n",
    "#df['Major Bleed (Y/N)'] = df['Major Bleed (Y/N)'].replace(['N'],'Y')\n",
    "#df['Major Bleed (Y/N)'].fillna('N', inplace=True)\n",
    "\n",
    "#Major vs. None\n",
    "#df = df[~df['Major Bleed (Y/N)'].isin(['N'])] \n",
    "#df['Major Bleed (Y/N)'].fillna('N', inplace=True)\n",
    "\n",
    "#Minor vs. None\n",
    "#df = df[~df['Major Bleed (Y/N)'].isin(['Y'])] \n",
    "#df['Major Bleed (Y/N)'] = df['Major Bleed (Y/N)'].replace(['N'],'Y')\n",
    "#df['Major Bleed (Y/N)'].fillna('N', inplace=True)\n",
    "\n",
    "# Delete index 112 since it has a question mark for age \n",
    "#df = df.drop(labels=112, axis=0)\n",
    "\n",
    "#Gender has inputs of F or M, but sometimes they are lowercase. Using \"upper()\" to ensure they are all uppercase\n",
    "#df['gender'] = df['gender'].str.upper()\n",
    "\n",
    "#df.count()\n",
    "df.head()"
   ]
  },
  {
   "cell_type": "markdown",
   "id": "d082d973",
   "metadata": {},
   "source": [
    "Count number of people who had the types of bleeding"
   ]
  },
  {
   "cell_type": "code",
   "execution_count": 4,
   "id": "99b9431e",
   "metadata": {},
   "outputs": [
    {
     "data": {
      "text/plain": [
       "N    153\n",
       "Y     17\n",
       "Name: Major Bleed (Y/N), dtype: int64"
      ]
     },
     "execution_count": 4,
     "metadata": {},
     "output_type": "execute_result"
    }
   ],
   "source": [
    "df['Major Bleed (Y/N)'].value_counts(dropna=False)"
   ]
  },
  {
   "cell_type": "markdown",
   "id": "cdc92880",
   "metadata": {},
   "source": [
    "Converting categorical data into numerical representation"
   ]
  },
  {
   "cell_type": "code",
   "execution_count": 5,
   "id": "a4b8bc3e",
   "metadata": {},
   "outputs": [
    {
     "data": {
      "text/html": [
       "<div>\n",
       "<style scoped>\n",
       "    .dataframe tbody tr th:only-of-type {\n",
       "        vertical-align: middle;\n",
       "    }\n",
       "\n",
       "    .dataframe tbody tr th {\n",
       "        vertical-align: top;\n",
       "    }\n",
       "\n",
       "    .dataframe thead th {\n",
       "        text-align: right;\n",
       "    }\n",
       "</style>\n",
       "<table border=\"1\" class=\"dataframe\">\n",
       "  <thead>\n",
       "    <tr style=\"text-align: right;\">\n",
       "      <th></th>\n",
       "      <th>Plt Nadir while on Ibrutinib</th>\n",
       "      <th>Anemia (hb &lt; 100) (Y/N)</th>\n",
       "      <th>anticoagulation (Y/N)</th>\n",
       "      <th>Major Bleed (Y/N)</th>\n",
       "    </tr>\n",
       "  </thead>\n",
       "  <tbody>\n",
       "    <tr>\n",
       "      <th>0</th>\n",
       "      <td>15</td>\n",
       "      <td>1</td>\n",
       "      <td>0</td>\n",
       "      <td>0</td>\n",
       "    </tr>\n",
       "    <tr>\n",
       "      <th>1</th>\n",
       "      <td>93</td>\n",
       "      <td>1</td>\n",
       "      <td>0</td>\n",
       "      <td>0</td>\n",
       "    </tr>\n",
       "    <tr>\n",
       "      <th>2</th>\n",
       "      <td>189</td>\n",
       "      <td>1</td>\n",
       "      <td>0</td>\n",
       "      <td>0</td>\n",
       "    </tr>\n",
       "    <tr>\n",
       "      <th>3</th>\n",
       "      <td>40</td>\n",
       "      <td>0</td>\n",
       "      <td>0</td>\n",
       "      <td>0</td>\n",
       "    </tr>\n",
       "    <tr>\n",
       "      <th>4</th>\n",
       "      <td>49</td>\n",
       "      <td>0</td>\n",
       "      <td>0</td>\n",
       "      <td>1</td>\n",
       "    </tr>\n",
       "  </tbody>\n",
       "</table>\n",
       "</div>"
      ],
      "text/plain": [
       "   Plt Nadir while on Ibrutinib  Anemia (hb < 100) (Y/N)  \\\n",
       "0                            15                        1   \n",
       "1                            93                        1   \n",
       "2                           189                        1   \n",
       "3                            40                        0   \n",
       "4                            49                        0   \n",
       "\n",
       "   anticoagulation (Y/N)  Major Bleed (Y/N)  \n",
       "0                      0                  0  \n",
       "1                      0                  0  \n",
       "2                      0                  0  \n",
       "3                      0                  0  \n",
       "4                      0                  1  "
      ]
     },
     "execution_count": 5,
     "metadata": {},
     "output_type": "execute_result"
    }
   ],
   "source": [
    "number = LabelEncoder()\n",
    "\n",
    "#### I can uncomment out the lines of code depending on which out of three df's I chose to investigate. \n",
    "## For first dataset\n",
    "df['Anemia (hb < 100) (Y/N)'] = number.fit_transform(df['Anemia (hb < 100) (Y/N)'].astype('str'))\n",
    "df['anticoagulation (Y/N)'] = number.fit_transform(df['anticoagulation (Y/N)'].astype('str'))\n",
    "df['Major Bleed (Y/N)'] = number.fit_transform(df['Major Bleed (Y/N)'].astype('str'))\n",
    "\n",
    "## For second dataset\n",
    "#df['Major Bleed (Y/N)'] = number.fit_transform(df['Major Bleed (Y/N)'].astype('str'))\n",
    "#df['anticoagulation (Y/N)'] = number.fit_transform(df['anticoagulation (Y/N)'].astype('str'))\n",
    "\n",
    "## For third dataset \n",
    "#df['gender'] = number.fit_transform(df['gender'].astype('str'))\n",
    "#df['Anemia (hb < 100) (Y/N)'] = number.fit_transform(df['Anemia (hb < 100) (Y/N)'].astype('str'))\n",
    "#df['HR Molecular/Cytogenetics (Y/N)'] = number.fit_transform(df['HR Molecular/Cytogenetics (Y/N)'].astype('str'))\n",
    "#df['anticoagulation (Y/N)'] = number.fit_transform(df['anticoagulation (Y/N)'].astype('str'))\n",
    "#df['anti platelet (Y/N)'] = number.fit_transform(df['anti platelet (Y/N)'].astype('str'))\n",
    "#df['PMHx bleeding risk (Y/N)'] = number.fit_transform(df['PMHx bleeding risk (Y/N)'].astype('str'))\n",
    "#df['Major Bleed (Y/N)'] = number.fit_transform(df['Major Bleed (Y/N)'].astype('str'))\n",
    "\n",
    "df.head()"
   ]
  },
  {
   "cell_type": "markdown",
   "id": "17628302",
   "metadata": {},
   "source": [
    "Splitting data into independent and dependent variables, then into training and testing set, and then upsample the training sets"
   ]
  },
  {
   "cell_type": "code",
   "execution_count": 6,
   "id": "25473081",
   "metadata": {},
   "outputs": [
    {
     "data": {
      "text/plain": [
       "Plt Nadir while on Ibrutinib    228\n",
       "Anemia (hb < 100) (Y/N)         228\n",
       "anticoagulation (Y/N)           228\n",
       "dtype: int64"
      ]
     },
     "execution_count": 6,
     "metadata": {},
     "output_type": "execute_result"
    }
   ],
   "source": [
    "#### I can uncomment out the clinical features depending on which out of three df's I chose to investigate.\n",
    "clinical_features = [\"Plt Nadir while on Ibrutinib\",\"Anemia (hb < 100) (Y/N)\",\"anticoagulation (Y/N)\"]\n",
    "#clinical_features = [\"plt at the time of bleed\",\"hb at the time of bleed\",\"anticoagulation (Y/N)\"]\n",
    "#clinical_features = [\"Age at diagnosis\",'gender','PMHx bleeding risk (Y/N)',\"HR Molecular/Cytogenetics (Y/N)\",\"Prior lines of therapy\",'anti platelet (Y/N)',\"Plt Nadir while on Ibrutinib\",\"Anemia (hb < 100) (Y/N)\",\"anticoagulation (Y/N)\"]\n",
    "\n",
    "\n",
    "\n",
    "X = df[clinical_features]   #Independent variables \n",
    "y = df['Major Bleed (Y/N)']  #Dependent variables \n",
    "\n",
    "X_train,X_test,y_train,y_test=train_test_split(X,y,test_size=0.25,random_state=0,stratify=y) #Splitting variables into training/testing set\n",
    "\n",
    "X_Y_train = pd.concat([X_train,y_train],axis=1)\n",
    "\n",
    "def upsample_minority(df):\n",
    "    \n",
    "    df_majority = df.loc[df['Major Bleed (Y/N)'] == 0]\n",
    "    df_minority = df.loc[df['Major Bleed (Y/N)'] == 1]\n",
    "    \n",
    "    df_minority_upsampled = resample(df_minority, replace = True, n_samples=len(df_majority), random_state=123)\n",
    "    df_upsampled = pd.concat([df_majority,df_minority_upsampled])\n",
    "    \n",
    "    df = df_upsampled\n",
    "    \n",
    "    return df \n",
    "\n",
    "def smote(train_1,train_2):\n",
    "    \n",
    "    sm = SMOTE(random_state=27)\n",
    "    train_1, train_2 = sm.fit_resample(train_1, train_2)\n",
    "    \n",
    "    return train_1,train_2 \n",
    "\n",
    "#upsampling the minority directly\n",
    "X_Y_train_upsample = upsample_minority(X_Y_train)\n",
    "y_train_upsample = X_Y_train_upsample['Major Bleed (Y/N)']\n",
    "X_train_upsample = X_Y_train_upsample.drop('Major Bleed (Y/N)', axis=1)\n",
    "\n",
    "df_upsample = upsample_minority(df)\n",
    "y_upsample = df_upsample['Major Bleed (Y/N)']\n",
    "X_upsample = df_upsample.drop('Major Bleed (Y/N)', axis=1)\n",
    "\n",
    "#upsampling by generating synthetic samples (smote)\n",
    "X_train_smote, y_train_smote = smote(X_train, y_train)\n",
    "\n",
    "X_smote, y_smote = smote(X, y)\n",
    "\n",
    "# Choosing which of the 2 sets of upsampled data I'll make the model with (upsampling vs. smote). \n",
    "# Upsampling produces better results\n",
    "XX = X_train_upsample\n",
    "yy = y_train_upsample\n",
    "\n",
    "XX.count()\n",
    "\n",
    "## https://towardsdatascience.com/methods-for-dealing-with-imbalanced-data-5b761be45a18"
   ]
  },
  {
   "cell_type": "markdown",
   "id": "0116a5e3",
   "metadata": {},
   "source": [
    "Training the model with statsmodel"
   ]
  },
  {
   "cell_type": "code",
   "execution_count": 7,
   "id": "046e375e",
   "metadata": {},
   "outputs": [
    {
     "name": "stdout",
     "output_type": "stream",
     "text": [
      "Optimization terminated successfully.\n",
      "         Current function value: 0.636709\n",
      "         Iterations 5\n",
      "                           Logit Regression Results                           \n",
      "==============================================================================\n",
      "Dep. Variable:      Major Bleed (Y/N)   No. Observations:                  228\n",
      "Model:                          Logit   Df Residuals:                      224\n",
      "Method:                           MLE   Df Model:                            3\n",
      "Date:                Thu, 26 Aug 2021   Pseudo R-squ.:                 0.08142\n",
      "Time:                        19:56:56   Log-Likelihood:                -145.17\n",
      "converged:                       True   LL-Null:                       -158.04\n",
      "Covariance Type:            nonrobust   LLR p-value:                 1.083e-05\n",
      "================================================================================================\n",
      "                                   coef    std err          z      P>|z|      [0.025      0.975]\n",
      "------------------------------------------------------------------------------------------------\n",
      "const                            0.1201      0.372      0.323      0.747      -0.610       0.850\n",
      "Plt Nadir while on Ibrutinib    -0.0086      0.003     -2.806      0.005      -0.015      -0.003\n",
      "Anemia (hb < 100) (Y/N)          0.8517      0.302      2.818      0.005       0.259       1.444\n",
      "anticoagulation (Y/N)            0.3716      0.384      0.967      0.334      -0.382       1.125\n",
      "================================================================================================\n"
     ]
    },
    {
     "name": "stderr",
     "output_type": "stream",
     "text": [
      "/opt/anaconda3/lib/python3.8/site-packages/statsmodels/tsa/tsatools.py:142: FutureWarning: In a future version of pandas all arguments of concat except for the argument 'objs' will be keyword-only\n",
      "  x = pd.concat(x[::order], 1)\n"
     ]
    }
   ],
   "source": [
    "logit_model_1=sm.Logit(yy,sm.add_constant(XX.astype(float)))\n",
    "\n",
    "result_1=logit_model_1.fit()\n",
    "print(result_1.summary())"
   ]
  },
  {
   "cell_type": "markdown",
   "id": "96c0f8c1",
   "metadata": {},
   "source": [
    "Converting the coefficients (log odds) into the odds"
   ]
  },
  {
   "cell_type": "code",
   "execution_count": 8,
   "id": "d032b20a",
   "metadata": {},
   "outputs": [
    {
     "data": {
      "text/plain": [
       "const                           1.127634\n",
       "Plt Nadir while on Ibrutinib    0.991457\n",
       "Anemia (hb < 100) (Y/N)         2.343570\n",
       "anticoagulation (Y/N)           1.449985\n",
       "dtype: float64"
      ]
     },
     "execution_count": 8,
     "metadata": {},
     "output_type": "execute_result"
    }
   ],
   "source": [
    "np.exp(result_1.params) "
   ]
  },
  {
   "cell_type": "markdown",
   "id": "bf9f4215",
   "metadata": {},
   "source": [
    "Remove Uncorrelated coefficients if desired"
   ]
  },
  {
   "cell_type": "code",
   "execution_count": 9,
   "id": "ff6e84a1",
   "metadata": {},
   "outputs": [],
   "source": [
    "## "
   ]
  },
  {
   "cell_type": "markdown",
   "id": "5afb349e",
   "metadata": {},
   "source": [
    "Using statsmodel again to refit the model without the uncorrelated variables, then evaluating the model"
   ]
  },
  {
   "cell_type": "code",
   "execution_count": 10,
   "id": "67908244",
   "metadata": {},
   "outputs": [
    {
     "name": "stdout",
     "output_type": "stream",
     "text": [
      "Optimization terminated successfully.\n",
      "         Current function value: 0.636709\n",
      "         Iterations 5\n",
      "                           Logit Regression Results                           \n",
      "==============================================================================\n",
      "Dep. Variable:      Major Bleed (Y/N)   No. Observations:                  228\n",
      "Model:                          Logit   Df Residuals:                      224\n",
      "Method:                           MLE   Df Model:                            3\n",
      "Date:                Thu, 26 Aug 2021   Pseudo R-squ.:                 0.08142\n",
      "Time:                        19:56:56   Log-Likelihood:                -145.17\n",
      "converged:                       True   LL-Null:                       -158.04\n",
      "Covariance Type:            nonrobust   LLR p-value:                 1.083e-05\n",
      "================================================================================================\n",
      "                                   coef    std err          z      P>|z|      [0.025      0.975]\n",
      "------------------------------------------------------------------------------------------------\n",
      "const                            0.1201      0.372      0.323      0.747      -0.610       0.850\n",
      "Plt Nadir while on Ibrutinib    -0.0086      0.003     -2.806      0.005      -0.015      -0.003\n",
      "Anemia (hb < 100) (Y/N)          0.8517      0.302      2.818      0.005       0.259       1.444\n",
      "anticoagulation (Y/N)            0.3716      0.384      0.967      0.334      -0.382       1.125\n",
      "================================================================================================\n"
     ]
    },
    {
     "name": "stderr",
     "output_type": "stream",
     "text": [
      "/opt/anaconda3/lib/python3.8/site-packages/statsmodels/tsa/tsatools.py:142: FutureWarning: In a future version of pandas all arguments of concat except for the argument 'objs' will be keyword-only\n",
      "  x = pd.concat(x[::order], 1)\n",
      "/opt/anaconda3/lib/python3.8/site-packages/statsmodels/tsa/tsatools.py:142: FutureWarning: In a future version of pandas all arguments of concat except for the argument 'objs' will be keyword-only\n",
      "  x = pd.concat(x[::order], 1)\n"
     ]
    },
    {
     "data": {
      "text/plain": [
       "array([[26, 13],\n",
       "       [ 1,  3]])"
      ]
     },
     "execution_count": 10,
     "metadata": {},
     "output_type": "execute_result"
    }
   ],
   "source": [
    "logit_model_2=sm.Logit(yy,sm.add_constant(XX.astype(float)))\n",
    "\n",
    "\n",
    "result_2=logit_model_2.fit()\n",
    "print(result_2.summary())\n",
    "\n",
    "ypredict = result_2.predict(sm.add_constant(X_test.astype(float)))\n",
    "prediction = list(map(round,ypredict))\n",
    "\n",
    "cnf_matrix_1 = metrics.confusion_matrix(y_test,prediction)\n",
    "cnf_matrix_1"
   ]
  },
  {
   "cell_type": "code",
   "execution_count": 11,
   "id": "f2bae6f5",
   "metadata": {},
   "outputs": [
    {
     "data": {
      "text/plain": [
       "Text(0.5, 257.44, 'Predicted label')"
      ]
     },
     "execution_count": 11,
     "metadata": {},
     "output_type": "execute_result"
    },
    {
     "data": {
      "image/png": "[encoded data removed]",
      "text/plain": [
       "<Figure size 432x288 with 2 Axes>"
      ]
     },
     "metadata": {
      "needs_background": "light"
     },
     "output_type": "display_data"
    }
   ],
   "source": [
    "#Visualizing accuracy with heatmap \n",
    "%matplotlib inline\n",
    "\n",
    "class_names=[0,1] # name  of classes\n",
    "fig, ax = plt.subplots()\n",
    "tick_marks = np.arange(len(class_names))\n",
    "plt.xticks(tick_marks, class_names)\n",
    "plt.yticks(tick_marks, class_names)\n",
    "# create heatmap\n",
    "sns.heatmap(pd.DataFrame(cnf_matrix_1), annot=True, cmap=\"YlGnBu\" ,fmt='g')\n",
    "ax.xaxis.set_label_position(\"top\")\n",
    "plt.tight_layout()\n",
    "plt.title('Confusion matrix', y=1.1)\n",
    "plt.ylabel('Actual label')\n",
    "plt.xlabel('Predicted label')"
   ]
  },
  {
   "cell_type": "code",
   "execution_count": 12,
   "id": "a0ab5a4b",
   "metadata": {},
   "outputs": [
    {
     "name": "stdout",
     "output_type": "stream",
     "text": [
      "Accuracy: 0.6744186046511628\n",
      "Precision: 0.1875\n",
      "Recall: 0.75\n"
     ]
    }
   ],
   "source": [
    "print(\"Accuracy:\",metrics.accuracy_score(y_test, prediction))\n",
    "print(\"Precision:\",metrics.precision_score(y_test, prediction))\n",
    "print(\"Recall:\",metrics.recall_score(y_test, prediction))"
   ]
  },
  {
   "cell_type": "code",
   "execution_count": 13,
   "id": "5d63499f",
   "metadata": {},
   "outputs": [
    {
     "data": {
      "image/png": "[encoded data removed]",
      "text/plain": [
       "<Figure size 432x288 with 1 Axes>"
      ]
     },
     "metadata": {
      "needs_background": "light"
     },
     "output_type": "display_data"
    }
   ],
   "source": [
    "#ROC Curve\n",
    "fpr, tpr, _ = metrics.roc_curve(y_test,  ypredict)\n",
    "auc = metrics.roc_auc_score(y_test, ypredict)\n",
    "plt.plot(fpr,tpr,label=\"data 1, auc=\"+str(auc))\n",
    "plt.legend(loc=4)\n",
    "plt.show()"
   ]
  },
  {
   "cell_type": "markdown",
   "id": "5dc2de0a",
   "metadata": {},
   "source": [
    "Training the model with LogisticRegression (to compare to statsmodel)"
   ]
  },
  {
   "cell_type": "code",
   "execution_count": 14,
   "id": "651b8ed1",
   "metadata": {},
   "outputs": [],
   "source": [
    "# instantiate the model (using the default parameters) (using LogisticRegression)\n",
    "logreg = LogisticRegression(max_iter=200)\n",
    "\n",
    "# fit the model with data\n",
    "logreg.fit(XX,yy)\n",
    "\n",
    "#\n",
    "y_pred=logreg.predict(X_test)\n",
    "#y_pred"
   ]
  },
  {
   "cell_type": "markdown",
   "id": "6926f45e",
   "metadata": {},
   "source": [
    "Model evaluation"
   ]
  },
  {
   "cell_type": "code",
   "execution_count": 15,
   "id": "2a45b9d5",
   "metadata": {},
   "outputs": [
    {
     "data": {
      "text/plain": [
       "array([[26, 13],\n",
       "       [ 2,  2]])"
      ]
     },
     "execution_count": 15,
     "metadata": {},
     "output_type": "execute_result"
    }
   ],
   "source": [
    "cnf_matrix_2 = metrics.confusion_matrix(y_test, y_pred)\n",
    "cnf_matrix_2   # Viewing accuracy of model "
   ]
  },
  {
   "cell_type": "code",
   "execution_count": 16,
   "id": "9beb0dae",
   "metadata": {},
   "outputs": [
    {
     "data": {
      "text/plain": [
       "Text(0.5, 257.44, 'Predicted label')"
      ]
     },
     "execution_count": 16,
     "metadata": {},
     "output_type": "execute_result"
    },
    {
     "data": {
      "image/png": "[encoded data removed]",
      "text/plain": [
       "<Figure size 432x288 with 2 Axes>"
      ]
     },
     "metadata": {
      "needs_background": "light"
     },
     "output_type": "display_data"
    }
   ],
   "source": [
    "#Visualizing accuracy with heatmap \n",
    "%matplotlib inline\n",
    "\n",
    "class_names=[0,1] # name  of classes\n",
    "fig, ax = plt.subplots()\n",
    "tick_marks = np.arange(len(class_names))\n",
    "plt.xticks(tick_marks, class_names)\n",
    "plt.yticks(tick_marks, class_names)\n",
    "# create heatmap\n",
    "sns.heatmap(pd.DataFrame(cnf_matrix_2), annot=True, cmap=\"YlGnBu\" ,fmt='g')\n",
    "ax.xaxis.set_label_position(\"top\")\n",
    "plt.tight_layout()\n",
    "plt.title('Confusion matrix', y=1.1)\n",
    "plt.ylabel('Actual label')\n",
    "plt.xlabel('Predicted label')"
   ]
  },
  {
   "cell_type": "code",
   "execution_count": 17,
   "id": "7654c111",
   "metadata": {},
   "outputs": [
    {
     "name": "stdout",
     "output_type": "stream",
     "text": [
      "Accuracy: 0.6511627906976745\n",
      "Precision: 0.13333333333333333\n",
      "Recall: 0.5\n"
     ]
    }
   ],
   "source": [
    "print(\"Accuracy:\",metrics.accuracy_score(y_test, y_pred))\n",
    "print(\"Precision:\",metrics.precision_score(y_test, y_pred))\n",
    "print(\"Recall:\",metrics.recall_score(y_test, y_pred))"
   ]
  },
  {
   "cell_type": "code",
   "execution_count": 18,
   "id": "f3ef5639",
   "metadata": {},
   "outputs": [
    {
     "data": {
      "image/png": "[encoded data removed]",
      "text/plain": [
       "<Figure size 432x288 with 1 Axes>"
      ]
     },
     "metadata": {
      "needs_background": "light"
     },
     "output_type": "display_data"
    }
   ],
   "source": [
    "#ROC Curve\n",
    "y_pred_proba = logreg.predict_proba(X_test)[::,1]\n",
    "fpr, tpr, _ = metrics.roc_curve(y_test,  y_pred_proba)\n",
    "auc = metrics.roc_auc_score(y_test, y_pred_proba)\n",
    "plt.plot(fpr,tpr,label=\"data 1, auc=\"+str(auc))\n",
    "plt.legend(loc=4)\n",
    "plt.show()"
   ]
  },
  {
   "cell_type": "code",
   "execution_count": null,
   "id": "8ef2a526",
   "metadata": {},
   "outputs": [],
   "source": []
  }
 ],
 "metadata": {
  "kernelspec": {
   "display_name": "Python 3",
   "language": "python",
   "name": "python3"
  },
  "language_info": {
   "codemirror_mode": {
    "name": "ipython",
    "version": 3
   },
   "file_extension": ".py",
   "mimetype": "text/x-python",
   "name": "python",
   "nbconvert_exporter": "python",
   "pygments_lexer": "ipython3",
   "version": "3.8.8"
  }
 },
 "nbformat": 4,
 "nbformat_minor": 5
}
