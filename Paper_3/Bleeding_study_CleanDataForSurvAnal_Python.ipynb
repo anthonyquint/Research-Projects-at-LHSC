{
 "cells": [
  {
   "cell_type": "markdown",
   "id": "fbd1e223",
   "metadata": {},
   "source": [
    "Cleaning the dataset and saving it to my filepath so it can be easily used for the survival analysis completed in R. \n",
    "\n",
    "Note: I did not display any of the dataframes due to confidentiality reasons"
   ]
  },
  {
   "cell_type": "markdown",
   "id": "cce09b12",
   "metadata": {},
   "source": [
    "Import necessary libraries "
   ]
  },
  {
   "cell_type": "code",
   "execution_count": 1,
   "id": "8d79d9c7",
   "metadata": {},
   "outputs": [
    {
     "name": "stdout",
     "output_type": "stream",
     "text": [
      "complete\n"
     ]
    }
   ],
   "source": [
    "import pandas as pd\n",
    "import numpy as np\n",
    "from sklearn.preprocessing import LabelEncoder\n",
    "\n",
    "print(\"complete\")"
   ]
  },
  {
   "cell_type": "markdown",
   "id": "6a8a5afd",
   "metadata": {},
   "source": [
    "Read dataset"
   ]
  },
  {
   "cell_type": "code",
   "execution_count": 2,
   "id": "2b90c80a",
   "metadata": {},
   "outputs": [],
   "source": [
    "df = pd.read_csv(\"/Users/anthonyquint/Desktop/LHSC_Work_Folder/Mina/Bleeding_study/Ibrutinib Data Set, July 13,2021, de-identified data.csv\")\n",
    "#df.head()"
   ]
  },
  {
   "cell_type": "markdown",
   "id": "d7d41011",
   "metadata": {},
   "source": [
    "Cleaning the dataset"
   ]
  },
  {
   "cell_type": "code",
   "execution_count": 3,
   "id": "3f99ece1",
   "metadata": {},
   "outputs": [],
   "source": [
    "df = df[[\"Age at diagnosis\",\"gender\",\"Platelets < 50 (Y/N)\",\"Plt Nadir while on Ibrutinib\",\"Anemia (hb < 100) (Y/N)\",\"Anemia (hb < 110) (Y/N)\", \"HR Molecular/Cytogenetics (Y/N)\",\"Prior lines of therapy\",\"Prior lines of therapy 1\",\"Prior lines of therapy 2\",\"Prior lines of therapy 3\",\"Prior lines of therapy 4\",\"Prior lines of therapy 6\",\"anticoagulation (Y/N)\",\"anti platelet (Y/N)\",\"PMHx bleeding risk (Y/N)\",\"Major Bleed (Y/N)\",\"Major Bleed\",\"Minor Bleed\",\"duration of ibrutinib (in days)\",\"Death (only by last FU)\", \"Bleed#1_MajOrMin(1 = censored, 2 = event)\", \"Bleed#1_Time_on_Ibruntinib\", \"Bleed#2_MajOnly(1 = censored, 2 = event)\", \"Bleed#2_Time_on_Ibruntinib\"]]\n",
    "\n",
    "#Gender has inputs of F or M, but sometimes they are lowercase. Using \"upper()\" to ensure they are all uppercase\n",
    "\n",
    "df['gender'] = df['gender'].str.upper()\n",
    "\n",
    "#changing NaN values in \"Major Bleed (Y/N)\" to M. I.e. Y = major bleed, N = minor bleed, M = no bleed \n",
    "#df['Major Bleed (Y/N)'].fillna('M', inplace=True)\n",
    "\n",
    "# Delete index 112 since it has a question mark for age \n",
    "df = df.drop(labels=112, axis=0)\n",
    "\n",
    "#Changing NaN vlaues in \"Death (only by last FU)\" to \"N\"\n",
    "df['Death (only by last FU)'].fillna('N', inplace=True)\n",
    "\n",
    "\n",
    "#df.head()"
   ]
  },
  {
   "cell_type": "markdown",
   "id": "c692b7e0",
   "metadata": {},
   "source": [
    "Convert categorical data into numerical representation"
   ]
  },
  {
   "cell_type": "code",
   "execution_count": 4,
   "id": "85c15a62",
   "metadata": {},
   "outputs": [],
   "source": [
    "number = LabelEncoder()\n",
    "df['gender'] = number.fit_transform(df['gender'].astype('str'))\n",
    "df['Platelets < 50 (Y/N)'] = number.fit_transform(df['Platelets < 50 (Y/N)'].astype('str'))\n",
    "df['Anemia (hb < 100) (Y/N)'] = number.fit_transform(df['Anemia (hb < 100) (Y/N)'].astype('str'))\n",
    "df['Anemia (hb < 110) (Y/N)'] = number.fit_transform(df['Anemia (hb < 110) (Y/N)'].astype('str'))\n",
    "df['HR Molecular/Cytogenetics (Y/N)'] = number.fit_transform(df['HR Molecular/Cytogenetics (Y/N)'].astype('str'))\n",
    "df['anticoagulation (Y/N)'] = number.fit_transform(df['anticoagulation (Y/N)'].astype('str'))\n",
    "df['anti platelet (Y/N)'] = number.fit_transform(df['anti platelet (Y/N)'].astype('str'))\n",
    "df['PMHx bleeding risk (Y/N)'] = number.fit_transform(df['PMHx bleeding risk (Y/N)'].astype('str'))\n",
    "df['Death (only by last FU)'] = number.fit_transform(df['Death (only by last FU)'].astype('str'))\n",
    "\n",
    "df['Major Bleed (Y/N)'] = df['Major Bleed (Y/N)'].replace(['Y'],'2')\n",
    "df['Major Bleed (Y/N)'] = df['Major Bleed (Y/N)'].replace(['N'],'1')\n",
    "df['Major Bleed (Y/N)'].fillna('0', inplace=True)\n",
    "\n",
    "#df.head()"
   ]
  },
  {
   "cell_type": "code",
   "execution_count": 5,
   "id": "062d4f94",
   "metadata": {},
   "outputs": [],
   "source": [
    "#Changing 1 (death)to be equal to 2. Changing 0 (censored) to be equal to 1. \n",
    "df['Death (only by last FU)'] = df['Death (only by last FU)'].replace([1],2)\n",
    "df['Death (only by last FU)'] = df['Death (only by last FU)'].replace([0],1)\n",
    "\n",
    "\n",
    "#df.head()"
   ]
  },
  {
   "cell_type": "code",
   "execution_count": 6,
   "id": "986180a5",
   "metadata": {},
   "outputs": [],
   "source": [
    "df2 = df\n",
    "# removing rows that have \"Unknown\" cytogenetics.  \n",
    "df2 = df2[~df2['HR Molecular/Cytogenetics (Y/N)'].isin([2])] \n",
    "\n"
   ]
  },
  {
   "cell_type": "markdown",
   "id": "5b949fe7",
   "metadata": {},
   "source": [
    "Save to filepath"
   ]
  },
  {
   "cell_type": "code",
   "execution_count": 7,
   "id": "0f450aed",
   "metadata": {},
   "outputs": [],
   "source": [
    "df.to_csv(\"Ibrutinib Data Set, July 13,2021, de- identified data_cleaned_forSurvAnal.csv\")\n",
    "df2.to_csv(\"Ibrutinib Data Set, July 13,2021, de- identified data_cleaned_forSurvAnal_CtyoCleaned.csv\")"
   ]
  }
 ],
 "metadata": {
  "kernelspec": {
   "display_name": "Python 3",
   "language": "python",
   "name": "python3"
  },
  "language_info": {
   "codemirror_mode": {
    "name": "ipython",
    "version": 3
   },
   "file_extension": ".py",
   "mimetype": "text/x-python",
   "name": "python",
   "nbconvert_exporter": "python",
   "pygments_lexer": "ipython3",
   "version": "3.8.8"
  }
 },
 "nbformat": 4,
 "nbformat_minor": 5
}
