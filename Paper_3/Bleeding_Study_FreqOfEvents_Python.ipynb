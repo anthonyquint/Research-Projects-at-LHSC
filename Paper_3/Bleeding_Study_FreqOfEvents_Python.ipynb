{
 "cells": [
  {
   "cell_type": "markdown",
   "id": "495c9452",
   "metadata": {},
   "source": [
    "The overarching goal of this paper is to assess the risk factors that may lead to a major bleeding event in CLL patients taking ibruntinib for treatment. \n",
    "\n",
    "Therefore, the dependent variable is the bleeding outcome (Major, Minor, or None), while the relevant independent variables are: \n",
    "- age of diagnosis, gender, platelet count, anti-coagulation, antiplatelet, PMHx bleeding risk, Molecular/cytogenetics, anemia, prior lines of therapy\n",
    "\n",
    "In this notebook, I compute some relevant freqencies of the data, in order to later perform a categorical analysis (contigency tables). Note: there are some independent variables not included here which I later determined their frequencies by sorting and filtering through the excel spreadsheet. "
   ]
  },
  {
   "cell_type": "markdown",
   "id": "26e397c1",
   "metadata": {},
   "source": [
    "Importing the necessary libraries. "
   ]
  },
  {
   "cell_type": "code",
   "execution_count": 1,
   "id": "043955bf",
   "metadata": {},
   "outputs": [
    {
     "name": "stdout",
     "output_type": "stream",
     "text": [
      "complete\n"
     ]
    }
   ],
   "source": [
    "import pandas as pd\n",
    "\n",
    "print(\"complete\")"
   ]
  },
  {
   "cell_type": "markdown",
   "id": "923e05c7",
   "metadata": {},
   "source": [
    "Load the dataset into python, and capitilize the gender column"
   ]
  },
  {
   "cell_type": "code",
   "execution_count": 2,
   "id": "979649a2",
   "metadata": {},
   "outputs": [],
   "source": [
    "df = pd.read_csv(\"/Users/anthonyquint/Desktop/LHSC_Work_Folder/Mina/Bleeding_study/Ibrutinib Data Set, June 10,2021, de- identified data.csv\")\n",
    "df['gender'] = df['gender'].str.upper()\n",
    "#df.head() Not displaying the data for confidentiality reasons"
   ]
  },
  {
   "cell_type": "markdown",
   "id": "c6b6f7e9",
   "metadata": {},
   "source": [
    "Assessing the frequency of patients based on their platelet count and the type of their bleeding event"
   ]
  },
  {
   "cell_type": "code",
   "execution_count": 3,
   "id": "135f69d9",
   "metadata": {},
   "outputs": [
    {
     "name": "stdout",
     "output_type": "stream",
     "text": [
      "Number of people with platelets < 50 and that had a major bleeding event: 6\n",
      "Number of people with platelets > 50 and that had a major bleeding event: 11\n",
      "Number of people with platelets < 50 and that had a minor bleeding event: 5\n",
      "Number of people with platelets > 50 and that had a minor bleeding event: 20\n",
      "Number of people with platelets < 50 and that didn't have a bleeding event: 28\n",
      "Number of people with platelets > 50 and that didn't have a bleeding event: 100\n"
     ]
    }
   ],
   "source": [
    "seriesObj_1 = df.apply(lambda x:True if x['Platelets < 50 (Y/N)']=='Y'and x['Major Bleed (Y/N)']=='Y' else False, axis=1)\n",
    "seriesObj_2 = df.apply(lambda x:True if x['Platelets < 50 (Y/N)']=='N'and x['Major Bleed (Y/N)']=='Y' else False, axis=1)\n",
    "seriesObj_3 = df.apply(lambda x:True if x['Platelets < 50 (Y/N)']=='Y'and x['Major Bleed (Y/N)']=='N' else False, axis=1)\n",
    "seriesObj_4 = df.apply(lambda x:True if x['Platelets < 50 (Y/N)']=='N'and x['Major Bleed (Y/N)']=='N' else False, axis=1)\n",
    "seriesObj_5 = df.apply(lambda x:True if x['Platelets < 50 (Y/N)']=='Y'and x['Major Bleed (Y/N)']!='Y'and x['Major Bleed (Y/N)']!='N' else False, axis=1)\n",
    "seriesObj_6 = df.apply(lambda x:True if x['Platelets < 50 (Y/N)']=='N'and x['Major Bleed (Y/N)']!='Y'and x['Major Bleed (Y/N)']!='N' else False, axis=1)\n",
    "\n",
    "numOfRows_1 = len(seriesObj_1[seriesObj_1 == True].index)\n",
    "numOfRows_2 = len(seriesObj_2[seriesObj_2 == True].index)\n",
    "numOfRows_3 = len(seriesObj_3[seriesObj_3 == True].index)\n",
    "numOfRows_4 = len(seriesObj_4[seriesObj_4 == True].index)\n",
    "numOfRows_5 = len(seriesObj_5[seriesObj_5 == True].index)\n",
    "numOfRows_6 = len(seriesObj_6[seriesObj_6 == True].index)\n",
    "\n",
    "print(\"Number of people with platelets < 50 and that had a major bleeding event:\",numOfRows_1)\n",
    "print(\"Number of people with platelets > 50 and that had a major bleeding event:\",numOfRows_2)\n",
    "print(\"Number of people with platelets < 50 and that had a minor bleeding event:\",numOfRows_3)\n",
    "print(\"Number of people with platelets > 50 and that had a minor bleeding event:\",numOfRows_4)\n",
    "print(\"Number of people with platelets < 50 and that didn't have a bleeding event:\",numOfRows_5)\n",
    "print(\"Number of people with platelets > 50 and that didn't have a bleeding event:\",numOfRows_6)"
   ]
  },
  {
   "cell_type": "markdown",
   "id": "f6ce19e3",
   "metadata": {},
   "source": [
    "Assessing the frequency of patients based on whether they're on anticoagulants and the type of their bleeding event"
   ]
  },
  {
   "cell_type": "code",
   "execution_count": 4,
   "id": "2345848a",
   "metadata": {},
   "outputs": [
    {
     "name": "stdout",
     "output_type": "stream",
     "text": [
      "Number of people with anticoagulation and that had a major bleeding event: 6\n",
      "Number of people without anticoagulation and that had a major bleeding event: 11\n",
      "Number of people with anticoagulation and that had a minor bleeding event: 11\n",
      "Number of people without anticoagulation and that had a minor bleeding event: 14\n",
      "Number of people with anticoagulation and that didn't have a bleeding event: 15\n",
      "Number of people without anticoagulation and that didn't have a bleeding event: 113\n"
     ]
    }
   ],
   "source": [
    "seriesObj_1 = df.apply(lambda x:True if x['anticoagulation (Y/N)']=='Y'and x['Major Bleed (Y/N)']=='Y' else False, axis=1)\n",
    "seriesObj_2 = df.apply(lambda x:True if x['anticoagulation (Y/N)']=='N'and x['Major Bleed (Y/N)']=='Y' else False, axis=1)\n",
    "seriesObj_3 = df.apply(lambda x:True if x['anticoagulation (Y/N)']=='Y'and x['Major Bleed (Y/N)']=='N' else False, axis=1)\n",
    "seriesObj_4 = df.apply(lambda x:True if x['anticoagulation (Y/N)']=='N'and x['Major Bleed (Y/N)']=='N' else False, axis=1)\n",
    "seriesObj_5 = df.apply(lambda x:True if x['anticoagulation (Y/N)']=='Y'and x['Major Bleed (Y/N)']!='Y'and x['Major Bleed (Y/N)']!='N' else False, axis=1)\n",
    "seriesObj_6 = df.apply(lambda x:True if x['anticoagulation (Y/N)']=='N'and x['Major Bleed (Y/N)']!='Y'and x['Major Bleed (Y/N)']!='N' else False, axis=1)\n",
    "\n",
    "numOfRows_1 = len(seriesObj_1[seriesObj_1 == True].index)\n",
    "numOfRows_2 = len(seriesObj_2[seriesObj_2 == True].index)\n",
    "numOfRows_3 = len(seriesObj_3[seriesObj_3 == True].index)\n",
    "numOfRows_4 = len(seriesObj_4[seriesObj_4 == True].index)\n",
    "numOfRows_5 = len(seriesObj_5[seriesObj_5 == True].index)\n",
    "numOfRows_6 = len(seriesObj_6[seriesObj_6 == True].index)\n",
    "\n",
    "print(\"Number of people with anticoagulation and that had a major bleeding event:\",numOfRows_1)\n",
    "print(\"Number of people without anticoagulation and that had a major bleeding event:\",numOfRows_2)\n",
    "print(\"Number of people with anticoagulation and that had a minor bleeding event:\",numOfRows_3)\n",
    "print(\"Number of people without anticoagulation and that had a minor bleeding event:\",numOfRows_4)\n",
    "print(\"Number of people with anticoagulation and that didn't have a bleeding event:\",numOfRows_5)\n",
    "print(\"Number of people without anticoagulation and that didn't have a bleeding event:\",numOfRows_6)"
   ]
  },
  {
   "cell_type": "markdown",
   "id": "0e0598e3",
   "metadata": {},
   "source": [
    "Assessing the frequency of patients based on whether they're on antiplatelets and the type of their bleeding event"
   ]
  },
  {
   "cell_type": "code",
   "execution_count": 5,
   "id": "3f6aa444",
   "metadata": {},
   "outputs": [
    {
     "name": "stdout",
     "output_type": "stream",
     "text": [
      "Number of people with anti platelets and that had a major bleeding event: 4\n",
      "Number of people without anti platelets and that had a major bleeding event: 13\n",
      "Number of people with anti platelets and that had a minor bleeding event: 6\n",
      "Number of people without anti platelets and that had a minor bleeding event: 19\n",
      "Number of people with anti platelets and that didn't have a bleeding event: 22\n",
      "Number of people without anti platelets and that didn't have a bleeding event: 106\n"
     ]
    }
   ],
   "source": [
    "seriesObj_1 = df.apply(lambda x:True if x['anti platelet (Y/N)']=='Y'and x['Major Bleed (Y/N)']=='Y' else False, axis=1)\n",
    "seriesObj_2 = df.apply(lambda x:True if x['anti platelet (Y/N)']=='N'and x['Major Bleed (Y/N)']=='Y' else False, axis=1)\n",
    "seriesObj_3 = df.apply(lambda x:True if x['anti platelet (Y/N)']=='Y'and x['Major Bleed (Y/N)']=='N' else False, axis=1)\n",
    "seriesObj_4 = df.apply(lambda x:True if x['anti platelet (Y/N)']=='N'and x['Major Bleed (Y/N)']=='N' else False, axis=1)\n",
    "seriesObj_5 = df.apply(lambda x:True if x['anti platelet (Y/N)']=='Y'and x['Major Bleed (Y/N)']!='Y'and x['Major Bleed (Y/N)']!='N' else False, axis=1)\n",
    "seriesObj_6 = df.apply(lambda x:True if x['anti platelet (Y/N)']=='N'and x['Major Bleed (Y/N)']!='Y'and x['Major Bleed (Y/N)']!='N' else False, axis=1)\n",
    "\n",
    "numOfRows_1 = len(seriesObj_1[seriesObj_1 == True].index)\n",
    "numOfRows_2 = len(seriesObj_2[seriesObj_2 == True].index)\n",
    "numOfRows_3 = len(seriesObj_3[seriesObj_3 == True].index)\n",
    "numOfRows_4 = len(seriesObj_4[seriesObj_4 == True].index)\n",
    "numOfRows_5 = len(seriesObj_5[seriesObj_5 == True].index)\n",
    "numOfRows_6 = len(seriesObj_6[seriesObj_6 == True].index)\n",
    "\n",
    "print(\"Number of people with anti platelets and that had a major bleeding event:\",numOfRows_1)\n",
    "print(\"Number of people without anti platelets and that had a major bleeding event:\",numOfRows_2)\n",
    "print(\"Number of people with anti platelets and that had a minor bleeding event:\",numOfRows_3)\n",
    "print(\"Number of people without anti platelets and that had a minor bleeding event:\",numOfRows_4)\n",
    "print(\"Number of people with anti platelets and that didn't have a bleeding event:\",numOfRows_5)\n",
    "print(\"Number of people without anti platelets and that didn't have a bleeding event:\",numOfRows_6)"
   ]
  },
  {
   "cell_type": "markdown",
   "id": "be6cf0eb",
   "metadata": {},
   "source": [
    "Assessing the frequency of patients based on their PMHx bleeding risk and the type of their bleeding event"
   ]
  },
  {
   "cell_type": "code",
   "execution_count": 6,
   "id": "b9a6196a",
   "metadata": {},
   "outputs": [
    {
     "name": "stdout",
     "output_type": "stream",
     "text": [
      "Number of people with PMHx bleeding risk and that had a major bleeding event: 4\n",
      "Number of people without PMHx bleeding risk and that had a major bleeding event: 13\n",
      "Number of people with PMHx bleeding risk and that had a minor bleeding event: 3\n",
      "Number of people without PMHx bleeding risk and that had a minor bleeding event: 22\n",
      "Number of people with PMHx bleeding risk and that didn't have a bleeding event: 16\n",
      "Number of people without PMHx bleeding risk and that didn't have a bleeding event: 112\n"
     ]
    }
   ],
   "source": [
    "seriesObj_1 = df.apply(lambda x:True if x['PMHx bleeding risk (Y/N)']=='Y'and x['Major Bleed (Y/N)']=='Y' else False, axis=1)\n",
    "seriesObj_2 = df.apply(lambda x:True if x['PMHx bleeding risk (Y/N)']=='N'and x['Major Bleed (Y/N)']=='Y' else False, axis=1)\n",
    "seriesObj_3 = df.apply(lambda x:True if x['PMHx bleeding risk (Y/N)']=='Y'and x['Major Bleed (Y/N)']=='N' else False, axis=1)\n",
    "seriesObj_4 = df.apply(lambda x:True if x['PMHx bleeding risk (Y/N)']=='N'and x['Major Bleed (Y/N)']=='N' else False, axis=1)\n",
    "seriesObj_5 = df.apply(lambda x:True if x['PMHx bleeding risk (Y/N)']=='Y'and x['Major Bleed (Y/N)']!='Y'and x['Major Bleed (Y/N)']!='N' else False, axis=1)\n",
    "seriesObj_6 = df.apply(lambda x:True if x['PMHx bleeding risk (Y/N)']=='N'and x['Major Bleed (Y/N)']!='Y'and x['Major Bleed (Y/N)']!='N' else False, axis=1)\n",
    "\n",
    "numOfRows_1 = len(seriesObj_1[seriesObj_1 == True].index)\n",
    "numOfRows_2 = len(seriesObj_2[seriesObj_2 == True].index)\n",
    "numOfRows_3 = len(seriesObj_3[seriesObj_3 == True].index)\n",
    "numOfRows_4 = len(seriesObj_4[seriesObj_4 == True].index)\n",
    "numOfRows_5 = len(seriesObj_5[seriesObj_5 == True].index)\n",
    "numOfRows_6 = len(seriesObj_6[seriesObj_6 == True].index)\n",
    "\n",
    "print(\"Number of people with PMHx bleeding risk and that had a major bleeding event:\",numOfRows_1)\n",
    "print(\"Number of people without PMHx bleeding risk and that had a major bleeding event:\",numOfRows_2)\n",
    "print(\"Number of people with PMHx bleeding risk and that had a minor bleeding event:\",numOfRows_3)\n",
    "print(\"Number of people without PMHx bleeding risk and that had a minor bleeding event:\",numOfRows_4)\n",
    "print(\"Number of people with PMHx bleeding risk and that didn't have a bleeding event:\",numOfRows_5)\n",
    "print(\"Number of people without PMHx bleeding risk and that didn't have a bleeding event:\",numOfRows_6)"
   ]
  },
  {
   "cell_type": "markdown",
   "id": "d96ab01c",
   "metadata": {},
   "source": [
    "Assessing the frequency of patients based on whether their gender and the type of their bleeding event"
   ]
  },
  {
   "cell_type": "code",
   "execution_count": 7,
   "id": "977dbba2",
   "metadata": {},
   "outputs": [
    {
     "name": "stdout",
     "output_type": "stream",
     "text": [
      "Number of Males that had a major bleeding event: 12\n",
      "Number of Females that had a major bleeding event: 5\n",
      "Number of Males that had a minor bleeding event: 18\n",
      "Number of Females that had a minor bleeding event: 7\n",
      "Number of Males that didn't have a bleeding event: 75\n",
      "Number of Females that didn't have a bleeding event: 53\n"
     ]
    }
   ],
   "source": [
    "seriesObj_1 = df.apply(lambda x:True if x['gender']=='M'and x['Major Bleed (Y/N)']=='Y' else False, axis=1)\n",
    "seriesObj_2 = df.apply(lambda x:True if x['gender']=='F'and x['Major Bleed (Y/N)']=='Y' else False, axis=1)\n",
    "seriesObj_3 = df.apply(lambda x:True if x['gender']=='M'and x['Major Bleed (Y/N)']=='N' else False, axis=1)\n",
    "seriesObj_4 = df.apply(lambda x:True if x['gender']=='F'and x['Major Bleed (Y/N)']=='N' else False, axis=1)\n",
    "seriesObj_5 = df.apply(lambda x:True if x['gender']=='M'and x['Major Bleed (Y/N)']!='Y'and x['Major Bleed (Y/N)']!='N' else False, axis=1)\n",
    "seriesObj_6 = df.apply(lambda x:True if x['gender']=='F'and x['Major Bleed (Y/N)']!='Y'and x['Major Bleed (Y/N)']!='N' else False, axis=1)\n",
    "\n",
    "numOfRows_1 = len(seriesObj_1[seriesObj_1 == True].index)\n",
    "numOfRows_2 = len(seriesObj_2[seriesObj_2 == True].index)\n",
    "numOfRows_3 = len(seriesObj_3[seriesObj_3 == True].index)\n",
    "numOfRows_4 = len(seriesObj_4[seriesObj_4 == True].index)\n",
    "numOfRows_5 = len(seriesObj_5[seriesObj_5 == True].index)\n",
    "numOfRows_6 = len(seriesObj_6[seriesObj_6 == True].index)\n",
    "\n",
    "print(\"Number of Males that had a major bleeding event:\",numOfRows_1)\n",
    "print(\"Number of Females that had a major bleeding event:\",numOfRows_2)\n",
    "print(\"Number of Males that had a minor bleeding event:\",numOfRows_3)\n",
    "print(\"Number of Females that had a minor bleeding event:\",numOfRows_4)\n",
    "print(\"Number of Males that didn't have a bleeding event:\",numOfRows_5)\n",
    "print(\"Number of Females that didn't have a bleeding event:\",numOfRows_6)"
   ]
  },
  {
   "cell_type": "markdown",
   "id": "41c75d76",
   "metadata": {},
   "source": [
    "Assessing the frequency of patients based on their cytogenetic risk factors and the type of their bleeding event"
   ]
  },
  {
   "cell_type": "code",
   "execution_count": 8,
   "id": "21558f36",
   "metadata": {},
   "outputs": [
    {
     "name": "stdout",
     "output_type": "stream",
     "text": [
      "Number of people with cyotogenetic factors that had a major bleeding event: 5\n",
      "Number of people without cyotogenetic factors that had a major bleeding event: 7\n",
      "Number of people with cyotogenetic factors that had a minor bleeding event: 8\n",
      "Number of people without cyotogenetic factors that had a minor bleeding event: 16\n",
      "Number of people with cyotogenetic factors that didn't have a bleeding event: 58\n",
      "Number of people without cyotogenetic factors that didn't have a bleeding event: 55\n",
      "Note: that this does not sum to the total of 170 patients since the people with 'unknown'cytogenetic risk factors were excluded from calculation\n"
     ]
    }
   ],
   "source": [
    "seriesObj_1 = df.apply(lambda x:True if x['HR Molecular/Cytogenetics (Y/N)']=='Y'and x['Major Bleed (Y/N)']=='Y' else False, axis=1)\n",
    "seriesObj_2 = df.apply(lambda x:True if x['HR Molecular/Cytogenetics (Y/N)']=='N'and x['Major Bleed (Y/N)']=='Y' else False, axis=1)\n",
    "seriesObj_3 = df.apply(lambda x:True if x['HR Molecular/Cytogenetics (Y/N)']=='Y'and x['Major Bleed (Y/N)']=='N' else False, axis=1)\n",
    "seriesObj_4 = df.apply(lambda x:True if x['HR Molecular/Cytogenetics (Y/N)']=='N'and x['Major Bleed (Y/N)']=='N' else False, axis=1)\n",
    "seriesObj_5 = df.apply(lambda x:True if x['HR Molecular/Cytogenetics (Y/N)']=='Y'and x['Major Bleed (Y/N)']!='Y'and x['Major Bleed (Y/N)']!='N' else False, axis=1)\n",
    "seriesObj_6 = df.apply(lambda x:True if x['HR Molecular/Cytogenetics (Y/N)']=='N'and x['Major Bleed (Y/N)']!='Y'and x['Major Bleed (Y/N)']!='N' else False, axis=1)\n",
    "\n",
    "numOfRows_1 = len(seriesObj_1[seriesObj_1 == True].index)\n",
    "numOfRows_2 = len(seriesObj_2[seriesObj_2 == True].index)\n",
    "numOfRows_3 = len(seriesObj_3[seriesObj_3 == True].index)\n",
    "numOfRows_4 = len(seriesObj_4[seriesObj_4 == True].index)\n",
    "numOfRows_5 = len(seriesObj_5[seriesObj_5 == True].index)\n",
    "numOfRows_6 = len(seriesObj_6[seriesObj_6 == True].index)\n",
    "\n",
    "print(\"Number of people with cyotogenetic factors that had a major bleeding event:\",numOfRows_1)\n",
    "print(\"Number of people without cyotogenetic factors that had a major bleeding event:\",numOfRows_2)\n",
    "print(\"Number of people with cyotogenetic factors that had a minor bleeding event:\",numOfRows_3)\n",
    "print(\"Number of people without cyotogenetic factors that had a minor bleeding event:\",numOfRows_4)\n",
    "print(\"Number of people with cyotogenetic factors that didn't have a bleeding event:\",numOfRows_5)\n",
    "print(\"Number of people without cyotogenetic factors that didn't have a bleeding event:\",numOfRows_6)\n",
    "\n",
    "print(\"Note: that this does not sum to the total of 170 patients since the people with 'unknown'cytogenetic risk factors were excluded from calculation\")"
   ]
  },
  {
   "cell_type": "markdown",
   "id": "2fbe1eeb",
   "metadata": {},
   "source": [
    "Assessing the frequency of patients based on whether they're anemic and the type of their bleeding event"
   ]
  },
  {
   "cell_type": "code",
   "execution_count": 9,
   "id": "16654c2b",
   "metadata": {},
   "outputs": [
    {
     "name": "stdout",
     "output_type": "stream",
     "text": [
      "Number of people with anemia that had a major bleeding event: 14\n",
      "Number of people without anemia that had a major bleeding event: 3\n",
      "Number of people with anemia that had a minor bleeding event: 17\n",
      "Number of people without anemia that had a minor bleeding event: 8\n",
      "Number of people with anemia that didn't have a bleeding event: 74\n",
      "Number of people without anemia that didn't have a bleeding event: 54\n"
     ]
    }
   ],
   "source": [
    "seriesObj_1 = df.apply(lambda x:True if x['Anemia (hb < 110) (Y/N)']=='Y'and x['Major Bleed (Y/N)']=='Y' else False, axis=1)\n",
    "seriesObj_2 = df.apply(lambda x:True if x['Anemia (hb < 110) (Y/N)']=='N'and x['Major Bleed (Y/N)']=='Y' else False, axis=1)\n",
    "seriesObj_3 = df.apply(lambda x:True if x['Anemia (hb < 110) (Y/N)']=='Y'and x['Major Bleed (Y/N)']=='N' else False, axis=1)\n",
    "seriesObj_4 = df.apply(lambda x:True if x['Anemia (hb < 110) (Y/N)']=='N'and x['Major Bleed (Y/N)']=='N' else False, axis=1)\n",
    "seriesObj_5 = df.apply(lambda x:True if x['Anemia (hb < 110) (Y/N)']=='Y'and x['Major Bleed (Y/N)']!='Y'and x['Major Bleed (Y/N)']!='N' else False, axis=1)\n",
    "seriesObj_6 = df.apply(lambda x:True if x['Anemia (hb < 110) (Y/N)']=='N'and x['Major Bleed (Y/N)']!='Y'and x['Major Bleed (Y/N)']!='N' else False, axis=1)\n",
    "\n",
    "numOfRows_1 = len(seriesObj_1[seriesObj_1 == True].index)\n",
    "numOfRows_2 = len(seriesObj_2[seriesObj_2 == True].index)\n",
    "numOfRows_3 = len(seriesObj_3[seriesObj_3 == True].index)\n",
    "numOfRows_4 = len(seriesObj_4[seriesObj_4 == True].index)\n",
    "numOfRows_5 = len(seriesObj_5[seriesObj_5 == True].index)\n",
    "numOfRows_6 = len(seriesObj_6[seriesObj_6 == True].index)\n",
    "\n",
    "print(\"Number of people with anemia that had a major bleeding event:\",numOfRows_1)\n",
    "print(\"Number of people without anemia that had a major bleeding event:\",numOfRows_2)\n",
    "print(\"Number of people with anemia that had a minor bleeding event:\",numOfRows_3)\n",
    "print(\"Number of people without anemia that had a minor bleeding event:\",numOfRows_4)\n",
    "print(\"Number of people with anemia that didn't have a bleeding event:\",numOfRows_5)\n",
    "print(\"Number of people without anemia that didn't have a bleeding event:\",numOfRows_6)\n"
   ]
  },
  {
   "cell_type": "code",
   "execution_count": null,
   "id": "5ee9ace5",
   "metadata": {},
   "outputs": [],
   "source": []
  }
 ],
 "metadata": {
  "kernelspec": {
   "display_name": "Python 3",
   "language": "python",
   "name": "python3"
  },
  "language_info": {
   "codemirror_mode": {
    "name": "ipython",
    "version": 3
   },
   "file_extension": ".py",
   "mimetype": "text/x-python",
   "name": "python",
   "nbconvert_exporter": "python",
   "pygments_lexer": "ipython3",
   "version": "3.8.8"
  }
 },
 "nbformat": 4,
 "nbformat_minor": 5
}
