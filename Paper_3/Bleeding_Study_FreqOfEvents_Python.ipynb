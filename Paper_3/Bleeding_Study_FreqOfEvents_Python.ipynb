{
 "cells": [
  {
   "cell_type": "markdown",
   "id": "495c9452",
   "metadata": {},
   "source": [
    "The relevant independent variables are: \n",
    "age of diagnosis, gender, platelet count, anti-coagulation, antiplatelet, invasive procedure (which I believe is PMHx bleeding risk), (maybe INR later), Molecular/cytogenetics, anemia, prior lines of therapy,"
   ]
  },
  {
   "cell_type": "markdown",
   "id": "26e397c1",
   "metadata": {},
   "source": [
    "Importing the necessary libraries. "
   ]
  },
  {
   "cell_type": "code",
   "execution_count": 1,
   "id": "043955bf",
   "metadata": {
    "collapsed": true
   },
   "outputs": [
    {
     "name": "stdout",
     "output_type": "stream",
     "text": [
      "complete\n"
     ]
    }
   ],
   "source": [
    "import pandas as pd\n",
    "\n",
    "print(\"complete\")"
   ]
  },
  {
   "cell_type": "markdown",
   "id": "923e05c7",
   "metadata": {},
   "source": [
    "Load the dataset into python, and capitilize the gender column"
   ]
  },
  {
   "cell_type": "code",
   "execution_count": 2,
   "id": "979649a2",
   "metadata": {
    "collapsed": true
   },
   "outputs": [
    {
     "data": {
      "text/html": [
       "<div>\n",
       "<style scoped>\n",
       "    .dataframe tbody tr th:only-of-type {\n",
       "        vertical-align: middle;\n",
       "    }\n",
       "\n",
       "    .dataframe tbody tr th {\n",
       "        vertical-align: top;\n",
       "    }\n",
       "\n",
       "    .dataframe thead th {\n",
       "        text-align: right;\n",
       "    }\n",
       "</style>\n",
       "<table border=\"1\" class=\"dataframe\">\n",
       "  <thead>\n",
       "    <tr style=\"text-align: right;\">\n",
       "      <th></th>\n",
       "      <th>Age at diagnosis</th>\n",
       "      <th>gender</th>\n",
       "      <th>Diagnosis year</th>\n",
       "      <th>Plt at diagnosis</th>\n",
       "      <th>plt at start of ibrutinib</th>\n",
       "      <th>plt at the time of bleed</th>\n",
       "      <th>Plt Nadir while on Ibrutinib</th>\n",
       "      <th>Platelets &lt; 50 (Y/N)</th>\n",
       "      <th>hb at diognosis</th>\n",
       "      <th>hb at start of Ibrutinib</th>\n",
       "      <th>...</th>\n",
       "      <th>action?</th>\n",
       "      <th>post op bleed? /action</th>\n",
       "      <th>INR</th>\n",
       "      <th>past medical history</th>\n",
       "      <th>PMHx bleeding risk (Y/N)</th>\n",
       "      <th>Ibrutinib Dose</th>\n",
       "      <th>Comments</th>\n",
       "      <th>other ibrutinib SE</th>\n",
       "      <th>Unnamed: 43</th>\n",
       "      <th>Unnamed: 44</th>\n",
       "    </tr>\n",
       "  </thead>\n",
       "  <tbody>\n",
       "    <tr>\n",
       "      <th>0</th>\n",
       "      <td>48</td>\n",
       "      <td>F</td>\n",
       "      <td>2006</td>\n",
       "      <td>260</td>\n",
       "      <td>15</td>\n",
       "      <td>NaN</td>\n",
       "      <td>15</td>\n",
       "      <td>Y</td>\n",
       "      <td>130</td>\n",
       "      <td>71</td>\n",
       "      <td>...</td>\n",
       "      <td>NaN</td>\n",
       "      <td>NaN</td>\n",
       "      <td>NaN</td>\n",
       "      <td>deppression, schwanoma of leg</td>\n",
       "      <td>Y</td>\n",
       "      <td>420mg,</td>\n",
       "      <td>ITP at the time of starting ibrutinib</td>\n",
       "      <td>NaN</td>\n",
       "      <td>NaN</td>\n",
       "      <td>NaN</td>\n",
       "    </tr>\n",
       "    <tr>\n",
       "      <th>1</th>\n",
       "      <td>66</td>\n",
       "      <td>M</td>\n",
       "      <td>2017</td>\n",
       "      <td>175</td>\n",
       "      <td>83</td>\n",
       "      <td>155</td>\n",
       "      <td>93</td>\n",
       "      <td>N</td>\n",
       "      <td>145</td>\n",
       "      <td>93</td>\n",
       "      <td>...</td>\n",
       "      <td>NaN</td>\n",
       "      <td>NaN</td>\n",
       "      <td>NaN</td>\n",
       "      <td>cryoglobinemia,MGUS,CAD,HTN,COPD</td>\n",
       "      <td>N</td>\n",
       "      <td>420mg</td>\n",
       "      <td>NaN</td>\n",
       "      <td>NaN</td>\n",
       "      <td>NaN</td>\n",
       "      <td>NaN</td>\n",
       "    </tr>\n",
       "    <tr>\n",
       "      <th>2</th>\n",
       "      <td>74</td>\n",
       "      <td>F</td>\n",
       "      <td>2016</td>\n",
       "      <td>189</td>\n",
       "      <td>200</td>\n",
       "      <td>NaN</td>\n",
       "      <td>nl plts</td>\n",
       "      <td>N</td>\n",
       "      <td>116</td>\n",
       "      <td>87</td>\n",
       "      <td>...</td>\n",
       "      <td>NaN</td>\n",
       "      <td>NaN</td>\n",
       "      <td>NaN</td>\n",
       "      <td>dm2,htn,</td>\n",
       "      <td>N</td>\n",
       "      <td>420mg,</td>\n",
       "      <td>reaction to first obino so switched to ibrutin...</td>\n",
       "      <td>NaN</td>\n",
       "      <td>NaN</td>\n",
       "      <td>NaN</td>\n",
       "    </tr>\n",
       "    <tr>\n",
       "      <th>3</th>\n",
       "      <td>53</td>\n",
       "      <td>F</td>\n",
       "      <td>2002</td>\n",
       "      <td>237</td>\n",
       "      <td>67</td>\n",
       "      <td>NaN</td>\n",
       "      <td>40</td>\n",
       "      <td>Y</td>\n",
       "      <td>135</td>\n",
       "      <td>118</td>\n",
       "      <td>...</td>\n",
       "      <td>NaN</td>\n",
       "      <td>NaN</td>\n",
       "      <td>NaN</td>\n",
       "      <td>HTN,B12 def,IDA</td>\n",
       "      <td>N</td>\n",
       "      <td>420mg</td>\n",
       "      <td>WAIHA</td>\n",
       "      <td>easy bruising</td>\n",
       "      <td>NaN</td>\n",
       "      <td>NaN</td>\n",
       "    </tr>\n",
       "    <tr>\n",
       "      <th>4</th>\n",
       "      <td>60</td>\n",
       "      <td>M</td>\n",
       "      <td>1999</td>\n",
       "      <td>198</td>\n",
       "      <td>85</td>\n",
       "      <td>70</td>\n",
       "      <td>49</td>\n",
       "      <td>Y</td>\n",
       "      <td>154</td>\n",
       "      <td>104</td>\n",
       "      <td>...</td>\n",
       "      <td>died</td>\n",
       "      <td>NaN</td>\n",
       "      <td>1.1</td>\n",
       "      <td>prostitis,mycosis,chronc sinusitis</td>\n",
       "      <td>N</td>\n",
       "      <td>ibrutinib dose reduced to 140 in oct 2015 for ...</td>\n",
       "      <td>cutaneous  oral mucosal involvement w CLL, als...</td>\n",
       "      <td>NaN</td>\n",
       "      <td>NaN</td>\n",
       "      <td>NaN</td>\n",
       "    </tr>\n",
       "  </tbody>\n",
       "</table>\n",
       "<p>5 rows × 45 columns</p>\n",
       "</div>"
      ],
      "text/plain": [
       "  Age at diagnosis gender Diagnosis year Plt at diagnosis  \\\n",
       "0               48      F           2006              260   \n",
       "1               66      M           2017              175   \n",
       "2               74      F           2016              189   \n",
       "3               53      F           2002              237   \n",
       "4               60      M           1999              198   \n",
       "\n",
       "  plt at start of ibrutinib plt at the time of bleed  \\\n",
       "0                        15                      NaN   \n",
       "1                        83                      155   \n",
       "2                       200                      NaN   \n",
       "3                        67                      NaN   \n",
       "4                        85                       70   \n",
       "\n",
       "  Plt Nadir while on Ibrutinib Platelets < 50 (Y/N) hb at diognosis  \\\n",
       "0                           15                    Y             130   \n",
       "1                           93                    N             145   \n",
       "2                      nl plts                    N             116   \n",
       "3                           40                    Y             135   \n",
       "4                           49                    Y             154   \n",
       "\n",
       "  hb at start of Ibrutinib  ... action? post op bleed? /action  INR  \\\n",
       "0                       71  ...     NaN                    NaN  NaN   \n",
       "1                       93  ...     NaN                    NaN  NaN   \n",
       "2                       87  ...     NaN                    NaN  NaN   \n",
       "3                      118  ...     NaN                    NaN  NaN   \n",
       "4                      104  ...    died                    NaN  1.1   \n",
       "\n",
       "                 past medical history PMHx bleeding risk (Y/N)  \\\n",
       "0       deppression, schwanoma of leg                        Y   \n",
       "1    cryoglobinemia,MGUS,CAD,HTN,COPD                        N   \n",
       "2                            dm2,htn,                        N   \n",
       "3                     HTN,B12 def,IDA                        N   \n",
       "4  prostitis,mycosis,chronc sinusitis                        N   \n",
       "\n",
       "                                      Ibrutinib Dose  \\\n",
       "0                                             420mg,   \n",
       "1                                              420mg   \n",
       "2                                             420mg,   \n",
       "3                                              420mg   \n",
       "4  ibrutinib dose reduced to 140 in oct 2015 for ...   \n",
       "\n",
       "                                            Comments  other ibrutinib SE  \\\n",
       "0              ITP at the time of starting ibrutinib                 NaN   \n",
       "1                                                NaN                 NaN   \n",
       "2  reaction to first obino so switched to ibrutin...                 NaN   \n",
       "3                                              WAIHA       easy bruising   \n",
       "4  cutaneous  oral mucosal involvement w CLL, als...                 NaN   \n",
       "\n",
       "  Unnamed: 43 Unnamed: 44  \n",
       "0         NaN         NaN  \n",
       "1         NaN         NaN  \n",
       "2         NaN         NaN  \n",
       "3         NaN         NaN  \n",
       "4         NaN         NaN  \n",
       "\n",
       "[5 rows x 45 columns]"
      ]
     },
     "execution_count": 2,
     "metadata": {},
     "output_type": "execute_result"
    }
   ],
   "source": [
    "df = pd.read_csv(\"/Users/anthonyquint/Desktop/LHSC_Work_Folder/Mina/Bleeding_study/Ibruntinib Data Set, June 10,2021 de- identified data.csv\")\n",
    "df['gender'] = df['gender'].str.upper()\n",
    "df.head()"
   ]
  },
  {
   "cell_type": "markdown",
   "id": "c6b6f7e9",
   "metadata": {},
   "source": [
    "Objective: \n",
    "The primary objective of this study is to investigate the risk of major bleeding associated with thrombocytopenia in patients on ibrutinib for treatment of CLL "
   ]
  },
  {
   "cell_type": "code",
   "execution_count": 3,
   "id": "135f69d9",
   "metadata": {},
   "outputs": [
    {
     "name": "stdout",
     "output_type": "stream",
     "text": [
      "Number of people with platelets < 50 and that had a major bleeding event: 6\n",
      "Number of people with platelets > 50 and that had a major bleeding event: 11\n",
      "Number of people with platelets < 50 and that had a minor bleeding event: 5\n",
      "Number of people with platelets > 50 and that had a minor bleeding event: 20\n",
      "Number of people with platelets < 50 and that didn't have a bleeding event: 28\n",
      "Number of people with platelets > 50 and that didn't have a bleeding event: 100\n"
     ]
    }
   ],
   "source": [
    "seriesObj_1 = df.apply(lambda x:True if x['Platelets < 50 (Y/N)']=='Y'and x['Major Bleed (Y/N)']=='Y' else False, axis=1)\n",
    "seriesObj_2 = df.apply(lambda x:True if x['Platelets < 50 (Y/N)']=='N'and x['Major Bleed (Y/N)']=='Y' else False, axis=1)\n",
    "seriesObj_3 = df.apply(lambda x:True if x['Platelets < 50 (Y/N)']=='Y'and x['Major Bleed (Y/N)']=='N' else False, axis=1)\n",
    "seriesObj_4 = df.apply(lambda x:True if x['Platelets < 50 (Y/N)']=='N'and x['Major Bleed (Y/N)']=='N' else False, axis=1)\n",
    "seriesObj_5 = df.apply(lambda x:True if x['Platelets < 50 (Y/N)']=='Y'and x['Major Bleed (Y/N)']!='Y'and x['Major Bleed (Y/N)']!='N' else False, axis=1)\n",
    "seriesObj_6 = df.apply(lambda x:True if x['Platelets < 50 (Y/N)']=='N'and x['Major Bleed (Y/N)']!='Y'and x['Major Bleed (Y/N)']!='N' else False, axis=1)\n",
    "\n",
    "numOfRows_1 = len(seriesObj_1[seriesObj_1 == True].index)\n",
    "numOfRows_2 = len(seriesObj_2[seriesObj_2 == True].index)\n",
    "numOfRows_3 = len(seriesObj_3[seriesObj_3 == True].index)\n",
    "numOfRows_4 = len(seriesObj_4[seriesObj_4 == True].index)\n",
    "numOfRows_5 = len(seriesObj_5[seriesObj_5 == True].index)\n",
    "numOfRows_6 = len(seriesObj_6[seriesObj_6 == True].index)\n",
    "\n",
    "print(\"Number of people with platelets < 50 and that had a major bleeding event:\",numOfRows_1)\n",
    "print(\"Number of people with platelets > 50 and that had a major bleeding event:\",numOfRows_2)\n",
    "print(\"Number of people with platelets < 50 and that had a minor bleeding event:\",numOfRows_3)\n",
    "print(\"Number of people with platelets > 50 and that had a minor bleeding event:\",numOfRows_4)\n",
    "print(\"Number of people with platelets < 50 and that didn't have a bleeding event:\",numOfRows_5)\n",
    "print(\"Number of people with platelets > 50 and that didn't have a bleeding event:\",numOfRows_6)"
   ]
  },
  {
   "cell_type": "markdown",
   "id": "f6ce19e3",
   "metadata": {},
   "source": [
    "Objective: Investigate the risk of bleeding associated with anticoagulation in patients on ibrutinib."
   ]
  },
  {
   "cell_type": "code",
   "execution_count": 4,
   "id": "2345848a",
   "metadata": {
    "collapsed": true
   },
   "outputs": [
    {
     "name": "stdout",
     "output_type": "stream",
     "text": [
      "Number of people with anticoagulation and that had a major bleeding event: 6\n",
      "Number of people without anticoagulation and that had a major bleeding event: 11\n",
      "Number of people with anticoagulation and that had a minor bleeding event: 11\n",
      "Number of people without anticoagulation and that had a minor bleeding event: 14\n",
      "Number of people with anticoagulation and that didn't have a bleeding event: 15\n",
      "Number of people without anticoagulation and that didn't have a bleeding event: 113\n"
     ]
    }
   ],
   "source": [
    "seriesObj_1 = df.apply(lambda x:True if x['anticoagulation (Y/N)']=='Y'and x['Major Bleed (Y/N)']=='Y' else False, axis=1)\n",
    "seriesObj_2 = df.apply(lambda x:True if x['anticoagulation (Y/N)']=='N'and x['Major Bleed (Y/N)']=='Y' else False, axis=1)\n",
    "seriesObj_3 = df.apply(lambda x:True if x['anticoagulation (Y/N)']=='Y'and x['Major Bleed (Y/N)']=='N' else False, axis=1)\n",
    "seriesObj_4 = df.apply(lambda x:True if x['anticoagulation (Y/N)']=='N'and x['Major Bleed (Y/N)']=='N' else False, axis=1)\n",
    "seriesObj_5 = df.apply(lambda x:True if x['anticoagulation (Y/N)']=='Y'and x['Major Bleed (Y/N)']!='Y'and x['Major Bleed (Y/N)']!='N' else False, axis=1)\n",
    "seriesObj_6 = df.apply(lambda x:True if x['anticoagulation (Y/N)']=='N'and x['Major Bleed (Y/N)']!='Y'and x['Major Bleed (Y/N)']!='N' else False, axis=1)\n",
    "\n",
    "numOfRows_1 = len(seriesObj_1[seriesObj_1 == True].index)\n",
    "numOfRows_2 = len(seriesObj_2[seriesObj_2 == True].index)\n",
    "numOfRows_3 = len(seriesObj_3[seriesObj_3 == True].index)\n",
    "numOfRows_4 = len(seriesObj_4[seriesObj_4 == True].index)\n",
    "numOfRows_5 = len(seriesObj_5[seriesObj_5 == True].index)\n",
    "numOfRows_6 = len(seriesObj_6[seriesObj_6 == True].index)\n",
    "\n",
    "print(\"Number of people with anticoagulation and that had a major bleeding event:\",numOfRows_1)\n",
    "print(\"Number of people without anticoagulation and that had a major bleeding event:\",numOfRows_2)\n",
    "print(\"Number of people with anticoagulation and that had a minor bleeding event:\",numOfRows_3)\n",
    "print(\"Number of people without anticoagulation and that had a minor bleeding event:\",numOfRows_4)\n",
    "print(\"Number of people with anticoagulation and that didn't have a bleeding event:\",numOfRows_5)\n",
    "print(\"Number of people without anticoagulation and that didn't have a bleeding event:\",numOfRows_6)"
   ]
  },
  {
   "cell_type": "markdown",
   "id": "0e0598e3",
   "metadata": {},
   "source": [
    "Objective: To investigate the risk of bleeding associated with antiplatelets in patients on ibrutinib."
   ]
  },
  {
   "cell_type": "code",
   "execution_count": 5,
   "id": "3f6aa444",
   "metadata": {
    "collapsed": true
   },
   "outputs": [
    {
     "name": "stdout",
     "output_type": "stream",
     "text": [
      "Number of people with anti platelets and that had a major bleeding event: 4\n",
      "Number of people without anti platelets and that had a major bleeding event: 13\n",
      "Number of people with anti platelets and that had a minor bleeding event: 6\n",
      "Number of people without anti platelets and that had a minor bleeding event: 19\n",
      "Number of people with anti platelets and that didn't have a bleeding event: 22\n",
      "Number of people without anti platelets and that didn't have a bleeding event: 106\n"
     ]
    }
   ],
   "source": [
    "seriesObj_1 = df.apply(lambda x:True if x['anti platelet (Y/N)']=='Y'and x['Major Bleed (Y/N)']=='Y' else False, axis=1)\n",
    "seriesObj_2 = df.apply(lambda x:True if x['anti platelet (Y/N)']=='N'and x['Major Bleed (Y/N)']=='Y' else False, axis=1)\n",
    "seriesObj_3 = df.apply(lambda x:True if x['anti platelet (Y/N)']=='Y'and x['Major Bleed (Y/N)']=='N' else False, axis=1)\n",
    "seriesObj_4 = df.apply(lambda x:True if x['anti platelet (Y/N)']=='N'and x['Major Bleed (Y/N)']=='N' else False, axis=1)\n",
    "seriesObj_5 = df.apply(lambda x:True if x['anti platelet (Y/N)']=='Y'and x['Major Bleed (Y/N)']!='Y'and x['Major Bleed (Y/N)']!='N' else False, axis=1)\n",
    "seriesObj_6 = df.apply(lambda x:True if x['anti platelet (Y/N)']=='N'and x['Major Bleed (Y/N)']!='Y'and x['Major Bleed (Y/N)']!='N' else False, axis=1)\n",
    "\n",
    "numOfRows_1 = len(seriesObj_1[seriesObj_1 == True].index)\n",
    "numOfRows_2 = len(seriesObj_2[seriesObj_2 == True].index)\n",
    "numOfRows_3 = len(seriesObj_3[seriesObj_3 == True].index)\n",
    "numOfRows_4 = len(seriesObj_4[seriesObj_4 == True].index)\n",
    "numOfRows_5 = len(seriesObj_5[seriesObj_5 == True].index)\n",
    "numOfRows_6 = len(seriesObj_6[seriesObj_6 == True].index)\n",
    "\n",
    "print(\"Number of people with anti platelets and that had a major bleeding event:\",numOfRows_1)\n",
    "print(\"Number of people without anti platelets and that had a major bleeding event:\",numOfRows_2)\n",
    "print(\"Number of people with anti platelets and that had a minor bleeding event:\",numOfRows_3)\n",
    "print(\"Number of people without anti platelets and that had a minor bleeding event:\",numOfRows_4)\n",
    "print(\"Number of people with anti platelets and that didn't have a bleeding event:\",numOfRows_5)\n",
    "print(\"Number of people without anti platelets and that didn't have a bleeding event:\",numOfRows_6)"
   ]
  },
  {
   "cell_type": "markdown",
   "id": "be6cf0eb",
   "metadata": {},
   "source": [
    "Objective: To investigate the risk of bleeding associated with invasive procedures in patients on ibrutinib. \n",
    "--> I'm assuming invasivse (Y/N) is reflected as PMHx bleeding risk (Y/N) in the excel file. "
   ]
  },
  {
   "cell_type": "code",
   "execution_count": 6,
   "id": "b9a6196a",
   "metadata": {
    "collapsed": true
   },
   "outputs": [
    {
     "name": "stdout",
     "output_type": "stream",
     "text": [
      "Number of people with PMHx bleeding risk and that had a major bleeding event: 4\n",
      "Number of people without PMHx bleeding risk and that had a major bleeding event: 13\n",
      "Number of people with PMHx bleeding risk and that had a minor bleeding event: 3\n",
      "Number of people without PMHx bleeding risk and that had a minor bleeding event: 22\n",
      "Number of people with PMHx bleeding risk and that didn't have a bleeding event: 16\n",
      "Number of people without PMHx bleeding risk and that didn't have a bleeding event: 112\n"
     ]
    }
   ],
   "source": [
    "seriesObj_1 = df.apply(lambda x:True if x['PMHx bleeding risk (Y/N)']=='Y'and x['Major Bleed (Y/N)']=='Y' else False, axis=1)\n",
    "seriesObj_2 = df.apply(lambda x:True if x['PMHx bleeding risk (Y/N)']=='N'and x['Major Bleed (Y/N)']=='Y' else False, axis=1)\n",
    "seriesObj_3 = df.apply(lambda x:True if x['PMHx bleeding risk (Y/N)']=='Y'and x['Major Bleed (Y/N)']=='N' else False, axis=1)\n",
    "seriesObj_4 = df.apply(lambda x:True if x['PMHx bleeding risk (Y/N)']=='N'and x['Major Bleed (Y/N)']=='N' else False, axis=1)\n",
    "seriesObj_5 = df.apply(lambda x:True if x['PMHx bleeding risk (Y/N)']=='Y'and x['Major Bleed (Y/N)']!='Y'and x['Major Bleed (Y/N)']!='N' else False, axis=1)\n",
    "seriesObj_6 = df.apply(lambda x:True if x['PMHx bleeding risk (Y/N)']=='N'and x['Major Bleed (Y/N)']!='Y'and x['Major Bleed (Y/N)']!='N' else False, axis=1)\n",
    "\n",
    "numOfRows_1 = len(seriesObj_1[seriesObj_1 == True].index)\n",
    "numOfRows_2 = len(seriesObj_2[seriesObj_2 == True].index)\n",
    "numOfRows_3 = len(seriesObj_3[seriesObj_3 == True].index)\n",
    "numOfRows_4 = len(seriesObj_4[seriesObj_4 == True].index)\n",
    "numOfRows_5 = len(seriesObj_5[seriesObj_5 == True].index)\n",
    "numOfRows_6 = len(seriesObj_6[seriesObj_6 == True].index)\n",
    "\n",
    "print(\"Number of people with PMHx bleeding risk and that had a major bleeding event:\",numOfRows_1)\n",
    "print(\"Number of people without PMHx bleeding risk and that had a major bleeding event:\",numOfRows_2)\n",
    "print(\"Number of people with PMHx bleeding risk and that had a minor bleeding event:\",numOfRows_3)\n",
    "print(\"Number of people without PMHx bleeding risk and that had a minor bleeding event:\",numOfRows_4)\n",
    "print(\"Number of people with PMHx bleeding risk and that didn't have a bleeding event:\",numOfRows_5)\n",
    "print(\"Number of people without PMHx bleeding risk and that didn't have a bleeding event:\",numOfRows_6)"
   ]
  },
  {
   "cell_type": "markdown",
   "id": "d96ab01c",
   "metadata": {},
   "source": [
    "Objective: Investigate the risk of bleeding associated with gender in patients on ibrutinib."
   ]
  },
  {
   "cell_type": "code",
   "execution_count": 7,
   "id": "977dbba2",
   "metadata": {},
   "outputs": [
    {
     "name": "stdout",
     "output_type": "stream",
     "text": [
      "Number of Males that had a major bleeding event: 12\n",
      "Number of Females that had a major bleeding event: 5\n",
      "Number of Males that had a minor bleeding event: 18\n",
      "Number of Females that had a minor bleeding event: 7\n",
      "Number of Males that didn't have a bleeding event: 75\n",
      "Number of Females that didn't have a bleeding event: 53\n"
     ]
    }
   ],
   "source": [
    "seriesObj_1 = df.apply(lambda x:True if x['gender']=='M'and x['Major Bleed (Y/N)']=='Y' else False, axis=1)\n",
    "seriesObj_2 = df.apply(lambda x:True if x['gender']=='F'and x['Major Bleed (Y/N)']=='Y' else False, axis=1)\n",
    "seriesObj_3 = df.apply(lambda x:True if x['gender']=='M'and x['Major Bleed (Y/N)']=='N' else False, axis=1)\n",
    "seriesObj_4 = df.apply(lambda x:True if x['gender']=='F'and x['Major Bleed (Y/N)']=='N' else False, axis=1)\n",
    "seriesObj_5 = df.apply(lambda x:True if x['gender']=='M'and x['Major Bleed (Y/N)']!='Y'and x['Major Bleed (Y/N)']!='N' else False, axis=1)\n",
    "seriesObj_6 = df.apply(lambda x:True if x['gender']=='F'and x['Major Bleed (Y/N)']!='Y'and x['Major Bleed (Y/N)']!='N' else False, axis=1)\n",
    "\n",
    "numOfRows_1 = len(seriesObj_1[seriesObj_1 == True].index)\n",
    "numOfRows_2 = len(seriesObj_2[seriesObj_2 == True].index)\n",
    "numOfRows_3 = len(seriesObj_3[seriesObj_3 == True].index)\n",
    "numOfRows_4 = len(seriesObj_4[seriesObj_4 == True].index)\n",
    "numOfRows_5 = len(seriesObj_5[seriesObj_5 == True].index)\n",
    "numOfRows_6 = len(seriesObj_6[seriesObj_6 == True].index)\n",
    "\n",
    "print(\"Number of Males that had a major bleeding event:\",numOfRows_1)\n",
    "print(\"Number of Females that had a major bleeding event:\",numOfRows_2)\n",
    "print(\"Number of Males that had a minor bleeding event:\",numOfRows_3)\n",
    "print(\"Number of Females that had a minor bleeding event:\",numOfRows_4)\n",
    "print(\"Number of Males that didn't have a bleeding event:\",numOfRows_5)\n",
    "print(\"Number of Females that didn't have a bleeding event:\",numOfRows_6)"
   ]
  },
  {
   "cell_type": "markdown",
   "id": "41c75d76",
   "metadata": {},
   "source": [
    "Objective: Investigate the risk of bleeding associated with cytogenetics in patients on ibrutinib."
   ]
  },
  {
   "cell_type": "code",
   "execution_count": 9,
   "id": "21558f36",
   "metadata": {},
   "outputs": [
    {
     "name": "stdout",
     "output_type": "stream",
     "text": [
      "Number of people with cyotogenetic factors that had a major bleeding event: 5\n",
      "Number of people without cyotogenetic factors that had a major bleeding event: 7\n",
      "Number of people with cyotogenetic factors that had a minor bleeding event: 8\n",
      "Number of people without cyotogenetic factors that had a minor bleeding event: 16\n",
      "Number of people with cyotogenetic factors that didn't have a bleeding event: 58\n",
      "Number of people without cyotogenetic factors that didn't have a bleeding event: 55\n",
      "Note: that this does not sum to the total of 170 patients since the people with 'unknown'cytogenetic risk factors were excluded from calculation\n"
     ]
    }
   ],
   "source": [
    "seriesObj_1 = df.apply(lambda x:True if x['HR Molecular/Cytogenetics (Y/N)']=='Y'and x['Major Bleed (Y/N)']=='Y' else False, axis=1)\n",
    "seriesObj_2 = df.apply(lambda x:True if x['HR Molecular/Cytogenetics (Y/N)']=='N'and x['Major Bleed (Y/N)']=='Y' else False, axis=1)\n",
    "seriesObj_3 = df.apply(lambda x:True if x['HR Molecular/Cytogenetics (Y/N)']=='Y'and x['Major Bleed (Y/N)']=='N' else False, axis=1)\n",
    "seriesObj_4 = df.apply(lambda x:True if x['HR Molecular/Cytogenetics (Y/N)']=='N'and x['Major Bleed (Y/N)']=='N' else False, axis=1)\n",
    "seriesObj_5 = df.apply(lambda x:True if x['HR Molecular/Cytogenetics (Y/N)']=='Y'and x['Major Bleed (Y/N)']!='Y'and x['Major Bleed (Y/N)']!='N' else False, axis=1)\n",
    "seriesObj_6 = df.apply(lambda x:True if x['HR Molecular/Cytogenetics (Y/N)']=='N'and x['Major Bleed (Y/N)']!='Y'and x['Major Bleed (Y/N)']!='N' else False, axis=1)\n",
    "\n",
    "numOfRows_1 = len(seriesObj_1[seriesObj_1 == True].index)\n",
    "numOfRows_2 = len(seriesObj_2[seriesObj_2 == True].index)\n",
    "numOfRows_3 = len(seriesObj_3[seriesObj_3 == True].index)\n",
    "numOfRows_4 = len(seriesObj_4[seriesObj_4 == True].index)\n",
    "numOfRows_5 = len(seriesObj_5[seriesObj_5 == True].index)\n",
    "numOfRows_6 = len(seriesObj_6[seriesObj_6 == True].index)\n",
    "\n",
    "print(\"Number of people with cyotogenetic factors that had a major bleeding event:\",numOfRows_1)\n",
    "print(\"Number of people without cyotogenetic factors that had a major bleeding event:\",numOfRows_2)\n",
    "print(\"Number of people with cyotogenetic factors that had a minor bleeding event:\",numOfRows_3)\n",
    "print(\"Number of people without cyotogenetic factors that had a minor bleeding event:\",numOfRows_4)\n",
    "print(\"Number of people with cyotogenetic factors that didn't have a bleeding event:\",numOfRows_5)\n",
    "print(\"Number of people without cyotogenetic factors that didn't have a bleeding event:\",numOfRows_6)\n",
    "\n",
    "print(\"Note: that this does not sum to the total of 170 patients since the people with 'unknown'cytogenetic risk factors were excluded from calculation\")"
   ]
  },
  {
   "cell_type": "markdown",
   "id": "2fbe1eeb",
   "metadata": {},
   "source": [
    "Objective: Investigate the risk of bleeding associated with anemia in patients on ibrutinib."
   ]
  },
  {
   "cell_type": "code",
   "execution_count": 10,
   "id": "16654c2b",
   "metadata": {},
   "outputs": [
    {
     "name": "stdout",
     "output_type": "stream",
     "text": [
      "Number of people with anemia that had a major bleeding event: 14\n",
      "Number of people without anemia that had a major bleeding event: 3\n",
      "Number of people with anemia that had a minor bleeding event: 17\n",
      "Number of people without anemia that had a minor bleeding event: 8\n",
      "Number of people with anemia that didn't have a bleeding event: 74\n",
      "Number of people without anemia that didn't have a bleeding event: 54\n"
     ]
    }
   ],
   "source": [
    "seriesObj_1 = df.apply(lambda x:True if x['Anemia (hb < 110) (Y/N)']=='Y'and x['Major Bleed (Y/N)']=='Y' else False, axis=1)\n",
    "seriesObj_2 = df.apply(lambda x:True if x['Anemia (hb < 110) (Y/N)']=='N'and x['Major Bleed (Y/N)']=='Y' else False, axis=1)\n",
    "seriesObj_3 = df.apply(lambda x:True if x['Anemia (hb < 110) (Y/N)']=='Y'and x['Major Bleed (Y/N)']=='N' else False, axis=1)\n",
    "seriesObj_4 = df.apply(lambda x:True if x['Anemia (hb < 110) (Y/N)']=='N'and x['Major Bleed (Y/N)']=='N' else False, axis=1)\n",
    "seriesObj_5 = df.apply(lambda x:True if x['Anemia (hb < 110) (Y/N)']=='Y'and x['Major Bleed (Y/N)']!='Y'and x['Major Bleed (Y/N)']!='N' else False, axis=1)\n",
    "seriesObj_6 = df.apply(lambda x:True if x['Anemia (hb < 110) (Y/N)']=='N'and x['Major Bleed (Y/N)']!='Y'and x['Major Bleed (Y/N)']!='N' else False, axis=1)\n",
    "\n",
    "numOfRows_1 = len(seriesObj_1[seriesObj_1 == True].index)\n",
    "numOfRows_2 = len(seriesObj_2[seriesObj_2 == True].index)\n",
    "numOfRows_3 = len(seriesObj_3[seriesObj_3 == True].index)\n",
    "numOfRows_4 = len(seriesObj_4[seriesObj_4 == True].index)\n",
    "numOfRows_5 = len(seriesObj_5[seriesObj_5 == True].index)\n",
    "numOfRows_6 = len(seriesObj_6[seriesObj_6 == True].index)\n",
    "\n",
    "print(\"Number of people with anemia that had a major bleeding event:\",numOfRows_1)\n",
    "print(\"Number of people without anemia that had a major bleeding event:\",numOfRows_2)\n",
    "print(\"Number of people with anemia that had a minor bleeding event:\",numOfRows_3)\n",
    "print(\"Number of people without anemia that had a minor bleeding event:\",numOfRows_4)\n",
    "print(\"Number of people with anemia that didn't have a bleeding event:\",numOfRows_5)\n",
    "print(\"Number of people without anemia that didn't have a bleeding event:\",numOfRows_6)\n"
   ]
  },
  {
   "cell_type": "code",
   "execution_count": null,
   "id": "5ee9ace5",
   "metadata": {},
   "outputs": [],
   "source": []
  }
 ],
 "metadata": {
  "kernelspec": {
   "display_name": "Python 3",
   "language": "python",
   "name": "python3"
  },
  "language_info": {
   "codemirror_mode": {
    "name": "ipython",
    "version": 3
   },
   "file_extension": ".py",
   "mimetype": "text/x-python",
   "name": "python",
   "nbconvert_exporter": "python",
   "pygments_lexer": "ipython3",
   "version": "3.8.8"
  }
 },
 "nbformat": 4,
 "nbformat_minor": 5
}
