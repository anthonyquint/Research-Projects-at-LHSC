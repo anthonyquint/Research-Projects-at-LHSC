{
 "cells": [
  {
   "cell_type": "markdown",
   "id": "4817e886",
   "metadata": {},
   "source": [
    "Evaluating the contigency tables for the bleeding study using the function: chisq.test"
   ]
  },
  {
   "cell_type": "code",
   "execution_count": 1,
   "id": "f8d3a6a4",
   "metadata": {},
   "outputs": [],
   "source": [
    "?chisq.test"
   ]
  },
  {
   "cell_type": "markdown",
   "id": "5a42877a",
   "metadata": {},
   "source": [
    "Objective: \n",
    "The primary objective of this study is to investigate the risk of major bleeding associated with thrombocytopenia in patients on ibrutinib for treatment of CLL. \n",
    "\n",
    "Evaluate 6 contigency tables:\n",
    "Table 1 compares (major, minor) bleeding vs. (<50, >50) platelets. Table 2 compares (major, minor, none) bleeding vs. (<50, >50) platelets. Table 3 compares (major, minor + none) bleeding vs. (<50, >50) platelets). Table 4 compares Bleeding (Major + minor, none) vs. (<50, >50) platelets. Table 5 compares (Major, none) bleeding vs. (<50, >50) platelets. Table 6 compares (Minor, none) bleeding vs. (<50, >50) platelets. \n",
    "\n",
    "The chi-square statistic is calculated for each 6 tables, then the p-value is calculated. \n",
    "The fisher exact test is also applied for tables 1, 3, 4, 5, 6 (since they are two by two), and the p-value is calculated. "
   ]
  },
  {
   "cell_type": "code",
   "execution_count": 2,
   "id": "7527070c",
   "metadata": {},
   "outputs": [
    {
     "data": {
      "text/html": [
       "<table>\n",
       "<thead><tr><th></th><th scope=col>&lt;50</th><th scope=col>&gt;50</th></tr></thead>\n",
       "<tbody>\n",
       "\t<tr><th scope=row>Major</th><td>6 </td><td>11</td></tr>\n",
       "\t<tr><th scope=row>Minor</th><td>5 </td><td>20</td></tr>\n",
       "</tbody>\n",
       "</table>\n"
      ],
      "text/latex": [
       "\\begin{tabular}{r|ll}\n",
       "  & <50 & >50\\\\\n",
       "\\hline\n",
       "\tMajor & 6  & 11\\\\\n",
       "\tMinor & 5  & 20\\\\\n",
       "\\end{tabular}\n"
      ],
      "text/markdown": [
       "\n",
       "| <!--/--> | <50 | >50 |\n",
       "|---|---|---|\n",
       "| Major | 6  | 11 |\n",
       "| Minor | 5  | 20 |\n",
       "\n"
      ],
      "text/plain": [
       "      <50 >50\n",
       "Major 6   11 \n",
       "Minor 5   20 "
      ]
     },
     "metadata": {},
     "output_type": "display_data"
    },
    {
     "data": {
      "text/html": [
       "<table>\n",
       "<thead><tr><th></th><th scope=col>&lt;50</th><th scope=col>&gt;50</th></tr></thead>\n",
       "<tbody>\n",
       "\t<tr><th scope=row>Major</th><td> 6 </td><td> 11</td></tr>\n",
       "\t<tr><th scope=row>Minor</th><td> 5 </td><td> 20</td></tr>\n",
       "\t<tr><th scope=row>None</th><td>28 </td><td>100</td></tr>\n",
       "</tbody>\n",
       "</table>\n"
      ],
      "text/latex": [
       "\\begin{tabular}{r|ll}\n",
       "  & <50 & >50\\\\\n",
       "\\hline\n",
       "\tMajor &  6  &  11\\\\\n",
       "\tMinor &  5  &  20\\\\\n",
       "\tNone & 28  & 100\\\\\n",
       "\\end{tabular}\n"
      ],
      "text/markdown": [
       "\n",
       "| <!--/--> | <50 | >50 |\n",
       "|---|---|---|\n",
       "| Major |  6  |  11 |\n",
       "| Minor |  5  |  20 |\n",
       "| None | 28  | 100 |\n",
       "\n"
      ],
      "text/plain": [
       "      <50 >50\n",
       "Major  6   11\n",
       "Minor  5   20\n",
       "None  28  100"
      ]
     },
     "metadata": {},
     "output_type": "display_data"
    },
    {
     "data": {
      "text/html": [
       "<table>\n",
       "<thead><tr><th></th><th scope=col>&lt;50</th><th scope=col>&gt;50</th></tr></thead>\n",
       "<tbody>\n",
       "\t<tr><th scope=row>Major</th><td> 6 </td><td> 11</td></tr>\n",
       "\t<tr><th scope=row>Minor + None</th><td>33 </td><td>120</td></tr>\n",
       "</tbody>\n",
       "</table>\n"
      ],
      "text/latex": [
       "\\begin{tabular}{r|ll}\n",
       "  & <50 & >50\\\\\n",
       "\\hline\n",
       "\tMajor &  6  &  11\\\\\n",
       "\tMinor + None & 33  & 120\\\\\n",
       "\\end{tabular}\n"
      ],
      "text/markdown": [
       "\n",
       "| <!--/--> | <50 | >50 |\n",
       "|---|---|---|\n",
       "| Major |  6  |  11 |\n",
       "| Minor + None | 33  | 120 |\n",
       "\n"
      ],
      "text/plain": [
       "             <50 >50\n",
       "Major         6   11\n",
       "Minor + None 33  120"
      ]
     },
     "metadata": {},
     "output_type": "display_data"
    },
    {
     "data": {
      "text/html": [
       "<table>\n",
       "<thead><tr><th></th><th scope=col>&lt;50</th><th scope=col>&gt;50</th></tr></thead>\n",
       "<tbody>\n",
       "\t<tr><th scope=row>Bleeding</th><td>11 </td><td> 31</td></tr>\n",
       "\t<tr><th scope=row>None</th><td>28 </td><td>100</td></tr>\n",
       "</tbody>\n",
       "</table>\n"
      ],
      "text/latex": [
       "\\begin{tabular}{r|ll}\n",
       "  & <50 & >50\\\\\n",
       "\\hline\n",
       "\tBleeding & 11  &  31\\\\\n",
       "\tNone & 28  & 100\\\\\n",
       "\\end{tabular}\n"
      ],
      "text/markdown": [
       "\n",
       "| <!--/--> | <50 | >50 |\n",
       "|---|---|---|\n",
       "| Bleeding | 11  |  31 |\n",
       "| None | 28  | 100 |\n",
       "\n"
      ],
      "text/plain": [
       "         <50 >50\n",
       "Bleeding 11   31\n",
       "None     28  100"
      ]
     },
     "metadata": {},
     "output_type": "display_data"
    },
    {
     "data": {
      "text/html": [
       "<table>\n",
       "<thead><tr><th></th><th scope=col>&lt;50</th><th scope=col>&gt;50</th></tr></thead>\n",
       "<tbody>\n",
       "\t<tr><th scope=row>Major</th><td> 6 </td><td> 11</td></tr>\n",
       "\t<tr><th scope=row>None</th><td>28 </td><td>100</td></tr>\n",
       "</tbody>\n",
       "</table>\n"
      ],
      "text/latex": [
       "\\begin{tabular}{r|ll}\n",
       "  & <50 & >50\\\\\n",
       "\\hline\n",
       "\tMajor &  6  &  11\\\\\n",
       "\tNone & 28  & 100\\\\\n",
       "\\end{tabular}\n"
      ],
      "text/markdown": [
       "\n",
       "| <!--/--> | <50 | >50 |\n",
       "|---|---|---|\n",
       "| Major |  6  |  11 |\n",
       "| None | 28  | 100 |\n",
       "\n"
      ],
      "text/plain": [
       "      <50 >50\n",
       "Major  6   11\n",
       "None  28  100"
      ]
     },
     "metadata": {},
     "output_type": "display_data"
    },
    {
     "data": {
      "text/html": [
       "<table>\n",
       "<thead><tr><th></th><th scope=col>&lt;50</th><th scope=col>&gt;50</th></tr></thead>\n",
       "<tbody>\n",
       "\t<tr><th scope=row>Minor</th><td> 5 </td><td> 20</td></tr>\n",
       "\t<tr><th scope=row>None</th><td>28 </td><td>100</td></tr>\n",
       "</tbody>\n",
       "</table>\n"
      ],
      "text/latex": [
       "\\begin{tabular}{r|ll}\n",
       "  & <50 & >50\\\\\n",
       "\\hline\n",
       "\tMinor &  5  &  20\\\\\n",
       "\tNone & 28  & 100\\\\\n",
       "\\end{tabular}\n"
      ],
      "text/markdown": [
       "\n",
       "| <!--/--> | <50 | >50 |\n",
       "|---|---|---|\n",
       "| Minor |  5  |  20 |\n",
       "| None | 28  | 100 |\n",
       "\n"
      ],
      "text/plain": [
       "      <50 >50\n",
       "Minor  5   20\n",
       "None  28  100"
      ]
     },
     "metadata": {},
     "output_type": "display_data"
    },
    {
     "name": "stderr",
     "output_type": "stream",
     "text": [
      "Warning message in chisq.test(x = table1, correct = FALSE):\n",
      "“Chi-squared approximation may be incorrect”Warning message in chisq.test(x = table2, correct = FALSE):\n",
      "“Chi-squared approximation may be incorrect”Warning message in chisq.test(x = table3, correct = FALSE):\n",
      "“Chi-squared approximation may be incorrect”Warning message in chisq.test(x = table5, correct = FALSE):\n",
      "“Chi-squared approximation may be incorrect”"
     ]
    },
    {
     "name": "stdout",
     "output_type": "stream",
     "text": [
      "[1] \"P-values from chi-square test:\"\n"
     ]
    },
    {
     "data": {
      "text/html": [
       "0.268493709874199"
      ],
      "text/latex": [
       "0.268493709874199"
      ],
      "text/markdown": [
       "0.268493709874199"
      ],
      "text/plain": [
       "[1] 0.2684937"
      ]
     },
     "metadata": {},
     "output_type": "display_data"
    },
    {
     "data": {
      "text/html": [
       "0.43343013427445"
      ],
      "text/latex": [
       "0.43343013427445"
      ],
      "text/markdown": [
       "0.43343013427445"
      ],
      "text/plain": [
       "[1] 0.4334301"
      ]
     },
     "metadata": {},
     "output_type": "display_data"
    },
    {
     "data": {
      "text/html": [
       "0.201639980939766"
      ],
      "text/latex": [
       "0.201639980939766"
      ],
      "text/markdown": [
       "0.201639980939766"
      ],
      "text/plain": [
       "[1] 0.20164"
      ]
     },
     "metadata": {},
     "output_type": "display_data"
    },
    {
     "data": {
      "text/html": [
       "0.56381464315242"
      ],
      "text/latex": [
       "0.56381464315242"
      ],
      "text/markdown": [
       "0.56381464315242"
      ],
      "text/plain": [
       "[1] 0.5638146"
      ]
     },
     "metadata": {},
     "output_type": "display_data"
    },
    {
     "data": {
      "text/html": [
       "0.219831196065176"
      ],
      "text/latex": [
       "0.219831196065176"
      ],
      "text/markdown": [
       "0.219831196065176"
      ],
      "text/plain": [
       "[1] 0.2198312"
      ]
     },
     "metadata": {},
     "output_type": "display_data"
    },
    {
     "data": {
      "text/html": [
       "0.83485045486403"
      ],
      "text/latex": [
       "0.83485045486403"
      ],
      "text/markdown": [
       "0.83485045486403"
      ],
      "text/plain": [
       "[1] 0.8348505"
      ]
     },
     "metadata": {},
     "output_type": "display_data"
    },
    {
     "name": "stdout",
     "output_type": "stream",
     "text": [
      "[1] \"P-values from fisher-exact test for tables 1, 3 and 4, 5, 6\"\n"
     ]
    },
    {
     "data": {
      "text/html": [
       "0.304896825756903"
      ],
      "text/latex": [
       "0.304896825756903"
      ],
      "text/markdown": [
       "0.304896825756903"
      ],
      "text/plain": [
       "[1] 0.3048968"
      ]
     },
     "metadata": {},
     "output_type": "display_data"
    },
    {
     "data": {
      "text/html": [
       "0.226414772732347"
      ],
      "text/latex": [
       "0.226414772732347"
      ],
      "text/markdown": [
       "0.226414772732347"
      ],
      "text/plain": [
       "[1] 0.2264148"
      ]
     },
     "metadata": {},
     "output_type": "display_data"
    },
    {
     "data": {
      "text/html": [
       "0.672539754257025"
      ],
      "text/latex": [
       "0.672539754257025"
      ],
      "text/markdown": [
       "0.672539754257025"
      ],
      "text/plain": [
       "[1] 0.6725398"
      ]
     },
     "metadata": {},
     "output_type": "display_data"
    },
    {
     "data": {
      "text/html": [
       "0.231226317554352"
      ],
      "text/latex": [
       "0.231226317554352"
      ],
      "text/markdown": [
       "0.231226317554352"
      ],
      "text/plain": [
       "[1] 0.2312263"
      ]
     },
     "metadata": {},
     "output_type": "display_data"
    },
    {
     "data": {
      "text/html": [
       "1"
      ],
      "text/latex": [
       "1"
      ],
      "text/markdown": [
       "1"
      ],
      "text/plain": [
       "[1] 1"
      ]
     },
     "metadata": {},
     "output_type": "display_data"
    },
    {
     "name": "stdout",
     "output_type": "stream",
     "text": [
      "[1] \"Result: The p-values of the contigency tables are all above 0.05. Therefore, the null hypothesis that the bleeding event and platelet count are independent cannot be rejected at a significance level of 0.05.\"\n"
     ]
    }
   ],
   "source": [
    "table1 <- data.frame(\"<50\"=c(6,5),\">50\"=c(11,20),row.names=c(\"Major\",\"Minor\"),stringsAsFactors = FALSE)\n",
    "table2 <- data.frame(\"<50\"=c(6,5,28),\">50\"=c(11,20,100),row.names=c(\"Major\",\"Minor\",\"None\"),stringsAsFactors = FALSE)\n",
    "table3 <- data.frame(\"<50\"=c(6,33),\">50\"=c(11,120),row.names=c(\"Major\",\"Minor + None\"),stringsAsFactors = FALSE)\n",
    "table4 <- data.frame(\"<50\"=c(11,28),\">50\"=c(31,100),row.names=c(\"Bleeding\",\"None\"),stringsAsFactors = FALSE)\n",
    "\n",
    "table5 <- data.frame(\"<50\"=c(6,28),\">50\"=c(11,100),row.names=c(\"Major\",\"None\"),stringsAsFactors = FALSE)\n",
    "table6 <- data.frame(\"<50\"=c(5,28),\">50\"=c(20,100),row.names=c(\"Minor\",\"None\"),stringsAsFactors = FALSE)\n",
    "\n",
    "colnames(table1) <- c(\"<50\",\">50\")\n",
    "colnames(table2) <- c(\"<50\",\">50\")\n",
    "colnames(table3) <- c(\"<50\",\">50\")\n",
    "colnames(table4) <- c(\"<50\",\">50\")\n",
    "colnames(table5) <- c(\"<50\",\">50\")\n",
    "colnames(table6) <- c(\"<50\",\">50\")\n",
    "table1\n",
    "table2\n",
    "table3\n",
    "table4\n",
    "table5\n",
    "table6\n",
    "\n",
    "result1 <- chisq.test(x=table1, correct = FALSE)\n",
    "result2 <- chisq.test(x=table2, correct = FALSE)\n",
    "result3 <- chisq.test(x=table3, correct = FALSE)\n",
    "result4 <- chisq.test(x=table4, correct = FALSE)\n",
    "result5 <- chisq.test(x=table5, correct = FALSE)\n",
    "result6 <- chisq.test(x=table6, correct = FALSE)\n",
    "print(\"P-values from chi-square test:\")\n",
    "result1$p.value\n",
    "result2$p.value\n",
    "result3$p.value\n",
    "result4$p.value\n",
    "result5$p.value\n",
    "result6$p.value\n",
    "\n",
    "print(\"P-values from fisher-exact test for tables 1, 3 and 4, 5, 6\")\n",
    "test1 <- fisher.test(table1)\n",
    "test3 <- fisher.test(table3)\n",
    "test4 <- fisher.test(table4)\n",
    "test5 <- fisher.test(table5)\n",
    "test6 <- fisher.test(table6)\n",
    "test1$p.value\n",
    "test3$p.value\n",
    "test4$p.value\n",
    "test5$p.value\n",
    "test6$p.value\n",
    "\n",
    "print(\"Result: The p-values of the contigency tables are all above 0.05. Therefore, the null hypothesis that the bleeding event and platelet count are independent cannot be rejected at a significance level of 0.05.\")"
   ]
  },
  {
   "cell_type": "markdown",
   "id": "1a3a4336",
   "metadata": {},
   "source": [
    "Objective: Investigate the risk of bleeding associated with anticoagulation in patients on ibrutinib.\n",
    "\n",
    "Evaluate 6 contigency tables: Table 1 compares (major, minor) bleeding vs. (Yes, No) anticoagulation. Table 2 compares (major, minor, none) bleeding vs. (Yes, No) anticoagulation. Table 3 compares (major, minor + none) bleeding vs. (Yes, No) anticoagulation. Table 4 compares (major + minor, none) bleeding vs. (Yes, No) anticoagulation. Table 5 compares (major, none) bleeding vs. (Yes, No) anticoagulation. Table 6 compares (minor, none) bleeding vs. (Yes, No) anticoagulation.\n",
    "\n",
    "The chi-square statistic is calculated for each 6 tables, then the p-value is calculated. The fisher exact test is also applied for tables 1, 3, 4, 5, 6 (since they are two by two), and the p-value is calculated.\n"
   ]
  },
  {
   "cell_type": "code",
   "execution_count": 3,
   "id": "1f672ea4",
   "metadata": {},
   "outputs": [
    {
     "data": {
      "text/html": [
       "<table>\n",
       "<thead><tr><th></th><th scope=col>Yes</th><th scope=col>No</th></tr></thead>\n",
       "<tbody>\n",
       "\t<tr><th scope=row>Major</th><td> 6</td><td>11</td></tr>\n",
       "\t<tr><th scope=row>Minor</th><td>11</td><td>14</td></tr>\n",
       "</tbody>\n",
       "</table>\n"
      ],
      "text/latex": [
       "\\begin{tabular}{r|ll}\n",
       "  & Yes & No\\\\\n",
       "\\hline\n",
       "\tMajor &  6 & 11\\\\\n",
       "\tMinor & 11 & 14\\\\\n",
       "\\end{tabular}\n"
      ],
      "text/markdown": [
       "\n",
       "| <!--/--> | Yes | No |\n",
       "|---|---|---|\n",
       "| Major |  6 | 11 |\n",
       "| Minor | 11 | 14 |\n",
       "\n"
      ],
      "text/plain": [
       "      Yes No\n",
       "Major  6  11\n",
       "Minor 11  14"
      ]
     },
     "metadata": {},
     "output_type": "display_data"
    },
    {
     "data": {
      "text/html": [
       "<table>\n",
       "<thead><tr><th></th><th scope=col>Yes</th><th scope=col>No</th></tr></thead>\n",
       "<tbody>\n",
       "\t<tr><th scope=row>Major</th><td> 6 </td><td> 11</td></tr>\n",
       "\t<tr><th scope=row>Minor</th><td>11 </td><td> 14</td></tr>\n",
       "\t<tr><th scope=row>None</th><td>15 </td><td>113</td></tr>\n",
       "</tbody>\n",
       "</table>\n"
      ],
      "text/latex": [
       "\\begin{tabular}{r|ll}\n",
       "  & Yes & No\\\\\n",
       "\\hline\n",
       "\tMajor &  6  &  11\\\\\n",
       "\tMinor & 11  &  14\\\\\n",
       "\tNone & 15  & 113\\\\\n",
       "\\end{tabular}\n"
      ],
      "text/markdown": [
       "\n",
       "| <!--/--> | Yes | No |\n",
       "|---|---|---|\n",
       "| Major |  6  |  11 |\n",
       "| Minor | 11  |  14 |\n",
       "| None | 15  | 113 |\n",
       "\n"
      ],
      "text/plain": [
       "      Yes No \n",
       "Major  6   11\n",
       "Minor 11   14\n",
       "None  15  113"
      ]
     },
     "metadata": {},
     "output_type": "display_data"
    },
    {
     "data": {
      "text/html": [
       "<table>\n",
       "<thead><tr><th></th><th scope=col>Yes</th><th scope=col>No</th></tr></thead>\n",
       "<tbody>\n",
       "\t<tr><th scope=row>Major</th><td> 6 </td><td> 11</td></tr>\n",
       "\t<tr><th scope=row>Minor + None</th><td>26 </td><td>127</td></tr>\n",
       "</tbody>\n",
       "</table>\n"
      ],
      "text/latex": [
       "\\begin{tabular}{r|ll}\n",
       "  & Yes & No\\\\\n",
       "\\hline\n",
       "\tMajor &  6  &  11\\\\\n",
       "\tMinor + None & 26  & 127\\\\\n",
       "\\end{tabular}\n"
      ],
      "text/markdown": [
       "\n",
       "| <!--/--> | Yes | No |\n",
       "|---|---|---|\n",
       "| Major |  6  |  11 |\n",
       "| Minor + None | 26  | 127 |\n",
       "\n"
      ],
      "text/plain": [
       "             Yes No \n",
       "Major         6   11\n",
       "Minor + None 26  127"
      ]
     },
     "metadata": {},
     "output_type": "display_data"
    },
    {
     "data": {
      "text/html": [
       "<table>\n",
       "<thead><tr><th></th><th scope=col>Yes</th><th scope=col>No</th></tr></thead>\n",
       "<tbody>\n",
       "\t<tr><th scope=row>Bleed</th><td>17 </td><td> 25</td></tr>\n",
       "\t<tr><th scope=row>None</th><td>15 </td><td>113</td></tr>\n",
       "</tbody>\n",
       "</table>\n"
      ],
      "text/latex": [
       "\\begin{tabular}{r|ll}\n",
       "  & Yes & No\\\\\n",
       "\\hline\n",
       "\tBleed & 17  &  25\\\\\n",
       "\tNone & 15  & 113\\\\\n",
       "\\end{tabular}\n"
      ],
      "text/markdown": [
       "\n",
       "| <!--/--> | Yes | No |\n",
       "|---|---|---|\n",
       "| Bleed | 17  |  25 |\n",
       "| None | 15  | 113 |\n",
       "\n"
      ],
      "text/plain": [
       "      Yes No \n",
       "Bleed 17   25\n",
       "None  15  113"
      ]
     },
     "metadata": {},
     "output_type": "display_data"
    },
    {
     "data": {
      "text/html": [
       "<table>\n",
       "<thead><tr><th></th><th scope=col>Yes</th><th scope=col>No</th></tr></thead>\n",
       "<tbody>\n",
       "\t<tr><th scope=row>Major</th><td> 6 </td><td> 11</td></tr>\n",
       "\t<tr><th scope=row>None</th><td>15 </td><td>113</td></tr>\n",
       "</tbody>\n",
       "</table>\n"
      ],
      "text/latex": [
       "\\begin{tabular}{r|ll}\n",
       "  & Yes & No\\\\\n",
       "\\hline\n",
       "\tMajor &  6  &  11\\\\\n",
       "\tNone & 15  & 113\\\\\n",
       "\\end{tabular}\n"
      ],
      "text/markdown": [
       "\n",
       "| <!--/--> | Yes | No |\n",
       "|---|---|---|\n",
       "| Major |  6  |  11 |\n",
       "| None | 15  | 113 |\n",
       "\n"
      ],
      "text/plain": [
       "      Yes No \n",
       "Major  6   11\n",
       "None  15  113"
      ]
     },
     "metadata": {},
     "output_type": "display_data"
    },
    {
     "data": {
      "text/html": [
       "<table>\n",
       "<thead><tr><th></th><th scope=col>Yes</th><th scope=col>No</th></tr></thead>\n",
       "<tbody>\n",
       "\t<tr><th scope=row>Minor</th><td>11 </td><td> 14</td></tr>\n",
       "\t<tr><th scope=row>None</th><td>15 </td><td>113</td></tr>\n",
       "</tbody>\n",
       "</table>\n"
      ],
      "text/latex": [
       "\\begin{tabular}{r|ll}\n",
       "  & Yes & No\\\\\n",
       "\\hline\n",
       "\tMinor & 11  &  14\\\\\n",
       "\tNone & 15  & 113\\\\\n",
       "\\end{tabular}\n"
      ],
      "text/markdown": [
       "\n",
       "| <!--/--> | Yes | No |\n",
       "|---|---|---|\n",
       "| Minor | 11  |  14 |\n",
       "| None | 15  | 113 |\n",
       "\n"
      ],
      "text/plain": [
       "      Yes No \n",
       "Minor 11   14\n",
       "None  15  113"
      ]
     },
     "metadata": {},
     "output_type": "display_data"
    },
    {
     "name": "stderr",
     "output_type": "stream",
     "text": [
      "Warning message in chisq.test(x = table2, correct = FALSE):\n",
      "“Chi-squared approximation may be incorrect”Warning message in chisq.test(x = table3, correct = FALSE):\n",
      "“Chi-squared approximation may be incorrect”Warning message in chisq.test(x = table5, correct = FALSE):\n",
      "“Chi-squared approximation may be incorrect”Warning message in chisq.test(x = table6, correct = FALSE):\n",
      "“Chi-squared approximation may be incorrect”"
     ]
    },
    {
     "name": "stdout",
     "output_type": "stream",
     "text": [
      "[1] \"P-values from chi-square test:\"\n"
     ]
    },
    {
     "data": {
      "text/html": [
       "0.572614175753359"
      ],
      "text/latex": [
       "0.572614175753359"
      ],
      "text/markdown": [
       "0.572614175753359"
      ],
      "text/plain": [
       "[1] 0.5726142"
      ]
     },
     "metadata": {},
     "output_type": "display_data"
    },
    {
     "data": {
      "text/html": [
       "0.000149455425050168"
      ],
      "text/latex": [
       "0.000149455425050168"
      ],
      "text/markdown": [
       "0.000149455425050168"
      ],
      "text/plain": [
       "[1] 0.0001494554"
      ]
     },
     "metadata": {},
     "output_type": "display_data"
    },
    {
     "data": {
      "text/html": [
       "0.0670638236268121"
      ],
      "text/latex": [
       "0.0670638236268121"
      ],
      "text/markdown": [
       "0.0670638236268121"
      ],
      "text/plain": [
       "[1] 0.06706382"
      ]
     },
     "metadata": {},
     "output_type": "display_data"
    },
    {
     "data": {
      "text/html": [
       "3.51813807234794e-05"
      ],
      "text/latex": [
       "3.51813807234794e-05"
      ],
      "text/markdown": [
       "3.51813807234794e-05"
      ],
      "text/plain": [
       "[1] 3.518138e-05"
      ]
     },
     "metadata": {},
     "output_type": "display_data"
    },
    {
     "data": {
      "text/html": [
       "0.00945677861959335"
      ],
      "text/latex": [
       "0.00945677861959335"
      ],
      "text/markdown": [
       "0.00945677861959335"
      ],
      "text/plain": [
       "[1] 0.009456779"
      ]
     },
     "metadata": {},
     "output_type": "display_data"
    },
    {
     "data": {
      "text/html": [
       "8.4658687799325e-05"
      ],
      "text/latex": [
       "8.4658687799325e-05"
      ],
      "text/markdown": [
       "8.4658687799325e-05"
      ],
      "text/plain": [
       "[1] 8.465869e-05"
      ]
     },
     "metadata": {},
     "output_type": "display_data"
    },
    {
     "name": "stdout",
     "output_type": "stream",
     "text": [
      "[1] \"P-values from fisher-exact test for tables 1, 3, 4, 5, 6\"\n"
     ]
    },
    {
     "data": {
      "text/html": [
       "0.750371619385971"
      ],
      "text/latex": [
       "0.750371619385971"
      ],
      "text/markdown": [
       "0.750371619385971"
      ],
      "text/plain": [
       "[1] 0.7503716"
      ]
     },
     "metadata": {},
     "output_type": "display_data"
    },
    {
     "data": {
      "text/html": [
       "0.0960583077087575"
      ],
      "text/latex": [
       "0.0960583077087575"
      ],
      "text/markdown": [
       "0.0960583077087575"
      ],
      "text/plain": [
       "[1] 0.09605831"
      ]
     },
     "metadata": {},
     "output_type": "display_data"
    },
    {
     "data": {
      "text/html": [
       "0.000139627444009755"
      ],
      "text/latex": [
       "0.000139627444009755"
      ],
      "text/markdown": [
       "0.000139627444009755"
      ],
      "text/plain": [
       "[1] 0.0001396274"
      ]
     },
     "metadata": {},
     "output_type": "display_data"
    },
    {
     "data": {
      "text/html": [
       "0.0194255692573911"
      ],
      "text/latex": [
       "0.0194255692573911"
      ],
      "text/markdown": [
       "0.0194255692573911"
      ],
      "text/plain": [
       "[1] 0.01942557"
      ]
     },
     "metadata": {},
     "output_type": "display_data"
    },
    {
     "data": {
      "text/html": [
       "0.000418877355751659"
      ],
      "text/latex": [
       "0.000418877355751659"
      ],
      "text/markdown": [
       "0.000418877355751659"
      ],
      "text/plain": [
       "[1] 0.0004188774"
      ]
     },
     "metadata": {},
     "output_type": "display_data"
    },
    {
     "name": "stdout",
     "output_type": "stream",
     "text": [
      "[1] \"Result: The p-values of contigency tables 1 and 3 are above 0.05, while the rest are below 0.05. Therefore, the null hypothesis that the bleeding event and anticoagulation are independent can only be rejected at a significance level of 0.05 for table 2, 4, 5 ,6.\"\n"
     ]
    }
   ],
   "source": [
    "table1 <- data.frame(\"Yes\"=c(6,11),\"No\"=c(11,14),row.names=c(\"Major\",\"Minor\"),stringsAsFactors = FALSE)\n",
    "table2 <- data.frame(\"Yes\"=c(6,11,15),\"No\"=c(11,14,113),row.names=c(\"Major\",\"Minor\",\"None\"),stringsAsFactors = FALSE)\n",
    "table3 <- data.frame(\"Yes\"=c(6,26),\"No\"=c(11,127),row.names=c(\"Major\",\"Minor + None\"),stringsAsFactors = FALSE)\n",
    "table4 <- data.frame(\"Yes\"=c(17,15),\"No\"=c(25,113),row.names=c(\"Bleed\",\"None\"),stringsAsFactors = FALSE)\n",
    "\n",
    "table5 <- data.frame(\"Yes\"=c(6,15),\"No\"=c(11,113),row.names=c(\"Major\",\"None\"),stringsAsFactors = FALSE)\n",
    "table6 <- data.frame(\"Yes\"=c(11,15),\"No\"=c(14,113),row.names=c(\"Minor\",\"None\"),stringsAsFactors = FALSE)\n",
    "\n",
    "\n",
    "colnames(table1) <- c(\"Yes\",\"No\")\n",
    "colnames(table2) <- c(\"Yes\",\"No\")\n",
    "colnames(table3) <- c(\"Yes\",\"No\")\n",
    "colnames(table4) <- c(\"Yes\",\"No\")\n",
    "colnames(table5) <- c(\"Yes\",\"No\")\n",
    "colnames(table6) <- c(\"Yes\",\"No\")\n",
    "table1\n",
    "table2\n",
    "table3\n",
    "table4\n",
    "table5\n",
    "table6\n",
    "\n",
    "result1 <- chisq.test(x=table1, correct = FALSE)\n",
    "result2 <- chisq.test(x=table2, correct = FALSE)\n",
    "result3 <- chisq.test(x=table3, correct = FALSE)\n",
    "result4 <- chisq.test(x=table4, correct = FALSE)\n",
    "result5 <- chisq.test(x=table5, correct = FALSE)\n",
    "result6 <- chisq.test(x=table6, correct = FALSE)\n",
    "print(\"P-values from chi-square test:\")\n",
    "result1$p.value\n",
    "result2$p.value\n",
    "result3$p.value\n",
    "result4$p.value\n",
    "result5$p.value\n",
    "result6$p.value\n",
    "\n",
    "print(\"P-values from fisher-exact test for tables 1, 3, 4, 5, 6\")\n",
    "test1 <- fisher.test(table1)\n",
    "test3 <- fisher.test(table3)\n",
    "test4 <- fisher.test(table4)\n",
    "test5 <- fisher.test(table5)\n",
    "test6 <- fisher.test(table6)\n",
    "test1$p.value\n",
    "test3$p.value\n",
    "test4$p.value\n",
    "test5$p.value\n",
    "test6$p.value\n",
    "\n",
    "print(\"Result: The p-values of contigency tables 1 and 3 are above 0.05, while the rest are below 0.05. Therefore, the null hypothesis that the bleeding event and anticoagulation are independent can only be rejected at a significance level of 0.05 for table 2, 4, 5 ,6.\")"
   ]
  },
  {
   "cell_type": "markdown",
   "id": "0952ba8a",
   "metadata": {},
   "source": [
    "Objective: To investigate the risk of bleeding associated with antiplatelets in patients on ibrutinib.\n",
    "\n",
    "Evaluate 6 contigency tables: Table 1 compares (major, minor) bleeding vs. (Yes, No) antiplatlets. Table 2 compares (major, minor, none) bleeding vs. (Yes, No) antiplatlets. Table 3 compares (major, minor + none) bleeding vs. (Yes, No) antiplatelets. Table 4 compares (Major+minor, none) bleeding vs. (Yes, No) antiplatelets. Table 5 compares (Major, none) bleeding vs. (Yes, No) antiplatelets. Table 6 compares (minor, none) bleeding vs. (Yes, No) antiplatelets.\n",
    "\n",
    "The chi-square statistic is calculated for each 6 tables, then the p-value is calculated. The fisher exact test is also applied for tables 1, 3, 4, 5, 6 (since they are two by two), and the p-value is calculated."
   ]
  },
  {
   "cell_type": "code",
   "execution_count": 4,
   "id": "59c47ba7",
   "metadata": {},
   "outputs": [
    {
     "data": {
      "text/html": [
       "<table>\n",
       "<thead><tr><th></th><th scope=col>Yes</th><th scope=col>No</th></tr></thead>\n",
       "<tbody>\n",
       "\t<tr><th scope=row>Major</th><td>4 </td><td>13</td></tr>\n",
       "\t<tr><th scope=row>Minor</th><td>6 </td><td>19</td></tr>\n",
       "</tbody>\n",
       "</table>\n"
      ],
      "text/latex": [
       "\\begin{tabular}{r|ll}\n",
       "  & Yes & No\\\\\n",
       "\\hline\n",
       "\tMajor & 4  & 13\\\\\n",
       "\tMinor & 6  & 19\\\\\n",
       "\\end{tabular}\n"
      ],
      "text/markdown": [
       "\n",
       "| <!--/--> | Yes | No |\n",
       "|---|---|---|\n",
       "| Major | 4  | 13 |\n",
       "| Minor | 6  | 19 |\n",
       "\n"
      ],
      "text/plain": [
       "      Yes No\n",
       "Major 4   13\n",
       "Minor 6   19"
      ]
     },
     "metadata": {},
     "output_type": "display_data"
    },
    {
     "data": {
      "text/html": [
       "<table>\n",
       "<thead><tr><th></th><th scope=col>Yes</th><th scope=col>No</th></tr></thead>\n",
       "<tbody>\n",
       "\t<tr><th scope=row>Major</th><td> 4 </td><td> 13</td></tr>\n",
       "\t<tr><th scope=row>Minor</th><td> 6 </td><td> 19</td></tr>\n",
       "\t<tr><th scope=row>None</th><td>22 </td><td>106</td></tr>\n",
       "</tbody>\n",
       "</table>\n"
      ],
      "text/latex": [
       "\\begin{tabular}{r|ll}\n",
       "  & Yes & No\\\\\n",
       "\\hline\n",
       "\tMajor &  4  &  13\\\\\n",
       "\tMinor &  6  &  19\\\\\n",
       "\tNone & 22  & 106\\\\\n",
       "\\end{tabular}\n"
      ],
      "text/markdown": [
       "\n",
       "| <!--/--> | Yes | No |\n",
       "|---|---|---|\n",
       "| Major |  4  |  13 |\n",
       "| Minor |  6  |  19 |\n",
       "| None | 22  | 106 |\n",
       "\n"
      ],
      "text/plain": [
       "      Yes No \n",
       "Major  4   13\n",
       "Minor  6   19\n",
       "None  22  106"
      ]
     },
     "metadata": {},
     "output_type": "display_data"
    },
    {
     "data": {
      "text/html": [
       "<table>\n",
       "<thead><tr><th></th><th scope=col>Yes</th><th scope=col>No</th></tr></thead>\n",
       "<tbody>\n",
       "\t<tr><th scope=row>Major</th><td> 4 </td><td> 13</td></tr>\n",
       "\t<tr><th scope=row>Minor + None</th><td>28 </td><td>125</td></tr>\n",
       "</tbody>\n",
       "</table>\n"
      ],
      "text/latex": [
       "\\begin{tabular}{r|ll}\n",
       "  & Yes & No\\\\\n",
       "\\hline\n",
       "\tMajor &  4  &  13\\\\\n",
       "\tMinor + None & 28  & 125\\\\\n",
       "\\end{tabular}\n"
      ],
      "text/markdown": [
       "\n",
       "| <!--/--> | Yes | No |\n",
       "|---|---|---|\n",
       "| Major |  4  |  13 |\n",
       "| Minor + None | 28  | 125 |\n",
       "\n"
      ],
      "text/plain": [
       "             Yes No \n",
       "Major         4   13\n",
       "Minor + None 28  125"
      ]
     },
     "metadata": {},
     "output_type": "display_data"
    },
    {
     "data": {
      "text/html": [
       "<table>\n",
       "<thead><tr><th></th><th scope=col>Yes</th><th scope=col>No</th></tr></thead>\n",
       "<tbody>\n",
       "\t<tr><th scope=row>Bleeding</th><td>10 </td><td> 32</td></tr>\n",
       "\t<tr><th scope=row>None</th><td>22 </td><td>106</td></tr>\n",
       "</tbody>\n",
       "</table>\n"
      ],
      "text/latex": [
       "\\begin{tabular}{r|ll}\n",
       "  & Yes & No\\\\\n",
       "\\hline\n",
       "\tBleeding & 10  &  32\\\\\n",
       "\tNone & 22  & 106\\\\\n",
       "\\end{tabular}\n"
      ],
      "text/markdown": [
       "\n",
       "| <!--/--> | Yes | No |\n",
       "|---|---|---|\n",
       "| Bleeding | 10  |  32 |\n",
       "| None | 22  | 106 |\n",
       "\n"
      ],
      "text/plain": [
       "         Yes No \n",
       "Bleeding 10   32\n",
       "None     22  106"
      ]
     },
     "metadata": {},
     "output_type": "display_data"
    },
    {
     "data": {
      "text/html": [
       "<table>\n",
       "<thead><tr><th></th><th scope=col>Yes</th><th scope=col>No</th></tr></thead>\n",
       "<tbody>\n",
       "\t<tr><th scope=row>Major</th><td> 4 </td><td> 13</td></tr>\n",
       "\t<tr><th scope=row>None</th><td>22 </td><td>106</td></tr>\n",
       "</tbody>\n",
       "</table>\n"
      ],
      "text/latex": [
       "\\begin{tabular}{r|ll}\n",
       "  & Yes & No\\\\\n",
       "\\hline\n",
       "\tMajor &  4  &  13\\\\\n",
       "\tNone & 22  & 106\\\\\n",
       "\\end{tabular}\n"
      ],
      "text/markdown": [
       "\n",
       "| <!--/--> | Yes | No |\n",
       "|---|---|---|\n",
       "| Major |  4  |  13 |\n",
       "| None | 22  | 106 |\n",
       "\n"
      ],
      "text/plain": [
       "      Yes No \n",
       "Major  4   13\n",
       "None  22  106"
      ]
     },
     "metadata": {},
     "output_type": "display_data"
    },
    {
     "data": {
      "text/html": [
       "<table>\n",
       "<thead><tr><th></th><th scope=col>Yes</th><th scope=col>No</th></tr></thead>\n",
       "<tbody>\n",
       "\t<tr><th scope=row>Minor</th><td> 6 </td><td> 19</td></tr>\n",
       "\t<tr><th scope=row>None</th><td>22 </td><td>106</td></tr>\n",
       "</tbody>\n",
       "</table>\n"
      ],
      "text/latex": [
       "\\begin{tabular}{r|ll}\n",
       "  & Yes & No\\\\\n",
       "\\hline\n",
       "\tMinor &  6  &  19\\\\\n",
       "\tNone & 22  & 106\\\\\n",
       "\\end{tabular}\n"
      ],
      "text/markdown": [
       "\n",
       "| <!--/--> | Yes | No |\n",
       "|---|---|---|\n",
       "| Minor |  6  |  19 |\n",
       "| None | 22  | 106 |\n",
       "\n"
      ],
      "text/plain": [
       "      Yes No \n",
       "Minor  6   19\n",
       "None  22  106"
      ]
     },
     "metadata": {},
     "output_type": "display_data"
    },
    {
     "name": "stderr",
     "output_type": "stream",
     "text": [
      "Warning message in chisq.test(x = table1, correct = FALSE):\n",
      "“Chi-squared approximation may be incorrect”Warning message in chisq.test(x = table2, correct = FALSE):\n",
      "“Chi-squared approximation may be incorrect”Warning message in chisq.test(x = table3, correct = FALSE):\n",
      "“Chi-squared approximation may be incorrect”Warning message in chisq.test(x = table5, correct = FALSE):\n",
      "“Chi-squared approximation may be incorrect”Warning message in chisq.test(x = table6, correct = FALSE):\n",
      "“Chi-squared approximation may be incorrect”"
     ]
    },
    {
     "name": "stdout",
     "output_type": "stream",
     "text": [
      "[1] \"P-values from chi-square test:\"\n"
     ]
    },
    {
     "data": {
      "text/html": [
       "0.971962722380371"
      ],
      "text/latex": [
       "0.971962722380371"
      ],
      "text/markdown": [
       "0.971962722380371"
      ],
      "text/plain": [
       "[1] 0.9719627"
      ]
     },
     "metadata": {},
     "output_type": "display_data"
    },
    {
     "data": {
      "text/html": [
       "0.634766636803176"
      ],
      "text/latex": [
       "0.634766636803176"
      ],
      "text/markdown": [
       "0.634766636803176"
      ],
      "text/plain": [
       "[1] 0.6347666"
      ]
     },
     "metadata": {},
     "output_type": "display_data"
    },
    {
     "data": {
      "text/html": [
       "0.600825923057019"
      ],
      "text/latex": [
       "0.600825923057019"
      ],
      "text/markdown": [
       "0.600825923057019"
      ],
      "text/plain": [
       "[1] 0.6008259"
      ]
     },
     "metadata": {},
     "output_type": "display_data"
    },
    {
     "data": {
      "text/html": [
       "0.34077085398892"
      ],
      "text/latex": [
       "0.34077085398892"
      ],
      "text/markdown": [
       "0.34077085398892"
      ],
      "text/plain": [
       "[1] 0.3407709"
      ]
     },
     "metadata": {},
     "output_type": "display_data"
    },
    {
     "data": {
      "text/html": [
       "0.521891340222871"
      ],
      "text/latex": [
       "0.521891340222871"
      ],
      "text/markdown": [
       "0.521891340222871"
      ],
      "text/plain": [
       "[1] 0.5218913"
      ]
     },
     "metadata": {},
     "output_type": "display_data"
    },
    {
     "data": {
      "text/html": [
       "0.42039462772951"
      ],
      "text/latex": [
       "0.42039462772951"
      ],
      "text/markdown": [
       "0.42039462772951"
      ],
      "text/plain": [
       "[1] 0.4203946"
      ]
     },
     "metadata": {},
     "output_type": "display_data"
    },
    {
     "name": "stdout",
     "output_type": "stream",
     "text": [
      "[1] \"P-values from fisher-exact test for tables 1, 3, 4, 5, 6\"\n"
     ]
    },
    {
     "data": {
      "text/html": [
       "1"
      ],
      "text/latex": [
       "1"
      ],
      "text/markdown": [
       "1"
      ],
      "text/plain": [
       "[1] 1"
      ]
     },
     "metadata": {},
     "output_type": "display_data"
    },
    {
     "data": {
      "text/html": [
       "0.530618645965685"
      ],
      "text/latex": [
       "0.530618645965685"
      ],
      "text/markdown": [
       "0.530618645965685"
      ],
      "text/plain": [
       "[1] 0.5306186"
      ]
     },
     "metadata": {},
     "output_type": "display_data"
    },
    {
     "data": {
      "text/html": [
       "0.366357097991148"
      ],
      "text/latex": [
       "0.366357097991148"
      ],
      "text/markdown": [
       "0.366357097991148"
      ],
      "text/plain": [
       "[1] 0.3663571"
      ]
     },
     "metadata": {},
     "output_type": "display_data"
    },
    {
     "data": {
      "text/html": [
       "0.50870942009436"
      ],
      "text/latex": [
       "0.50870942009436"
      ],
      "text/markdown": [
       "0.50870942009436"
      ],
      "text/plain": [
       "[1] 0.5087094"
      ]
     },
     "metadata": {},
     "output_type": "display_data"
    },
    {
     "data": {
      "text/html": [
       "0.406735453375799"
      ],
      "text/latex": [
       "0.406735453375799"
      ],
      "text/markdown": [
       "0.406735453375799"
      ],
      "text/plain": [
       "[1] 0.4067355"
      ]
     },
     "metadata": {},
     "output_type": "display_data"
    },
    {
     "name": "stdout",
     "output_type": "stream",
     "text": [
      "[1] \"Result: The p-values of the contigency tables are all above 0.05. Therefore, the null hypothesis that the bleeding event and antiplatelets are independent cannot be rejected at a significance level of 0.05.\"\n"
     ]
    }
   ],
   "source": [
    "table1 <- data.frame(\"Yes\"=c(4,6),\"No\"=c(13,19),row.names=c(\"Major\",\"Minor\"),stringsAsFactors = FALSE)\n",
    "table2 <- data.frame(\"Yes\"=c(4,6,22),\"No\"=c(13,19,106),row.names=c(\"Major\",\"Minor\",\"None\"),stringsAsFactors = FALSE)\n",
    "table3 <- data.frame(\"Yes\"=c(4,28),\"No\"=c(13,125),row.names=c(\"Major\",\"Minor + None\"),stringsAsFactors = FALSE)\n",
    "table4 <- data.frame(\"Yes\"=c(10,22),\"No\"=c(32,106),row.names=c(\"Bleeding\",\"None\"),stringsAsFactors = FALSE)\n",
    "table5 <- data.frame(\"Yes\"=c(4,22),\"No\"=c(13,106),row.names=c(\"Major\",\"None\"),stringsAsFactors = FALSE)\n",
    "table6 <- data.frame(\"Yes\"=c(6,22),\"No\"=c(19,106),row.names=c(\"Minor\",\"None\"),stringsAsFactors = FALSE)\n",
    "\n",
    "colnames(table1) <- c(\"Yes\",\"No\")\n",
    "colnames(table2) <- c(\"Yes\",\"No\")\n",
    "colnames(table3) <- c(\"Yes\",\"No\")\n",
    "colnames(table4) <- c(\"Yes\",\"No\")\n",
    "colnames(table5) <- c(\"Yes\",\"No\")\n",
    "colnames(table6) <- c(\"Yes\",\"No\")\n",
    "table1\n",
    "table2\n",
    "table3\n",
    "table4\n",
    "table5\n",
    "table6\n",
    "\n",
    "result1 <- chisq.test(x=table1, correct = FALSE)\n",
    "result2 <- chisq.test(x=table2, correct = FALSE)\n",
    "result3 <- chisq.test(x=table3, correct = FALSE)\n",
    "result4 <- chisq.test(x=table4, correct = FALSE)\n",
    "result5 <- chisq.test(x=table5, correct = FALSE)\n",
    "result6 <- chisq.test(x=table6, correct = FALSE)\n",
    "print(\"P-values from chi-square test:\")\n",
    "result1$p.value\n",
    "result2$p.value\n",
    "result3$p.value\n",
    "result4$p.value\n",
    "result5$p.value\n",
    "result6$p.value\n",
    "\n",
    "print(\"P-values from fisher-exact test for tables 1, 3, 4, 5, 6\")\n",
    "test1 <- fisher.test(table1)\n",
    "test3 <- fisher.test(table3)\n",
    "test4 <- fisher.test(table4)\n",
    "test5 <- fisher.test(table5)\n",
    "test6 <- fisher.test(table6)\n",
    "test1$p.value\n",
    "test3$p.value\n",
    "test4$p.value\n",
    "test5$p.value\n",
    "test6$p.value\n",
    "\n",
    "\n",
    "print(\"Result: The p-values of the contigency tables are all above 0.05. Therefore, the null hypothesis that the bleeding event and antiplatelets are independent cannot be rejected at a significance level of 0.05.\")"
   ]
  },
  {
   "cell_type": "markdown",
   "id": "f15a6b26",
   "metadata": {},
   "source": [
    "Objective: To investigate the risk of bleeding associated with invasive procedures in patients on ibrutinib.\n",
    "\n",
    "Evaluate 6 contigency tables: Table 1 compares (major, minor) bleeding vs. (Yes, No) PMH risk. Table 2 compares (major, minor, none) bleeding vs. (Yes, No) PMH risk. Table 3 compares (major, minor + none) bleeding vs. (Yes, No) PMH risk. Table 4 compares (Major + minor, none) bleeding vs. (Yes, No) PMH risk. Table 5 compares (Major, none) bleeding vs. (Yes, No) PMH risk. Table 6 compares (minor, none) bleeding vs. (Yes, No) PMH risk. \n",
    "\n",
    "The chi-square statistic is calculated for each 6 tables, then the p-value is calculated. The fisher exact test is also applied for tables 1, 3, 4,5,6 (since they are two by two), and the p-value is calculated."
   ]
  },
  {
   "cell_type": "code",
   "execution_count": 5,
   "id": "01338635",
   "metadata": {},
   "outputs": [
    {
     "data": {
      "text/html": [
       "<table>\n",
       "<thead><tr><th></th><th scope=col>Yes</th><th scope=col>No</th></tr></thead>\n",
       "<tbody>\n",
       "\t<tr><th scope=row>Major</th><td>4 </td><td>13</td></tr>\n",
       "\t<tr><th scope=row>Minor</th><td>3 </td><td>22</td></tr>\n",
       "</tbody>\n",
       "</table>\n"
      ],
      "text/latex": [
       "\\begin{tabular}{r|ll}\n",
       "  & Yes & No\\\\\n",
       "\\hline\n",
       "\tMajor & 4  & 13\\\\\n",
       "\tMinor & 3  & 22\\\\\n",
       "\\end{tabular}\n"
      ],
      "text/markdown": [
       "\n",
       "| <!--/--> | Yes | No |\n",
       "|---|---|---|\n",
       "| Major | 4  | 13 |\n",
       "| Minor | 3  | 22 |\n",
       "\n"
      ],
      "text/plain": [
       "      Yes No\n",
       "Major 4   13\n",
       "Minor 3   22"
      ]
     },
     "metadata": {},
     "output_type": "display_data"
    },
    {
     "data": {
      "text/html": [
       "<table>\n",
       "<thead><tr><th></th><th scope=col>Yes</th><th scope=col>No</th></tr></thead>\n",
       "<tbody>\n",
       "\t<tr><th scope=row>Major</th><td> 4 </td><td> 13</td></tr>\n",
       "\t<tr><th scope=row>Minor</th><td> 3 </td><td> 22</td></tr>\n",
       "\t<tr><th scope=row>None</th><td>16 </td><td>112</td></tr>\n",
       "</tbody>\n",
       "</table>\n"
      ],
      "text/latex": [
       "\\begin{tabular}{r|ll}\n",
       "  & Yes & No\\\\\n",
       "\\hline\n",
       "\tMajor &  4  &  13\\\\\n",
       "\tMinor &  3  &  22\\\\\n",
       "\tNone & 16  & 112\\\\\n",
       "\\end{tabular}\n"
      ],
      "text/markdown": [
       "\n",
       "| <!--/--> | Yes | No |\n",
       "|---|---|---|\n",
       "| Major |  4  |  13 |\n",
       "| Minor |  3  |  22 |\n",
       "| None | 16  | 112 |\n",
       "\n"
      ],
      "text/plain": [
       "      Yes No \n",
       "Major  4   13\n",
       "Minor  3   22\n",
       "None  16  112"
      ]
     },
     "metadata": {},
     "output_type": "display_data"
    },
    {
     "data": {
      "text/html": [
       "<table>\n",
       "<thead><tr><th></th><th scope=col>Yes</th><th scope=col>No</th></tr></thead>\n",
       "<tbody>\n",
       "\t<tr><th scope=row>Major</th><td> 4 </td><td> 13</td></tr>\n",
       "\t<tr><th scope=row>Minor + None</th><td>19 </td><td>134</td></tr>\n",
       "</tbody>\n",
       "</table>\n"
      ],
      "text/latex": [
       "\\begin{tabular}{r|ll}\n",
       "  & Yes & No\\\\\n",
       "\\hline\n",
       "\tMajor &  4  &  13\\\\\n",
       "\tMinor + None & 19  & 134\\\\\n",
       "\\end{tabular}\n"
      ],
      "text/markdown": [
       "\n",
       "| <!--/--> | Yes | No |\n",
       "|---|---|---|\n",
       "| Major |  4  |  13 |\n",
       "| Minor + None | 19  | 134 |\n",
       "\n"
      ],
      "text/plain": [
       "             Yes No \n",
       "Major         4   13\n",
       "Minor + None 19  134"
      ]
     },
     "metadata": {},
     "output_type": "display_data"
    },
    {
     "data": {
      "text/html": [
       "<table>\n",
       "<thead><tr><th></th><th scope=col>Yes</th><th scope=col>No</th></tr></thead>\n",
       "<tbody>\n",
       "\t<tr><th scope=row>Bleed</th><td> 7 </td><td> 35</td></tr>\n",
       "\t<tr><th scope=row>None</th><td>16 </td><td>112</td></tr>\n",
       "</tbody>\n",
       "</table>\n"
      ],
      "text/latex": [
       "\\begin{tabular}{r|ll}\n",
       "  & Yes & No\\\\\n",
       "\\hline\n",
       "\tBleed &  7  &  35\\\\\n",
       "\tNone & 16  & 112\\\\\n",
       "\\end{tabular}\n"
      ],
      "text/markdown": [
       "\n",
       "| <!--/--> | Yes | No |\n",
       "|---|---|---|\n",
       "| Bleed |  7  |  35 |\n",
       "| None | 16  | 112 |\n",
       "\n"
      ],
      "text/plain": [
       "      Yes No \n",
       "Bleed  7   35\n",
       "None  16  112"
      ]
     },
     "metadata": {},
     "output_type": "display_data"
    },
    {
     "data": {
      "text/html": [
       "<table>\n",
       "<thead><tr><th></th><th scope=col>Yes</th><th scope=col>No</th></tr></thead>\n",
       "<tbody>\n",
       "\t<tr><th scope=row>Major</th><td> 4 </td><td> 13</td></tr>\n",
       "\t<tr><th scope=row>None</th><td>16 </td><td>112</td></tr>\n",
       "</tbody>\n",
       "</table>\n"
      ],
      "text/latex": [
       "\\begin{tabular}{r|ll}\n",
       "  & Yes & No\\\\\n",
       "\\hline\n",
       "\tMajor &  4  &  13\\\\\n",
       "\tNone & 16  & 112\\\\\n",
       "\\end{tabular}\n"
      ],
      "text/markdown": [
       "\n",
       "| <!--/--> | Yes | No |\n",
       "|---|---|---|\n",
       "| Major |  4  |  13 |\n",
       "| None | 16  | 112 |\n",
       "\n"
      ],
      "text/plain": [
       "      Yes No \n",
       "Major  4   13\n",
       "None  16  112"
      ]
     },
     "metadata": {},
     "output_type": "display_data"
    },
    {
     "data": {
      "text/html": [
       "<table>\n",
       "<thead><tr><th></th><th scope=col>Yes</th><th scope=col>No</th></tr></thead>\n",
       "<tbody>\n",
       "\t<tr><th scope=row>Minor</th><td> 3 </td><td> 22</td></tr>\n",
       "\t<tr><th scope=row>None</th><td>16 </td><td>112</td></tr>\n",
       "</tbody>\n",
       "</table>\n"
      ],
      "text/latex": [
       "\\begin{tabular}{r|ll}\n",
       "  & Yes & No\\\\\n",
       "\\hline\n",
       "\tMinor &  3  &  22\\\\\n",
       "\tNone & 16  & 112\\\\\n",
       "\\end{tabular}\n"
      ],
      "text/markdown": [
       "\n",
       "| <!--/--> | Yes | No |\n",
       "|---|---|---|\n",
       "| Minor |  3  |  22 |\n",
       "| None | 16  | 112 |\n",
       "\n"
      ],
      "text/plain": [
       "      Yes No \n",
       "Minor  3   22\n",
       "None  16  112"
      ]
     },
     "metadata": {},
     "output_type": "display_data"
    },
    {
     "name": "stderr",
     "output_type": "stream",
     "text": [
      "Warning message in chisq.test(x = table1, correct = FALSE):\n",
      "“Chi-squared approximation may be incorrect”Warning message in chisq.test(x = table2, correct = FALSE):\n",
      "“Chi-squared approximation may be incorrect”Warning message in chisq.test(x = table3, correct = FALSE):\n",
      "“Chi-squared approximation may be incorrect”Warning message in chisq.test(x = table5, correct = FALSE):\n",
      "“Chi-squared approximation may be incorrect”Warning message in chisq.test(x = table6, correct = FALSE):\n",
      "“Chi-squared approximation may be incorrect”"
     ]
    },
    {
     "name": "stdout",
     "output_type": "stream",
     "text": [
      "[1] \"P-values from chi-square test:\"\n"
     ]
    },
    {
     "data": {
      "text/html": [
       "0.32506190616151"
      ],
      "text/latex": [
       "0.32506190616151"
      ],
      "text/markdown": [
       "0.32506190616151"
      ],
      "text/plain": [
       "[1] 0.3250619"
      ]
     },
     "metadata": {},
     "output_type": "display_data"
    },
    {
     "data": {
      "text/html": [
       "0.445069953842762"
      ],
      "text/latex": [
       "0.445069953842762"
      ],
      "text/markdown": [
       "0.445069953842762"
      ],
      "text/plain": [
       "[1] 0.44507"
      ]
     },
     "metadata": {},
     "output_type": "display_data"
    },
    {
     "data": {
      "text/html": [
       "0.203849440738118"
      ],
      "text/latex": [
       "0.203849440738118"
      ],
      "text/markdown": [
       "0.203849440738118"
      ],
      "text/plain": [
       "[1] 0.2038494"
      ]
     },
     "metadata": {},
     "output_type": "display_data"
    },
    {
     "data": {
      "text/html": [
       "0.49331436776887"
      ],
      "text/latex": [
       "0.49331436776887"
      ],
      "text/markdown": [
       "0.49331436776887"
      ],
      "text/plain": [
       "[1] 0.4933144"
      ]
     },
     "metadata": {},
     "output_type": "display_data"
    },
    {
     "data": {
      "text/html": [
       "0.215319627748192"
      ],
      "text/latex": [
       "0.215319627748192"
      ],
      "text/markdown": [
       "0.215319627748192"
      ],
      "text/plain": [
       "[1] 0.2153196"
      ]
     },
     "metadata": {},
     "output_type": "display_data"
    },
    {
     "data": {
      "text/html": [
       "0.944721824444628"
      ],
      "text/latex": [
       "0.944721824444628"
      ],
      "text/markdown": [
       "0.944721824444628"
      ],
      "text/plain": [
       "[1] 0.9447218"
      ]
     },
     "metadata": {},
     "output_type": "display_data"
    },
    {
     "name": "stdout",
     "output_type": "stream",
     "text": [
      "[1] \"P-values from fisher-exact test for tables 1, 3, 4, 5, 6\"\n"
     ]
    },
    {
     "data": {
      "text/html": [
       "0.413318720122314"
      ],
      "text/latex": [
       "0.413318720122314"
      ],
      "text/markdown": [
       "0.413318720122314"
      ],
      "text/plain": [
       "[1] 0.4133187"
      ]
     },
     "metadata": {},
     "output_type": "display_data"
    },
    {
     "data": {
      "text/html": [
       "0.253770679492859"
      ],
      "text/latex": [
       "0.253770679492859"
      ],
      "text/markdown": [
       "0.253770679492859"
      ],
      "text/plain": [
       "[1] 0.2537707"
      ]
     },
     "metadata": {},
     "output_type": "display_data"
    },
    {
     "data": {
      "text/html": [
       "0.603029602839822"
      ],
      "text/latex": [
       "0.603029602839822"
      ],
      "text/markdown": [
       "0.603029602839822"
      ],
      "text/plain": [
       "[1] 0.6030296"
      ]
     },
     "metadata": {},
     "output_type": "display_data"
    },
    {
     "data": {
      "text/html": [
       "0.256042242961267"
      ],
      "text/latex": [
       "0.256042242961267"
      ],
      "text/markdown": [
       "0.256042242961267"
      ],
      "text/plain": [
       "[1] 0.2560422"
      ]
     },
     "metadata": {},
     "output_type": "display_data"
    },
    {
     "data": {
      "text/html": [
       "1"
      ],
      "text/latex": [
       "1"
      ],
      "text/markdown": [
       "1"
      ],
      "text/plain": [
       "[1] 1"
      ]
     },
     "metadata": {},
     "output_type": "display_data"
    },
    {
     "name": "stdout",
     "output_type": "stream",
     "text": [
      "[1] \"Result: The p-values of the contigency tables are all above 0.05. Therefore, the null hypothesis that the bleeding event and PMHx risk are independent cannot be rejected at a significance level of 0.05.\"\n"
     ]
    }
   ],
   "source": [
    "table1 <- data.frame(\"Yes\"=c(4,3),\"No\"=c(13,22),row.names=c(\"Major\",\"Minor\"),stringsAsFactors = FALSE)\n",
    "table2 <- data.frame(\"Yes\"=c(4,3,16),\"No\"=c(13,22,112),row.names=c(\"Major\",\"Minor\",\"None\"),stringsAsFactors = FALSE)\n",
    "table3 <- data.frame(\"Yes\"=c(4,19),\"No\"=c(13,134),row.names=c(\"Major\",\"Minor + None\"),stringsAsFactors = FALSE)\n",
    "table4 <- data.frame(\"Yes\"=c(7,16),\"No\"=c(35,112),row.names=c(\"Bleed\",\"None\"),stringsAsFactors = FALSE)\n",
    "table5 <- data.frame(\"Yes\"=c(4,16),\"No\"=c(13,112),row.names=c(\"Major\",\"None\"),stringsAsFactors = FALSE)\n",
    "table6 <- data.frame(\"Yes\"=c(3,16),\"No\"=c(22,112),row.names=c(\"Minor\",\"None\"),stringsAsFactors = FALSE)\n",
    "\n",
    "colnames(table1) <- c(\"Yes\",\"No\")\n",
    "colnames(table2) <- c(\"Yes\",\"No\")\n",
    "colnames(table3) <- c(\"Yes\",\"No\")\n",
    "colnames(table4) <- c(\"Yes\",\"No\")\n",
    "colnames(table5) <- c(\"Yes\",\"No\")\n",
    "colnames(table6) <- c(\"Yes\",\"No\")\n",
    "table1\n",
    "table2\n",
    "table3\n",
    "table4\n",
    "table5\n",
    "table6\n",
    "\n",
    "result1 <- chisq.test(x=table1, correct = FALSE)\n",
    "result2 <- chisq.test(x=table2, correct = FALSE)\n",
    "result3 <- chisq.test(x=table3, correct = FALSE)\n",
    "result4 <- chisq.test(x=table4, correct = FALSE)\n",
    "result5 <- chisq.test(x=table5, correct = FALSE)\n",
    "result6 <- chisq.test(x=table6, correct = FALSE)\n",
    "print(\"P-values from chi-square test:\")\n",
    "result1$p.value\n",
    "result2$p.value\n",
    "result3$p.value\n",
    "result4$p.value\n",
    "result5$p.value\n",
    "result6$p.value\n",
    "\n",
    "print(\"P-values from fisher-exact test for tables 1, 3, 4, 5, 6\")\n",
    "test1 <- fisher.test(table1)\n",
    "test3 <- fisher.test(table3)\n",
    "test4 <- fisher.test(table4)\n",
    "test5 <- fisher.test(table5)\n",
    "test6 <- fisher.test(table6)\n",
    "test1$p.value\n",
    "test3$p.value\n",
    "test4$p.value\n",
    "test5$p.value\n",
    "test6$p.value\n",
    "\n",
    "\n",
    "print(\"Result: The p-values of the contigency tables are all above 0.05. Therefore, the null hypothesis that the bleeding event and PMHx risk are independent cannot be rejected at a significance level of 0.05.\")"
   ]
  },
  {
   "cell_type": "markdown",
   "id": "16302dad",
   "metadata": {},
   "source": [
    "Objective: To investigate the risk of bleeding associated with gender in patients on ibrutinib.\n",
    "\n",
    "Evaluate 6 contigency tables: Table 1 compares (major, minor) bleeding vs. (Male,Female) gender. Table 2 compares (major, minor, none) bleeding vs. (Male, Female) gender. Table 3 compares (major, minor + none) bleeding vs. (Male,female) gender. Table 4 compares (major + minor, none) bleeding vs. (Male,female) gender. Table 5 compares (major, none) bleeding vs. (Male,female) gender. Table 6 compares (minor, none) bleeding vs. (Male,female) gender.\n",
    "\n",
    "The chi-square statistic is calculated for each 6 tables, then the p-value is calculated. The fisher exact test is also applied for tables 1, 3, 4, 5, 6 (since they are two by two), and the p-value is calculated."
   ]
  },
  {
   "cell_type": "code",
   "execution_count": 6,
   "id": "a7f8a5d9",
   "metadata": {},
   "outputs": [
    {
     "data": {
      "text/html": [
       "<table>\n",
       "<thead><tr><th></th><th scope=col>Male</th><th scope=col>Female</th></tr></thead>\n",
       "<tbody>\n",
       "\t<tr><th scope=row>Major</th><td>12</td><td>5 </td></tr>\n",
       "\t<tr><th scope=row>Minor</th><td>18</td><td>7 </td></tr>\n",
       "</tbody>\n",
       "</table>\n"
      ],
      "text/latex": [
       "\\begin{tabular}{r|ll}\n",
       "  & Male & Female\\\\\n",
       "\\hline\n",
       "\tMajor & 12 & 5 \\\\\n",
       "\tMinor & 18 & 7 \\\\\n",
       "\\end{tabular}\n"
      ],
      "text/markdown": [
       "\n",
       "| <!--/--> | Male | Female |\n",
       "|---|---|---|\n",
       "| Major | 12 | 5  |\n",
       "| Minor | 18 | 7  |\n",
       "\n"
      ],
      "text/plain": [
       "      Male Female\n",
       "Major 12   5     \n",
       "Minor 18   7     "
      ]
     },
     "metadata": {},
     "output_type": "display_data"
    },
    {
     "data": {
      "text/html": [
       "<table>\n",
       "<thead><tr><th></th><th scope=col>Male</th><th scope=col>Female</th></tr></thead>\n",
       "<tbody>\n",
       "\t<tr><th scope=row>Major</th><td>12</td><td> 5</td></tr>\n",
       "\t<tr><th scope=row>Minor</th><td>18</td><td> 7</td></tr>\n",
       "\t<tr><th scope=row>None</th><td>75</td><td>53</td></tr>\n",
       "</tbody>\n",
       "</table>\n"
      ],
      "text/latex": [
       "\\begin{tabular}{r|ll}\n",
       "  & Male & Female\\\\\n",
       "\\hline\n",
       "\tMajor & 12 &  5\\\\\n",
       "\tMinor & 18 &  7\\\\\n",
       "\tNone & 75 & 53\\\\\n",
       "\\end{tabular}\n"
      ],
      "text/markdown": [
       "\n",
       "| <!--/--> | Male | Female |\n",
       "|---|---|---|\n",
       "| Major | 12 |  5 |\n",
       "| Minor | 18 |  7 |\n",
       "| None | 75 | 53 |\n",
       "\n"
      ],
      "text/plain": [
       "      Male Female\n",
       "Major 12    5    \n",
       "Minor 18    7    \n",
       "None  75   53    "
      ]
     },
     "metadata": {},
     "output_type": "display_data"
    },
    {
     "data": {
      "text/html": [
       "<table>\n",
       "<thead><tr><th></th><th scope=col>Male</th><th scope=col>Female</th></tr></thead>\n",
       "<tbody>\n",
       "\t<tr><th scope=row>Major</th><td>12</td><td> 5</td></tr>\n",
       "\t<tr><th scope=row>Minor + None</th><td>93</td><td>60</td></tr>\n",
       "</tbody>\n",
       "</table>\n"
      ],
      "text/latex": [
       "\\begin{tabular}{r|ll}\n",
       "  & Male & Female\\\\\n",
       "\\hline\n",
       "\tMajor & 12 &  5\\\\\n",
       "\tMinor + None & 93 & 60\\\\\n",
       "\\end{tabular}\n"
      ],
      "text/markdown": [
       "\n",
       "| <!--/--> | Male | Female |\n",
       "|---|---|---|\n",
       "| Major | 12 |  5 |\n",
       "| Minor + None | 93 | 60 |\n",
       "\n"
      ],
      "text/plain": [
       "             Male Female\n",
       "Major        12    5    \n",
       "Minor + None 93   60    "
      ]
     },
     "metadata": {},
     "output_type": "display_data"
    },
    {
     "data": {
      "text/html": [
       "<table>\n",
       "<thead><tr><th></th><th scope=col>Male</th><th scope=col>Female</th></tr></thead>\n",
       "<tbody>\n",
       "\t<tr><th scope=row>Bleeding</th><td>30</td><td>12</td></tr>\n",
       "\t<tr><th scope=row>None</th><td>75</td><td>53</td></tr>\n",
       "</tbody>\n",
       "</table>\n"
      ],
      "text/latex": [
       "\\begin{tabular}{r|ll}\n",
       "  & Male & Female\\\\\n",
       "\\hline\n",
       "\tBleeding & 30 & 12\\\\\n",
       "\tNone & 75 & 53\\\\\n",
       "\\end{tabular}\n"
      ],
      "text/markdown": [
       "\n",
       "| <!--/--> | Male | Female |\n",
       "|---|---|---|\n",
       "| Bleeding | 30 | 12 |\n",
       "| None | 75 | 53 |\n",
       "\n"
      ],
      "text/plain": [
       "         Male Female\n",
       "Bleeding 30   12    \n",
       "None     75   53    "
      ]
     },
     "metadata": {},
     "output_type": "display_data"
    },
    {
     "data": {
      "text/html": [
       "<table>\n",
       "<thead><tr><th></th><th scope=col>Male</th><th scope=col>Female</th></tr></thead>\n",
       "<tbody>\n",
       "\t<tr><th scope=row>Major</th><td>12</td><td> 5</td></tr>\n",
       "\t<tr><th scope=row>None</th><td>75</td><td>53</td></tr>\n",
       "</tbody>\n",
       "</table>\n"
      ],
      "text/latex": [
       "\\begin{tabular}{r|ll}\n",
       "  & Male & Female\\\\\n",
       "\\hline\n",
       "\tMajor & 12 &  5\\\\\n",
       "\tNone & 75 & 53\\\\\n",
       "\\end{tabular}\n"
      ],
      "text/markdown": [
       "\n",
       "| <!--/--> | Male | Female |\n",
       "|---|---|---|\n",
       "| Major | 12 |  5 |\n",
       "| None | 75 | 53 |\n",
       "\n"
      ],
      "text/plain": [
       "      Male Female\n",
       "Major 12    5    \n",
       "None  75   53    "
      ]
     },
     "metadata": {},
     "output_type": "display_data"
    },
    {
     "data": {
      "text/html": [
       "<table>\n",
       "<thead><tr><th></th><th scope=col>Male</th><th scope=col>Female</th></tr></thead>\n",
       "<tbody>\n",
       "\t<tr><th scope=row>Minor</th><td>18</td><td> 7</td></tr>\n",
       "\t<tr><th scope=row>None</th><td>75</td><td>53</td></tr>\n",
       "</tbody>\n",
       "</table>\n"
      ],
      "text/latex": [
       "\\begin{tabular}{r|ll}\n",
       "  & Male & Female\\\\\n",
       "\\hline\n",
       "\tMinor & 18 &  7\\\\\n",
       "\tNone & 75 & 53\\\\\n",
       "\\end{tabular}\n"
      ],
      "text/markdown": [
       "\n",
       "| <!--/--> | Male | Female |\n",
       "|---|---|---|\n",
       "| Minor | 18 |  7 |\n",
       "| None | 75 | 53 |\n",
       "\n"
      ],
      "text/plain": [
       "      Male Female\n",
       "Minor 18    7    \n",
       "None  75   53    "
      ]
     },
     "metadata": {},
     "output_type": "display_data"
    },
    {
     "name": "stderr",
     "output_type": "stream",
     "text": [
      "Warning message in chisq.test(x = table1, correct = FALSE):\n",
      "“Chi-squared approximation may be incorrect”"
     ]
    },
    {
     "name": "stdout",
     "output_type": "stream",
     "text": [
      "[1] \"P-values from chi-square test:\"\n"
     ]
    },
    {
     "data": {
      "text/html": [
       "0.920812723910616"
      ],
      "text/latex": [
       "0.920812723910616"
      ],
      "text/markdown": [
       "0.920812723910616"
      ],
      "text/plain": [
       "[1] 0.9208127"
      ]
     },
     "metadata": {},
     "output_type": "display_data"
    },
    {
     "data": {
      "text/html": [
       "0.330476936233339"
      ],
      "text/latex": [
       "0.330476936233339"
      ],
      "text/markdown": [
       "0.330476936233339"
      ],
      "text/plain": [
       "[1] 0.3304769"
      ]
     },
     "metadata": {},
     "output_type": "display_data"
    },
    {
     "data": {
      "text/html": [
       "0.430041781647164"
      ],
      "text/latex": [
       "0.430041781647164"
      ],
      "text/markdown": [
       "0.430041781647164"
      ],
      "text/plain": [
       "[1] 0.4300418"
      ]
     },
     "metadata": {},
     "output_type": "display_data"
    },
    {
     "data": {
      "text/html": [
       "0.137483921280949"
      ],
      "text/latex": [
       "0.137483921280949"
      ],
      "text/markdown": [
       "0.137483921280949"
      ],
      "text/plain": [
       "[1] 0.1374839"
      ]
     },
     "metadata": {},
     "output_type": "display_data"
    },
    {
     "data": {
      "text/html": [
       "0.342892637498729"
      ],
      "text/latex": [
       "0.342892637498729"
      ],
      "text/markdown": [
       "0.342892637498729"
      ],
      "text/plain": [
       "[1] 0.3428926"
      ]
     },
     "metadata": {},
     "output_type": "display_data"
    },
    {
     "data": {
      "text/html": [
       "0.209198516462376"
      ],
      "text/latex": [
       "0.209198516462376"
      ],
      "text/markdown": [
       "0.209198516462376"
      ],
      "text/plain": [
       "[1] 0.2091985"
      ]
     },
     "metadata": {},
     "output_type": "display_data"
    },
    {
     "name": "stdout",
     "output_type": "stream",
     "text": [
      "[1] \"P-values from fisher-exact test for tables 1, 3, 4, 5, 6\"\n"
     ]
    },
    {
     "data": {
      "text/html": [
       "1"
      ],
      "text/latex": [
       "1"
      ],
      "text/markdown": [
       "1"
      ],
      "text/plain": [
       "[1] 1"
      ]
     },
     "metadata": {},
     "output_type": "display_data"
    },
    {
     "data": {
      "text/html": [
       "0.600153490418468"
      ],
      "text/latex": [
       "0.600153490418468"
      ],
      "text/markdown": [
       "0.600153490418468"
      ],
      "text/plain": [
       "[1] 0.6001535"
      ]
     },
     "metadata": {},
     "output_type": "display_data"
    },
    {
     "data": {
      "text/html": [
       "0.148289280841701"
      ],
      "text/latex": [
       "0.148289280841701"
      ],
      "text/markdown": [
       "0.148289280841701"
      ],
      "text/plain": [
       "[1] 0.1482893"
      ]
     },
     "metadata": {},
     "output_type": "display_data"
    },
    {
     "data": {
      "text/html": [
       "0.43424198099053"
      ],
      "text/latex": [
       "0.43424198099053"
      ],
      "text/markdown": [
       "0.43424198099053"
      ],
      "text/plain": [
       "[1] 0.434242"
      ]
     },
     "metadata": {},
     "output_type": "display_data"
    },
    {
     "data": {
      "text/html": [
       "0.265193568646282"
      ],
      "text/latex": [
       "0.265193568646282"
      ],
      "text/markdown": [
       "0.265193568646282"
      ],
      "text/plain": [
       "[1] 0.2651936"
      ]
     },
     "metadata": {},
     "output_type": "display_data"
    },
    {
     "name": "stdout",
     "output_type": "stream",
     "text": [
      "[1] \"Result: The p-values of the contigency tables are all above 0.05. Therefore, the null hypothesis that the bleeding event and gender are independent cannot be rejected at a significance level of 0.05.\"\n"
     ]
    }
   ],
   "source": [
    "table1 <- data.frame(\"Male\"=c(12,18),\"Female\"=c(5,7),row.names=c(\"Major\",\"Minor\"),stringsAsFactors = FALSE)\n",
    "table2 <- data.frame(\"Male\"=c(12,18,75),\"Female\"=c(5,7,53),row.names=c(\"Major\",\"Minor\",\"None\"),stringsAsFactors = FALSE)\n",
    "table3 <- data.frame(\"Male\"=c(12,93),\"Female\"=c(5,60),row.names=c(\"Major\",\"Minor + None\"),stringsAsFactors = FALSE)\n",
    "table4 <- data.frame(\"Male\"=c(30,75),\"Female\"=c(12,53),row.names=c(\"Bleeding\",\"None\"),stringsAsFactors = FALSE)\n",
    "table5 <- data.frame(\"Male\"=c(12,75),\"Female\"=c(5,53),row.names=c(\"Major\",\"None\"),stringsAsFactors = FALSE)\n",
    "table6 <- data.frame(\"Male\"=c(18,75),\"Female\"=c(7,53),row.names=c(\"Minor\",\"None\"),stringsAsFactors = FALSE)\n",
    "\n",
    "colnames(table1) <- c(\"Male\",\"Female\")\n",
    "colnames(table2) <- c(\"Male\",\"Female\")\n",
    "colnames(table3) <- c(\"Male\",\"Female\")\n",
    "colnames(table4) <- c(\"Male\",\"Female\")\n",
    "colnames(table5) <- c(\"Male\",\"Female\")\n",
    "colnames(table6) <- c(\"Male\",\"Female\")\n",
    "table1\n",
    "table2\n",
    "table3\n",
    "table4\n",
    "table5\n",
    "table6\n",
    "\n",
    "result1 <- chisq.test(x=table1, correct = FALSE)\n",
    "result2 <- chisq.test(x=table2, correct = FALSE)\n",
    "result3 <- chisq.test(x=table3, correct = FALSE)\n",
    "result4 <- chisq.test(x=table4, correct = FALSE)\n",
    "result5 <- chisq.test(x=table5, correct = FALSE)\n",
    "result6 <- chisq.test(x=table6, correct = FALSE)\n",
    "print(\"P-values from chi-square test:\")\n",
    "result1$p.value\n",
    "result2$p.value\n",
    "result3$p.value\n",
    "result4$p.value\n",
    "result5$p.value\n",
    "result6$p.value\n",
    "\n",
    "print(\"P-values from fisher-exact test for tables 1, 3, 4, 5, 6\")\n",
    "test1 <- fisher.test(table1)\n",
    "test3 <- fisher.test(table3)\n",
    "test4 <- fisher.test(table4)\n",
    "test5 <- fisher.test(table5)\n",
    "test6 <- fisher.test(table6)\n",
    "test1$p.value\n",
    "test3$p.value\n",
    "test4$p.value\n",
    "test5$p.value\n",
    "test6$p.value\n",
    "\n",
    "\n",
    "print(\"Result: The p-values of the contigency tables are all above 0.05. Therefore, the null hypothesis that the bleeding event and gender are independent cannot be rejected at a significance level of 0.05.\")"
   ]
  },
  {
   "cell_type": "markdown",
   "id": "fd436864",
   "metadata": {},
   "source": [
    "Objective: To investigate the risk of bleeding associated with cytogenetic factors in patients on ibrutinib.\n",
    "\n",
    "Evaluate 6 contigency tables: Table 1 compares (major, minor) bleeding vs. (Yes, No) cytogenetic factors. Table 2 compares (major, minor, none) bleeding vs. (Yes, No) cytogenetic factors. Table 3 compares (major, minor + none) bleeding vs. (Yes, No) cytogenetic factors. Table 4 compares (major + minor, none) bleeding vs. (Yes, No) cytogenetic factors. Table 5 compares (major, none) bleeding vs. (Yes, No) cytogenetic factors. Table 6 compares (minor, none) bleeding vs. (Yes, No) cytogenetic factors.\n",
    "\n",
    "The chi-square statistic is calculated for each 6 tables, then the p-value is calculated. The fisher exact test is also applied for tables 1, 3, 4, 5, 6 (since they are two by two), and the p-value is calculated."
   ]
  },
  {
   "cell_type": "code",
   "execution_count": 7,
   "id": "22870761",
   "metadata": {},
   "outputs": [
    {
     "data": {
      "text/html": [
       "<table>\n",
       "<thead><tr><th></th><th scope=col>Yes</th><th scope=col>No</th></tr></thead>\n",
       "<tbody>\n",
       "\t<tr><th scope=row>Major</th><td>5 </td><td> 7</td></tr>\n",
       "\t<tr><th scope=row>Minor</th><td>8 </td><td>16</td></tr>\n",
       "</tbody>\n",
       "</table>\n"
      ],
      "text/latex": [
       "\\begin{tabular}{r|ll}\n",
       "  & Yes & No\\\\\n",
       "\\hline\n",
       "\tMajor & 5  &  7\\\\\n",
       "\tMinor & 8  & 16\\\\\n",
       "\\end{tabular}\n"
      ],
      "text/markdown": [
       "\n",
       "| <!--/--> | Yes | No |\n",
       "|---|---|---|\n",
       "| Major | 5  |  7 |\n",
       "| Minor | 8  | 16 |\n",
       "\n"
      ],
      "text/plain": [
       "      Yes No\n",
       "Major 5    7\n",
       "Minor 8   16"
      ]
     },
     "metadata": {},
     "output_type": "display_data"
    },
    {
     "data": {
      "text/html": [
       "<table>\n",
       "<thead><tr><th></th><th scope=col>Yes</th><th scope=col>No</th></tr></thead>\n",
       "<tbody>\n",
       "\t<tr><th scope=row>Major</th><td> 5</td><td> 7</td></tr>\n",
       "\t<tr><th scope=row>Minor</th><td> 8</td><td>16</td></tr>\n",
       "\t<tr><th scope=row>None</th><td>58</td><td>55</td></tr>\n",
       "</tbody>\n",
       "</table>\n"
      ],
      "text/latex": [
       "\\begin{tabular}{r|ll}\n",
       "  & Yes & No\\\\\n",
       "\\hline\n",
       "\tMajor &  5 &  7\\\\\n",
       "\tMinor &  8 & 16\\\\\n",
       "\tNone & 58 & 55\\\\\n",
       "\\end{tabular}\n"
      ],
      "text/markdown": [
       "\n",
       "| <!--/--> | Yes | No |\n",
       "|---|---|---|\n",
       "| Major |  5 |  7 |\n",
       "| Minor |  8 | 16 |\n",
       "| None | 58 | 55 |\n",
       "\n"
      ],
      "text/plain": [
       "      Yes No\n",
       "Major  5   7\n",
       "Minor  8  16\n",
       "None  58  55"
      ]
     },
     "metadata": {},
     "output_type": "display_data"
    },
    {
     "data": {
      "text/html": [
       "<table>\n",
       "<thead><tr><th></th><th scope=col>Yes</th><th scope=col>No</th></tr></thead>\n",
       "<tbody>\n",
       "\t<tr><th scope=row>Major</th><td> 5</td><td> 7</td></tr>\n",
       "\t<tr><th scope=row>Minor + None</th><td>66</td><td>71</td></tr>\n",
       "</tbody>\n",
       "</table>\n"
      ],
      "text/latex": [
       "\\begin{tabular}{r|ll}\n",
       "  & Yes & No\\\\\n",
       "\\hline\n",
       "\tMajor &  5 &  7\\\\\n",
       "\tMinor + None & 66 & 71\\\\\n",
       "\\end{tabular}\n"
      ],
      "text/markdown": [
       "\n",
       "| <!--/--> | Yes | No |\n",
       "|---|---|---|\n",
       "| Major |  5 |  7 |\n",
       "| Minor + None | 66 | 71 |\n",
       "\n"
      ],
      "text/plain": [
       "             Yes No\n",
       "Major         5   7\n",
       "Minor + None 66  71"
      ]
     },
     "metadata": {},
     "output_type": "display_data"
    },
    {
     "data": {
      "text/html": [
       "<table>\n",
       "<thead><tr><th></th><th scope=col>Yes</th><th scope=col>No</th></tr></thead>\n",
       "<tbody>\n",
       "\t<tr><th scope=row>Bleeding</th><td>13</td><td>23</td></tr>\n",
       "\t<tr><th scope=row>None</th><td>58</td><td>55</td></tr>\n",
       "</tbody>\n",
       "</table>\n"
      ],
      "text/latex": [
       "\\begin{tabular}{r|ll}\n",
       "  & Yes & No\\\\\n",
       "\\hline\n",
       "\tBleeding & 13 & 23\\\\\n",
       "\tNone & 58 & 55\\\\\n",
       "\\end{tabular}\n"
      ],
      "text/markdown": [
       "\n",
       "| <!--/--> | Yes | No |\n",
       "|---|---|---|\n",
       "| Bleeding | 13 | 23 |\n",
       "| None | 58 | 55 |\n",
       "\n"
      ],
      "text/plain": [
       "         Yes No\n",
       "Bleeding 13  23\n",
       "None     58  55"
      ]
     },
     "metadata": {},
     "output_type": "display_data"
    },
    {
     "data": {
      "text/html": [
       "<table>\n",
       "<thead><tr><th></th><th scope=col>Yes</th><th scope=col>No</th></tr></thead>\n",
       "<tbody>\n",
       "\t<tr><th scope=row>Major</th><td> 5</td><td> 7</td></tr>\n",
       "\t<tr><th scope=row>None</th><td>58</td><td>55</td></tr>\n",
       "</tbody>\n",
       "</table>\n"
      ],
      "text/latex": [
       "\\begin{tabular}{r|ll}\n",
       "  & Yes & No\\\\\n",
       "\\hline\n",
       "\tMajor &  5 &  7\\\\\n",
       "\tNone & 58 & 55\\\\\n",
       "\\end{tabular}\n"
      ],
      "text/markdown": [
       "\n",
       "| <!--/--> | Yes | No |\n",
       "|---|---|---|\n",
       "| Major |  5 |  7 |\n",
       "| None | 58 | 55 |\n",
       "\n"
      ],
      "text/plain": [
       "      Yes No\n",
       "Major  5   7\n",
       "None  58  55"
      ]
     },
     "metadata": {},
     "output_type": "display_data"
    },
    {
     "data": {
      "text/html": [
       "<table>\n",
       "<thead><tr><th></th><th scope=col>Yes</th><th scope=col>No</th></tr></thead>\n",
       "<tbody>\n",
       "\t<tr><th scope=row>Minor</th><td> 8</td><td>16</td></tr>\n",
       "\t<tr><th scope=row>None</th><td>58</td><td>55</td></tr>\n",
       "</tbody>\n",
       "</table>\n"
      ],
      "text/latex": [
       "\\begin{tabular}{r|ll}\n",
       "  & Yes & No\\\\\n",
       "\\hline\n",
       "\tMinor &  8 & 16\\\\\n",
       "\tNone & 58 & 55\\\\\n",
       "\\end{tabular}\n"
      ],
      "text/markdown": [
       "\n",
       "| <!--/--> | Yes | No |\n",
       "|---|---|---|\n",
       "| Minor |  8 | 16 |\n",
       "| None | 58 | 55 |\n",
       "\n"
      ],
      "text/plain": [
       "      Yes No\n",
       "Minor  8  16\n",
       "None  58  55"
      ]
     },
     "metadata": {},
     "output_type": "display_data"
    },
    {
     "name": "stderr",
     "output_type": "stream",
     "text": [
      "Warning message in chisq.test(x = table1, correct = FALSE):\n",
      "“Chi-squared approximation may be incorrect”"
     ]
    },
    {
     "name": "stdout",
     "output_type": "stream",
     "text": [
      "[1] \"P-values from chi-square test:\"\n"
     ]
    },
    {
     "data": {
      "text/html": [
       "0.623626980355686"
      ],
      "text/latex": [
       "0.623626980355686"
      ],
      "text/markdown": [
       "0.623626980355686"
      ],
      "text/plain": [
       "[1] 0.623627"
      ]
     },
     "metadata": {},
     "output_type": "display_data"
    },
    {
     "data": {
      "text/html": [
       "0.251972371316305"
      ],
      "text/latex": [
       "0.251972371316305"
      ],
      "text/markdown": [
       "0.251972371316305"
      ],
      "text/plain": [
       "[1] 0.2519724"
      ]
     },
     "metadata": {},
     "output_type": "display_data"
    },
    {
     "data": {
      "text/html": [
       "0.665114978775815"
      ],
      "text/latex": [
       "0.665114978775815"
      ],
      "text/markdown": [
       "0.665114978775815"
      ],
      "text/plain": [
       "[1] 0.665115"
      ]
     },
     "metadata": {},
     "output_type": "display_data"
    },
    {
     "data": {
      "text/html": [
       "0.111406308460901"
      ],
      "text/latex": [
       "0.111406308460901"
      ],
      "text/markdown": [
       "0.111406308460901"
      ],
      "text/plain": [
       "[1] 0.1114063"
      ]
     },
     "metadata": {},
     "output_type": "display_data"
    },
    {
     "data": {
      "text/html": [
       "0.524515581483171"
      ],
      "text/latex": [
       "0.524515581483171"
      ],
      "text/markdown": [
       "0.524515581483171"
      ],
      "text/plain": [
       "[1] 0.5245156"
      ]
     },
     "metadata": {},
     "output_type": "display_data"
    },
    {
     "data": {
      "text/html": [
       "0.109097205455547"
      ],
      "text/latex": [
       "0.109097205455547"
      ],
      "text/markdown": [
       "0.109097205455547"
      ],
      "text/plain": [
       "[1] 0.1090972"
      ]
     },
     "metadata": {},
     "output_type": "display_data"
    },
    {
     "name": "stdout",
     "output_type": "stream",
     "text": [
      "[1] \"P-values from fisher-exact test for tables 1, 3, 4, 5, 6\"\n"
     ]
    },
    {
     "data": {
      "text/html": [
       "0.719916309126543"
      ],
      "text/latex": [
       "0.719916309126543"
      ],
      "text/markdown": [
       "0.719916309126543"
      ],
      "text/plain": [
       "[1] 0.7199163"
      ]
     },
     "metadata": {},
     "output_type": "display_data"
    },
    {
     "data": {
      "text/html": [
       "0.768097313647307"
      ],
      "text/latex": [
       "0.768097313647307"
      ],
      "text/markdown": [
       "0.768097313647307"
      ],
      "text/plain": [
       "[1] 0.7680973"
      ]
     },
     "metadata": {},
     "output_type": "display_data"
    },
    {
     "data": {
      "text/html": [
       "0.128032714981271"
      ],
      "text/latex": [
       "0.128032714981271"
      ],
      "text/markdown": [
       "0.128032714981271"
      ],
      "text/plain": [
       "[1] 0.1280327"
      ]
     },
     "metadata": {},
     "output_type": "display_data"
    },
    {
     "data": {
      "text/html": [
       "0.55964849921459"
      ],
      "text/latex": [
       "0.55964849921459"
      ],
      "text/markdown": [
       "0.55964849921459"
      ],
      "text/plain": [
       "[1] 0.5596485"
      ]
     },
     "metadata": {},
     "output_type": "display_data"
    },
    {
     "data": {
      "text/html": [
       "0.121347455182011"
      ],
      "text/latex": [
       "0.121347455182011"
      ],
      "text/markdown": [
       "0.121347455182011"
      ],
      "text/plain": [
       "[1] 0.1213475"
      ]
     },
     "metadata": {},
     "output_type": "display_data"
    },
    {
     "name": "stdout",
     "output_type": "stream",
     "text": [
      "[1] \"Result: The p-values of the contigency tables are all above 0.05. Therefore, the null hypothesis that the bleeding event and cytogenetic factors are independent cannot be rejected at a significance level of 0.05.\"\n"
     ]
    }
   ],
   "source": [
    "table1 <- data.frame(\"Yes\"=c(5,8),\"No\"=c(7,16),row.names=c(\"Major\",\"Minor\"),stringsAsFactors = FALSE)\n",
    "table2 <- data.frame(\"Yes\"=c(5,8,58),\"No\"=c(7,16,55),row.names=c(\"Major\",\"Minor\",\"None\"),stringsAsFactors = FALSE)\n",
    "table3 <- data.frame(\"Yes\"=c(5,66),\"No\"=c(7,71),row.names=c(\"Major\",\"Minor + None\"),stringsAsFactors = FALSE)\n",
    "table4 <- data.frame(\"Yes\"=c(13,58),\"No\"=c(23,55),row.names=c(\"Bleeding\",\"None\"),stringsAsFactors = FALSE)\n",
    "table5 <- data.frame(\"Yes\"=c(5,58),\"No\"=c(7,55),row.names=c(\"Major\",\"None\"),stringsAsFactors = FALSE)\n",
    "table6 <- data.frame(\"Yes\"=c(8,58),\"No\"=c(16,55),row.names=c(\"Minor\",\"None\"),stringsAsFactors = FALSE)\n",
    "\n",
    "colnames(table1) <- c(\"Yes\",\"No\")\n",
    "colnames(table2) <- c(\"Yes\",\"No\")\n",
    "colnames(table3) <- c(\"Yes\",\"No\")\n",
    "colnames(table4) <- c(\"Yes\",\"No\")\n",
    "colnames(table5) <- c(\"Yes\",\"No\")\n",
    "colnames(table6) <- c(\"Yes\",\"No\")\n",
    "table1\n",
    "table2\n",
    "table3\n",
    "table4\n",
    "table5\n",
    "table6\n",
    "\n",
    "result1 <- chisq.test(x=table1, correct = FALSE)\n",
    "result2 <- chisq.test(x=table2, correct = FALSE)\n",
    "result3 <- chisq.test(x=table3, correct = FALSE)\n",
    "result4 <- chisq.test(x=table4, correct = FALSE)\n",
    "result5 <- chisq.test(x=table5, correct = FALSE)\n",
    "result6 <- chisq.test(x=table6, correct = FALSE)\n",
    "print(\"P-values from chi-square test:\")\n",
    "result1$p.value\n",
    "result2$p.value\n",
    "result3$p.value\n",
    "result4$p.value\n",
    "result5$p.value\n",
    "result6$p.value\n",
    "\n",
    "print(\"P-values from fisher-exact test for tables 1, 3, 4, 5, 6\")\n",
    "test1 <- fisher.test(table1)\n",
    "test3 <- fisher.test(table3)\n",
    "test4 <- fisher.test(table4)\n",
    "test5 <- fisher.test(table5)\n",
    "test6 <- fisher.test(table6)\n",
    "test1$p.value\n",
    "test3$p.value\n",
    "test4$p.value\n",
    "test5$p.value\n",
    "test6$p.value\n",
    "\n",
    "\n",
    "print(\"Result: The p-values of the contigency tables are all above 0.05. Therefore, the null hypothesis that the bleeding event and cytogenetic factors are independent cannot be rejected at a significance level of 0.05.\")"
   ]
  },
  {
   "cell_type": "markdown",
   "id": "4f5b977f",
   "metadata": {},
   "source": [
    "Objective: To investigate the risk of bleeding associated with anemia (Hb < 110) in patients on ibrutinib.\n",
    "\n",
    "Evaluate 6 contigency tables: Table 1 compares (major, minor) bleeding vs. (Yes, No) anemia. Table 2 compares (major, minor, none) bleeding vs. (Yes, No) anemia. Table 3 compares (major, minor + none) bleeding vs. (Yes, No) anemia. Table 4 compares (major+minor, none) bleeding vs. (Yes, No) anemia. Table 5 compares (major, none) bleeding vs. (Yes, No) anemia. Table 6 compares (minor, none) bleeding vs. (Yes, No) anemia.\n",
    "\n",
    "The chi-square statistic is calculated for each 6 tables, then the p-value is calculated. The fisher exact test is also applied for tables 1, 3, 4, 5, 6 (since they are two by two), and the p-value is calculated."
   ]
  },
  {
   "cell_type": "code",
   "execution_count": 8,
   "id": "fbdf3122",
   "metadata": {},
   "outputs": [
    {
     "data": {
      "text/html": [
       "<table>\n",
       "<thead><tr><th></th><th scope=col>Yes</th><th scope=col>No</th></tr></thead>\n",
       "<tbody>\n",
       "\t<tr><th scope=row>Major</th><td>14</td><td>3 </td></tr>\n",
       "\t<tr><th scope=row>Minor</th><td>17</td><td>8 </td></tr>\n",
       "</tbody>\n",
       "</table>\n"
      ],
      "text/latex": [
       "\\begin{tabular}{r|ll}\n",
       "  & Yes & No\\\\\n",
       "\\hline\n",
       "\tMajor & 14 & 3 \\\\\n",
       "\tMinor & 17 & 8 \\\\\n",
       "\\end{tabular}\n"
      ],
      "text/markdown": [
       "\n",
       "| <!--/--> | Yes | No |\n",
       "|---|---|---|\n",
       "| Major | 14 | 3  |\n",
       "| Minor | 17 | 8  |\n",
       "\n"
      ],
      "text/plain": [
       "      Yes No\n",
       "Major 14  3 \n",
       "Minor 17  8 "
      ]
     },
     "metadata": {},
     "output_type": "display_data"
    },
    {
     "data": {
      "text/html": [
       "<table>\n",
       "<thead><tr><th></th><th scope=col>Yes</th><th scope=col>No</th></tr></thead>\n",
       "<tbody>\n",
       "\t<tr><th scope=row>Major</th><td>14</td><td> 3</td></tr>\n",
       "\t<tr><th scope=row>Minor</th><td>17</td><td> 8</td></tr>\n",
       "\t<tr><th scope=row>None</th><td>74</td><td>54</td></tr>\n",
       "</tbody>\n",
       "</table>\n"
      ],
      "text/latex": [
       "\\begin{tabular}{r|ll}\n",
       "  & Yes & No\\\\\n",
       "\\hline\n",
       "\tMajor & 14 &  3\\\\\n",
       "\tMinor & 17 &  8\\\\\n",
       "\tNone & 74 & 54\\\\\n",
       "\\end{tabular}\n"
      ],
      "text/markdown": [
       "\n",
       "| <!--/--> | Yes | No |\n",
       "|---|---|---|\n",
       "| Major | 14 |  3 |\n",
       "| Minor | 17 |  8 |\n",
       "| None | 74 | 54 |\n",
       "\n"
      ],
      "text/plain": [
       "      Yes No\n",
       "Major 14   3\n",
       "Minor 17   8\n",
       "None  74  54"
      ]
     },
     "metadata": {},
     "output_type": "display_data"
    },
    {
     "data": {
      "text/html": [
       "<table>\n",
       "<thead><tr><th></th><th scope=col>Yes</th><th scope=col>No</th></tr></thead>\n",
       "<tbody>\n",
       "\t<tr><th scope=row>Major</th><td>14</td><td> 3</td></tr>\n",
       "\t<tr><th scope=row>Minor + None</th><td>91</td><td>62</td></tr>\n",
       "</tbody>\n",
       "</table>\n"
      ],
      "text/latex": [
       "\\begin{tabular}{r|ll}\n",
       "  & Yes & No\\\\\n",
       "\\hline\n",
       "\tMajor & 14 &  3\\\\\n",
       "\tMinor + None & 91 & 62\\\\\n",
       "\\end{tabular}\n"
      ],
      "text/markdown": [
       "\n",
       "| <!--/--> | Yes | No |\n",
       "|---|---|---|\n",
       "| Major | 14 |  3 |\n",
       "| Minor + None | 91 | 62 |\n",
       "\n"
      ],
      "text/plain": [
       "             Yes No\n",
       "Major        14   3\n",
       "Minor + None 91  62"
      ]
     },
     "metadata": {},
     "output_type": "display_data"
    },
    {
     "data": {
      "text/html": [
       "<table>\n",
       "<thead><tr><th></th><th scope=col>Yes</th><th scope=col>No</th></tr></thead>\n",
       "<tbody>\n",
       "\t<tr><th scope=row>Bleeding</th><td>31</td><td>11</td></tr>\n",
       "\t<tr><th scope=row>None</th><td>74</td><td>54</td></tr>\n",
       "</tbody>\n",
       "</table>\n"
      ],
      "text/latex": [
       "\\begin{tabular}{r|ll}\n",
       "  & Yes & No\\\\\n",
       "\\hline\n",
       "\tBleeding & 31 & 11\\\\\n",
       "\tNone & 74 & 54\\\\\n",
       "\\end{tabular}\n"
      ],
      "text/markdown": [
       "\n",
       "| <!--/--> | Yes | No |\n",
       "|---|---|---|\n",
       "| Bleeding | 31 | 11 |\n",
       "| None | 74 | 54 |\n",
       "\n"
      ],
      "text/plain": [
       "         Yes No\n",
       "Bleeding 31  11\n",
       "None     74  54"
      ]
     },
     "metadata": {},
     "output_type": "display_data"
    },
    {
     "data": {
      "text/html": [
       "<table>\n",
       "<thead><tr><th></th><th scope=col>Yes</th><th scope=col>No</th></tr></thead>\n",
       "<tbody>\n",
       "\t<tr><th scope=row>Major</th><td>14</td><td> 3</td></tr>\n",
       "\t<tr><th scope=row>None</th><td>74</td><td>54</td></tr>\n",
       "</tbody>\n",
       "</table>\n"
      ],
      "text/latex": [
       "\\begin{tabular}{r|ll}\n",
       "  & Yes & No\\\\\n",
       "\\hline\n",
       "\tMajor & 14 &  3\\\\\n",
       "\tNone & 74 & 54\\\\\n",
       "\\end{tabular}\n"
      ],
      "text/markdown": [
       "\n",
       "| <!--/--> | Yes | No |\n",
       "|---|---|---|\n",
       "| Major | 14 |  3 |\n",
       "| None | 74 | 54 |\n",
       "\n"
      ],
      "text/plain": [
       "      Yes No\n",
       "Major 14   3\n",
       "None  74  54"
      ]
     },
     "metadata": {},
     "output_type": "display_data"
    },
    {
     "data": {
      "text/html": [
       "<table>\n",
       "<thead><tr><th></th><th scope=col>Yes</th><th scope=col>No</th></tr></thead>\n",
       "<tbody>\n",
       "\t<tr><th scope=row>Minor</th><td>17</td><td> 8</td></tr>\n",
       "\t<tr><th scope=row>None</th><td>74</td><td>54</td></tr>\n",
       "</tbody>\n",
       "</table>\n"
      ],
      "text/latex": [
       "\\begin{tabular}{r|ll}\n",
       "  & Yes & No\\\\\n",
       "\\hline\n",
       "\tMinor & 17 &  8\\\\\n",
       "\tNone & 74 & 54\\\\\n",
       "\\end{tabular}\n"
      ],
      "text/markdown": [
       "\n",
       "| <!--/--> | Yes | No |\n",
       "|---|---|---|\n",
       "| Minor | 17 |  8 |\n",
       "| None | 74 | 54 |\n",
       "\n"
      ],
      "text/plain": [
       "      Yes No\n",
       "Minor 17   8\n",
       "None  74  54"
      ]
     },
     "metadata": {},
     "output_type": "display_data"
    },
    {
     "name": "stderr",
     "output_type": "stream",
     "text": [
      "Warning message in chisq.test(x = table1, correct = FALSE):\n",
      "“Chi-squared approximation may be incorrect”"
     ]
    },
    {
     "name": "stdout",
     "output_type": "stream",
     "text": [
      "[1] \"P-values from chi-square test:\"\n"
     ]
    },
    {
     "data": {
      "text/html": [
       "0.299063678384153"
      ],
      "text/latex": [
       "0.299063678384153"
      ],
      "text/markdown": [
       "0.299063678384153"
      ],
      "text/plain": [
       "[1] 0.2990637"
      ]
     },
     "metadata": {},
     "output_type": "display_data"
    },
    {
     "data": {
      "text/html": [
       "0.115933974851702"
      ],
      "text/latex": [
       "0.115933974851702"
      ],
      "text/markdown": [
       "0.115933974851702"
      ],
      "text/plain": [
       "[1] 0.115934"
      ]
     },
     "metadata": {},
     "output_type": "display_data"
    },
    {
     "data": {
      "text/html": [
       "0.0655804832817572"
      ],
      "text/latex": [
       "0.0655804832817572"
      ],
      "text/markdown": [
       "0.0655804832817572"
      ],
      "text/plain": [
       "[1] 0.06558048"
      ]
     },
     "metadata": {},
     "output_type": "display_data"
    },
    {
     "data": {
      "text/html": [
       "0.0641477665296156"
      ],
      "text/latex": [
       "0.0641477665296156"
      ],
      "text/markdown": [
       "0.0641477665296156"
      ],
      "text/plain": [
       "[1] 0.06414777"
      ]
     },
     "metadata": {},
     "output_type": "display_data"
    },
    {
     "data": {
      "text/html": [
       "0.0516148044399407"
      ],
      "text/latex": [
       "0.0516148044399407"
      ],
      "text/markdown": [
       "0.0516148044399407"
      ],
      "text/plain": [
       "[1] 0.0516148"
      ]
     },
     "metadata": {},
     "output_type": "display_data"
    },
    {
     "data": {
      "text/html": [
       "0.342614418427312"
      ],
      "text/latex": [
       "0.342614418427312"
      ],
      "text/markdown": [
       "0.342614418427312"
      ],
      "text/plain": [
       "[1] 0.3426144"
      ]
     },
     "metadata": {},
     "output_type": "display_data"
    },
    {
     "name": "stdout",
     "output_type": "stream",
     "text": [
      "[1] \"P-values from fisher-exact test for tables 1, 3, 4, 5, 6\"\n"
     ]
    },
    {
     "data": {
      "text/html": [
       "0.476713308548995"
      ],
      "text/latex": [
       "0.476713308548995"
      ],
      "text/markdown": [
       "0.476713308548995"
      ],
      "text/plain": [
       "[1] 0.4767133"
      ]
     },
     "metadata": {},
     "output_type": "display_data"
    },
    {
     "data": {
      "text/html": [
       "0.0718385107834936"
      ],
      "text/latex": [
       "0.0718385107834936"
      ],
      "text/markdown": [
       "0.0718385107834936"
      ],
      "text/plain": [
       "[1] 0.07183851"
      ]
     },
     "metadata": {},
     "output_type": "display_data"
    },
    {
     "data": {
      "text/html": [
       "0.0699231172084301"
      ],
      "text/latex": [
       "0.0699231172084301"
      ],
      "text/markdown": [
       "0.0699231172084301"
      ],
      "text/plain": [
       "[1] 0.06992312"
      ]
     },
     "metadata": {},
     "output_type": "display_data"
    },
    {
     "data": {
      "text/html": [
       "0.0651126818011714"
      ],
      "text/latex": [
       "0.0651126818011714"
      ],
      "text/markdown": [
       "0.0651126818011714"
      ],
      "text/plain": [
       "[1] 0.06511268"
      ]
     },
     "metadata": {},
     "output_type": "display_data"
    },
    {
     "data": {
      "text/html": [
       "0.381369564036993"
      ],
      "text/latex": [
       "0.381369564036993"
      ],
      "text/markdown": [
       "0.381369564036993"
      ],
      "text/plain": [
       "[1] 0.3813696"
      ]
     },
     "metadata": {},
     "output_type": "display_data"
    },
    {
     "name": "stdout",
     "output_type": "stream",
     "text": [
      "[1] \"Result: The p-values of the contigency tables are all above 0.05. Therefore, the null hypothesis that the bleeding event and anemia are independent cannot be rejected at a significance level of 0.05.\"\n"
     ]
    }
   ],
   "source": [
    "table1 <- data.frame(\"Yes\"=c(14,17),\"No\"=c(3,8),row.names=c(\"Major\",\"Minor\"),stringsAsFactors = FALSE)\n",
    "table2 <- data.frame(\"Yes\"=c(14,17,74),\"No\"=c(3,8,54),row.names=c(\"Major\",\"Minor\",\"None\"),stringsAsFactors = FALSE)\n",
    "table3 <- data.frame(\"Yes\"=c(14,91),\"No\"=c(3,62),row.names=c(\"Major\",\"Minor + None\"),stringsAsFactors = FALSE)\n",
    "table4 <- data.frame(\"Yes\"=c(31,74),\"No\"=c(11,54),row.names=c(\"Bleeding\",\"None\"),stringsAsFactors = FALSE)\n",
    "table5 <- data.frame(\"Yes\"=c(14,74),\"No\"=c(3,54),row.names=c(\"Major\",\"None\"),stringsAsFactors = FALSE)\n",
    "table6 <- data.frame(\"Yes\"=c(17,74),\"No\"=c(8,54),row.names=c(\"Minor\",\"None\"),stringsAsFactors = FALSE)\n",
    "\n",
    "colnames(table1) <- c(\"Yes\",\"No\")\n",
    "colnames(table2) <- c(\"Yes\",\"No\")\n",
    "colnames(table3) <- c(\"Yes\",\"No\")\n",
    "colnames(table4) <- c(\"Yes\",\"No\")\n",
    "colnames(table5) <- c(\"Yes\",\"No\")\n",
    "colnames(table6) <- c(\"Yes\",\"No\")\n",
    "table1\n",
    "table2\n",
    "table3\n",
    "table4\n",
    "table5\n",
    "table6\n",
    "\n",
    "result1 <- chisq.test(x=table1, correct = FALSE)\n",
    "result2 <- chisq.test(x=table2, correct = FALSE)\n",
    "result3 <- chisq.test(x=table3, correct = FALSE)\n",
    "result4 <- chisq.test(x=table4, correct = FALSE)\n",
    "result5 <- chisq.test(x=table5, correct = FALSE)\n",
    "result6 <- chisq.test(x=table6, correct = FALSE)\n",
    "print(\"P-values from chi-square test:\")\n",
    "result1$p.value\n",
    "result2$p.value\n",
    "result3$p.value\n",
    "result4$p.value\n",
    "result5$p.value\n",
    "result6$p.value\n",
    "\n",
    "print(\"P-values from fisher-exact test for tables 1, 3, 4, 5, 6\")\n",
    "test1 <- fisher.test(table1)\n",
    "test3 <- fisher.test(table3)\n",
    "test4 <- fisher.test(table4)\n",
    "test5 <- fisher.test(table5)\n",
    "test6 <- fisher.test(table6)\n",
    "test1$p.value\n",
    "test3$p.value\n",
    "test4$p.value\n",
    "test5$p.value\n",
    "test6$p.value\n",
    "\n",
    "\n",
    "print(\"Result: The p-values of the contigency tables are all above 0.05. Therefore, the null hypothesis that the bleeding event and anemia are independent cannot be rejected at a significance level of 0.05.\")"
   ]
  },
  {
   "cell_type": "markdown",
   "id": "ae5ed26c",
   "metadata": {},
   "source": [
    "Objective: To investigate the risk of bleeding associated with anemia (Hb < 100) in patients on ibrutinib.\n",
    "\n",
    "Evaluate 6 contigency tables: Table 1 compares (major, minor) bleeding vs. (Yes, No) anemia. Table 2 compares (major, minor, none) bleeding vs. (Yes, No) anemia. Table 3 compares (major, minor + none) bleeding vs. (Yes, No) anemia. Table 4 compares (major+minor, none) bleeding vs. (Yes, No) anemia. Table 5 compares (major, none) bleeding vs. (Yes, No) anemia. Table 6 compares (minor, none) bleeding vs. (Yes, No) anemia.\n",
    "\n",
    "The chi-square statistic is calculated for each 6 tables, then the p-value is calculated. The fisher exact test is also applied for tables 1, 3, 4, 5, 6 (since they are two by two), and the p-value is calculated."
   ]
  },
  {
   "cell_type": "code",
   "execution_count": 9,
   "id": "c837f6a9",
   "metadata": {},
   "outputs": [
    {
     "data": {
      "text/html": [
       "<table>\n",
       "<thead><tr><th></th><th scope=col>Yes</th><th scope=col>No</th></tr></thead>\n",
       "<tbody>\n",
       "\t<tr><th scope=row>Major</th><td>12</td><td> 5</td></tr>\n",
       "\t<tr><th scope=row>Minor</th><td>13</td><td>12</td></tr>\n",
       "</tbody>\n",
       "</table>\n"
      ],
      "text/latex": [
       "\\begin{tabular}{r|ll}\n",
       "  & Yes & No\\\\\n",
       "\\hline\n",
       "\tMajor & 12 &  5\\\\\n",
       "\tMinor & 13 & 12\\\\\n",
       "\\end{tabular}\n"
      ],
      "text/markdown": [
       "\n",
       "| <!--/--> | Yes | No |\n",
       "|---|---|---|\n",
       "| Major | 12 |  5 |\n",
       "| Minor | 13 | 12 |\n",
       "\n"
      ],
      "text/plain": [
       "      Yes No\n",
       "Major 12   5\n",
       "Minor 13  12"
      ]
     },
     "metadata": {},
     "output_type": "display_data"
    },
    {
     "data": {
      "text/html": [
       "<table>\n",
       "<thead><tr><th></th><th scope=col>Yes</th><th scope=col>No</th></tr></thead>\n",
       "<tbody>\n",
       "\t<tr><th scope=row>Major</th><td>12</td><td> 5</td></tr>\n",
       "\t<tr><th scope=row>Minor</th><td>13</td><td>12</td></tr>\n",
       "\t<tr><th scope=row>None</th><td>54</td><td>74</td></tr>\n",
       "</tbody>\n",
       "</table>\n"
      ],
      "text/latex": [
       "\\begin{tabular}{r|ll}\n",
       "  & Yes & No\\\\\n",
       "\\hline\n",
       "\tMajor & 12 &  5\\\\\n",
       "\tMinor & 13 & 12\\\\\n",
       "\tNone & 54 & 74\\\\\n",
       "\\end{tabular}\n"
      ],
      "text/markdown": [
       "\n",
       "| <!--/--> | Yes | No |\n",
       "|---|---|---|\n",
       "| Major | 12 |  5 |\n",
       "| Minor | 13 | 12 |\n",
       "| None | 54 | 74 |\n",
       "\n"
      ],
      "text/plain": [
       "      Yes No\n",
       "Major 12   5\n",
       "Minor 13  12\n",
       "None  54  74"
      ]
     },
     "metadata": {},
     "output_type": "display_data"
    },
    {
     "data": {
      "text/html": [
       "<table>\n",
       "<thead><tr><th></th><th scope=col>Yes</th><th scope=col>No</th></tr></thead>\n",
       "<tbody>\n",
       "\t<tr><th scope=row>Major</th><td>12</td><td> 5</td></tr>\n",
       "\t<tr><th scope=row>Minor + None</th><td>67</td><td>86</td></tr>\n",
       "</tbody>\n",
       "</table>\n"
      ],
      "text/latex": [
       "\\begin{tabular}{r|ll}\n",
       "  & Yes & No\\\\\n",
       "\\hline\n",
       "\tMajor & 12 &  5\\\\\n",
       "\tMinor + None & 67 & 86\\\\\n",
       "\\end{tabular}\n"
      ],
      "text/markdown": [
       "\n",
       "| <!--/--> | Yes | No |\n",
       "|---|---|---|\n",
       "| Major | 12 |  5 |\n",
       "| Minor + None | 67 | 86 |\n",
       "\n"
      ],
      "text/plain": [
       "             Yes No\n",
       "Major        12   5\n",
       "Minor + None 67  86"
      ]
     },
     "metadata": {},
     "output_type": "display_data"
    },
    {
     "data": {
      "text/html": [
       "<table>\n",
       "<thead><tr><th></th><th scope=col>Yes</th><th scope=col>No</th></tr></thead>\n",
       "<tbody>\n",
       "\t<tr><th scope=row>Bleeding</th><td>25</td><td>17</td></tr>\n",
       "\t<tr><th scope=row>None</th><td>54</td><td>74</td></tr>\n",
       "</tbody>\n",
       "</table>\n"
      ],
      "text/latex": [
       "\\begin{tabular}{r|ll}\n",
       "  & Yes & No\\\\\n",
       "\\hline\n",
       "\tBleeding & 25 & 17\\\\\n",
       "\tNone & 54 & 74\\\\\n",
       "\\end{tabular}\n"
      ],
      "text/markdown": [
       "\n",
       "| <!--/--> | Yes | No |\n",
       "|---|---|---|\n",
       "| Bleeding | 25 | 17 |\n",
       "| None | 54 | 74 |\n",
       "\n"
      ],
      "text/plain": [
       "         Yes No\n",
       "Bleeding 25  17\n",
       "None     54  74"
      ]
     },
     "metadata": {},
     "output_type": "display_data"
    },
    {
     "data": {
      "text/html": [
       "<table>\n",
       "<thead><tr><th></th><th scope=col>Yes</th><th scope=col>No</th></tr></thead>\n",
       "<tbody>\n",
       "\t<tr><th scope=row>Major</th><td>12</td><td> 5</td></tr>\n",
       "\t<tr><th scope=row>None</th><td>54</td><td>74</td></tr>\n",
       "</tbody>\n",
       "</table>\n"
      ],
      "text/latex": [
       "\\begin{tabular}{r|ll}\n",
       "  & Yes & No\\\\\n",
       "\\hline\n",
       "\tMajor & 12 &  5\\\\\n",
       "\tNone & 54 & 74\\\\\n",
       "\\end{tabular}\n"
      ],
      "text/markdown": [
       "\n",
       "| <!--/--> | Yes | No |\n",
       "|---|---|---|\n",
       "| Major | 12 |  5 |\n",
       "| None | 54 | 74 |\n",
       "\n"
      ],
      "text/plain": [
       "      Yes No\n",
       "Major 12   5\n",
       "None  54  74"
      ]
     },
     "metadata": {},
     "output_type": "display_data"
    },
    {
     "data": {
      "text/html": [
       "<table>\n",
       "<thead><tr><th></th><th scope=col>Yes</th><th scope=col>No</th></tr></thead>\n",
       "<tbody>\n",
       "\t<tr><th scope=row>Minor</th><td>13</td><td>12</td></tr>\n",
       "\t<tr><th scope=row>None</th><td>54</td><td>74</td></tr>\n",
       "</tbody>\n",
       "</table>\n"
      ],
      "text/latex": [
       "\\begin{tabular}{r|ll}\n",
       "  & Yes & No\\\\\n",
       "\\hline\n",
       "\tMinor & 13 & 12\\\\\n",
       "\tNone & 54 & 74\\\\\n",
       "\\end{tabular}\n"
      ],
      "text/markdown": [
       "\n",
       "| <!--/--> | Yes | No |\n",
       "|---|---|---|\n",
       "| Minor | 13 | 12 |\n",
       "| None | 54 | 74 |\n",
       "\n"
      ],
      "text/plain": [
       "      Yes No\n",
       "Minor 13  12\n",
       "None  54  74"
      ]
     },
     "metadata": {},
     "output_type": "display_data"
    },
    {
     "name": "stdout",
     "output_type": "stream",
     "text": [
      "[1] \"P-values from chi-square test:\"\n"
     ]
    },
    {
     "data": {
      "text/html": [
       "0.228336387392873"
      ],
      "text/latex": [
       "0.228336387392873"
      ],
      "text/markdown": [
       "0.228336387392873"
      ],
      "text/plain": [
       "[1] 0.2283364"
      ]
     },
     "metadata": {},
     "output_type": "display_data"
    },
    {
     "data": {
      "text/html": [
       "0.0733019779059392"
      ],
      "text/latex": [
       "0.0733019779059392"
      ],
      "text/markdown": [
       "0.0733019779059392"
      ],
      "text/plain": [
       "[1] 0.07330198"
      ]
     },
     "metadata": {},
     "output_type": "display_data"
    },
    {
     "data": {
      "text/html": [
       "0.0355871584702881"
      ],
      "text/latex": [
       "0.0355871584702881"
      ],
      "text/markdown": [
       "0.0355871584702881"
      ],
      "text/plain": [
       "[1] 0.03558716"
      ]
     },
     "metadata": {},
     "output_type": "display_data"
    },
    {
     "data": {
      "text/html": [
       "0.0506204099683506"
      ],
      "text/latex": [
       "0.0506204099683506"
      ],
      "text/markdown": [
       "0.0506204099683506"
      ],
      "text/plain": [
       "[1] 0.05062041"
      ]
     },
     "metadata": {},
     "output_type": "display_data"
    },
    {
     "data": {
      "text/html": [
       "0.027152782389483"
      ],
      "text/latex": [
       "0.027152782389483"
      ],
      "text/markdown": [
       "0.027152782389483"
      ],
      "text/plain": [
       "[1] 0.02715278"
      ]
     },
     "metadata": {},
     "output_type": "display_data"
    },
    {
     "data": {
      "text/html": [
       "0.365724620639599"
      ],
      "text/latex": [
       "0.365724620639599"
      ],
      "text/markdown": [
       "0.365724620639599"
      ],
      "text/plain": [
       "[1] 0.3657246"
      ]
     },
     "metadata": {},
     "output_type": "display_data"
    },
    {
     "name": "stdout",
     "output_type": "stream",
     "text": [
      "[1] \"P-values from fisher-exact test for tables 1, 3, 4, 5, 6\"\n"
     ]
    },
    {
     "data": {
      "text/html": [
       "0.338729777903386"
      ],
      "text/latex": [
       "0.338729777903386"
      ],
      "text/markdown": [
       "0.338729777903386"
      ],
      "text/plain": [
       "[1] 0.3387298"
      ]
     },
     "metadata": {},
     "output_type": "display_data"
    },
    {
     "data": {
      "text/html": [
       "0.0422582229372629"
      ],
      "text/latex": [
       "0.0422582229372629"
      ],
      "text/markdown": [
       "0.0422582229372629"
      ],
      "text/plain": [
       "[1] 0.04225822"
      ]
     },
     "metadata": {},
     "output_type": "display_data"
    },
    {
     "data": {
      "text/html": [
       "0.0738955121816852"
      ],
      "text/latex": [
       "0.0738955121816852"
      ],
      "text/markdown": [
       "0.0738955121816852"
      ],
      "text/plain": [
       "[1] 0.07389551"
      ]
     },
     "metadata": {},
     "output_type": "display_data"
    },
    {
     "data": {
      "text/html": [
       "0.0372723781726776"
      ],
      "text/latex": [
       "0.0372723781726776"
      ],
      "text/markdown": [
       "0.0372723781726776"
      ],
      "text/plain": [
       "[1] 0.03727238"
      ]
     },
     "metadata": {},
     "output_type": "display_data"
    },
    {
     "data": {
      "text/html": [
       "0.386241819798932"
      ],
      "text/latex": [
       "0.386241819798932"
      ],
      "text/markdown": [
       "0.386241819798932"
      ],
      "text/plain": [
       "[1] 0.3862418"
      ]
     },
     "metadata": {},
     "output_type": "display_data"
    },
    {
     "name": "stdout",
     "output_type": "stream",
     "text": [
      "[1] \"Result: The p-values of contigency tables 1, 2, 4, 6 are above 0.05, while the rest are below 0.05. Therefore, the null hypothesis that the bleeding event and HB levels are independent can only be rejected at a significance level of 0.05 for table 3, 5. \"\n"
     ]
    }
   ],
   "source": [
    "table1 <- data.frame(\"Yes\"=c(12,13),\"No\"=c(5,12),row.names=c(\"Major\",\"Minor\"),stringsAsFactors = FALSE)\n",
    "table2 <- data.frame(\"Yes\"=c(12,13,54),\"No\"=c(5,12,74),row.names=c(\"Major\",\"Minor\",\"None\"),stringsAsFactors = FALSE)\n",
    "table3 <- data.frame(\"Yes\"=c(12,67),\"No\"=c(5,86),row.names=c(\"Major\",\"Minor + None\"),stringsAsFactors = FALSE)\n",
    "table4 <- data.frame(\"Yes\"=c(25,54),\"No\"=c(17,74),row.names=c(\"Bleeding\",\"None\"),stringsAsFactors = FALSE)\n",
    "table5 <- data.frame(\"Yes\"=c(12,54),\"No\"=c(5,74),row.names=c(\"Major\",\"None\"),stringsAsFactors = FALSE)\n",
    "table6 <- data.frame(\"Yes\"=c(13,54),\"No\"=c(12,74),row.names=c(\"Minor\",\"None\"),stringsAsFactors = FALSE)\n",
    "\n",
    "colnames(table1) <- c(\"Yes\",\"No\")\n",
    "colnames(table2) <- c(\"Yes\",\"No\")\n",
    "colnames(table3) <- c(\"Yes\",\"No\")\n",
    "colnames(table4) <- c(\"Yes\",\"No\")\n",
    "colnames(table5) <- c(\"Yes\",\"No\")\n",
    "colnames(table6) <- c(\"Yes\",\"No\")\n",
    "table1\n",
    "table2\n",
    "table3\n",
    "table4\n",
    "table5\n",
    "table6\n",
    "\n",
    "result1 <- chisq.test(x=table1, correct = FALSE)\n",
    "result2 <- chisq.test(x=table2, correct = FALSE)\n",
    "result3 <- chisq.test(x=table3, correct = FALSE)\n",
    "result4 <- chisq.test(x=table4, correct = FALSE)\n",
    "result5 <- chisq.test(x=table5, correct = FALSE)\n",
    "result6 <- chisq.test(x=table6, correct = FALSE)\n",
    "print(\"P-values from chi-square test:\")\n",
    "result1$p.value\n",
    "result2$p.value\n",
    "result3$p.value\n",
    "result4$p.value\n",
    "result5$p.value\n",
    "result6$p.value\n",
    "\n",
    "print(\"P-values from fisher-exact test for tables 1, 3, 4, 5, 6\")\n",
    "test1 <- fisher.test(table1)\n",
    "test3 <- fisher.test(table3)\n",
    "test4 <- fisher.test(table4)\n",
    "test5 <- fisher.test(table5)\n",
    "test6 <- fisher.test(table6)\n",
    "test1$p.value\n",
    "test3$p.value\n",
    "test4$p.value\n",
    "test5$p.value\n",
    "test6$p.value\n",
    "\n",
    "print(\"Result: The p-values of contigency tables 1, 2, 4, 6 are above 0.05, while the rest are below 0.05. Therefore, the null hypothesis that the bleeding event and HB levels are independent can only be rejected at a significance level of 0.05 for table 3, 5. \")"
   ]
  },
  {
   "cell_type": "code",
   "execution_count": null,
   "id": "f32a1dc6",
   "metadata": {},
   "outputs": [],
   "source": []
  }
 ],
 "metadata": {
  "kernelspec": {
   "display_name": "R",
   "language": "R",
   "name": "ir"
  },
  "language_info": {
   "codemirror_mode": "r",
   "file_extension": ".r",
   "mimetype": "text/x-r-source",
   "name": "R",
   "pygments_lexer": "r",
   "version": "3.6.1"
  }
 },
 "nbformat": 4,
 "nbformat_minor": 5
}
