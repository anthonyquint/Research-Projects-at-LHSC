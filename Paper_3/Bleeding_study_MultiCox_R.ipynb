{
 "cells": [
  {
   "cell_type": "markdown",
   "id": "c750fe23",
   "metadata": {},
   "source": [
    "I will be performing a survival analysis of the amount of days on Ibruntinib, where the event of interest is either:\n",
    "- death \n",
    "- Major or minor bleeding\n",
    "- Major bleeding\n",
    "- (everything else is censored). \n",
    "\n",
    "I'll be applying the cox proportional hazards model. \n",
    "\n",
    "The relevant independent variables are: \n",
    "age of diagnosis, gender, platelet count, anti-coagulation, antiplatelet, invasive procedure (which I believe is PMHx bleeding risk), (maybe INR later), Molecular/cytogenetics, anemia, prior lines of therapy, major bleed (major vs. minor vs. none)\n",
    "\n",
    "The relevant output variables are: duration on ibrunitinb and the event of interest "
   ]
  },
  {
   "cell_type": "markdown",
   "id": "f5a9fc07",
   "metadata": {},
   "source": [
    "Load necessary libraries "
   ]
  },
  {
   "cell_type": "code",
   "execution_count": 1,
   "id": "6d0702ae",
   "metadata": {},
   "outputs": [
    {
     "name": "stderr",
     "output_type": "stream",
     "text": [
      "Loading required package: ggplot2\n",
      "Loading required package: ggpubr\n"
     ]
    },
    {
     "name": "stdout",
     "output_type": "stream",
     "text": [
      "[1] \"complete\"\n"
     ]
    }
   ],
   "source": [
    "library(\"survival\")\n",
    "library(\"survminer\")\n",
    "\n",
    "print(\"complete\")"
   ]
  },
  {
   "cell_type": "markdown",
   "id": "44e2e499",
   "metadata": {},
   "source": [
    "Load dataset"
   ]
  },
  {
   "cell_type": "code",
   "execution_count": 2,
   "id": "b0442b5d",
   "metadata": {},
   "outputs": [],
   "source": [
    "# Import the data and look at the first six rows\n",
    "bleed_data <- read.csv(file = '/Users/anthonyquint/Desktop/LHSC_Work_Folder/Mina/Bleeding_study/Ibrutinib Data Set, July 13,2021, de- identified data_cleaned_forSurvAnal.csv')\n",
    "## bleed_data_cyto is the dataset with the rows that have 'unknown' cytogenetics removed. Only use this data set \n",
    "## when plotting survival curves where cytogenetics are the stratification factor \n",
    "bleed_data_cyto <- read.csv(file = '/Users/anthonyquint/Desktop/LHSC_Work_Folder/Mina/Bleeding_study/Ibrutinib Data Set, July 13,2021, de- identified data_cleaned_forSurvAnal_CtyoCleaned.csv')\n",
    "#head(bleed_data_cyto)"
   ]
  },
  {
   "cell_type": "markdown",
   "id": "3f8da482",
   "metadata": {},
   "source": [
    "Univariate Cox regression analysis. Can adjust the event of interest, and the stratification factor. In this case, looking at when major bleeding is the event of interest, and Anemia (hb <100 (Y/N) is the stratification factor. "
   ]
  },
  {
   "cell_type": "code",
   "execution_count": 3,
   "id": "b16ef37c",
   "metadata": {},
   "outputs": [
    {
     "data": {
      "text/plain": [
       "Call:\n",
       "coxph(formula = Surv(Bleed.2_Time_on_Ibruntinib, Bleed.2_MajOnly.1...censored..2...event.) ~ \n",
       "    Anemia..hb...100...Y.N., data = bleed_data)\n",
       "\n",
       "  n= 168, number of events= 16 \n",
       "   (1 observation deleted due to missingness)\n",
       "\n",
       "                          coef exp(coef) se(coef)     z Pr(>|z|)  \n",
       "Anemia..hb...100...Y.N. 1.3311    3.7853   0.5775 2.305   0.0212 *\n",
       "---\n",
       "Signif. codes:  0 ‘***’ 0.001 ‘**’ 0.01 ‘*’ 0.05 ‘.’ 0.1 ‘ ’ 1\n",
       "\n",
       "                        exp(coef) exp(-coef) lower .95 upper .95\n",
       "Anemia..hb...100...Y.N.     3.785     0.2642     1.221     11.74\n",
       "\n",
       "Concordance= 0.682  (se = 0.047 )\n",
       "Likelihood ratio test= 6.26  on 1 df,   p=0.01\n",
       "Wald test            = 5.31  on 1 df,   p=0.02\n",
       "Score (logrank) test = 6.15  on 1 df,   p=0.01\n"
      ]
     },
     "metadata": {},
     "output_type": "display_data"
    }
   ],
   "source": [
    "res.cox <- coxph(Surv(Bleed.2_Time_on_Ibruntinib,Bleed.2_MajOnly.1...censored..2...event.) ~ Anemia..hb...100...Y.N., data =  bleed_data)\n",
    "summary(res.cox)"
   ]
  },
  {
   "cell_type": "markdown",
   "id": "349c7b60",
   "metadata": {},
   "source": [
    "Multivariate Cox regression analysis. Can adjust the event of interest, and the stratification factors."
   ]
  },
  {
   "cell_type": "code",
   "execution_count": 4,
   "id": "cf2102ea",
   "metadata": {},
   "outputs": [
    {
     "data": {
      "text/plain": [
       "Call:\n",
       "coxph(formula = Surv(Bleed.2_Time_on_Ibruntinib, Bleed.2_MajOnly.1...censored..2...event.) ~ \n",
       "    Plt.Nadir.while.on.Ibrutinib + anticoagulation..Y.N. + Anemia..hb...100...Y.N., \n",
       "    data = bleed_data)\n",
       "\n",
       "  n= 168, number of events= 16 \n",
       "   (1 observation deleted due to missingness)\n",
       "\n",
       "                                  coef exp(coef)  se(coef)      z Pr(>|z|)  \n",
       "Plt.Nadir.while.on.Ibrutinib -0.005031  0.994982  0.005606 -0.897   0.3696  \n",
       "anticoagulation..Y.N.         1.257831  3.517783  0.524479  2.398   0.0165 *\n",
       "Anemia..hb...100...Y.N.       1.378314  3.968204  0.608248  2.266   0.0234 *\n",
       "---\n",
       "Signif. codes:  0 ‘***’ 0.001 ‘**’ 0.01 ‘*’ 0.05 ‘.’ 0.1 ‘ ’ 1\n",
       "\n",
       "                             exp(coef) exp(-coef) lower .95 upper .95\n",
       "Plt.Nadir.while.on.Ibrutinib     0.995     1.0050    0.9841     1.006\n",
       "anticoagulation..Y.N.            3.518     0.2843    1.2584     9.833\n",
       "Anemia..hb...100...Y.N.          3.968     0.2520    1.2046    13.072\n",
       "\n",
       "Concordance= 0.773  (se = 0.061 )\n",
       "Likelihood ratio test= 11.95  on 3 df,   p=0.008\n",
       "Wald test            = 11.43  on 3 df,   p=0.01\n",
       "Score (logrank) test = 12.35  on 3 df,   p=0.006\n"
      ]
     },
     "metadata": {},
     "output_type": "display_data"
    }
   ],
   "source": [
    "# excluding HR molecular cytogenetics because then I would have to \n",
    "# eliminate all the rows with \"unknown\" cytogenetics \n",
    "\n",
    "res.cox <- coxph(Surv(Bleed.2_Time_on_Ibruntinib,Bleed.2_MajOnly.1...censored..2...event.) ~  Plt.Nadir.while.on.Ibrutinib + anticoagulation..Y.N. + Anemia..hb...100...Y.N., data = bleed_data)\n",
    "summary(res.cox)"
   ]
  },
  {
   "cell_type": "markdown",
   "id": "949775e1",
   "metadata": {},
   "source": [
    "Plot survival curves if I want? http://www.sthda.com/english/wiki/cox-proportional-hazards-model It explains how to do so here"
   ]
  },
  {
   "cell_type": "code",
   "execution_count": null,
   "id": "f3c5f761",
   "metadata": {},
   "outputs": [],
   "source": []
  }
 ],
 "metadata": {
  "kernelspec": {
   "display_name": "R",
   "language": "R",
   "name": "ir"
  },
  "language_info": {
   "codemirror_mode": "r",
   "file_extension": ".r",
   "mimetype": "text/x-r-source",
   "name": "R",
   "pygments_lexer": "r",
   "version": "3.6.1"
  }
 },
 "nbformat": 4,
 "nbformat_minor": 5
}
